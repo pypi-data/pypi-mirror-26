{
 "cells": [
  {
   "cell_type": "code",
   "execution_count": 1,
   "metadata": {},
   "outputs": [
    {
     "name": "stdout",
     "output_type": "stream",
     "text": [
      "Finished reading xml input file\n",
      "[ -6.28889929e+06   6.28989929e+06   6.82761528e+06  -2.70357993e+05\n",
      "   1.00000000e+03  -6.55925729e+06]\n",
      "[  6.55925729e+06   2.69357993e+05   1.00000000e+03]\n"
     ]
    }
   ],
   "source": [
    "# Required demo\n",
    "from chemkin import *\n",
    "reactions = chemkin.from_xml('rxns.xml')\n",
    "x = np.array([1,1,1,1,1,1])\n",
    "T = 1000\n",
    "print(reactions.reaction_rate_T(x, T))\n",
    "print(reactions.progress_rate(x))"
   ]
  },
  {
   "cell_type": "code",
   "execution_count": 2,
   "metadata": {},
   "outputs": [
    {
     "name": "stdout",
     "output_type": "stream",
     "text": [
      "Reaction rate\n",
      "[-3607077.87280407 -5613545.1836208   9220623.05642486  2006467.31081673\n",
      " -2006467.31081673]\n",
      "Reaction rate\n",
      "[ -2.81117621e+08  -2.85597559e+08   5.66715180e+08   4.47993847e+06\n",
      "  -4.47993847e+06]\n",
      "Reaction rate\n",
      "[ -1.80426143e+09  -1.81043736e+09   3.61469878e+09   6.17593098e+06\n",
      "  -6.17593098e+06]\n",
      "chemical equations: not specified\n",
      "species: not specified\n",
      "nu_react:\n",
      "[[2 0 0]\n",
      " [1 0 1]\n",
      " [0 1 0]\n",
      " [0 1 0]\n",
      " [0 0 1]]\n",
      "nu_prod:\n",
      "[[1 0 0]\n",
      " [0 1 0]\n",
      " [2 0 1]\n",
      " [0 0 1]\n",
      " [0 1 0]]\n",
      "reaction coefficients:\n",
      "[\n",
      "modifiedArrhenius Reaction Coeffs: {'A': 100000000.0, 'b': 0.5, 'E': 50000.0, 'R': 8.314, 'T': 2500}\n",
      "Constant Reaction Coeffs: {'k': 10000.0, 'R': 8.314, 'T': 2500}\n",
      "Arrhenius Reaction Coeffs: {'A': 10000000.0, 'E': 10000.0, 'R': 8.314, 'T': 2500}\n",
      "]\n",
      "reaction types: ['Elementary', 'Elementary', 'Elementary', 'Elementary', 'Elementary']\n",
      "reversible: ['no', 'no', 'no', 'no', 'no']\n"
     ]
    }
   ],
   "source": [
    "# If not from xml\n",
    "rc_list = [\n",
    "    ReactionCoeffs(type = \"modifiedArrhenius\", A=1e8, b=0.5, E=5e4),\n",
    "    ReactionCoeffs(type = \"Constant\", k=1e4),\n",
    "    ReactionCoeffs(type = \"Arrhenius\", A=1e7, E=1e4),\n",
    "]\n",
    "##Stoichiometric coeff for the reactants\n",
    "#columns = reactions\n",
    "#row is each species \n",
    "v1 = np.array([\n",
    "    [2,0,0],\n",
    "    [1,0,1],\n",
    "    [0,1,0],\n",
    "    [0,1,0],\n",
    "    [0,0,1]\n",
    "])\n",
    "##Stoichiometric coeff for the products \n",
    "v2 = np.array([\n",
    "    [1,0,0],\n",
    "    [0,1,0],\n",
    "    [2,0,1],\n",
    "    [0,0,1],\n",
    "    [0,1,0]\n",
    "])\n",
    "\n",
    "#[c] of each species \n",
    "x = np.array([\n",
    "    2,1,0.5,1,1\n",
    "])\n",
    "\n",
    "rxn_types = ['Elementary']*5\n",
    "\n",
    "reversible = ['no']*5\n",
    "\n",
    "reactions = chemkin(v1,v2,rc_list, rxn_types, reversible)\n",
    "for t in [750,1500,2500]:\n",
    "    reactions.set_rc_params(T=t)\n",
    "    print(\"Reaction rate\")\n",
    "    print(reactions.reaction_rate(x))\n",
    "\n",
    "print(reactions)"
   ]
  },
  {
   "cell_type": "code",
   "execution_count": 3,
   "metadata": {},
   "outputs": [
    {
     "name": "stdout",
     "output_type": "stream",
     "text": [
      "[-1. -1.  2.  0.  0.]\n",
      "chemical equations: not specified\n",
      "species: ['A', 'B', 'X', 'Y', 'Z']\n",
      "nu_react:\n",
      "[[2 0 0]\n",
      " [1 0 1]\n",
      " [0 1 0]\n",
      " [0 1 0]\n",
      " [0 0 1]]\n",
      "nu_prod:\n",
      "[[1 0 0]\n",
      " [0 1 0]\n",
      " [2 0 1]\n",
      " [0 0 1]\n",
      " [0 1 0]]\n",
      "reaction coefficients:\n",
      "[\n",
      "Constant Reaction Coeffs: {'k': 1, 'R': 8.314, 'T': 1000}\n",
      "Constant Reaction Coeffs: {'k': 1, 'R': 8.314, 'T': 1000}\n",
      "Constant Reaction Coeffs: {'k': 1, 'R': 8.314, 'T': 1000}\n",
      "]\n",
      "reaction types: ['Elementary', 'Elementary', 'Elementary', 'Elementary', 'Elementary']\n",
      "reversible: ['no', 'no', 'no', 'no', 'no']\n"
     ]
    }
   ],
   "source": [
    "# If all reaction coeffs are constant (init with values [k])\n",
    "reactions = chemkin.init_const_rc(v1,v2,[1,1,1],['Elementary']*5, ['no']*5, species = ['A','B','X','Y','Z'])\n",
    "print(reactions.reaction_rate_T([1,1,1,1,1],1000))\n",
    "print(reactions)"
   ]
  },
  {
   "cell_type": "code",
   "execution_count": 4,
   "metadata": {},
   "outputs": [
    {
     "name": "stdout",
     "output_type": "stream",
     "text": [
      "Finished reading xml input file\n",
      "[ -6.28889929e+06   6.28989929e+06   6.82761528e+06  -2.70357993e+05\n",
      "   1.00000000e+03  -6.55925729e+06]\n",
      "Arrhenius Reaction Coeffs: {'A': 35200000000.0, 'E': 71400.0, 'R': 8.314, 'T': 1000}\n",
      "[  2.70357900e+05  -2.69357900e+05   2.68358087e+05  -2.70357993e+05\n",
      "   1.00000000e+03  -9.31712683e-02]\n"
     ]
    }
   ],
   "source": [
    "# set reaction coeffs variables on-the-fly\n",
    "reactions = chemkin.from_xml('rxns.xml')\n",
    "reactions.set_rc_params(T=1000) # set all params together\n",
    "print(reactions.reaction_rate([1,1,1,1,1,1]))\n",
    "print(reactions.rc_list[0])\n",
    "#Index 0 for modifies \n",
    "\n",
    "#change the A param for rate coeff for modified \n",
    "reactions.rc_list[0].set_params(A=500) # only set one rc\n",
    "print(reactions.reaction_rate([1,1,1,1,1,1]))"
   ]
  },
  {
   "cell_type": "code",
   "execution_count": 5,
   "metadata": {},
   "outputs": [
    {
     "name": "stdout",
     "output_type": "stream",
     "text": [
      "chemical equations:\n",
      "[\n",
      "H + O2 =] OH + O\n",
      "H2 + O =] OH + H\n",
      "H2 + OH =] H2O + H\n",
      "]\n",
      "species: ['H', 'O', 'OH', 'H2', 'H2O', 'O2']\n",
      "nu_react:\n",
      "[[1 0 0]\n",
      " [0 1 0]\n",
      " [0 0 1]\n",
      " [0 1 1]\n",
      " [0 0 0]\n",
      " [1 0 0]]\n",
      "nu_prod:\n",
      "[[0 1 1]\n",
      " [1 0 0]\n",
      " [1 1 0]\n",
      " [0 0 0]\n",
      " [0 0 1]\n",
      " [0 0 0]]\n",
      "reaction coefficients:\n",
      "[\n",
      "Arrhenius Reaction Coeffs: {'A': 500, 'E': 71400.0, 'R': 8.314, 'T': 1000}\n",
      "modifiedArrhenius Reaction Coeffs: {'A': 0.0506, 'b': 2.7, 'E': 26300.0, 'R': 8.314, 'T': 1000}\n",
      "Constant Reaction Coeffs: {'k': 1000.0, 'R': 8.314, 'T': 1000}\n",
      "]\n",
      "reaction types: ['Elementary', 'Elementary', 'Elementary']\n",
      "reversible: ['no', 'no', 'no']\n",
      "\n",
      "chemical equations:\n",
      "[\n",
      "H + O2 =] OH + O\n",
      "H2 + O =] OH + H\n",
      "H2 + OH =] H2O + H\n",
      "]\n",
      "species: ['H', 'O', 'OH', 'H2', 'H2O', 'O2']\n",
      "nu_react:\n",
      "[[1 0 0]\n",
      " [0 1 0]\n",
      " [0 0 1]\n",
      " [0 1 1]\n",
      " [0 0 0]\n",
      " [1 0 0]]\n",
      "nu_prod:\n",
      "[[0 1 1]\n",
      " [1 0 0]\n",
      " [1 1 0]\n",
      " [0 0 0]\n",
      " [0 0 1]\n",
      " [0 0 0]]\n",
      "reaction coefficients:\n",
      "[\n",
      "Arrhenius Reaction Coeffs: {'A': 500, 'E': 71400.0, 'R': 8.314, 'T': 1000}\n",
      "modifiedArrhenius Reaction Coeffs: {'A': 0.0506, 'b': 2.7, 'E': 26300.0, 'R': 8.314, 'T': 1000}\n",
      "Constant Reaction Coeffs: {'k': 1000.0, 'R': 8.314, 'T': 1000}\n",
      "]\n",
      "reaction types: ['Elementary', 'Elementary', 'Elementary']\n",
      "reversible: ['no', 'no', 'no']\n"
     ]
    },
    {
     "data": {
      "text/plain": [
       "3"
      ]
     },
     "execution_count": 5,
     "metadata": {},
     "output_type": "execute_result"
    }
   ],
   "source": [
    "# special method\n",
    "print(reactions)\n",
    "print()\n",
    "k=eval(repr(reactions))\n",
    "print(k)\n",
    "len(reactions) # number of reactions"
   ]
  }
 ],
 "metadata": {
  "anaconda-cloud": {},
  "kernelspec": {
   "display_name": "Python 3",
   "language": "python",
   "name": "python3"
  },
  "language_info": {
   "codemirror_mode": {
    "name": "ipython",
    "version": 3
   },
   "file_extension": ".py",
   "mimetype": "text/x-python",
   "name": "python",
   "nbconvert_exporter": "python",
   "pygments_lexer": "ipython3",
   "version": "3.6.2"
  }
 },
 "nbformat": 4,
 "nbformat_minor": 2
}
