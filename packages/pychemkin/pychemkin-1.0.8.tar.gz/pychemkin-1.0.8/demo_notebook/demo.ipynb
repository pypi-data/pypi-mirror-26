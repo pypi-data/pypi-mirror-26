{
 "cells": [
  {
   "cell_type": "code",
   "execution_count": 1,
   "metadata": {},
   "outputs": [
    {
     "name": "stdout",
     "output_type": "stream",
     "text": [
      "Requirement already satisfied: pychemkin in /usr/lib/python3.6/site-packages\n",
      "Requirement already satisfied: numpy in /usr/lib/python3.6/site-packages (from pychemkin)\n",
      "Requirement already satisfied: scipy in /usr/lib/python3.6/site-packages (from pychemkin)\n",
      "Requirement already satisfied: pandas in /usr/lib/python3.6/site-packages (from pychemkin)\n",
      "Requirement already satisfied: pytz>=2011k in /usr/lib/python3.6/site-packages (from pandas->pychemkin)\n",
      "Requirement already satisfied: python-dateutil>=2 in /usr/lib/python3.6/site-packages (from pandas->pychemkin)\n",
      "Requirement already satisfied: six>=1.5 in /usr/lib/python3.6/site-packages (from python-dateutil>=2->pandas->pychemkin)\n"
     ]
    }
   ],
   "source": [
    "%%bash\n",
    "sudo pip install pychemkin"
   ]
  },
  {
   "cell_type": "code",
   "execution_count": 2,
   "metadata": {},
   "outputs": [
    {
     "name": "stdout",
     "output_type": "stream",
     "text": [
      "Finished reading xml input file\n",
      "Progress rates\n",
      "[ -4.37918361e+16   1.06891625e+13   5.80849020e+13  -3.33238238e+15\n",
      "   1.05248391e+14   4.78255724e+14   4.55000000e+14   6.44285996e+14\n",
      "   1.19599129e+14   1.48165394e+14   9.47751873e+13]\n",
      "Reaction rates\n",
      "[  4.30093415e+16  -4.10199181e+16  -4.95223968e+16   1.84639721e+14\n",
      "   4.15435240e+15   4.49963705e+16  -1.43984953e+15  -3.62539710e+14]\n"
     ]
    }
   ],
   "source": [
    "import numpy as np\n",
    "from pychemkin import chemkin\n",
    "demofile = 'demo_xml/rxns_reversible.xml'\n",
    "rxnsystem = chemkin(demofile)\n",
    "T = 999.99999 #temperature in K\n",
    "x = [1,2,3,4,5,6,7,8]\n",
    "print(\"Progress rates\")\n",
    "print(rxnsystem.progress_rate(x,T))\n",
    "print(\"Reaction rates\")\n",
    "print(rxnsystem.reaction_rate(x,T))"
   ]
  },
  {
   "cell_type": "code",
   "execution_count": 3,
   "metadata": {},
   "outputs": [
    {
     "data": {
      "text/plain": [
       "chemkin('demo_xml/rxns_reversible.xml')"
      ]
     },
     "execution_count": 3,
     "metadata": {},
     "output_type": "execute_result"
    }
   ],
   "source": [
    "rxnsystem"
   ]
  },
  {
   "cell_type": "code",
   "execution_count": 4,
   "metadata": {},
   "outputs": [
    {
     "data": {
      "text/plain": [
       "['H', 'O', 'OH', 'H2', 'H2O', 'O2', 'HO2', 'H2O2']"
      ]
     },
     "execution_count": 4,
     "metadata": {},
     "output_type": "execute_result"
    }
   ],
   "source": [
    "rxnsystem.species"
   ]
  },
  {
   "cell_type": "code",
   "execution_count": 5,
   "metadata": {
    "scrolled": true
   },
   "outputs": [
    {
     "name": "stdout",
     "output_type": "stream",
     "text": [
      "['H + O2 [=] O + OH', 'O + H2 [=] H + OH', 'H2 + OH [=] H2O + H', 'O + H2O [=] OH + OH', 'HO2 + H [=] H2 + O2', 'HO2 + H [=] OH + OH', 'HO2 + O [=] O2 + OH', 'HO2 + OH [=] H2O + O2', 'H2O2 + H [=] H2O + OH', 'H2O2 + H [=] HO2 + H2', 'H2O2 + O [=] OH + HO2']\n",
      "chemical equations:\n",
      "[\n",
      "H + O2 [=] O + OH\n",
      "O + H2 [=] H + OH\n",
      "H2 + OH [=] H2O + H\n",
      "O + H2O [=] OH + OH\n",
      "HO2 + H [=] H2 + O2\n",
      "HO2 + H [=] OH + OH\n",
      "HO2 + O [=] O2 + OH\n",
      "HO2 + OH [=] H2O + O2\n",
      "H2O2 + H [=] H2O + OH\n",
      "H2O2 + H [=] HO2 + H2\n",
      "H2O2 + O [=] OH + HO2\n",
      "]\n",
      "species: not specified\n",
      "nu_react:\n",
      "[[1 0 0 0 1 1 0 0 1 1 0]\n",
      " [0 1 0 1 0 0 1 0 0 0 1]\n",
      " [0 0 1 0 0 0 0 1 0 0 0]\n",
      " [0 1 1 0 0 0 0 0 0 0 0]\n",
      " [0 0 0 1 0 0 0 0 0 0 0]\n",
      " [1 0 0 0 0 0 0 0 0 0 0]\n",
      " [0 0 0 0 1 1 1 1 0 0 0]\n",
      " [0 0 0 0 0 0 0 0 1 1 1]]\n",
      "nu_prod:\n",
      "[[0 1 1 0 0 0 0 0 0 0 0]\n",
      " [1 0 0 0 0 0 0 0 0 0 0]\n",
      " [1 1 0 2 0 2 1 0 1 0 1]\n",
      " [0 0 0 0 1 0 0 0 0 1 0]\n",
      " [0 0 1 0 0 0 0 1 1 0 0]\n",
      " [0 0 0 0 1 0 1 1 0 0 0]\n",
      " [0 0 0 0 0 0 0 0 0 1 1]\n",
      " [0 0 0 0 0 0 0 0 0 0 0]]\n",
      "reaction coefficients:\n",
      "[\n",
      "modifiedArrhenius Reaction Coeffs: {'A': 3547000000000000.0, 'b': -0.406, 'E': 16599.0, 'R': 8.314, 'T': 999.99999}\n",
      "modifiedArrhenius Reaction Coeffs: {'A': 50800.0, 'b': 2.67, 'E': 6290.0, 'R': 8.314, 'T': 999.99999}\n",
      "modifiedArrhenius Reaction Coeffs: {'A': 216000000.0, 'b': 1.51, 'E': 3430.0, 'R': 8.314, 'T': 999.99999}\n",
      "modifiedArrhenius Reaction Coeffs: {'A': 2970000.0, 'b': 2.02, 'E': 13400.0, 'R': 8.314, 'T': 999.99999}\n",
      "Arrhenius Reaction Coeffs: {'A': 16600000000000.0, 'E': 823.0, 'R': 8.314, 'T': 999.99999}\n",
      "Arrhenius Reaction Coeffs: {'A': 70790000000000.0, 'E': 295.0, 'R': 8.314, 'T': 999.99999}\n",
      "Arrhenius Reaction Coeffs: {'A': 32500000000000.0, 'E': 0.0, 'R': 8.314, 'T': 999.99999}\n",
      "Arrhenius Reaction Coeffs: {'A': 28900000000000.0, 'E': -497.0, 'R': 8.314, 'T': 999.99999}\n",
      "Arrhenius Reaction Coeffs: {'A': 24100000000000.0, 'E': 3970.0, 'R': 8.314, 'T': 999.99999}\n",
      "Arrhenius Reaction Coeffs: {'A': 48200000000000.0, 'E': 7950.0, 'R': 8.314, 'T': 999.99999}\n",
      "modifiedArrhenius Reaction Coeffs: {'A': 9550000.0, 'b': 2.0, 'E': 3970.0, 'R': 8.314, 'T': 999.99999}\n",
      "]\n",
      "reaction types: ['Elementary', 'Elementary', 'Elementary', 'Elementary', 'Elementary', 'Elementary', 'Elementary', 'Elementary', 'Elementary', 'Elementary', 'Elementary']\n",
      "reversible: [ True  True  True  True  True  True  True  True  True  True  True]\n"
     ]
    }
   ],
   "source": [
    "print(rxnsystem)"
   ]
  }
 ],
 "metadata": {
  "kernelspec": {
   "display_name": "Python 3",
   "language": "python",
   "name": "python3"
  },
  "language_info": {
   "codemirror_mode": {
    "name": "ipython",
    "version": 3
   },
   "file_extension": ".py",
   "mimetype": "text/x-python",
   "name": "python",
   "nbconvert_exporter": "python",
   "pygments_lexer": "ipython3",
   "version": "3.6.3"
  }
 },
 "nbformat": 4,
 "nbformat_minor": 2
}
