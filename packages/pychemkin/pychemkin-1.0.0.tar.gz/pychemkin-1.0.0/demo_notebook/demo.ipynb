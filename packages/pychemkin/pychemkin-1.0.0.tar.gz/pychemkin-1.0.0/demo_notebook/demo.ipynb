{
 "cells": [
  {
   "cell_type": "code",
   "execution_count": 80,
   "metadata": {},
   "outputs": [
    {
     "name": "stdout",
     "output_type": "stream",
     "text": [
      "Finished reading xml input file\n",
      "Progress rates\n",
      "[  6.55925729e+06   2.69357993e+05   1.00000000e+03]\n",
      "Reaction rates\n",
      "[ -6.28889929e+06   6.28989929e+06   6.82761528e+06  -2.70357993e+05\n",
      "   1.00000000e+03  -6.55925729e+06]\n"
     ]
    }
   ],
   "source": [
    "import sys\n",
    "sys.path.append('../')\n",
    "import numpy as np\n",
    "from pychemkin import chemkin\n",
    "demofile = 'demo_xml/rxns.xml'\n",
    "rxnsystem = chemkin(demofile)\n",
    "T = 1000 #temperature in K\n",
    "x = np.array([0.5,0.5,0.5,0.5,0.5,0.5])\n",
    "x = np.ones(6)\n",
    "print(\"Progress rates\")\n",
    "print(rxnsystem.progress_rate(x,T))\n",
    "print(\"Reaction rates\")\n",
    "print(rxnsystem.reaction_rate(x,T))"
   ]
  },
  {
   "cell_type": "code",
   "execution_count": 5,
   "metadata": {},
   "outputs": [
    {
     "data": {
      "text/plain": [
       "chemkin('demo_xml/rxns.xml')"
      ]
     },
     "execution_count": 5,
     "metadata": {},
     "output_type": "execute_result"
    }
   ],
   "source": [
    "rxnsystem"
   ]
  },
  {
   "cell_type": "code",
   "execution_count": 6,
   "metadata": {},
   "outputs": [
    {
     "data": {
      "text/plain": [
       "['H', 'O', 'OH', 'H2', 'H2O', 'O2']"
      ]
     },
     "execution_count": 6,
     "metadata": {},
     "output_type": "execute_result"
    }
   ],
   "source": [
    "rxnsystem.species"
   ]
  },
  {
   "cell_type": "code",
   "execution_count": 6,
   "metadata": {},
   "outputs": [
    {
     "name": "stdout",
     "output_type": "stream",
     "text": [
      "chemical equations:\n",
      "[\n",
      "H + O2 =] OH + O\n",
      "H2 + O =] OH + H\n",
      "H2 + OH =] H2O + H\n",
      "]\n",
      "species: ['H', 'O', 'OH', 'H2', 'H2O', 'O2']\n",
      "nu_react:\n",
      "[[1 0 0]\n",
      " [0 1 0]\n",
      " [0 0 1]\n",
      " [0 1 1]\n",
      " [0 0 0]\n",
      " [1 0 0]]\n",
      "nu_prod:\n",
      "[[0 1 1]\n",
      " [1 0 0]\n",
      " [1 1 0]\n",
      " [0 0 0]\n",
      " [0 0 1]\n",
      " [0 0 0]]\n",
      "reaction coefficients:\n",
      "[\n",
      "Arrhenius Reaction Coeffs: {'A': 35200000000.0, 'E': 71400.0, 'R': 8.314}\n",
      "modifiedArrhenius Reaction Coeffs: {'A': 0.0506, 'b': 2.7, 'E': 26300.0, 'R': 8.314}\n",
      "Constant Reaction Coeffs: {'k': 1000.0, 'R': 8.314}\n",
      "]\n",
      "reaction types: ['Elementary', 'Elementary', 'Elementary']\n",
      "reversible: [False False False]\n"
     ]
    }
   ],
   "source": [
    "print(rxnsystem)"
   ]
  },
  {
   "cell_type": "code",
   "execution_count": null,
   "metadata": {
    "collapsed": true
   },
   "outputs": [],
   "source": []
  }
 ],
 "metadata": {
  "anaconda-cloud": {},
  "kernelspec": {
   "display_name": "Python 3",
   "language": "python",
   "name": "python3"
  },
  "language_info": {
   "codemirror_mode": {
    "name": "ipython",
    "version": 3
   },
   "file_extension": ".py",
   "mimetype": "text/x-python",
   "name": "python",
   "nbconvert_exporter": "python",
   "pygments_lexer": "ipython3",
   "version": "3.6.1"
  }
 },
 "nbformat": 4,
 "nbformat_minor": 2
}
