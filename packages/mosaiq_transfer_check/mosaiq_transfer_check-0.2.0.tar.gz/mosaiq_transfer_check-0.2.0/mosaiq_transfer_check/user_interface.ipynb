{
 "cells": [
  {
   "cell_type": "code",
   "execution_count": null,
   "metadata": {},
   "outputs": [],
   "source": [
    "import msq_field2csv as mq\n",
    "import create_report as cr"
   ]
  },
  {
   "cell_type": "code",
   "execution_count": null,
   "metadata": {
    "scrolled": false
   },
   "outputs": [],
   "source": [
    "patient_ids = {\n",
    "    'nbccc': '000000',\n",
    "    'rccc': '000000'\n",
    "}\n",
    "\n",
    "mq.display_fields(patient_ids)\n",
    "\n",
    "#Field ID, Field Label, Field Name, Version (0 is current version), MU "
   ]
  },
  {
   "cell_type": "code",
   "execution_count": null,
   "metadata": {},
   "outputs": [],
   "source": [
    "fields = {\n",
    "    'nbccc': [0],\n",
    "    'rccc': [0]\n",
    "}\n",
    "\n",
    "mq.display_fields_overview(fields)"
   ]
  },
  {
   "cell_type": "code",
   "execution_count": null,
   "metadata": {
    "scrolled": false
   },
   "outputs": [],
   "source": [
    "input_directory = r'S:\\IMRT_QA\\RCCC_to_NBCCC_Transfer_Checks\\mosaiq_exports\\{}'.format(patient_ids['nbccc'])\n",
    "\n",
    "mq.save_data_to_csv(input_directory, fields)"
   ]
  },
  {
   "cell_type": "code",
   "execution_count": null,
   "metadata": {
    "scrolled": false
   },
   "outputs": [],
   "source": [
    "output_directory = r'S:\\IMRT_QA\\RCCC_to_NBCCC_Transfer_Checks\\reports'\n",
    "\n",
    "cr.create_reports(input_directory, output_directory)"
   ]
  },
  {
   "cell_type": "code",
   "execution_count": null,
   "metadata": {},
   "outputs": [],
   "source": [
    "# from mosaiq_sql.execution import _get_raw_field_item\n",
    "# from mosaiq_sql import sql_connection\n",
    "\n",
    "# from IPython.display import display\n",
    "\n",
    "# SQL_USERS = {\n",
    "#     'nbccc': 'physics',\n",
    "#     'rccc': 'physics'\n",
    "# }\n",
    "# SQL_SERVERS = {\n",
    "#     'nbccc': 'physsvr',\n",
    "#     'rccc': 'msqsql'\n",
    "# }"
   ]
  },
  {
   "cell_type": "code",
   "execution_count": null,
   "metadata": {},
   "outputs": [],
   "source": [
    "# field_id = 0\n",
    "# field_label = 'Version'\n",
    "\n",
    "# with sql_connection(SQL_USERS, SQL_SERVERS) as cursors:\n",
    "#     cursors['nbccc']\n",
    "#     display(_get_raw_field_item(cursors['nbccc'], field_label, field_id))"
   ]
  }
 ],
 "metadata": {
  "anaconda-cloud": {},
  "kernelspec": {
   "display_name": "Python 3",
   "language": "python",
   "name": "python3"
  },
  "language_info": {
   "codemirror_mode": {
    "name": "ipython",
    "version": 3
   },
   "file_extension": ".py",
   "mimetype": "text/x-python",
   "name": "python",
   "nbconvert_exporter": "python",
   "pygments_lexer": "ipython3",
   "version": "3.5.4"
  }
 },
 "nbformat": 4,
 "nbformat_minor": 2
}
