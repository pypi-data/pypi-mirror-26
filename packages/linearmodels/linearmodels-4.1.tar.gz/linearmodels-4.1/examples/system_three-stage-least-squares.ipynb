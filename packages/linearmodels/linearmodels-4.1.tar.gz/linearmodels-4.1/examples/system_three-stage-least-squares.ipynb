{
 "cells": [
  {
   "cell_type": "code",
   "execution_count": 1,
   "metadata": {},
   "outputs": [],
   "source": [
    "import pandas as pd \n",
    "import linearmodels as lm \n",
    "klein = pd.read_stata('http://www.stata-press.com/data/r13/klein.dta')\n",
    "supdem = pd.read_stata('http://www.stata-press.com/data/r13/supDem.dta')"
   ]
  },
  {
   "cell_type": "code",
   "execution_count": 2,
   "metadata": {},
   "outputs": [
    {
     "name": "stdout",
     "output_type": "stream",
     "text": [
      "                          IV-2SLS Estimation Summary                          \n",
      "==============================================================================\n",
      "Dep. Variable:                consump   R-squared:                      0.9388\n",
      "Estimator:                    IV-2SLS   Adj. R-squared:                 0.9323\n",
      "No. Observations:                  22   F-statistic:                    208.02\n",
      "Date:                Tue, Nov 14 2017   P-value (F-stat)                0.0000\n",
      "Time:                        22:19:36   Distribution:                  chi2(2)\n",
      "Cov. Estimator:            unadjusted                                         \n",
      "                                                                              \n",
      "                             Parameter Estimates                              \n",
      "==============================================================================\n",
      "            Parameter  Std. Err.     T-stat    P-value    Lower CI    Upper CI\n",
      "------------------------------------------------------------------------------\n",
      "const          19.356     3.5838     5.4010     0.0000      12.332      26.380\n",
      "wagegovt       1.0295     0.3048     3.3773     0.0007      0.4321      1.6270\n",
      "wagepriv       0.8013     0.1279     6.2632     0.0000      0.5505      1.0520\n",
      "==============================================================================\n",
      "\n",
      "Endogenous: wagepriv\n",
      "Instruments: govt, capital1\n",
      "Unadjusted Covariance (Homoskedastic)\n",
      "Debiased: False\n"
     ]
    }
   ],
   "source": [
    "klein['const'] = 1.0\n",
    "mod = lm.IV2SLS(klein.consump, klein[['const','wagegovt']], klein.wagepriv, klein[['govt','capital1']])\n",
    "res = mod.fit(cov_type='unadjusted')\n",
    "print(res.summary)"
   ]
  },
  {
   "cell_type": "code",
   "execution_count": 3,
   "metadata": {},
   "outputs": [
    {
     "name": "stdout",
     "output_type": "stream",
     "text": [
      "                          IV-2SLS Estimation Summary                          \n",
      "==============================================================================\n",
      "Dep. Variable:               wagepriv   R-squared:                      0.8432\n",
      "Estimator:                    IV-2SLS   Adj. R-squared:                 0.8171\n",
      "No. Observations:                  22   F-statistic:                    79.444\n",
      "Date:                Tue, Nov 14 2017   P-value (F-stat)                0.0000\n",
      "Time:                        22:19:36   Distribution:                  chi2(3)\n",
      "Cov. Estimator:            unadjusted                                         \n",
      "                                                                              \n",
      "                             Parameter Estimates                              \n",
      "==============================================================================\n",
      "            Parameter  Std. Err.     T-stat    P-value    Lower CI    Upper CI\n",
      "------------------------------------------------------------------------------\n",
      "const          8.4436     11.409     0.7401     0.4592     -13.918      30.805\n",
      "govt           1.1554     0.5424     2.1301     0.0332      0.0923      2.2185\n",
      "capital1       0.0107     0.0652     0.1645     0.8693     -0.1170      0.1385\n",
      "consump        0.3753     0.2577     1.4563     0.1453     -0.1298      0.8803\n",
      "==============================================================================\n",
      "\n",
      "Endogenous: consump\n",
      "Instruments: wagegovt\n",
      "Unadjusted Covariance (Homoskedastic)\n",
      "Debiased: False\n"
     ]
    }
   ],
   "source": [
    "mod = lm.IV2SLS(klein.wagepriv, klein[['const','govt','capital1']], klein.consump, klein.wagegovt)\n",
    "res = mod.fit(cov_type='unadjusted')\n",
    "print(res.summary)"
   ]
  },
  {
   "cell_type": "code",
   "execution_count": 4,
   "metadata": {},
   "outputs": [
    {
     "name": "stdout",
     "output_type": "stream",
     "text": [
      "                          IV-2SLS Estimation Summary                          \n",
      "==============================================================================\n",
      "Dep. Variable:                consump   R-squared:                      0.9388\n",
      "Estimator:                    IV-2SLS   Adj. R-squared:                 0.9323\n",
      "No. Observations:                  22   F-statistic:                    208.02\n",
      "Date:                Tue, Nov 14 2017   P-value (F-stat)                0.0000\n",
      "Time:                        22:19:36   Distribution:                  chi2(2)\n",
      "Cov. Estimator:            unadjusted                                         \n",
      "                                                                              \n",
      "                             Parameter Estimates                              \n",
      "==============================================================================\n",
      "            Parameter  Std. Err.     T-stat    P-value    Lower CI    Upper CI\n",
      "------------------------------------------------------------------------------\n",
      "Intercept      19.356     3.5838     5.4010     0.0000      12.332      26.380\n",
      "wagegovt       1.0295     0.3048     3.3773     0.0007      0.4321      1.6270\n",
      "wagepriv       0.8013     0.1279     6.2632     0.0000      0.5505      1.0520\n",
      "==============================================================================\n",
      "\n",
      "Endogenous: wagepriv\n",
      "Instruments: govt, capital1\n",
      "Unadjusted Covariance (Homoskedastic)\n",
      "Debiased: False\n"
     ]
    }
   ],
   "source": [
    "cons = 'consump ~ 1 + wagegovt + [wagepriv ~ govt + capital1]'\n",
    "\n",
    "mod = lm.IV2SLS.from_formula(cons, klein)\n",
    "print(mod.fit(cov_type='unadjusted').summary)"
   ]
  },
  {
   "cell_type": "code",
   "execution_count": 5,
   "metadata": {},
   "outputs": [
    {
     "name": "stdout",
     "output_type": "stream",
     "text": [
      "                          IV-2SLS Estimation Summary                          \n",
      "==============================================================================\n",
      "Dep. Variable:               wagepriv   R-squared:                      0.8432\n",
      "Estimator:                    IV-2SLS   Adj. R-squared:                 0.8171\n",
      "No. Observations:                  22   F-statistic:                    79.444\n",
      "Date:                Tue, Nov 14 2017   P-value (F-stat)                0.0000\n",
      "Time:                        22:19:36   Distribution:                  chi2(3)\n",
      "Cov. Estimator:            unadjusted                                         \n",
      "                                                                              \n",
      "                             Parameter Estimates                              \n",
      "==============================================================================\n",
      "            Parameter  Std. Err.     T-stat    P-value    Lower CI    Upper CI\n",
      "------------------------------------------------------------------------------\n",
      "Intercept      8.4436     11.409     0.7401     0.4592     -13.918      30.805\n",
      "govt           1.1554     0.5424     2.1301     0.0332      0.0923      2.2185\n",
      "capital1       0.0107     0.0652     0.1645     0.8693     -0.1170      0.1385\n",
      "consump        0.3753     0.2577     1.4563     0.1453     -0.1298      0.8803\n",
      "==============================================================================\n",
      "\n",
      "Endogenous: consump\n",
      "Instruments: wagegovt\n",
      "Unadjusted Covariance (Homoskedastic)\n",
      "Debiased: False\n"
     ]
    }
   ],
   "source": [
    "priv = 'wagepriv ~ 1 + govt + capital1 + [consump ~ wagegovt]'\n",
    "mod = lm.IV2SLS.from_formula(priv, klein)\n",
    "print(mod.fit(cov_type='unadjusted').summary)"
   ]
  },
  {
   "cell_type": "code",
   "execution_count": 6,
   "metadata": {},
   "outputs": [
    {
     "name": "stdout",
     "output_type": "stream",
     "text": [
      "                        System GLS Estimation Summary                         \n",
      "==============================================================================\n",
      "Estimator:                        GLS   Overall R-squared:              0.9026\n",
      "No. Equations.:                     2   Cov. Estimator:             unadjusted\n",
      "No. Observations:                  22   Num. Constraints:                 None\n",
      "Date:                Tue, Nov 14 2017                                         \n",
      "Time:                        22:19:36                                         \n",
      "                                                                              \n",
      "                                                                              \n",
      "                 Equation: cons, Dependent Variable: consump                  \n",
      "==============================================================================\n",
      "            Parameter  Std. Err.     T-stat    P-value    Lower CI    Upper CI\n",
      "------------------------------------------------------------------------------\n",
      "Intercept      19.356     3.5838     5.4010     0.0000      12.332      26.380\n",
      "wagegovt       1.0295     0.3048     3.3773     0.0007      0.4321      1.6270\n",
      "wagepriv       0.8013     0.1279     6.2632     0.0000      0.5505      1.0520\n",
      "                                                                              \n",
      "                 Equation: priv, Dependent Variable: wagepriv                 \n",
      "==============================================================================\n",
      "            Parameter  Std. Err.     T-stat    P-value    Lower CI    Upper CI\n",
      "------------------------------------------------------------------------------\n",
      "Intercept      14.630     10.267     1.4250     0.1542     -5.4926      34.753\n",
      "govt           1.1778     0.5421     2.1725     0.0298      0.1152      2.2403\n",
      "capital1      -0.0281     0.0572    -0.4914     0.6231     -0.1402      0.0840\n",
      "consump        0.4026     0.2567     1.5682     0.1168     -0.1006      0.9058\n",
      "                                                                              \n",
      "==============================================================================\n"
     ]
    }
   ],
   "source": [
    "from collections import OrderedDict\n",
    "eqns = OrderedDict(cons=cons, priv=priv)\n",
    "mod = lm.IV3SLS.from_formula(eqns, klein)\n",
    "print(mod.fit(cov_type='unadjusted').summary)"
   ]
  }
 ],
 "metadata": {
  "kernelspec": {
   "display_name": "Python 3",
   "language": "python",
   "name": "python3"
  },
  "language_info": {
   "codemirror_mode": {
    "name": "ipython",
    "version": 3
   },
   "file_extension": ".py",
   "mimetype": "text/x-python",
   "name": "python",
   "nbconvert_exporter": "python",
   "pygments_lexer": "ipython3",
   "version": "3.6.3"
  }
 },
 "nbformat": 4,
 "nbformat_minor": 2
}
