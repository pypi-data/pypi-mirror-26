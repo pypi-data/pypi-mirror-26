{
 "cells": [
  {
   "cell_type": "markdown",
   "metadata": {},
   "source": [
    "<small>*Notebook auto-generated from [``altair/examples/json/errorbar_horizontal_aggregate.vl.json``](../../altair/examples/json/errorbar_horizontal_aggregate.vl.json)*</small>\n",
    "\n",
    "# Altair Example: Errorbar Horizontal Aggregate\n",
    "\n",
    "A bar chart showing the US population distribution of age groups in 2000.\n",
    "\n"
   ]
  },
  {
   "cell_type": "markdown",
   "metadata": {},
   "source": [
    "## Load Dataset\n",
    "The data comes in the form of a Pandas Dataframe:"
   ]
  },
  {
   "cell_type": "code",
   "execution_count": null,
   "metadata": {},
   "outputs": [],
   "source": [
    "from altair import load_dataset\n",
    "data = load_dataset(\"population\")\n",
    "data.head()"
   ]
  },
  {
   "cell_type": "markdown",
   "metadata": {},
   "source": [
    "## Define Altair Specification"
   ]
  },
  {
   "cell_type": "code",
   "execution_count": null,
   "metadata": {},
   "outputs": [],
   "source": [
    "from altair import *  # Import the altair API\n",
    "\n",
    "chart = LayeredChart(data,\n",
    "    layers=[Chart().mark_rule().encode(\n",
    "            x=X('min(people):Q',\n",
    "                axis=Axis(\n",
    "                    title='population',\n",
    "                ),\n",
    "            ),\n",
    "            x2='max(people):Q',\n",
    "            y='age:O',\n",
    "        ), Chart().mark_tick().encode(\n",
    "            size=Size(\n",
    "                value=5.0,\n",
    "            ),\n",
    "            x=X('min(people):Q',\n",
    "                axis=Axis(\n",
    "                    title='population',\n",
    "                ),\n",
    "            ),\n",
    "            y='age:O',\n",
    "        ), Chart().mark_tick().encode(\n",
    "            size=Size(\n",
    "                value=5.0,\n",
    "            ),\n",
    "            x=X('max(people):Q',\n",
    "                axis=Axis(\n",
    "                    title='population',\n",
    "                ),\n",
    "            ),\n",
    "            y='age:O',\n",
    "        ), Chart().mark_point().encode(\n",
    "            size=Size(\n",
    "                value=2.0,\n",
    "            ),\n",
    "            x=X('mean(people):Q',\n",
    "                axis=Axis(\n",
    "                    title='population',\n",
    "                ),\n",
    "            ),\n",
    "            y='age:O',\n",
    "        )],\n",
    "    transform=Transform(\n",
    "        filter='datum.year == 2000',\n",
    "    ),\n",
    ")"
   ]
  },
  {
   "cell_type": "markdown",
   "metadata": {},
   "source": [
    "IPython rich display will invoke Vega-Lite:"
   ]
  },
  {
   "cell_type": "code",
   "execution_count": null,
   "metadata": {},
   "outputs": [],
   "source": [
    "chart"
   ]
  },
  {
   "cell_type": "markdown",
   "metadata": {},
   "source": [
    "## Output Vega-Lite Specification"
   ]
  },
  {
   "cell_type": "markdown",
   "metadata": {},
   "source": [
    "Generate JSON dict, leaving data out:"
   ]
  },
  {
   "cell_type": "code",
   "execution_count": null,
   "metadata": {},
   "outputs": [],
   "source": [
    "chart.to_dict(data=False)"
   ]
  }
 ],
 "metadata": {
  "kernelspec": {
   "display_name": "Python 3",
   "env": {},
   "language": "python",
   "name": "python3"
  },
  "language": "python"
 },
 "nbformat": 4,
 "nbformat_minor": 0
}
