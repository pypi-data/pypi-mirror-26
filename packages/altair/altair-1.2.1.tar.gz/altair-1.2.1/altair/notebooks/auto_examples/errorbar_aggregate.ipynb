{
 "cells": [
  {
   "cell_type": "markdown",
   "metadata": {},
   "source": [
    "<small>*Notebook auto-generated from [``altair/examples/json/errorbar_aggregate.vl.json``](../../altair/examples/json/errorbar_aggregate.vl.json)*</small>\n",
    "\n",
    "# Altair Example: Errorbar Aggregate\n",
    "\n",
    "A error bar plot showing mean, min, and max in the US population distribution of age groups in 2000.\n",
    "\n"
   ]
  },
  {
   "cell_type": "markdown",
   "metadata": {},
   "source": [
    "## Load Dataset\n",
    "The data comes in the form of a Pandas Dataframe:"
   ]
  },
  {
   "cell_type": "code",
   "execution_count": null,
   "metadata": {},
   "outputs": [],
   "source": [
    "from altair import load_dataset\n",
    "data = load_dataset(\"population\")\n",
    "data.head()"
   ]
  },
  {
   "cell_type": "markdown",
   "metadata": {},
   "source": [
    "## Define Altair Specification"
   ]
  },
  {
   "cell_type": "code",
   "execution_count": null,
   "metadata": {},
   "outputs": [],
   "source": [
    "from altair import *  # Import the altair API\n",
    "\n",
    "chart = LayeredChart(data,\n",
    "    layers=[Chart().mark_rule().encode(\n",
    "            x='age:O',\n",
    "            y=Y('min(people):Q',\n",
    "                axis=Axis(\n",
    "                    title='population',\n",
    "                ),\n",
    "            ),\n",
    "            y2='max(people):Q',\n",
    "        ), Chart().mark_tick().encode(\n",
    "            size=Size(\n",
    "                value=5.0,\n",
    "            ),\n",
    "            x='age:O',\n",
    "            y=Y('min(people):Q',\n",
    "                axis=Axis(\n",
    "                    title='population',\n",
    "                ),\n",
    "            ),\n",
    "        ), Chart().mark_tick().encode(\n",
    "            size=Size(\n",
    "                value=5.0,\n",
    "            ),\n",
    "            x='age:O',\n",
    "            y=Y('max(people):Q',\n",
    "                axis=Axis(\n",
    "                    title='population',\n",
    "                ),\n",
    "            ),\n",
    "        ), Chart().mark_point().encode(\n",
    "            size=Size(\n",
    "                value=2.0,\n",
    "            ),\n",
    "            x='age:O',\n",
    "            y=Y('mean(people):Q',\n",
    "                axis=Axis(\n",
    "                    title='population',\n",
    "                ),\n",
    "            ),\n",
    "        )],\n",
    "    transform=Transform(\n",
    "        filter='datum.year == 2000',\n",
    "    ),\n",
    ")"
   ]
  },
  {
   "cell_type": "markdown",
   "metadata": {},
   "source": [
    "IPython rich display will invoke Vega-Lite:"
   ]
  },
  {
   "cell_type": "code",
   "execution_count": null,
   "metadata": {},
   "outputs": [],
   "source": [
    "chart"
   ]
  },
  {
   "cell_type": "markdown",
   "metadata": {},
   "source": [
    "## Output Vega-Lite Specification"
   ]
  },
  {
   "cell_type": "markdown",
   "metadata": {},
   "source": [
    "Generate JSON dict, leaving data out:"
   ]
  },
  {
   "cell_type": "code",
   "execution_count": null,
   "metadata": {},
   "outputs": [],
   "source": [
    "chart.to_dict(data=False)"
   ]
  }
 ],
 "metadata": {
  "kernelspec": {
   "display_name": "Python 3",
   "env": {},
   "language": "python",
   "name": "python3"
  },
  "language": "python"
 },
 "nbformat": 4,
 "nbformat_minor": 0
}
