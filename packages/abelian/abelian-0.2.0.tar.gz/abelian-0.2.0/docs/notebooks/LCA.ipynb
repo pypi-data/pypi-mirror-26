{
 "cells": [
  {
   "cell_type": "markdown",
   "metadata": {},
   "source": [
    "# Tutorial: LCAs"
   ]
  },
  {
   "cell_type": "markdown",
   "metadata": {},
   "source": [
    "This is an interactive tutorial written with real code.\n",
    "We start by importing the `LCA` class and setting up $\\LaTeX$ printing."
   ]
  },
  {
   "cell_type": "code",
   "execution_count": 1,
   "metadata": {
    "collapsed": true
   },
   "outputs": [],
   "source": [
    "from abelian import LCA\n",
    "from IPython.display import display, Math\n",
    "\n",
    "def show(arg):\n",
    "    \"\"\"This function lets us show LaTeX output.\"\"\"\n",
    "    return display(Math(arg.to_latex()))"
   ]
  },
  {
   "cell_type": "markdown",
   "metadata": {},
   "source": [
    "## Initializing a LCA"
   ]
  },
  {
   "cell_type": "markdown",
   "metadata": {},
   "source": [
    "Initializing a locally compact Abelian group (LCA) is simple.\n",
    "Every LCA can be written as a direct sum of groups isomorphic to one of:\n",
    "$\\mathbb{Z}_n$, $\\mathbb{Z}$, $T = \\mathbb{R}/\\mathbb{Z}$ or $\\mathbb{R}$.\n",
    "Specifying these groups, we can initialize LCAs.\n",
    "Groups are specified by:\n",
    "\n",
    "* Order, where 0 is taken to mean infinite order\n",
    "* Whether or not they are discrete (if not, they are continuous)"
   ]
  },
  {
   "cell_type": "code",
   "execution_count": 2,
   "metadata": {
    "scrolled": true
   },
   "outputs": [
    {
     "name": "stdout",
     "output_type": "stream",
     "text": [
      "[Z_1, R, Z_3]\n"
     ]
    },
    {
     "data": {
      "text/latex": [
       "$$\\mathbb{Z}_{1} \\oplus \\mathbb{R} \\oplus \\mathbb{Z}_{3}$$"
      ],
      "text/plain": [
       "<IPython.core.display.Math object>"
      ]
     },
     "metadata": {},
     "output_type": "display_data"
    }
   ],
   "source": [
    "# Create the group Z_1 + R + Z_3\n",
    "G = LCA(orders = [1, 0, 3], \n",
    "        discrete = [True, False, True])\n",
    "\n",
    "print(G) # Standard printing\n",
    "show(G) # LaTeX output"
   ]
  },
  {
   "cell_type": "markdown",
   "metadata": {},
   "source": [
    "If no `discrete` parameter is passed, `True` is assumed and the LCA initialized will be a finitely generated Abelian group (FGA)."
   ]
  },
  {
   "cell_type": "code",
   "execution_count": 3,
   "metadata": {},
   "outputs": [
    {
     "data": {
      "text/latex": [
       "$$\\mathbb{Z}_{5} \\oplus \\mathbb{Z}_{11}$$"
      ],
      "text/plain": [
       "<IPython.core.display.Math object>"
      ]
     },
     "metadata": {},
     "output_type": "display_data"
    },
    {
     "data": {
      "text/plain": [
       "True"
      ]
     },
     "execution_count": 3,
     "metadata": {},
     "output_type": "execute_result"
    }
   ],
   "source": [
    "# No 'discrete' argument passed,\n",
    "# so the initializer assumes a discrete group\n",
    "G = LCA(orders = [5, 11])\n",
    "show(G)\n",
    "\n",
    "G.is_FGA() # Check if this group is an FGA"
   ]
  },
  {
   "cell_type": "markdown",
   "metadata": {},
   "source": [
    "## Manipulating LCAs\n"
   ]
  },
  {
   "cell_type": "markdown",
   "metadata": {},
   "source": [
    "One way to create LCAs is using the direct sum, which \"glues\" LCAs together."
   ]
  },
  {
   "cell_type": "code",
   "execution_count": 4,
   "metadata": {},
   "outputs": [
    {
     "data": {
      "text/latex": [
       "$$\\mathbb{Z}_{5} \\oplus \\mathbb{Z}_{11}$$"
      ],
      "text/plain": [
       "<IPython.core.display.Math object>"
      ]
     },
     "metadata": {},
     "output_type": "display_data"
    },
    {
     "data": {
      "text/latex": [
       "$$\\mathbb{Z}_{7} \\oplus \\mathbb{Z}$$"
      ],
      "text/plain": [
       "<IPython.core.display.Math object>"
      ]
     },
     "metadata": {},
     "output_type": "display_data"
    },
    {
     "data": {
      "text/latex": [
       "$$\\mathbb{Z}_{5} \\oplus \\mathbb{Z}_{11} \\oplus \\mathbb{Z}_{7} \\oplus \\mathbb{Z}$$"
      ],
      "text/plain": [
       "<IPython.core.display.Math object>"
      ]
     },
     "metadata": {},
     "output_type": "display_data"
    }
   ],
   "source": [
    "# Create two groups\n",
    "# Notice how the argument names can be omitted\n",
    "G = LCA([5, 11])\n",
    "H = LCA([7, 0], [True, True])\n",
    "\n",
    "# Take the direct sum of G and H\n",
    "# Two ways: explicitly and using the + operator\n",
    "direct_sum = G.sum(H)\n",
    "direct_sum = G + H\n",
    "\n",
    "show(G)\n",
    "show(H)\n",
    "show(direct_sum)"
   ]
  },
  {
   "cell_type": "markdown",
   "metadata": {},
   "source": [
    "Python comes with a powerful slice syntax.\n",
    "This can be used to \"split up\" LCAs.\n",
    "LCAs of lower rank can be created by slicing, using the built-in slice notation in Python."
   ]
  },
  {
   "cell_type": "code",
   "execution_count": 5,
   "metadata": {},
   "outputs": [
    {
     "data": {
      "text/latex": [
       "$$\\mathbb{Z}_{5} \\oplus \\mathbb{Z}_{11} \\oplus \\mathbb{Z}_{7}$$"
      ],
      "text/plain": [
       "<IPython.core.display.Math object>"
      ]
     },
     "metadata": {},
     "output_type": "display_data"
    },
    {
     "data": {
      "text/latex": [
       "$$\\mathbb{Z}_{7} \\oplus \\mathbb{Z}$$"
      ],
      "text/plain": [
       "<IPython.core.display.Math object>"
      ]
     },
     "metadata": {},
     "output_type": "display_data"
    }
   ],
   "source": [
    "# Return groups 0 to 3 (inclusive, exclusive)\n",
    "sliced = direct_sum[0:3]\n",
    "show(sliced)\n",
    "\n",
    "# Return the last two groups in the LCA\n",
    "sliced = direct_sum[-2:]\n",
    "show(sliced)"
   ]
  },
  {
   "cell_type": "markdown",
   "metadata": {},
   "source": [
    "Trivial groups can be removed automatically using `remove_trivial`. Recall that the trivial group is $\\mathbb{Z}_1$."
   ]
  },
  {
   "cell_type": "code",
   "execution_count": 6,
   "metadata": {},
   "outputs": [
    {
     "data": {
      "text/latex": [
       "$$\\mathbb{Z}_{1} \\oplus \\mathbb{Z}_{1} \\oplus \\mathbb{Z} \\oplus \\mathbb{Z}_{5} \\oplus \\mathbb{Z}_{1} \\oplus \\mathbb{Z}_{7}$$"
      ],
      "text/plain": [
       "<IPython.core.display.Math object>"
      ]
     },
     "metadata": {},
     "output_type": "display_data"
    },
    {
     "data": {
      "text/latex": [
       "$$\\mathbb{Z} \\oplus \\mathbb{Z}_{5} \\oplus \\mathbb{Z}_{7}$$"
      ],
      "text/plain": [
       "<IPython.core.display.Math object>"
      ]
     },
     "metadata": {},
     "output_type": "display_data"
    }
   ],
   "source": [
    "# Create a group with several trivial groups\n",
    "G = LCA([1, 1, 0, 5, 1, 7])\n",
    "show(G)\n",
    "\n",
    "# Remove trivial groups\n",
    "G_no_trivial = G.remove_trivial()\n",
    "show(G_no_trivial)"
   ]
  },
  {
   "cell_type": "markdown",
   "metadata": {},
   "source": [
    "## Checking if a LCA is a FGA"
   ]
  },
  {
   "cell_type": "markdown",
   "metadata": {},
   "source": [
    "Recall that a group $G$ is an FGA iff all the groups in the direct sum are discrete."
   ]
  },
  {
   "cell_type": "code",
   "execution_count": 7,
   "metadata": {},
   "outputs": [
    {
     "data": {
      "text/plain": [
       "False"
      ]
     },
     "execution_count": 7,
     "metadata": {},
     "output_type": "execute_result"
    }
   ],
   "source": [
    "G = LCA([1, 5], discrete = [False, True])\n",
    "G.is_FGA()"
   ]
  },
  {
   "cell_type": "markdown",
   "metadata": {},
   "source": [
    "## Dual groups"
   ]
  },
  {
   "cell_type": "markdown",
   "metadata": {},
   "source": [
    "The `dual()` method returns a group isomorphic to the Pontryagin dual."
   ]
  },
  {
   "cell_type": "code",
   "execution_count": 8,
   "metadata": {},
   "outputs": [
    {
     "data": {
      "text/latex": [
       "$$T \\oplus \\mathbb{Z}_{5}$$"
      ],
      "text/plain": [
       "<IPython.core.display.Math object>"
      ]
     },
     "metadata": {},
     "output_type": "display_data"
    },
    {
     "data": {
      "text/latex": [
       "$$\\mathbb{Z} \\oplus \\mathbb{Z}_{5}$$"
      ],
      "text/plain": [
       "<IPython.core.display.Math object>"
      ]
     },
     "metadata": {},
     "output_type": "display_data"
    }
   ],
   "source": [
    "show(G)\n",
    "show(G.dual())"
   ]
  },
  {
   "cell_type": "markdown",
   "metadata": {},
   "source": [
    "## Iteration, containment and lengths"
   ]
  },
  {
   "cell_type": "markdown",
   "metadata": {},
   "source": [
    "LCAs implement the Python iteration protocol, and they subclass the abstract base class (ABC) `Sequence`. A `Sequence` is a subclass of `Reversible` and `Collection` ABCs. These ABCs force the subclasses that inherit from them to implement certain behaviors, namely:\n",
    "\n",
    "* Iteration over the object: this yields the LCAs in the direct sum one-by-one\n",
    "* The `G in H` statement: this checks whether $G$ is a subgroup of $H$\n",
    "* The `len(G)` built-in, this check the length of the group\n",
    "\n",
    "We now show this behavior with examples."
   ]
  },
  {
   "cell_type": "code",
   "execution_count": 9,
   "metadata": {},
   "outputs": [
    {
     "name": "stdout",
     "output_type": "stream",
     "text": [
      "The dual of [Z_10] is [Z_10]\n",
      "   -> [Z_10] is self dual\n",
      "The dual of [T] is [Z]\n",
      "The dual of [Z] is [T]\n",
      "The dual of [R] is [R]\n",
      "   -> [R] is self dual\n"
     ]
    }
   ],
   "source": [
    "G = LCA([10, 1, 0, 0], [True, False, True, False])\n",
    "\n",
    "# Iterate over all subgroups in G\n",
    "for subgroup in G:\n",
    "    dual = subgroup.dual()\n",
    "    print('The dual of', subgroup, 'is', dual)\n",
    "    \n",
    "    # Print if the group is self dual\n",
    "    if dual == subgroup:\n",
    "        print('   ->', subgroup, 'is self dual')"
   ]
  },
  {
   "cell_type": "markdown",
   "metadata": {},
   "source": [
    "### Containment"
   ]
  },
  {
   "cell_type": "markdown",
   "metadata": {},
   "source": [
    "A LCA $G$ is contained in $H$ iff there exists an injection $\\phi: G \\to H$ such that every source/target of the\n",
    "    mapping are isomorphic groups."
   ]
  },
  {
   "cell_type": "code",
   "execution_count": 10,
   "metadata": {},
   "outputs": [
    {
     "name": "stdout",
     "output_type": "stream",
     "text": [
      "True\n",
      "True\n"
     ]
    }
   ],
   "source": [
    "# Create two groups\n",
    "G = LCA([1, 3, 5])\n",
    "H = LCA([3, 5, 1, 8])\n",
    "\n",
    "# Two ways, explicitly or using the `in` keyword\n",
    "print(G.contained_in(H))\n",
    "print(G in H)"
   ]
  },
  {
   "cell_type": "markdown",
   "metadata": {},
   "source": [
    "The length can be computed using the `length()` method, or the built-in method `len`. In contrast with `rank()`, this does not remove trival groups."
   ]
  },
  {
   "cell_type": "code",
   "execution_count": 11,
   "metadata": {},
   "outputs": [
    {
     "data": {
      "text/latex": [
       "$$\\mathbb{Z}_{1} \\oplus \\mathbb{Z}_{3} \\oplus \\mathbb{Z}_{5}$$"
      ],
      "text/plain": [
       "<IPython.core.display.Math object>"
      ]
     },
     "metadata": {},
     "output_type": "display_data"
    },
    {
     "name": "stdout",
     "output_type": "stream",
     "text": [
      "3\n",
      "3\n",
      "2\n"
     ]
    }
   ],
   "source": [
    "# The length is available with the len built-in function\n",
    "# Notice that the length is not the same as the rank,\n",
    "# since the rank will remove trivial subgroups first\n",
    "G = LCA([1, 3, 5])\n",
    "show(G)\n",
    "\n",
    "print(G.length()) # Explicit\n",
    "print(len(G)) # Using the built-in len function\n",
    "print(G.rank())\n"
   ]
  },
  {
   "cell_type": "markdown",
   "metadata": {},
   "source": [
    "## Ranks and lengths of groups"
   ]
  },
  {
   "cell_type": "markdown",
   "metadata": {},
   "source": [
    "The rank can be computed by the `rank()` method.\n",
    "\n",
    "* The `rank()` method removes trivial subgroups\n",
    "* The `length()` method does not remove trivial subgroups"
   ]
  },
  {
   "cell_type": "code",
   "execution_count": 12,
   "metadata": {},
   "outputs": [
    {
     "data": {
      "text/latex": [
       "$$\\mathbb{Z}_{1} \\oplus \\mathbb{Z}_{5} \\oplus \\mathbb{Z}_{7} \\oplus \\mathbb{Z}$$"
      ],
      "text/plain": [
       "<IPython.core.display.Math object>"
      ]
     },
     "metadata": {},
     "output_type": "display_data"
    },
    {
     "data": {
      "text/plain": [
       "3"
      ]
     },
     "execution_count": 12,
     "metadata": {},
     "output_type": "execute_result"
    }
   ],
   "source": [
    "G = LCA([1, 5, 7, 0])\n",
    "show(G)\n",
    "G.rank()"
   ]
  },
  {
   "cell_type": "markdown",
   "metadata": {},
   "source": [
    "## Canonical forms and isomorphic groups"
   ]
  },
  {
   "cell_type": "markdown",
   "metadata": {},
   "source": [
    "FGAs can be put into a canonical form using the Smith Normal Form (SNF). Two FGAs are isomorphic iff their canonical form is equal."
   ]
  },
  {
   "cell_type": "code",
   "execution_count": 13,
   "metadata": {},
   "outputs": [
    {
     "data": {
      "text/latex": [
       "$$\\mathbb{Z}_{1} \\oplus \\mathbb{Z}_{3} \\oplus \\mathbb{Z}_{3} \\oplus \\mathbb{Z}_{5} \\oplus \\mathbb{Z}_{8}$$"
      ],
      "text/plain": [
       "<IPython.core.display.Math object>"
      ]
     },
     "metadata": {},
     "output_type": "display_data"
    },
    {
     "data": {
      "text/latex": [
       "$$\\mathbb{Z}_{3} \\oplus \\mathbb{Z}_{120}$$"
      ],
      "text/plain": [
       "<IPython.core.display.Math object>"
      ]
     },
     "metadata": {},
     "output_type": "display_data"
    }
   ],
   "source": [
    "G = LCA([1, 3, 3, 5, 8])\n",
    "show(G)\n",
    "show(G.canonical())"
   ]
  },
  {
   "cell_type": "markdown",
   "metadata": {},
   "source": [
    "The groups $G = \\mathbb{Z}_3 \\oplus \\mathbb{Z}_4$ and $H = \\mathbb{Z}_{12}$ are isomorphic because they can be put into the same canonical form using the SNF."
   ]
  },
  {
   "cell_type": "code",
   "execution_count": 14,
   "metadata": {},
   "outputs": [
    {
     "data": {
      "text/plain": [
       "True"
      ]
     },
     "execution_count": 14,
     "metadata": {},
     "output_type": "execute_result"
    }
   ],
   "source": [
    "G = LCA([3, 4, 0])\n",
    "H = LCA([12, 0])\n",
    "G.isomorphic(H)"
   ]
  },
  {
   "cell_type": "markdown",
   "metadata": {},
   "source": [
    "General LCAs are isomorphic if the FGAs are isomorphic and the remaining groups such as $\\mathbb{R}$ and $T$ can be obtained with a permutation. We show this by example."
   ]
  },
  {
   "cell_type": "code",
   "execution_count": 15,
   "metadata": {},
   "outputs": [
    {
     "data": {
      "text/latex": [
       "$$\\mathbb{Z}_{12} \\oplus \\mathbb{Z}_{13} \\oplus \\mathbb{R}$$"
      ],
      "text/plain": [
       "<IPython.core.display.Math object>"
      ]
     },
     "metadata": {},
     "output_type": "display_data"
    },
    {
     "data": {
      "text/latex": [
       "$$\\mathbb{Z}_{156} \\oplus \\mathbb{R}$$"
      ],
      "text/plain": [
       "<IPython.core.display.Math object>"
      ]
     },
     "metadata": {},
     "output_type": "display_data"
    },
    {
     "data": {
      "text/plain": [
       "True"
      ]
     },
     "execution_count": 15,
     "metadata": {},
     "output_type": "execute_result"
    }
   ],
   "source": [
    "G = LCA([12, 13, 0], [True, True, False])\n",
    "H = LCA([12 * 13, 0], [True, False])\n",
    "show(G)\n",
    "show(H)\n",
    "G.isomorphic(H)"
   ]
  },
  {
   "cell_type": "markdown",
   "metadata": {},
   "source": [
    "## Projecting elements to groups"
   ]
  },
  {
   "cell_type": "markdown",
   "metadata": {},
   "source": [
    "It is possible to project elements onto groups."
   ]
  },
  {
   "cell_type": "code",
   "execution_count": 16,
   "metadata": {},
   "outputs": [
    {
     "data": {
      "text/plain": [
       "[8, 2, 7]"
      ]
     },
     "execution_count": 16,
     "metadata": {},
     "output_type": "execute_result"
    }
   ],
   "source": [
    "element = [8, 17, 7]\n",
    "G = LCA([10, 15, 20])\n",
    "G.project_element(element)"
   ]
  }
 ],
 "metadata": {
  "celltoolbar": "Raw Cell Format",
  "kernelspec": {
   "display_name": "Python [conda env:abelian]",
   "language": "python",
   "name": "conda-env-abelian-py"
  },
  "language_info": {
   "codemirror_mode": {
    "name": "ipython",
    "version": 3
   },
   "file_extension": ".py",
   "mimetype": "text/x-python",
   "name": "python",
   "nbconvert_exporter": "python",
   "pygments_lexer": "ipython3",
   "version": "3.6.2"
  }
 },
 "nbformat": 4,
 "nbformat_minor": 2
}
