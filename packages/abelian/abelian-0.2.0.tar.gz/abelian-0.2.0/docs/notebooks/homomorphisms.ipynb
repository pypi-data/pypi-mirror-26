{
 "cells": [
  {
   "cell_type": "markdown",
   "metadata": {},
   "source": [
    "# Tutorial: Homomorphisms"
   ]
  },
  {
   "cell_type": "markdown",
   "metadata": {},
   "source": [
    "This is an interactive tutorial written with real code.\n",
    "We start by setting up $\\LaTeX$ printing."
   ]
  },
  {
   "cell_type": "code",
   "execution_count": 1,
   "metadata": {
    "collapsed": true
   },
   "outputs": [],
   "source": [
    "from IPython.display import display, Math\n",
    "\n",
    "def show(arg):\n",
    "    return display(Math(arg.to_latex()))"
   ]
  },
  {
   "cell_type": "markdown",
   "metadata": {},
   "source": [
    "## Initializing a homomorphism"
   ]
  },
  {
   "cell_type": "markdown",
   "metadata": {},
   "source": [
    "Homomorphisms between general LCAs are represented by the `HomLCA` class.\n",
    "To define a homomorphism, a matrix representation is needed.\n",
    "In addition to the matrix, the user can also define a `target` and `source`. \n",
    "\n",
    "Some verification of the inputs is done in the initializer, for instance a matrix $A \\in \\mathbb{Z}^{2 \\times 2}$ cannot represent $\\phi: \\mathbb{Z}^m \\to \\mathbb{Z}^n$ unless both $m$ and $n$ are $2$.\n",
    "If no `target`/`source` is given, the initializer\n",
    "will assume a free, discrete group, i.e. $\\mathbb{Z}^m$."
   ]
  },
  {
   "cell_type": "code",
   "execution_count": 2,
   "metadata": {},
   "outputs": [
    {
     "data": {
      "text/latex": [
       "$$\\begin{pmatrix}1 & 2\\\\3 & 4\\end{pmatrix}:\\mathbb{Z} \\oplus \\mathbb{Z} \\to \\mathbb{R} \\oplus \\mathbb{Z}_{5}$$"
      ],
      "text/plain": [
       "<IPython.core.display.Math object>"
      ]
     },
     "metadata": {},
     "output_type": "display_data"
    },
    {
     "data": {
      "text/latex": [
       "$$\\begin{pmatrix}1 & 2\\\\3 & 4\\end{pmatrix}:\\mathbb{Z} \\oplus \\mathbb{Z} \\to \\mathbb{Z} \\oplus \\mathbb{Z}$$"
      ],
      "text/plain": [
       "<IPython.core.display.Math object>"
      ]
     },
     "metadata": {},
     "output_type": "display_data"
    }
   ],
   "source": [
    "from abelian import LCA, HomLCA\n",
    "\n",
    "# Initialize the target group for the homomorphism\n",
    "target = LCA([0, 5], discrete = [False, True])\n",
    "\n",
    "# Initialize a homomorphism between LCAs\n",
    "phi = HomLCA([[1, 2], [3, 4]], target = target)\n",
    "show(phi)\n",
    "\n",
    "# Initialize a homomorphism with no source/target.\n",
    "# Souce and targets are assumed to be\n",
    "# of infinite order and discrete (free-to-free)\n",
    "phi = HomLCA([[1, 2], [3, 4]])\n",
    "show(phi)"
   ]
  },
  {
   "cell_type": "markdown",
   "metadata": {},
   "source": [
    "Homomorphisms between FGAs are represented by the `HomFGA` class."
   ]
  },
  {
   "cell_type": "code",
   "execution_count": 3,
   "metadata": {},
   "outputs": [
    {
     "data": {
      "text/latex": [
       "$$\\begin{pmatrix}4 & 5\\\\9 & -3\\end{pmatrix}:\\mathbb{Z} \\oplus \\mathbb{Z} \\to \\mathbb{Z} \\oplus \\mathbb{Z}$$"
      ],
      "text/plain": [
       "<IPython.core.display.Math object>"
      ]
     },
     "metadata": {},
     "output_type": "display_data"
    }
   ],
   "source": [
    "from abelian import HomFGA\n",
    "phi = HomFGA([[4, 5], [9, -3]])\n",
    "show(phi)"
   ]
  },
  {
   "cell_type": "markdown",
   "metadata": {},
   "source": [
    "The `HomFGA` class is a subclass of `HomLCA`. \n",
    "A `HomFGA` instance must have:\n",
    "\n",
    "* FGAs as source and target\n",
    "* The matrix must contain only integer entries"
   ]
  },
  {
   "cell_type": "code",
   "execution_count": 4,
   "metadata": {},
   "outputs": [
    {
     "data": {
      "text/plain": [
       "True"
      ]
     },
     "execution_count": 4,
     "metadata": {},
     "output_type": "execute_result"
    }
   ],
   "source": [
    "issubclass(HomFGA, HomLCA) # Verify subclass"
   ]
  },
  {
   "cell_type": "markdown",
   "metadata": {},
   "source": [
    "The best way to create a `HomLCA` or `HomFGA` is to use the `Homomorphism` factory function. \n",
    "It will attempt to return an instance of the correct class depending on the data passed to it."
   ]
  },
  {
   "cell_type": "code",
   "execution_count": 5,
   "metadata": {},
   "outputs": [],
   "source": [
    "from abelian import Homomorphism\n",
    "\n",
    "# Integer matrix -> returns HomFGA\n",
    "A = [[1, 0, 1], [0, 1, 1]]\n",
    "psi = Homomorphism(A)\n",
    "assert type(psi) == HomFGA\n",
    "\n",
    "# Non-integer matrix -> returns HomLCA\n",
    "R2 = LCA([0, 0], [False, False])\n",
    "psi = Homomorphism([[1, 0, 2.3], [0, 1, 1]], R2)\n",
    "assert type(psi) == HomLCA\n",
    "\n",
    "# Non-FGA target -> returns HomLCA\n",
    "A = [[1, 0, 1], [0, 1, 1]]\n",
    "G = LCA([1, 1], [False, False])\n",
    "psi = Homomorphism(A, target = G)\n",
    "assert type(psi) == HomLCA"
   ]
  },
  {
   "cell_type": "markdown",
   "metadata": {},
   "source": [
    "## Compositions"
   ]
  },
  {
   "cell_type": "markdown",
   "metadata": {},
   "source": [
    "A fundamental way to combine two functions is to compose them.\n",
    "We create two homomorphisms and compose them: first $\\psi$, then $\\phi$.\n",
    "The result is the function $\\phi \\circ \\psi$."
   ]
  },
  {
   "cell_type": "code",
   "execution_count": 6,
   "metadata": {},
   "outputs": [
    {
     "data": {
      "text/latex": [
       "$$\\begin{pmatrix}4 & 5 & 9\\\\9 & -3 & 6\\end{pmatrix}:\\mathbb{Z} \\oplus \\mathbb{Z} \\oplus \\mathbb{Z} \\to \\mathbb{Z} \\oplus \\mathbb{Z}$$"
      ],
      "text/plain": [
       "<IPython.core.display.Math object>"
      ]
     },
     "metadata": {},
     "output_type": "display_data"
    }
   ],
   "source": [
    "# Create two HomFGAs\n",
    "phi = HomFGA([[4, 5], [9, -3]])\n",
    "psi = Homomorphism([[1, 0, 1], [0, 1, 1]])\n",
    "\n",
    "# The composition of phi, then psi\n",
    "show(phi * psi)"
   ]
  },
  {
   "cell_type": "markdown",
   "metadata": {},
   "source": [
    "If the homomorphism is an endomorphism (same source and target),\n",
    "repeated composition can be done using exponents.\n",
    "\n",
    "$\\phi^{n} = \\phi \\circ \\phi \\circ \\dots \\circ \\phi, \\quad n \\geq 1$"
   ]
  },
  {
   "cell_type": "code",
   "execution_count": 7,
   "metadata": {},
   "outputs": [
    {
     "data": {
      "text/latex": [
       "$$\\begin{pmatrix}289 & 290\\\\522 & -117\\end{pmatrix}:\\mathbb{Z} \\oplus \\mathbb{Z} \\to \\mathbb{Z} \\oplus \\mathbb{Z}$$"
      ],
      "text/plain": [
       "<IPython.core.display.Math object>"
      ]
     },
     "metadata": {},
     "output_type": "display_data"
    }
   ],
   "source": [
    "show(phi**3)"
   ]
  },
  {
   "cell_type": "markdown",
   "metadata": {},
   "source": [
    "Numbers and homomorphisms can be added to homomorphisms, \n",
    "in the same way that numbers and matrices are added to matrices in other software."
   ]
  },
  {
   "cell_type": "code",
   "execution_count": 8,
   "metadata": {},
   "outputs": [
    {
     "data": {
      "text/latex": [
       "$$\\begin{pmatrix}1 & 0 & 1\\\\0 & 1 & 1\\end{pmatrix}:\\mathbb{Z} \\oplus \\mathbb{Z} \\oplus \\mathbb{Z} \\to \\mathbb{Z} \\oplus \\mathbb{Z}$$"
      ],
      "text/plain": [
       "<IPython.core.display.Math object>"
      ]
     },
     "metadata": {},
     "output_type": "display_data"
    },
    {
     "data": {
      "text/latex": [
       "$$\\begin{pmatrix}2 & 0 & 2\\\\0 & 2 & 2\\end{pmatrix}:\\mathbb{Z} \\oplus \\mathbb{Z} \\oplus \\mathbb{Z} \\to \\mathbb{Z} \\oplus \\mathbb{Z}$$"
      ],
      "text/plain": [
       "<IPython.core.display.Math object>"
      ]
     },
     "metadata": {},
     "output_type": "display_data"
    },
    {
     "data": {
      "text/latex": [
       "$$\\begin{pmatrix}11 & 10 & 11\\\\10 & 11 & 11\\end{pmatrix}:\\mathbb{Z} \\oplus \\mathbb{Z} \\oplus \\mathbb{Z} \\to \\mathbb{Z} \\oplus \\mathbb{Z}$$"
      ],
      "text/plain": [
       "<IPython.core.display.Math object>"
      ]
     },
     "metadata": {},
     "output_type": "display_data"
    }
   ],
   "source": [
    "show(psi)\n",
    "\n",
    "# Each element in the matrix is multiplied by 2\n",
    "show(psi + psi)\n",
    "\n",
    "# Elementwise addition\n",
    "show(psi + 10)"
   ]
  },
  {
   "cell_type": "markdown",
   "metadata": {},
   "source": [
    "## Slice notation"
   ]
  },
  {
   "cell_type": "markdown",
   "metadata": {},
   "source": [
    "Slice notation is available. The first slice works on rows (target group)\n",
    "and the second slice works on columns (source group).\n",
    "Notice that in Python, indices start with 0."
   ]
  },
  {
   "cell_type": "code",
   "execution_count": 9,
   "metadata": {},
   "outputs": [
    {
     "data": {
      "text/latex": [
       "$$\\begin{pmatrix}10 & 10\\\\10 & 15\\end{pmatrix}:\\mathbb{Z}_{2} \\oplus \\mathbb{Z}_{4} \\to \\mathbb{Z}_{20} \\oplus \\mathbb{Z}_{20}$$"
      ],
      "text/plain": [
       "<IPython.core.display.Math object>"
      ]
     },
     "metadata": {},
     "output_type": "display_data"
    },
    {
     "data": {
      "text/latex": [
       "$$\\begin{pmatrix}10 & 10\\end{pmatrix}:\\mathbb{Z}_{2} \\oplus \\mathbb{Z}_{4} \\to \\mathbb{Z}_{20}$$"
      ],
      "text/plain": [
       "<IPython.core.display.Math object>"
      ]
     },
     "metadata": {},
     "output_type": "display_data"
    },
    {
     "data": {
      "text/latex": [
       "$$\\begin{pmatrix}10\\\\10\\end{pmatrix}:\\mathbb{Z}_{2} \\to \\mathbb{Z}_{20} \\oplus \\mathbb{Z}_{20}$$"
      ],
      "text/plain": [
       "<IPython.core.display.Math object>"
      ]
     },
     "metadata": {},
     "output_type": "display_data"
    },
    {
     "data": {
      "text/latex": [
       "$$\\begin{pmatrix}15\\end{pmatrix}:\\mathbb{Z}_{4} \\to \\mathbb{Z}_{20}$$"
      ],
      "text/plain": [
       "<IPython.core.display.Math object>"
      ]
     },
     "metadata": {},
     "output_type": "display_data"
    }
   ],
   "source": [
    "A = [[10, 10], [10, 15]]\n",
    "# Notice how the Homomorphism converts a list\n",
    "# into a FGA, this makes it easier to create HomFGAs\n",
    "phi = Homomorphism(A, target = [20, 20])\n",
    "phi = phi.project_to_source()\n",
    "\n",
    "# Slice in different ways\n",
    "show(phi)\n",
    "show(phi[0, :]) # First row, all columns\n",
    "show(phi[:, 0]) # All rows, first column\n",
    "show(phi[1, 1]) # Second row, second column"
   ]
  },
  {
   "cell_type": "markdown",
   "metadata": {},
   "source": [
    "## Stacking homomorphisms"
   ]
  },
  {
   "cell_type": "markdown",
   "metadata": {},
   "source": [
    "There are three ways to stack morphisms:\n",
    "\n",
    "* Diagonal stacking\n",
    "* Horizontal stacking\n",
    "* Vertical stacking\n",
    "\n",
    "They are all shown below."
   ]
  },
  {
   "cell_type": "markdown",
   "metadata": {},
   "source": [
    "### Diagonal stacking"
   ]
  },
  {
   "cell_type": "code",
   "execution_count": 10,
   "metadata": {},
   "outputs": [
    {
     "data": {
      "text/latex": [
       "$$\\begin{pmatrix}2 & 0\\\\0 & 2\\end{pmatrix}:\\mathbb{Z} \\oplus \\mathbb{Z} \\to \\mathbb{R} \\oplus \\mathbb{Z}$$"
      ],
      "text/plain": [
       "<IPython.core.display.Math object>"
      ]
     },
     "metadata": {},
     "output_type": "display_data"
    }
   ],
   "source": [
    "# Create two homomorphisms\n",
    "phi = Homomorphism([2], target = LCA([0], [False]))\n",
    "psi = Homomorphism([2])\n",
    "\n",
    "# Stack diagonally\n",
    "show(phi.stack_diag(psi))"
   ]
  },
  {
   "cell_type": "markdown",
   "metadata": {},
   "source": [
    "### Horizontal stacking"
   ]
  },
  {
   "cell_type": "code",
   "execution_count": 11,
   "metadata": {},
   "outputs": [
    {
     "data": {
      "text/latex": [
       "$$\\begin{pmatrix}1 & 3 & 7\\end{pmatrix}:\\mathbb{Z} \\oplus \\mathbb{Z} \\oplus \\mathbb{R} \\to \\mathbb{R}$$"
      ],
      "text/plain": [
       "<IPython.core.display.Math object>"
      ]
     },
     "metadata": {},
     "output_type": "display_data"
    }
   ],
   "source": [
    "# Create two homomorphisms with the same target\n",
    "target = LCA([0], [False])\n",
    "phi = Homomorphism([[1, 3]], target = target)\n",
    "source = LCA([0], [False])\n",
    "psi = Homomorphism([7], target=target, source=source)\n",
    "\n",
    "# Stack horizontally\n",
    "show(phi.stack_horiz(psi))"
   ]
  },
  {
   "cell_type": "markdown",
   "metadata": {},
   "source": [
    "### Vertical stacking"
   ]
  },
  {
   "cell_type": "code",
   "execution_count": 12,
   "metadata": {},
   "outputs": [
    {
     "data": {
      "text/latex": [
       "$$\\begin{pmatrix}1 & 2\\\\3 & 4\\end{pmatrix}:\\mathbb{Z} \\oplus \\mathbb{Z} \\to \\mathbb{Z} \\oplus \\mathbb{Z}$$"
      ],
      "text/plain": [
       "<IPython.core.display.Math object>"
      ]
     },
     "metadata": {},
     "output_type": "display_data"
    }
   ],
   "source": [
    "# Create two homomorphisms, they have the same source\n",
    "phi = Homomorphism([[1, 2]])\n",
    "psi = Homomorphism([[3, 4]])\n",
    "\n",
    "# Stack vertically\n",
    "show(phi.stack_vert(psi))"
   ]
  },
  {
   "cell_type": "markdown",
   "metadata": {},
   "source": [
    "## Calling homomorphisms"
   ]
  },
  {
   "cell_type": "markdown",
   "metadata": {},
   "source": [
    "In Python, a `callable` is an object which implements a method for function calls.\n",
    "A homomorphism is a callable object, so we can use `phi(x)` to evaluate `x`, i.e. send `x` from the source to the target."
   ]
  },
  {
   "cell_type": "markdown",
   "metadata": {},
   "source": [
    "We create a homomorphism."
   ]
  },
  {
   "cell_type": "code",
   "execution_count": 13,
   "metadata": {},
   "outputs": [
    {
     "data": {
      "text/latex": [
       "$$\\begin{pmatrix}2 & 0\\\\0 & 4\\end{pmatrix}:\\mathbb{Z}_{5} \\oplus \\mathbb{Z}_{3} \\to \\mathbb{Z}_{10} \\oplus \\mathbb{Z}_{12}$$"
      ],
      "text/plain": [
       "<IPython.core.display.Math object>"
      ]
     },
     "metadata": {},
     "output_type": "display_data"
    }
   ],
   "source": [
    "# Create a homomorphism, specify the target\n",
    "phi = Homomorphism([[2, 0], [0, 4]], [10, 12])\n",
    "# Find the source group (orders)\n",
    "phi = phi.project_to_source()\n",
    "show(phi)"
   ]
  },
  {
   "cell_type": "markdown",
   "metadata": {},
   "source": [
    "We can now call it. The argument must be in the source group."
   ]
  },
  {
   "cell_type": "code",
   "execution_count": 14,
   "metadata": {},
   "outputs": [
    {
     "name": "stdout",
     "output_type": "stream",
     "text": [
      "[2, 4]\n",
      "True\n"
     ]
    }
   ],
   "source": [
    "# An element in the source, represented as a list\n",
    "group_element = [1, 1]\n",
    "# Calling the homomorphism\n",
    "print(phi(group_element))\n",
    "\n",
    "# Since [6, 4] = [1, 1] mod [5, 3] (source group)\n",
    "# the following is equal\n",
    "print(phi([6, 4]) == phi([1, 1]))"
   ]
  },
  {
   "cell_type": "markdown",
   "metadata": {},
   "source": [
    "## Calling and composing"
   ]
  },
  {
   "cell_type": "markdown",
   "metadata": {},
   "source": [
    "We finish this tutorial by showing two ways to calculate the same thing:\n",
    "\n",
    "* $y = (\\phi \\circ \\psi)(x)$\n",
    "* $y = \\phi(\\psi(x))$"
   ]
  },
  {
   "cell_type": "code",
   "execution_count": 15,
   "metadata": {},
   "outputs": [
    {
     "name": "stdout",
     "output_type": "stream",
     "text": [
      "True\n"
     ]
    }
   ],
   "source": [
    "# Create two HomFGAs\n",
    "phi = HomFGA([[4, 5], [9, -3]])\n",
    "psi = Homomorphism([[1, 0, 1], [0, 1, 1]])\n",
    "\n",
    "x = [1, 1, 1]\n",
    "# Compose, then call\n",
    "answer1 = (phi * psi)(x)\n",
    "\n",
    "# Call, then call again\n",
    "answer2 = phi(psi(x))\n",
    "\n",
    "# The result is the same\n",
    "print(answer1 == answer2)"
   ]
  }
 ],
 "metadata": {
  "kernelspec": {
   "display_name": "Python [conda env:abelian]",
   "language": "python",
   "name": "conda-env-abelian-py"
  },
  "language_info": {
   "codemirror_mode": {
    "name": "ipython",
    "version": 3
   },
   "file_extension": ".py",
   "mimetype": "text/x-python",
   "name": "python",
   "nbconvert_exporter": "python",
   "pygments_lexer": "ipython3",
   "version": "3.6.2"
  }
 },
 "nbformat": 4,
 "nbformat_minor": 2
}
