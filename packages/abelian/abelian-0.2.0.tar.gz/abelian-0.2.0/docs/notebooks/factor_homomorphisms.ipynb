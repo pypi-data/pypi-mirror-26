{
 "cells": [
  {
   "cell_type": "markdown",
   "metadata": {},
   "source": [
    "# Tutorial: Factoring HomFGAs"
   ]
  },
  {
   "cell_type": "markdown",
   "metadata": {},
   "source": [
    "This is an interactive tutorial written with real code.\n",
    "We start by importing the `LCA` class, the `HomFGA` class and setting up $\\LaTeX$ printing."
   ]
  },
  {
   "cell_type": "code",
   "execution_count": 1,
   "metadata": {
    "collapsed": true
   },
   "outputs": [],
   "source": [
    "from abelian import LCA, HomFGA\n",
    "from IPython.display import display, Math\n",
    "\n",
    "def show(arg):\n",
    "    return display(Math(arg.to_latex()))"
   ]
  },
  {
   "cell_type": "markdown",
   "metadata": {},
   "source": [
    "## Initialization and source/target projections"
   ]
  },
  {
   "cell_type": "markdown",
   "metadata": {},
   "source": [
    "We create a `HomFGA` instance, a homomorphism between FGAs."
   ]
  },
  {
   "cell_type": "code",
   "execution_count": 2,
   "metadata": {},
   "outputs": [
    {
     "data": {
      "text/latex": [
       "$$\\begin{pmatrix}5 & 10 & 15\\\\10 & 20 & 30\\\\10 & 5 & 30\\end{pmatrix}:\\mathbb{Z} \\oplus \\mathbb{Z} \\oplus \\mathbb{Z} \\to \\mathbb{Z}_{50} \\oplus \\mathbb{Z}_{20} \\oplus \\mathbb{Z}_{30}$$"
      ],
      "text/plain": [
       "<IPython.core.display.Math object>"
      ]
     },
     "metadata": {},
     "output_type": "display_data"
    }
   ],
   "source": [
    "phi = HomFGA([[5, 10, 15], \n",
    "              [10, 20, 30], \n",
    "              [10, 5, 30]], \n",
    "              target = [50, 20, 30])\n",
    "show(phi)"
   ]
  },
  {
   "cell_type": "markdown",
   "metadata": {},
   "source": [
    "### Projecting to source"
   ]
  },
  {
   "cell_type": "markdown",
   "metadata": {},
   "source": [
    "The source (or domain) is assumed to be free (infinite order). Calculating the orders is done with the `project_to_source` method, after which the orders of the columns are shown in the source group."
   ]
  },
  {
   "cell_type": "code",
   "execution_count": 3,
   "metadata": {
    "scrolled": true
   },
   "outputs": [
    {
     "data": {
      "text/latex": [
       "$$\\begin{pmatrix}5 & 10 & 15\\\\10 & 20 & 30\\\\10 & 5 & 30\\end{pmatrix}:\\mathbb{Z}_{30} \\oplus \\mathbb{Z}_{30} \\oplus \\mathbb{Z}_{10} \\to \\mathbb{Z}_{50} \\oplus \\mathbb{Z}_{20} \\oplus \\mathbb{Z}_{30}$$"
      ],
      "text/plain": [
       "<IPython.core.display.Math object>"
      ]
     },
     "metadata": {},
     "output_type": "display_data"
    }
   ],
   "source": [
    "# Project to source, i.e. orders of generator columns\n",
    "phi = phi.project_to_source()\n",
    "show(phi)"
   ]
  },
  {
   "cell_type": "markdown",
   "metadata": {},
   "source": [
    "### Projecting to target"
   ]
  },
  {
   "cell_type": "markdown",
   "metadata": {},
   "source": [
    "Projecting the columns onto the target group will make the morphism more readable. The `project_to_target()` method will project every column to the target group."
   ]
  },
  {
   "cell_type": "code",
   "execution_count": 4,
   "metadata": {},
   "outputs": [
    {
     "data": {
      "text/latex": [
       "$$\\begin{pmatrix}5 & 10 & 15\\\\10 & 0 & 10\\\\10 & 5 & 0\\end{pmatrix}:\\mathbb{Z}_{30} \\oplus \\mathbb{Z}_{30} \\oplus \\mathbb{Z}_{10} \\to \\mathbb{Z}_{50} \\oplus \\mathbb{Z}_{20} \\oplus \\mathbb{Z}_{30}$$"
      ],
      "text/plain": [
       "<IPython.core.display.Math object>"
      ]
     },
     "metadata": {},
     "output_type": "display_data"
    }
   ],
   "source": [
    "# Project the generator columns to the target group\n",
    "phi = phi.project_to_target()\n",
    "show(phi)"
   ]
  },
  {
   "cell_type": "markdown",
   "metadata": {},
   "source": [
    "## The kernel monomorphism"
   ]
  },
  {
   "cell_type": "markdown",
   "metadata": {},
   "source": [
    "The kernel morphism is a monomorphism such that $\\phi \\circ \\operatorname{ker} (\\phi) = 0$. The kernel of $\\phi$ is:"
   ]
  },
  {
   "cell_type": "code",
   "execution_count": 5,
   "metadata": {},
   "outputs": [
    {
     "data": {
      "text/latex": [
       "$$\\begin{pmatrix}25 & 29 & 28\\\\10 & 2 & 28\\\\5 & 9 & 2\\end{pmatrix}:\\mathbb{Z} \\oplus \\mathbb{Z} \\oplus \\mathbb{Z} \\to \\mathbb{Z}_{30} \\oplus \\mathbb{Z}_{30} \\oplus \\mathbb{Z}_{10}$$"
      ],
      "text/plain": [
       "<IPython.core.display.Math object>"
      ]
     },
     "metadata": {},
     "output_type": "display_data"
    }
   ],
   "source": [
    "# Calculate the kernel\n",
    "show(phi.kernel())"
   ]
  },
  {
   "cell_type": "markdown",
   "metadata": {},
   "source": [
    "The kernel monomorphism is not projected to source,\n",
    "doing so is simple."
   ]
  },
  {
   "cell_type": "code",
   "execution_count": 6,
   "metadata": {},
   "outputs": [
    {
     "data": {
      "text/latex": [
       "$$\\begin{pmatrix}25 & 29 & 28\\\\10 & 2 & 28\\\\5 & 9 & 2\\end{pmatrix}:\\mathbb{Z}_{6} \\oplus \\mathbb{Z}_{30} \\oplus \\mathbb{Z}_{15} \\to \\mathbb{Z}_{30} \\oplus \\mathbb{Z}_{30} \\oplus \\mathbb{Z}_{10}$$"
      ],
      "text/plain": [
       "<IPython.core.display.Math object>"
      ]
     },
     "metadata": {},
     "output_type": "display_data"
    }
   ],
   "source": [
    "show(phi.kernel().project_to_source())"
   ]
  },
  {
   "cell_type": "markdown",
   "metadata": {},
   "source": [
    "Verify that $\\phi \\circ \\operatorname{ker} (\\phi) = 0$."
   ]
  },
  {
   "cell_type": "code",
   "execution_count": 7,
   "metadata": {},
   "outputs": [
    {
     "data": {
      "text/latex": [
       "$$\\begin{pmatrix}300 & 300 & 450\\\\300 & 380 & 300\\\\300 & 300 & 420\\end{pmatrix}:\\mathbb{Z} \\oplus \\mathbb{Z} \\oplus \\mathbb{Z} \\to \\mathbb{Z}_{50} \\oplus \\mathbb{Z}_{20} \\oplus \\mathbb{Z}_{30}$$"
      ],
      "text/plain": [
       "<IPython.core.display.Math object>"
      ]
     },
     "metadata": {},
     "output_type": "display_data"
    }
   ],
   "source": [
    "show(phi * phi.kernel())"
   ]
  },
  {
   "cell_type": "markdown",
   "metadata": {},
   "source": [
    "To clearly see that this is the zero morphism, use the `project_to_target()` method as such."
   ]
  },
  {
   "cell_type": "code",
   "execution_count": 8,
   "metadata": {},
   "outputs": [
    {
     "data": {
      "text/latex": [
       "$$\\begin{pmatrix}0 & 0 & 0\\\\0 & 0 & 0\\\\0 & 0 & 0\\end{pmatrix}:\\mathbb{Z} \\oplus \\mathbb{Z} \\oplus \\mathbb{Z} \\to \\mathbb{Z}_{50} \\oplus \\mathbb{Z}_{20} \\oplus \\mathbb{Z}_{30}$$"
      ],
      "text/plain": [
       "<IPython.core.display.Math object>"
      ]
     },
     "metadata": {},
     "output_type": "display_data"
    }
   ],
   "source": [
    "zero = phi * phi.kernel()\n",
    "zero = zero.project_to_target()\n",
    "show(zero)"
   ]
  },
  {
   "cell_type": "markdown",
   "metadata": {},
   "source": [
    "## The cokernel epimorphism"
   ]
  },
  {
   "cell_type": "markdown",
   "metadata": {},
   "source": [
    "The kernel morphism is an epimorphism such that $\\operatorname{coker}(\\phi) \\circ \\phi = 0$. The cokernel of $\\phi$ is:"
   ]
  },
  {
   "cell_type": "code",
   "execution_count": 9,
   "metadata": {},
   "outputs": [
    {
     "data": {
      "text/latex": [
       "$$\\begin{pmatrix}1 & 0 & 0\\\\0 & 1 & 4\\\\18 & 17 & 4\\end{pmatrix}:\\mathbb{Z}_{50} \\oplus \\mathbb{Z}_{20} \\oplus \\mathbb{Z}_{30} \\to \\mathbb{Z}_{5} \\oplus \\mathbb{Z}_{5} \\oplus \\mathbb{Z}_{20}$$"
      ],
      "text/plain": [
       "<IPython.core.display.Math object>"
      ]
     },
     "metadata": {},
     "output_type": "display_data"
    }
   ],
   "source": [
    "show(phi.cokernel())"
   ]
  },
  {
   "cell_type": "markdown",
   "metadata": {},
   "source": [
    "We verify the factorization."
   ]
  },
  {
   "cell_type": "code",
   "execution_count": 10,
   "metadata": {},
   "outputs": [
    {
     "data": {
      "text/latex": [
       "$$\\begin{pmatrix}5 & 10 & 15\\\\50 & 20 & 10\\\\300 & 200 & 440\\end{pmatrix}:\\mathbb{Z}_{30} \\oplus \\mathbb{Z}_{30} \\oplus \\mathbb{Z}_{10} \\to \\mathbb{Z}_{5} \\oplus \\mathbb{Z}_{5} \\oplus \\mathbb{Z}_{20}$$"
      ],
      "text/plain": [
       "<IPython.core.display.Math object>"
      ]
     },
     "metadata": {},
     "output_type": "display_data"
    }
   ],
   "source": [
    "show((phi.cokernel() * phi))"
   ]
  },
  {
   "cell_type": "markdown",
   "metadata": {},
   "source": [
    "Again it is not immediately clear that this is in fact the zero morphism. To verify this, we again use the `project_to_target()` method as such."
   ]
  },
  {
   "cell_type": "code",
   "execution_count": 11,
   "metadata": {},
   "outputs": [
    {
     "data": {
      "text/latex": [
       "$$\\begin{pmatrix}0 & 0 & 0\\\\0 & 0 & 0\\\\0 & 0 & 0\\end{pmatrix}:\\mathbb{Z}_{30} \\oplus \\mathbb{Z}_{30} \\oplus \\mathbb{Z}_{10} \\to \\mathbb{Z}_{5} \\oplus \\mathbb{Z}_{5} \\oplus \\mathbb{Z}_{20}$$"
      ],
      "text/plain": [
       "<IPython.core.display.Math object>"
      ]
     },
     "metadata": {},
     "output_type": "display_data"
    }
   ],
   "source": [
    "zero = phi.cokernel() * phi\n",
    "zero = zero.project_to_target()\n",
    "\n",
    "show(zero)"
   ]
  },
  {
   "cell_type": "markdown",
   "metadata": {},
   "source": [
    "## The image/coimage factorization"
   ]
  },
  {
   "cell_type": "markdown",
   "metadata": {},
   "source": [
    "The image/coimage factorization is $\\phi = \\operatorname{im}(\\phi) \\circ \\operatorname{coim}(\\phi)$, where the image is a monomorphism and the coimage is an epimorphism."
   ]
  },
  {
   "cell_type": "markdown",
   "metadata": {},
   "source": [
    "### The image monomorphism"
   ]
  },
  {
   "cell_type": "markdown",
   "metadata": {},
   "source": [
    "Finding the image is easy, just call the `image()` method."
   ]
  },
  {
   "cell_type": "code",
   "execution_count": 12,
   "metadata": {},
   "outputs": [
    {
     "data": {
      "text/latex": [
       "$$\\begin{pmatrix}0 & 25 & 40\\\\0 & 10 & 0\\\\0 & 0 & 25\\end{pmatrix}:\\mathbb{Z}_{1} \\oplus \\mathbb{Z}_{2} \\oplus \\mathbb{Z}_{30} \\to \\mathbb{Z}_{50} \\oplus \\mathbb{Z}_{20} \\oplus \\mathbb{Z}_{30}$$"
      ],
      "text/plain": [
       "<IPython.core.display.Math object>"
      ]
     },
     "metadata": {},
     "output_type": "display_data"
    }
   ],
   "source": [
    "im = phi.image()\n",
    "show(im)"
   ]
  },
  {
   "cell_type": "markdown",
   "metadata": {},
   "source": [
    "A trivial group $\\mathbb{Z}_1$ is in the source. It can be removed using `remove_trivial_subgroups()`."
   ]
  },
  {
   "cell_type": "code",
   "execution_count": 13,
   "metadata": {
    "scrolled": true
   },
   "outputs": [
    {
     "data": {
      "text/latex": [
       "$$\\begin{pmatrix}25 & 40\\\\10 & 0\\\\0 & 25\\end{pmatrix}:\\mathbb{Z}_{2} \\oplus \\mathbb{Z}_{30} \\to \\mathbb{Z}_{50} \\oplus \\mathbb{Z}_{20} \\oplus \\mathbb{Z}_{30}$$"
      ],
      "text/plain": [
       "<IPython.core.display.Math object>"
      ]
     },
     "metadata": {},
     "output_type": "display_data"
    }
   ],
   "source": [
    "im = im.remove_trivial_groups()\n",
    "show(im)"
   ]
  },
  {
   "cell_type": "markdown",
   "metadata": {},
   "source": [
    "### The coimage epimorphism"
   ]
  },
  {
   "cell_type": "markdown",
   "metadata": {},
   "source": [
    "Finding the coimage is done by calling the `coimage()` method."
   ]
  },
  {
   "cell_type": "code",
   "execution_count": 14,
   "metadata": {},
   "outputs": [
    {
     "data": {
      "text/latex": [
       "$$\\begin{pmatrix}1 & 0 & 1\\\\22 & 29 & 6\\end{pmatrix}:\\mathbb{Z}_{30} \\oplus \\mathbb{Z}_{30} \\oplus \\mathbb{Z}_{10} \\to \\mathbb{Z}_{2} \\oplus \\mathbb{Z}_{30}$$"
      ],
      "text/plain": [
       "<IPython.core.display.Math object>"
      ]
     },
     "metadata": {},
     "output_type": "display_data"
    }
   ],
   "source": [
    "coim = phi.coimage().remove_trivial_groups()\n",
    "show(coim)"
   ]
  },
  {
   "cell_type": "markdown",
   "metadata": {},
   "source": [
    "### Verify the image/coimage factorization"
   ]
  },
  {
   "cell_type": "markdown",
   "metadata": {},
   "source": [
    "We now verify that $\\phi = \\operatorname{im}(\\phi) \\circ \\operatorname{coim}(\\phi)$."
   ]
  },
  {
   "cell_type": "code",
   "execution_count": 15,
   "metadata": {},
   "outputs": [
    {
     "data": {
      "text/latex": [
       "$$\\begin{pmatrix}5 & 10 & 15\\\\10 & 0 & 10\\\\10 & 5 & 0\\end{pmatrix}:\\mathbb{Z}_{30} \\oplus \\mathbb{Z}_{30} \\oplus \\mathbb{Z}_{10} \\to \\mathbb{Z}_{50} \\oplus \\mathbb{Z}_{20} \\oplus \\mathbb{Z}_{30}$$"
      ],
      "text/plain": [
       "<IPython.core.display.Math object>"
      ]
     },
     "metadata": {},
     "output_type": "display_data"
    },
    {
     "data": {
      "text/latex": [
       "$$\\begin{pmatrix}5 & 10 & 15\\\\10 & 0 & 10\\\\10 & 5 & 0\\end{pmatrix}:\\mathbb{Z}_{30} \\oplus \\mathbb{Z}_{30} \\oplus \\mathbb{Z}_{10} \\to \\mathbb{Z}_{50} \\oplus \\mathbb{Z}_{20} \\oplus \\mathbb{Z}_{30}$$"
      ],
      "text/plain": [
       "<IPython.core.display.Math object>"
      ]
     },
     "metadata": {},
     "output_type": "display_data"
    }
   ],
   "source": [
    "show(phi)\n",
    "show((im * coim).project_to_target())"
   ]
  },
  {
   "cell_type": "code",
   "execution_count": 16,
   "metadata": {},
   "outputs": [
    {
     "data": {
      "text/plain": [
       "True"
      ]
     },
     "execution_count": 16,
     "metadata": {},
     "output_type": "execute_result"
    }
   ],
   "source": [
    "(im * coim).project_to_target() == phi"
   ]
  },
  {
   "cell_type": "markdown",
   "metadata": {},
   "source": [
    "## Isomorphic HomFGAs"
   ]
  },
  {
   "cell_type": "markdown",
   "metadata": {},
   "source": [
    "Two HomFGAs $\\phi$ and $\\psi$ are isomorphic iff they generate isomorphic groups. This is calculated as such:\n",
    "\n",
    "* Trivial groups are removed\n",
    "* The monomorphisms $\\operatorname{im}(\\phi): G_1 \\to H_1$ and $\\operatorname{im}(\\psi): G_2 \\to H_2$ are computed\n",
    "* If $G_1 \\cong G_2$, i.e. the source of the images are isomorphic, then $\\phi$ and $\\psi$ are isomorphic"
   ]
  },
  {
   "cell_type": "code",
   "execution_count": 17,
   "metadata": {},
   "outputs": [
    {
     "data": {
      "text/latex": [
       "$$\\begin{pmatrix}2\\end{pmatrix}:\\mathbb{Z} \\to \\mathbb{Z}$$"
      ],
      "text/plain": [
       "<IPython.core.display.Math object>"
      ]
     },
     "metadata": {},
     "output_type": "display_data"
    },
    {
     "data": {
      "text/latex": [
       "$$\\begin{pmatrix}1\\end{pmatrix}:\\mathbb{Z} \\to \\mathbb{Z}$$"
      ],
      "text/plain": [
       "<IPython.core.display.Math object>"
      ]
     },
     "metadata": {},
     "output_type": "display_data"
    },
    {
     "name": "stdout",
     "output_type": "stream",
     "text": [
      "True\n"
     ]
    }
   ],
   "source": [
    "phi = HomFGA([2]) # Generates 2Z\n",
    "psi = HomFGA([1]) # Generates Z\n",
    "\n",
    "show(phi)\n",
    "show(psi)\n",
    "\n",
    "print(phi.isomorphic(psi))"
   ]
  }
 ],
 "metadata": {
  "kernelspec": {
   "display_name": "Python [conda env:abelian]",
   "language": "python",
   "name": "conda-env-abelian-py"
  },
  "language_info": {
   "codemirror_mode": {
    "name": "ipython",
    "version": 3
   },
   "file_extension": ".py",
   "mimetype": "text/x-python",
   "name": "python",
   "nbconvert_exporter": "python",
   "pygments_lexer": "ipython3",
   "version": "3.6.2"
  }
 },
 "nbformat": 4,
 "nbformat_minor": 2
}
