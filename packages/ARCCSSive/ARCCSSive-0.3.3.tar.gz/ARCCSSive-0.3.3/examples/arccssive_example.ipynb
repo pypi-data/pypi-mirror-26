{
 "cells": [
  {
   "cell_type": "code",
   "execution_count": 6,
   "metadata": {
    "collapsed": true
   },
   "outputs": [],
   "source": [
    "from ARCCSSive import CMIP5"
   ]
  },
  {
   "cell_type": "code",
   "execution_count": 7,
   "metadata": {
    "collapsed": false
   },
   "outputs": [],
   "source": [
    "db=CMIP5.connect()"
   ]
  },
  {
   "cell_type": "markdown",
   "metadata": {},
   "source": [
    "Pass to the session \"outputs\" method some arguments to search for data"
   ]
  },
  {
   "cell_type": "code",
   "execution_count": 9,
   "metadata": {
    "collapsed": true
   },
   "outputs": [],
   "source": [
    "results = db.outputs(experiment='historical',mip='day')"
   ]
  },
  {
   "cell_type": "markdown",
   "metadata": {},
   "source": [
    "The \"outputs\" method returns the corresponding rows from the Instance table as result.\n",
    "We use the count() method to check how many Instances we got back"
   ]
  },
  {
   "cell_type": "code",
   "execution_count": 10,
   "metadata": {
    "collapsed": false
   },
   "outputs": [
    {
     "data": {
      "text/plain": [
       "2734"
      ]
     },
     "execution_count": 10,
     "metadata": {},
     "output_type": "execute_result"
    }
   ],
   "source": [
    "results.count()"
   ]
  },
  {
   "cell_type": "markdown",
   "metadata": {},
   "source": [
    "NB the search is very fast no matter how many rows we get back or how many fields we use as arguments. This is because we are not actually accessing the instance objects yet."
   ]
  },
  {
   "cell_type": "code",
   "execution_count": 11,
   "metadata": {
    "collapsed": false
   },
   "outputs": [
    {
     "data": {
      "text/plain": [
       "1"
      ]
     },
     "execution_count": 11,
     "metadata": {},
     "output_type": "execute_result"
    }
   ],
   "source": [
    "results = db.outputs(experiment='rcp45',model='CNRM-CM5',mip='Amon',variable='tas', ensemble='r1i1p1')\n",
    "results.count()"
   ]
  },
  {
   "cell_type": "markdown",
   "metadata": {},
   "source": [
    "We loop through the result object to find out the available versions and other Instance fields"
   ]
  },
  {
   "cell_type": "code",
   "execution_count": 12,
   "metadata": {
    "collapsed": false
   },
   "outputs": [
    {
     "name": "stdout",
     "output_type": "stream",
     "text": [
      "Available versions for ensemble r1i1p1\n",
      "\n",
      "v20111006 from /g/data/ua6/unofficial-ESG-replica/tmp/tree/pcmdi9.llnl.gov/thredds/fileServer/cmip5_data/cmip5/output1/CNRM-CERFACS/CNRM-CM5/rcp45/mon/atmos/Amon/r1i1p1/tas/1\n",
      "\n",
      "v20111006 from /g/data/ua6/unofficial-ESG-replica/tmp/tree/esg.cnrm-game-meteo.fr/thredds/fileServer/esg_dataroot1/CMIP5/output/CNRM-CERFACS/CNRM-CM5/rcp45/mon/atmos/tas/r1i1p1\n",
      "\n",
      "v20111006 from /g/data/ua6/unofficial-ESG-replica/tmp/tree/esg.cnrm-game-meteo.fr/thredds/fileServer/esg_dataroot1/CMIP5/output1/CNRM-CERFACS/CNRM-CM5/rcp45/mon/atmos/Amon/r1i1p1/v20111006/tas\n",
      "\n",
      "drstree path is /g/data1/r87/DRSv2/CMIP5/CNRM-CM5/rcp45/mon/atmos/r1i1p1/tas/latest\n"
     ]
    }
   ],
   "source": [
    "for o in results:\n",
    "    print(\"Available versions for ensemble \" + str(o.ensemble))\n",
    "    print(\"\")\n",
    "    for v in o.versions: \n",
    "        print(str(v.version) + \" from \" + str(v.path))\n",
    "        print(\"\")\n",
    "    print(\"drstree path is \" + str(o.drstree_path()))"
   ]
  },
  {
   "cell_type": "markdown",
   "metadata": {},
   "source": [
    "Another search this time without specifying the model"
   ]
  },
  {
   "cell_type": "code",
   "execution_count": 13,
   "metadata": {
    "collapsed": false
   },
   "outputs": [
    {
     "data": {
      "text/plain": [
       "106"
      ]
     },
     "execution_count": 13,
     "metadata": {},
     "output_type": "execute_result"
    }
   ],
   "source": [
    "results = db.outputs(experiment='rcp45',mip='Amon',variable='clt')\n",
    "results.count()"
   ]
  },
  {
   "cell_type": "markdown",
   "metadata": {},
   "source": [
    "Which models?"
   ]
  },
  {
   "cell_type": "code",
   "execution_count": 14,
   "metadata": {
    "collapsed": true
   },
   "outputs": [],
   "source": [
    "models=set()"
   ]
  },
  {
   "cell_type": "code",
   "execution_count": 15,
   "metadata": {
    "collapsed": false
   },
   "outputs": [],
   "source": [
    "for o in results:\n",
    "    models.add(str(o.model))"
   ]
  },
  {
   "cell_type": "code",
   "execution_count": 16,
   "metadata": {
    "collapsed": false
   },
   "outputs": [
    {
     "name": "stdout",
     "output_type": "stream",
     "text": [
      "['ACCESS1-0', 'ACCESS1-3', 'BNU-ESM', 'CCSM4', 'CMCC-CM', 'CMCC-CMS', 'CNRM-CM5', 'CSIRO-Mk3-6-0', 'CSIRO-Mk3L-1-2', 'CanESM2', 'EC-EARTH', 'FGOALS-g2', 'FIO-ESM', 'GFDL-CM3', 'GFDL-ESM2G', 'GISS-E2-H', 'GISS-E2-H-CC', 'GISS-E2-R', 'GISS-E2-R-CC', 'HadCM3', 'HadGEM2-AO', 'HadGEM2-CC', 'HadGEM2-ES', 'IPSL-CM5A-LR', 'IPSL-CM5A-MR', 'IPSL-CM5B-LR', 'MIROC-ESM', 'MIROC-ESM-CHEM', 'MIROC4h', 'MIROC5', 'MPI-ESM-LR', 'MPI-ESM-MR', 'MRI-CGCM3', 'NorESM1-M', 'inmcm4']\n"
     ]
    }
   ],
   "source": [
    "print(sorted(models))"
   ]
  },
  {
   "cell_type": "code",
   "execution_count": 18,
   "metadata": {
    "collapsed": false
   },
   "outputs": [],
   "source": [
    "from ARCCSSive.CMIP5.Model import Instance, Version"
   ]
  },
  {
   "cell_type": "code",
   "execution_count": 19,
   "metadata": {
    "collapsed": false
   },
   "outputs": [],
   "source": [
    "new_results=results.filter(Instance.model=='MIROC5').filter(Version.path.contains(\"/data1\"))"
   ]
  },
  {
   "cell_type": "code",
   "execution_count": 20,
   "metadata": {
    "collapsed": false
   },
   "outputs": [
    {
     "name": "stdout",
     "output_type": "stream",
     "text": [
      "(u'v20111202', 'is latest? ', False, 'last checked on', u'15/04/2016')\n",
      "\n",
      "(u'v20120710', 'is latest? ', None, 'last checked on', None)\n",
      "\n",
      "Latest available version on raijin is\n",
      "\n",
      "/g/data/ua6/unofficial-ESG-replica/tmp/tree/aims3.llnl.gov/thredds/fileServer/cmip5_css02_data/cmip5/output1/MIROC/MIROC5/rcp45/mon/atmos/Amon/r3i1p1/clt/1\n",
      "\n",
      "[u'clt_Amon_MIROC5_rcp45_r3i1p1_200601-210012.nc']\n",
      "\n",
      "(u'clt_Amon_MIROC5_rcp45_r3i1p1_200601-210012.nc', u'5fb250da-24ac-4d8f-87f7-9d629a78a049')\n",
      "\n",
      "(u'v20110801', 'is latest? ', False, 'last checked on', u'15/04/2016')\n",
      "\n",
      "(u'v20120710', 'is latest? ', None, 'last checked on', None)\n",
      "\n",
      "Latest available version on raijin is\n",
      "\n",
      "/g/data/ua6/unofficial-ESG-replica/tmp/tree/aims3.llnl.gov/thredds/fileServer/cmip5_css02_data/cmip5/output1/MIROC/MIROC5/rcp45/mon/atmos/Amon/r1i1p1/clt/1\n",
      "\n",
      "[u'clt_Amon_MIROC5_rcp45_r1i1p1_200601-210012.nc']\n",
      "\n",
      "(u'clt_Amon_MIROC5_rcp45_r1i1p1_200601-210012.nc', u'52e0391e-d08f-4f05-9b05-aea803b277d7')\n",
      "\n",
      "(u'v20120710', 'is latest? ', None, 'last checked on', None)\n",
      "\n",
      "Latest available version on raijin is\n",
      "\n",
      "/g/data/ua6/unofficial-ESG-replica/tmp/tree/aims3.llnl.gov/thredds/fileServer/cmip5_css02_data/cmip5/output1/MIROC/MIROC5/rcp45/mon/atmos/Amon/r2i1p1/clt/1\n",
      "\n",
      "[u'clt_Amon_MIROC5_rcp45_r2i1p1_200601-210012.nc']\n",
      "\n",
      "(u'clt_Amon_MIROC5_rcp45_r2i1p1_200601-210012.nc', u'0495b62b-6394-45d6-a1d6-6fd44c529115')\n",
      "\n"
     ]
    }
   ],
   "source": [
    "for o in new_results:\n",
    "    for v in o.versions:\n",
    "        print(v.version,\"is latest? \",v.is_latest,\"last checked on\",v.checked_on)\n",
    "        print(\"\")\n",
    "        if v==o.latest()[0]:\n",
    "            print(\"Latest available version on raijin is\")\n",
    "            print(\"\")\n",
    "            print(v.path)\n",
    "            print(\"\")\n",
    "            print(v.filenames())\n",
    "            print(\"\")\n",
    "            f=v.files[0]\n",
    "            print(f.filename,f.tracking_id)\n",
    "            print(\"\")\n",
    "                "
   ]
  },
  {
   "cell_type": "code",
   "execution_count": null,
   "metadata": {
    "collapsed": true
   },
   "outputs": [],
   "source": []
  }
 ],
 "metadata": {
  "kernelspec": {
   "display_name": "Python 2",
   "language": "python",
   "name": "python2"
  },
  "language_info": {
   "codemirror_mode": {
    "name": "ipython",
    "version": 2
   },
   "file_extension": ".py",
   "mimetype": "text/x-python",
   "name": "python",
   "nbconvert_exporter": "python",
   "pygments_lexer": "ipython2",
   "version": "2.7.3"
  }
 },
 "nbformat": 4,
 "nbformat_minor": 0
}
