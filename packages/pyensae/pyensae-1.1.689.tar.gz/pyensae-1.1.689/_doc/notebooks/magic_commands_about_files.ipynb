{
  "cells": [
    {
      "cell_type": "markdown",
      "metadata": {},
      "source": [
        "# Magic commands about files\n",
        "\n",
        "Use of magic commands implemented by *pyensae*."
      ]
    },
    {
      "cell_type": "code",
      "execution_count": 1,
      "metadata": {},
      "outputs": [],
      "source": [
        "%load_ext pyensae\n",
        "from pyensae.sql import Database"
      ]
    },
    {
      "cell_type": "code",
      "execution_count": 2,
      "metadata": {},
      "outputs": [
        {
          "data": {
            "text/html": [
              "<div>\n",
              "<table border=\"1\" class=\"dataframe\">\n",
              "  <thead>\n",
              "    <tr style=\"text-align: right;\">\n",
              "      <th></th>\n",
              "      <th>directory</th>\n",
              "      <th>last_modified</th>\n",
              "      <th>name</th>\n",
              "      <th>size</th>\n",
              "    </tr>\n",
              "  </thead>\n",
              "  <tbody>\n",
              "    <tr>\n",
              "      <th>0</th>\n",
              "      <td>False</td>\n",
              "      <td>2016-11-09 23:35:42.656229</td>\n",
              "      <td>.\\azure_blob_storage.ipynb</td>\n",
              "      <td>33.91 Kb</td>\n",
              "    </tr>\n",
              "    <tr>\n",
              "      <th>1</th>\n",
              "      <td>False</td>\n",
              "      <td>2016-11-09 23:35:42.667238</td>\n",
              "      <td>.\\example_corrplot.ipynb</td>\n",
              "      <td>203.16 Kb</td>\n",
              "    </tr>\n",
              "    <tr>\n",
              "      <th>2</th>\n",
              "      <td>False</td>\n",
              "      <td>2016-11-09 23:35:42.683248</td>\n",
              "      <td>.\\example_of_ssh_client_communication.ipynb</td>\n",
              "      <td>199.06 Kb</td>\n",
              "    </tr>\n",
              "    <tr>\n",
              "      <th>3</th>\n",
              "      <td>False</td>\n",
              "      <td>2016-11-09 23:35:42.695257</td>\n",
              "      <td>.\\folium_map.ipynb</td>\n",
              "      <td>17.60 Kb</td>\n",
              "    </tr>\n",
              "    <tr>\n",
              "      <th>4</th>\n",
              "      <td>False</td>\n",
              "      <td>2017-01-07 18:38:26.725089</td>\n",
              "      <td>.\\magic_commands_about_files.ipynb</td>\n",
              "      <td>15.37 Kb</td>\n",
              "    </tr>\n",
              "    <tr>\n",
              "      <th>5</th>\n",
              "      <td>False</td>\n",
              "      <td>2016-12-28 23:04:00.646329</td>\n",
              "      <td>.\\pyensae_flat2db3.ipynb</td>\n",
              "      <td>72.66 Kb</td>\n",
              "    </tr>\n",
              "    <tr>\n",
              "      <th>6</th>\n",
              "      <td>False</td>\n",
              "      <td>2016-12-28 23:04:00.681589</td>\n",
              "      <td>.\\pyensae_sql_magic.ipynb</td>\n",
              "      <td>71.64 Kb</td>\n",
              "    </tr>\n",
              "    <tr>\n",
              "      <th>7</th>\n",
              "      <td>False</td>\n",
              "      <td>2016-11-09 23:35:42.728279</td>\n",
              "      <td>.\\pyensae_StockPrices.ipynb</td>\n",
              "      <td>488.76 Kb</td>\n",
              "    </tr>\n",
              "    <tr>\n",
              "      <th>8</th>\n",
              "      <td>False</td>\n",
              "      <td>2016-12-28 23:04:00.747517</td>\n",
              "      <td>.\\pyensae_text2table.ipynb</td>\n",
              "      <td>25.68 Kb</td>\n",
              "    </tr>\n",
              "    <tr>\n",
              "      <th>9</th>\n",
              "      <td>False</td>\n",
              "      <td>2016-11-09 23:35:42.770842</td>\n",
              "      <td>.\\pyensae_velib.ipynb</td>\n",
              "      <td>300.54 Kb</td>\n",
              "    </tr>\n",
              "    <tr>\n",
              "      <th>10</th>\n",
              "      <td>False</td>\n",
              "      <td>2016-11-09 23:35:42.778852</td>\n",
              "      <td>.\\python_hadoop_pig.ipynb</td>\n",
              "      <td>57.73 Kb</td>\n",
              "    </tr>\n",
              "    <tr>\n",
              "      <th>11</th>\n",
              "      <td>False</td>\n",
              "      <td>2016-11-09 23:35:42.784856</td>\n",
              "      <td>.\\using_qgrid_with_jsdf.ipynb</td>\n",
              "      <td>6.71 Kb</td>\n",
              "    </tr>\n",
              "    <tr>\n",
              "      <th>12</th>\n",
              "      <td>False</td>\n",
              "      <td>2016-12-28 23:04:00.827547</td>\n",
              "      <td>.\\view_differences.ipynb</td>\n",
              "      <td>49.39 Kb</td>\n",
              "    </tr>\n",
              "    <tr>\n",
              "      <th>13</th>\n",
              "      <td>False</td>\n",
              "      <td>2016-12-28 23:04:00.838553</td>\n",
              "      <td>.\\.ipynb_checkpoints\\magic_commands_about_file...</td>\n",
              "      <td>26.17 Kb</td>\n",
              "    </tr>\n",
              "    <tr>\n",
              "      <th>14</th>\n",
              "      <td>False</td>\n",
              "      <td>2016-12-28 23:04:00.915596</td>\n",
              "      <td>.\\.ipynb_checkpoints\\pyensae_flat2db3-checkpoi...</td>\n",
              "      <td>72.66 Kb</td>\n",
              "    </tr>\n",
              "    <tr>\n",
              "      <th>15</th>\n",
              "      <td>False</td>\n",
              "      <td>2016-12-28 23:04:00.931221</td>\n",
              "      <td>.\\.ipynb_checkpoints\\pyensae_sql_magic-checkpo...</td>\n",
              "      <td>71.64 Kb</td>\n",
              "    </tr>\n",
              "    <tr>\n",
              "      <th>16</th>\n",
              "      <td>False</td>\n",
              "      <td>2016-12-28 23:04:00.961358</td>\n",
              "      <td>.\\.ipynb_checkpoints\\pyensae_text2table-checkp...</td>\n",
              "      <td>25.68 Kb</td>\n",
              "    </tr>\n",
              "    <tr>\n",
              "      <th>17</th>\n",
              "      <td>False</td>\n",
              "      <td>2016-12-28 23:04:00.984509</td>\n",
              "      <td>.\\.ipynb_checkpoints\\view_differences-checkpoi...</td>\n",
              "      <td>49.39 Kb</td>\n",
              "    </tr>\n",
              "  </tbody>\n",
              "</table>\n",
              "</div>"
            ],
            "text/plain": [
              "   directory              last_modified  \\\n",
              "0      False 2016-11-09 23:35:42.656229   \n",
              "1      False 2016-11-09 23:35:42.667238   \n",
              "2      False 2016-11-09 23:35:42.683248   \n",
              "3      False 2016-11-09 23:35:42.695257   \n",
              "4      False 2017-01-07 18:38:26.725089   \n",
              "5      False 2016-12-28 23:04:00.646329   \n",
              "6      False 2016-12-28 23:04:00.681589   \n",
              "7      False 2016-11-09 23:35:42.728279   \n",
              "8      False 2016-12-28 23:04:00.747517   \n",
              "9      False 2016-11-09 23:35:42.770842   \n",
              "10     False 2016-11-09 23:35:42.778852   \n",
              "11     False 2016-11-09 23:35:42.784856   \n",
              "12     False 2016-12-28 23:04:00.827547   \n",
              "13     False 2016-12-28 23:04:00.838553   \n",
              "14     False 2016-12-28 23:04:00.915596   \n",
              "15     False 2016-12-28 23:04:00.931221   \n",
              "16     False 2016-12-28 23:04:00.961358   \n",
              "17     False 2016-12-28 23:04:00.984509   \n",
              "\n",
              "                                                 name       size  \n",
              "0                          .\\azure_blob_storage.ipynb   33.91 Kb  \n",
              "1                            .\\example_corrplot.ipynb  203.16 Kb  \n",
              "2         .\\example_of_ssh_client_communication.ipynb  199.06 Kb  \n",
              "3                                  .\\folium_map.ipynb   17.60 Kb  \n",
              "4                  .\\magic_commands_about_files.ipynb   15.37 Kb  \n",
              "5                            .\\pyensae_flat2db3.ipynb   72.66 Kb  \n",
              "6                           .\\pyensae_sql_magic.ipynb   71.64 Kb  \n",
              "7                         .\\pyensae_StockPrices.ipynb  488.76 Kb  \n",
              "8                          .\\pyensae_text2table.ipynb   25.68 Kb  \n",
              "9                               .\\pyensae_velib.ipynb  300.54 Kb  \n",
              "10                          .\\python_hadoop_pig.ipynb   57.73 Kb  \n",
              "11                      .\\using_qgrid_with_jsdf.ipynb    6.71 Kb  \n",
              "12                           .\\view_differences.ipynb   49.39 Kb  \n",
              "13  .\\.ipynb_checkpoints\\magic_commands_about_file...   26.17 Kb  \n",
              "14  .\\.ipynb_checkpoints\\pyensae_flat2db3-checkpoi...   72.66 Kb  \n",
              "15  .\\.ipynb_checkpoints\\pyensae_sql_magic-checkpo...   71.64 Kb  \n",
              "16  .\\.ipynb_checkpoints\\pyensae_text2table-checkp...   25.68 Kb  \n",
              "17  .\\.ipynb_checkpoints\\view_differences-checkpoi...   49.39 Kb  "
            ]
          },
          "execution_count": 3,
          "metadata": {},
          "output_type": "execute_result"
        }
      ],
      "source": [
        "%lsr .*[.]ipynb"
      ]
    },
    {
      "cell_type": "code",
      "execution_count": 3,
      "metadata": {},
      "outputs": [
        {
          "name": "stdout",
          "output_type": "stream",
          "text": [
            "usage: head [-h] [-n N] [-r] [-e ENCODING] [-s ERRORS] f\n",
            "\n",
            "display the first lines of a text file\n",
            "\n",
            "positional arguments:\n",
            "  f                     filename\n",
            "\n",
            "optional arguments:\n",
            "  -h, --help            show this help message and exit\n",
            "  -n N, --n N           number of lines to display\n",
            "  -r, --raw             display raw text instead of HTML\n",
            "  -e ENCODING, --encoding ENCODING\n",
            "                        file encoding\n",
            "  -s ERRORS, --errors ERRORS\n",
            "                        What about errors: \"\", strict, replace,\n",
            "                        surrogateescape, xmlcharrefreplace, backslashreplace,\n",
            "                        namereplace\n",
            "usage: head [-h] [-n N] [-r] [-e ENCODING] [-s ERRORS] f\n",
            "\n"
          ]
        }
      ],
      "source": [
        "%head --help"
      ]
    },
    {
      "cell_type": "code",
      "execution_count": 4,
      "metadata": {},
      "outputs": [
        {
          "data": {
            "text/html": [
              "<?xml version=\"1.0\" encoding=\"unicode\" ?>\n",
              "<!DOCTYPE html PUBLIC \"-//W3C//DTD XHTML 1.0 Transitional//EN\" \"http://www.w3.org/TR/xhtml1/DTD/xhtml1-transitional.dtd\">\n",
              "<html xmlns=\"http://www.w3.org/1999/xhtml\" xml:lang=\"en\" lang=\"en\">\n",
              "<head>\n",
              "<meta http-equiv=\"Content-Type\" content=\"text/html; charset=unicode\" />\n",
              "<meta name=\"generator\" content=\"Docutils 0.12: http://docutils.sourceforge.net/\" />\n",
              "<title></title>\n",
              "<link rel=\"stylesheet\" href=\"c:/python35_x64/lib/site-packages/docutils/writers/html4css1/html4css1.css\" type=\"text/css\" />\n",
              "</head>\n",
              "<body>\n",
              "<div class=\"document\">\n",
              "<p>constructor</p>\n",
              "<table class=\"docutils field-list\" frame=\"void\" rules=\"none\">\n",
              "<col class=\"field-name\" />\n",
              "<col class=\"field-body\" />\n",
              "<tbody valign=\"top\">\n",
              "<tr class=\"field-odd field\"><th class=\"field-name\" colspan=\"2\">param      dbfile:</th></tr>\n",
              "<tr class=\"field-odd field\"><td>&nbsp;</td><td class=\"field-body\"><p class=\"first\">database file (use <code class=\"docutils literal\"><span class=\"pre\">:memory:</span></code> to avoid creating a file and using only memory)\n",
              "it can also contain several files separated by ;:</p>\n",
              "<div class=\"highlight-default\"><div class=\"highlight\"><pre><span></span><span class=\"n\">name_file</span> <span class=\"p\">;</span> <span class=\"n\">nickname</span><span class=\"p\">,</span><span class=\"n\">second_file</span> <span class=\"p\">;</span> <span class=\"o\">...</span>\n",
              "</pre></div>\n",
              "</div>\n",
              "</td>\n",
              "</tr>\n",
              "<tr class=\"field-even field\"><th class=\"field-name\" colspan=\"2\">param      engine:</th></tr>\n",
              "<tr class=\"field-even field\"><td>&nbsp;</td><td class=\"field-body\"><p class=\"first\">SQLite or MySQL (if it is installed)</p>\n",
              "</td>\n",
              "</tr>\n",
              "<tr class=\"field-odd field\"><th class=\"field-name\" colspan=\"2\">param      user:</th></tr>\n",
              "<tr class=\"field-odd field\"><td>&nbsp;</td><td class=\"field-body\"><p class=\"first\">user if needed</p>\n",
              "</td>\n",
              "</tr>\n",
              "<tr class=\"field-even field\"><th class=\"field-name\" colspan=\"2\">param      password:</th></tr>\n",
              "<tr class=\"field-even field\"><td>&nbsp;</td><td class=\"field-body\"><p class=\"first\">password if needed</p>\n",
              "</td>\n",
              "</tr>\n",
              "<tr class=\"field-odd field\"><th class=\"field-name\" colspan=\"2\">param      host:</th></tr>\n",
              "<tr class=\"field-odd field\"><td>&nbsp;</td><td class=\"field-body\"><p class=\"first\">to connect to a MSSQL database</p>\n",
              "</td>\n",
              "</tr>\n",
              "<tr class=\"field-even field\"><th class=\"field-name\">param      LOG:</th><td class=\"field-body\"><p class=\"first\">LOG function</p>\n",
              "</td>\n",
              "</tr>\n",
              "<tr class=\"field-odd field\"><th class=\"field-name\" colspan=\"2\">param      attach:</th></tr>\n",
              "<tr class=\"field-odd field\"><td>&nbsp;</td><td class=\"field-body\"><p class=\"first last\">dictionary: { nickname: filename }, list of database to attach</p>\n",
              "</td>\n",
              "</tr>\n",
              "</tbody>\n",
              "</table>\n",
              "<div class=\"warning admonition\">\n",
              "<p class=\"first admonition-title\">Warning</p>\n",
              "<p class=\"last\">If the folder does not exist, it will be created</p>\n",
              "</div>\n",
              "<p></p>\n",
              "</div>\n",
              "</body>\n",
              "</html>\n"
            ],
            "text/plain": [
              "<IPython.core.display.HTML object>"
            ]
          },
          "execution_count": 5,
          "metadata": {},
          "output_type": "execute_result"
        }
      ],
      "source": [
        "%hhelp Database.__init__"
      ]
    },
    {
      "cell_type": "code",
      "execution_count": 5,
      "metadata": {},
      "outputs": [
        {
          "name": "stdout",
          "output_type": "stream",
          "text": [
            "\n",
            "        constructor\n",
            "\n",
            "        @param      dbfile          database file (use ``:memory:`` to avoid creating a file and using only memory)\n",
            "                                    it can also contain several files separated by ;\n",
            "                                        @code\n",
            "                                        name_file ; nickname,second_file ; ...\n",
            "                                        @endcode\n",
            "        @param      engine          SQLite or MySQL (if it is installed)\n",
            "        @param      user            user if needed\n",
            "        @param      password        password if needed\n",
            "        @param      host            to connect to a MSSQL database\n",
            "        @param      LOG             LOG function\n",
            "        @param      attach          dictionary: { nickname: filename }, list of database to attach\n",
            "\n",
            "        @warning If the folder does not exist, it will be created\n",
            "        \n"
          ]
        }
      ],
      "source": [
        "%hhelp -f text Database.__init__"
      ]
    },
    {
      "cell_type": "code",
      "execution_count": 6,
      "metadata": {},
      "outputs": [
        {
          "data": {
            "text/plain": [
              "\"{'confidence': 1.0, 'encoding': 'ascii'}\""
            ]
          },
          "execution_count": 7,
          "metadata": {},
          "output_type": "execute_result"
        }
      ],
      "source": [
        "%encoding pyensae_sql_magic.ipynb"
      ]
    },
    {
      "cell_type": "code",
      "execution_count": 7,
      "metadata": {
        "collapsed": true
      },
      "outputs": [],
      "source": []
    }
  ],
  "metadata": {
    "kernelspec": {
      "display_name": "Python 3",
      "language": "python",
      "name": "python3"
    },
    "language_info": {
      "codemirror_mode": {
        "name": "ipython",
        "version": 3
      },
      "file_extension": ".py",
      "mimetype": "text/x-python",
      "name": "python",
      "nbconvert_exporter": "python",
      "pygments_lexer": "ipython3",
      "version": "3.6.1"
    }
  },
  "nbformat": 4,
  "nbformat_minor": 1
}