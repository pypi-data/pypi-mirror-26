{
  "cells": [
    {
      "cell_type": "markdown",
      "metadata": {},
      "source": [
        "# SQL Magic Commands with SQLite in a Notebook\n",
        "\n",
        "SQL from a notebooks, using magic commands to query a *sqllite3* database."
      ]
    },
    {
      "cell_type": "code",
      "execution_count": 1,
      "metadata": {
        "collapsed": true
      },
      "outputs": [],
      "source": [
        "%matplotlib inline\n",
        "import matplotlib.pyplot as plt\n",
        "plt.style.use('ggplot')"
      ]
    },
    {
      "cell_type": "markdown",
      "metadata": {},
      "source": [
        "This notebook introduced some of the magic commands used to easily query a SQLite database with [sqlite3](https://docs.python.org/3.4/library/sqlite3.html). SQLite databases can be easily manipulated with open source tools such as [SQLite Manager](https://addons.mozilla.org/fr/firefox/addon/sqlite-manager/) (add-on for [firefox](https://www.mozilla.org/)) or [SQLiteSpy](http://www.yunqa.de/delphi/doku.php/products/sqlitespy/index) (only on Windows). However, it is very convenient to put the results of a SQL query into a [DataFrame](http://pandas.pydata.org/pandas-docs/dev/generated/pandas.DataFrame.html). That what's this notebook is about.\n",
        "\n",
        "Let's start by importing some data."
      ]
    },
    {
      "cell_type": "code",
      "execution_count": 2,
      "metadata": {},
      "outputs": [
        {
          "data": {
            "text/plain": [
              "['.\\\\velib_vanves.txt']"
            ]
          },
          "execution_count": 3,
          "metadata": {},
          "output_type": "execute_result"
        }
      ],
      "source": [
        "import pyensae\n",
        "%load_ext pyensae\n",
        "pyensae.download_data(\"velib_vanves.zip\", website = \"xd\")"
      ]
    },
    {
      "cell_type": "code",
      "execution_count": 3,
      "metadata": {
        "collapsed": true
      },
      "outputs": [],
      "source": [
        "import os\n",
        "if os.path.exists(\"notebook_example.db3\"):\n",
        "    os.remove(\"notebook_example.db3\")"
      ]
    },
    {
      "cell_type": "markdown",
      "metadata": {},
      "source": [
        "We connect to the database:"
      ]
    },
    {
      "cell_type": "code",
      "execution_count": 4,
      "metadata": {},
      "outputs": [
        {
          "data": {
            "text/plain": [
              "<pyensae.sql.sql_interface_database.InterfaceSQLDatabase at 0x225e8b6eef0>"
            ]
          },
          "execution_count": 5,
          "metadata": {},
          "output_type": "execute_result"
        }
      ],
      "source": [
        "%SQL_connect notebook_example.db3"
      ]
    },
    {
      "cell_type": "markdown",
      "metadata": {},
      "source": [
        "The database is empty so the table list should be empty:"
      ]
    },
    {
      "cell_type": "code",
      "execution_count": 5,
      "metadata": {},
      "outputs": [
        {
          "data": {
            "text/plain": [
              "[]"
            ]
          },
          "execution_count": 6,
          "metadata": {},
          "output_type": "execute_result"
        }
      ],
      "source": [
        "%SQL_tables"
      ]
    },
    {
      "cell_type": "markdown",
      "metadata": {},
      "source": [
        "So we import a flat file (TSV format only) into the database."
      ]
    },
    {
      "cell_type": "code",
      "execution_count": 6,
      "metadata": {},
      "outputs": [
        {
          "data": {
            "text/plain": [
              "9461"
            ]
          },
          "execution_count": 7,
          "metadata": {},
          "output_type": "execute_result"
        }
      ],
      "source": [
        "%SQL_import_tsv -t velib velib_vanves.txt"
      ]
    },
    {
      "cell_type": "markdown",
      "metadata": {},
      "source": [
        "We check there is one more table:"
      ]
    },
    {
      "cell_type": "code",
      "execution_count": 7,
      "metadata": {},
      "outputs": [
        {
          "data": {
            "text/plain": [
              "['velib']"
            ]
          },
          "execution_count": 8,
          "metadata": {},
          "output_type": "execute_result"
        }
      ],
      "source": [
        "%SQL_tables"
      ]
    },
    {
      "cell_type": "markdown",
      "metadata": {},
      "source": [
        "We get the schema of the database:"
      ]
    },
    {
      "cell_type": "code",
      "execution_count": 8,
      "metadata": {},
      "outputs": [
        {
          "data": {
            "text/plain": [
              "{0: ('address', str),\n",
              " 1: ('available_bike_stands', int),\n",
              " 2: ('available_bikes', int),\n",
              " 3: ('banking', int),\n",
              " 4: ('bike_stands', int),\n",
              " 5: ('bonus', int),\n",
              " 6: ('contract_name', str),\n",
              " 7: ('last_update', str),\n",
              " 8: ('lat', str),\n",
              " 9: ('lng', str),\n",
              " 10: ('name', str),\n",
              " 11: ('number', int),\n",
              " 12: ('status', str),\n",
              " 13: ('idr', int)}"
            ]
          },
          "execution_count": 9,
          "metadata": {},
          "output_type": "execute_result"
        }
      ],
      "source": [
        "%SQL_schema velib"
      ]
    },
    {
      "cell_type": "markdown",
      "metadata": {},
      "source": [
        "And we execute the first query:"
      ]
    },
    {
      "cell_type": "code",
      "execution_count": 9,
      "metadata": {},
      "outputs": [
        {
          "data": {
            "text/html": [
              "<div>\n",
              "<style>\n",
              "    .dataframe thead tr:only-child th {\n",
              "        text-align: right;\n",
              "    }\n",
              "\n",
              "    .dataframe thead th {\n",
              "        text-align: left;\n",
              "    }\n",
              "\n",
              "    .dataframe tbody tr th {\n",
              "        vertical-align: top;\n",
              "    }\n",
              "</style>\n",
              "<table border=\"1\" class=\"dataframe\">\n",
              "  <thead>\n",
              "    <tr style=\"text-align: right;\">\n",
              "      <th></th>\n",
              "      <th>MAX(available_bike_stands +available_bikes)</th>\n",
              "    </tr>\n",
              "  </thead>\n",
              "  <tbody>\n",
              "    <tr>\n",
              "      <th>0</th>\n",
              "      <td>71</td>\n",
              "    </tr>\n",
              "  </tbody>\n",
              "</table>\n",
              "</div>"
            ],
            "text/plain": [
              "   MAX(available_bike_stands +available_bikes)\n",
              "0                                           71"
            ]
          },
          "execution_count": 10,
          "metadata": {},
          "output_type": "execute_result"
        }
      ],
      "source": [
        "%%SQL \n",
        "SELECT MAX(available_bike_stands +available_bikes) FROM velib"
      ]
    },
    {
      "cell_type": "markdown",
      "metadata": {},
      "source": [
        "Or another in one row:"
      ]
    },
    {
      "cell_type": "code",
      "execution_count": 10,
      "metadata": {},
      "outputs": [
        {
          "data": {
            "text/html": [
              "<div>\n",
              "<style>\n",
              "    .dataframe thead tr:only-child th {\n",
              "        text-align: right;\n",
              "    }\n",
              "\n",
              "    .dataframe thead th {\n",
              "        text-align: left;\n",
              "    }\n",
              "\n",
              "    .dataframe tbody tr th {\n",
              "        vertical-align: top;\n",
              "    }\n",
              "</style>\n",
              "<table border=\"1\" class=\"dataframe\">\n",
              "  <thead>\n",
              "    <tr style=\"text-align: right;\">\n",
              "      <th></th>\n",
              "      <th>COUNT(*)</th>\n",
              "    </tr>\n",
              "  </thead>\n",
              "  <tbody>\n",
              "    <tr>\n",
              "      <th>0</th>\n",
              "      <td>9461</td>\n",
              "    </tr>\n",
              "  </tbody>\n",
              "</table>\n",
              "</div>"
            ],
            "text/plain": [
              "   COUNT(*)\n",
              "0      9461"
            ]
          },
          "execution_count": 11,
          "metadata": {},
          "output_type": "execute_result"
        }
      ],
      "source": [
        "%SQL -q \"SELECT COUNT(*) FROM velib\""
      ]
    },
    {
      "cell_type": "markdown",
      "metadata": {},
      "source": [
        "We want to draw a random sample out of this table. We ask the database to recognize the following python function (its name cannot contain ``'_'``):"
      ]
    },
    {
      "cell_type": "code",
      "execution_count": 11,
      "metadata": {
        "collapsed": true
      },
      "outputs": [],
      "source": [
        "import random\n",
        "def arandomfunction():\n",
        "    return random.randint(1,100)\n",
        "%SQL_add_function arandomfunction"
      ]
    },
    {
      "cell_type": "markdown",
      "metadata": {},
      "source": [
        "We then execute the following query. Because the first line contains a identifier, the query will only display the shape of the results dataframe and not its content which will be stored in ``df``:"
      ]
    },
    {
      "cell_type": "code",
      "execution_count": 12,
      "metadata": {},
      "outputs": [
        {
          "data": {
            "text/html": [
              "<div>\n",
              "<style>\n",
              "    .dataframe thead tr:only-child th {\n",
              "        text-align: right;\n",
              "    }\n",
              "\n",
              "    .dataframe thead th {\n",
              "        text-align: left;\n",
              "    }\n",
              "\n",
              "    .dataframe tbody tr th {\n",
              "        vertical-align: top;\n",
              "    }\n",
              "</style>\n",
              "<table border=\"1\" class=\"dataframe\">\n",
              "  <thead>\n",
              "    <tr style=\"text-align: right;\">\n",
              "      <th></th>\n",
              "      <th>address</th>\n",
              "      <th>available_bike_stands</th>\n",
              "      <th>available_bikes</th>\n",
              "      <th>banking</th>\n",
              "      <th>bike_stands</th>\n",
              "      <th>bonus</th>\n",
              "      <th>contract_name</th>\n",
              "      <th>last_update</th>\n",
              "      <th>lat</th>\n",
              "      <th>lng</th>\n",
              "      <th>name</th>\n",
              "      <th>number</th>\n",
              "      <th>status</th>\n",
              "      <th>idr</th>\n",
              "      <th>rnd</th>\n",
              "    </tr>\n",
              "  </thead>\n",
              "  <tbody>\n",
              "    <tr>\n",
              "      <th>0</th>\n",
              "      <td>112 RUE VERCINGETORIX - 75014 PARIS</td>\n",
              "      <td>66</td>\n",
              "      <td>1</td>\n",
              "      <td>0</td>\n",
              "      <td>67</td>\n",
              "      <td>0</td>\n",
              "      <td>Paris</td>\n",
              "      <td>15/07/2013 16:40</td>\n",
              "      <td>48,83425925</td>\n",
              "      <td>2,313391647</td>\n",
              "      <td>14029 - GERGOVIE VERCINGETORIX</td>\n",
              "      <td>14029</td>\n",
              "      <td>OPEN</td>\n",
              "      <td>25249</td>\n",
              "      <td>58</td>\n",
              "    </tr>\n",
              "    <tr>\n",
              "      <th>1</th>\n",
              "      <td>112 RUE VERCINGETORIX - 75014 PARIS</td>\n",
              "      <td>53</td>\n",
              "      <td>14</td>\n",
              "      <td>0</td>\n",
              "      <td>67</td>\n",
              "      <td>0</td>\n",
              "      <td>Paris</td>\n",
              "      <td>15/07/2013 22:20</td>\n",
              "      <td>48,83425925</td>\n",
              "      <td>2,313391647</td>\n",
              "      <td>14029 - GERGOVIE VERCINGETORIX</td>\n",
              "      <td>14029</td>\n",
              "      <td>OPEN</td>\n",
              "      <td>108821</td>\n",
              "      <td>76</td>\n",
              "    </tr>\n",
              "    <tr>\n",
              "      <th>2</th>\n",
              "      <td>112 RUE VERCINGETORIX - 75014 PARIS</td>\n",
              "      <td>61</td>\n",
              "      <td>6</td>\n",
              "      <td>0</td>\n",
              "      <td>67</td>\n",
              "      <td>0</td>\n",
              "      <td>Paris</td>\n",
              "      <td>16/07/2013 13:50</td>\n",
              "      <td>48,83425925</td>\n",
              "      <td>2,313391647</td>\n",
              "      <td>14029 - GERGOVIE VERCINGETORIX</td>\n",
              "      <td>14029</td>\n",
              "      <td>OPEN</td>\n",
              "      <td>337415</td>\n",
              "      <td>17</td>\n",
              "    </tr>\n",
              "    <tr>\n",
              "      <th>3</th>\n",
              "      <td>112 RUE VERCINGETORIX - 75014 PARIS</td>\n",
              "      <td>61</td>\n",
              "      <td>6</td>\n",
              "      <td>0</td>\n",
              "      <td>67</td>\n",
              "      <td>0</td>\n",
              "      <td>Paris</td>\n",
              "      <td>16/07/2013 14:15</td>\n",
              "      <td>48,83425925</td>\n",
              "      <td>2,313391647</td>\n",
              "      <td>14029 - GERGOVIE VERCINGETORIX</td>\n",
              "      <td>14029</td>\n",
              "      <td>OPEN</td>\n",
              "      <td>343560</td>\n",
              "      <td>60</td>\n",
              "    </tr>\n",
              "    <tr>\n",
              "      <th>4</th>\n",
              "      <td>112 RUE VERCINGETORIX - 75014 PARIS</td>\n",
              "      <td>61</td>\n",
              "      <td>6</td>\n",
              "      <td>0</td>\n",
              "      <td>67</td>\n",
              "      <td>0</td>\n",
              "      <td>Paris</td>\n",
              "      <td>17/07/2013 04:05</td>\n",
              "      <td>48,83425925</td>\n",
              "      <td>2,313391647</td>\n",
              "      <td>14029 - GERGOVIE VERCINGETORIX</td>\n",
              "      <td>14029</td>\n",
              "      <td>OPEN</td>\n",
              "      <td>547574</td>\n",
              "      <td>20</td>\n",
              "    </tr>\n",
              "    <tr>\n",
              "      <th>5</th>\n",
              "      <td>112 RUE VERCINGETORIX - 75014 PARIS</td>\n",
              "      <td>61</td>\n",
              "      <td>6</td>\n",
              "      <td>0</td>\n",
              "      <td>67</td>\n",
              "      <td>0</td>\n",
              "      <td>Paris</td>\n",
              "      <td>17/07/2013 14:10</td>\n",
              "      <td>48,83425925</td>\n",
              "      <td>2,313391647</td>\n",
              "      <td>14029 - GERGOVIE VERCINGETORIX</td>\n",
              "      <td>14029</td>\n",
              "      <td>OPEN</td>\n",
              "      <td>696283</td>\n",
              "      <td>10</td>\n",
              "    </tr>\n",
              "    <tr>\n",
              "      <th>6</th>\n",
              "      <td>112 RUE VERCINGETORIX - 75014 PARIS</td>\n",
              "      <td>61</td>\n",
              "      <td>6</td>\n",
              "      <td>0</td>\n",
              "      <td>67</td>\n",
              "      <td>0</td>\n",
              "      <td>Paris</td>\n",
              "      <td>18/07/2013 02:05</td>\n",
              "      <td>48,83425925</td>\n",
              "      <td>2,313391647</td>\n",
              "      <td>14029 - GERGOVIE VERCINGETORIX</td>\n",
              "      <td>14029</td>\n",
              "      <td>OPEN</td>\n",
              "      <td>872030</td>\n",
              "      <td>89</td>\n",
              "    </tr>\n",
              "    <tr>\n",
              "      <th>7</th>\n",
              "      <td>112 RUE VERCINGETORIX - 75014 PARIS</td>\n",
              "      <td>61</td>\n",
              "      <td>6</td>\n",
              "      <td>0</td>\n",
              "      <td>67</td>\n",
              "      <td>0</td>\n",
              "      <td>Paris</td>\n",
              "      <td>18/07/2013 03:30</td>\n",
              "      <td>48,83425925</td>\n",
              "      <td>2,313391647</td>\n",
              "      <td>14029 - GERGOVIE VERCINGETORIX</td>\n",
              "      <td>14029</td>\n",
              "      <td>OPEN</td>\n",
              "      <td>892923</td>\n",
              "      <td>8</td>\n",
              "    </tr>\n",
              "    <tr>\n",
              "      <th>8</th>\n",
              "      <td>112 RUE VERCINGETORIX - 75014 PARIS</td>\n",
              "      <td>61</td>\n",
              "      <td>6</td>\n",
              "      <td>0</td>\n",
              "      <td>67</td>\n",
              "      <td>0</td>\n",
              "      <td>Paris</td>\n",
              "      <td>18/07/2013 03:40</td>\n",
              "      <td>48,83425925</td>\n",
              "      <td>2,313391647</td>\n",
              "      <td>14029 - GERGOVIE VERCINGETORIX</td>\n",
              "      <td>14029</td>\n",
              "      <td>OPEN</td>\n",
              "      <td>895381</td>\n",
              "      <td>42</td>\n",
              "    </tr>\n",
              "    <tr>\n",
              "      <th>9</th>\n",
              "      <td>112 RUE VERCINGETORIX - 75014 PARIS</td>\n",
              "      <td>61</td>\n",
              "      <td>6</td>\n",
              "      <td>0</td>\n",
              "      <td>67</td>\n",
              "      <td>0</td>\n",
              "      <td>Paris</td>\n",
              "      <td>18/07/2013 07:45</td>\n",
              "      <td>48,83425925</td>\n",
              "      <td>2,313391647</td>\n",
              "      <td>14029 - GERGOVIE VERCINGETORIX</td>\n",
              "      <td>14029</td>\n",
              "      <td>OPEN</td>\n",
              "      <td>955602</td>\n",
              "      <td>15</td>\n",
              "    </tr>\n",
              "  </tbody>\n",
              "</table>\n",
              "</div>"
            ],
            "text/plain": [
              "                               address  available_bike_stands  \\\n",
              "0  112 RUE VERCINGETORIX - 75014 PARIS                     66   \n",
              "1  112 RUE VERCINGETORIX - 75014 PARIS                     53   \n",
              "2  112 RUE VERCINGETORIX - 75014 PARIS                     61   \n",
              "3  112 RUE VERCINGETORIX - 75014 PARIS                     61   \n",
              "4  112 RUE VERCINGETORIX - 75014 PARIS                     61   \n",
              "5  112 RUE VERCINGETORIX - 75014 PARIS                     61   \n",
              "6  112 RUE VERCINGETORIX - 75014 PARIS                     61   \n",
              "7  112 RUE VERCINGETORIX - 75014 PARIS                     61   \n",
              "8  112 RUE VERCINGETORIX - 75014 PARIS                     61   \n",
              "9  112 RUE VERCINGETORIX - 75014 PARIS                     61   \n",
              "\n",
              "   available_bikes  banking  bike_stands  bonus contract_name  \\\n",
              "0                1        0           67      0         Paris   \n",
              "1               14        0           67      0         Paris   \n",
              "2                6        0           67      0         Paris   \n",
              "3                6        0           67      0         Paris   \n",
              "4                6        0           67      0         Paris   \n",
              "5                6        0           67      0         Paris   \n",
              "6                6        0           67      0         Paris   \n",
              "7                6        0           67      0         Paris   \n",
              "8                6        0           67      0         Paris   \n",
              "9                6        0           67      0         Paris   \n",
              "\n",
              "        last_update          lat          lng                            name  \\\n",
              "0  15/07/2013 16:40  48,83425925  2,313391647  14029 - GERGOVIE VERCINGETORIX   \n",
              "1  15/07/2013 22:20  48,83425925  2,313391647  14029 - GERGOVIE VERCINGETORIX   \n",
              "2  16/07/2013 13:50  48,83425925  2,313391647  14029 - GERGOVIE VERCINGETORIX   \n",
              "3  16/07/2013 14:15  48,83425925  2,313391647  14029 - GERGOVIE VERCINGETORIX   \n",
              "4  17/07/2013 04:05  48,83425925  2,313391647  14029 - GERGOVIE VERCINGETORIX   \n",
              "5  17/07/2013 14:10  48,83425925  2,313391647  14029 - GERGOVIE VERCINGETORIX   \n",
              "6  18/07/2013 02:05  48,83425925  2,313391647  14029 - GERGOVIE VERCINGETORIX   \n",
              "7  18/07/2013 03:30  48,83425925  2,313391647  14029 - GERGOVIE VERCINGETORIX   \n",
              "8  18/07/2013 03:40  48,83425925  2,313391647  14029 - GERGOVIE VERCINGETORIX   \n",
              "9  18/07/2013 07:45  48,83425925  2,313391647  14029 - GERGOVIE VERCINGETORIX   \n",
              "\n",
              "   number status     idr  rnd  \n",
              "0   14029   OPEN   25249   58  \n",
              "1   14029   OPEN  108821   76  \n",
              "2   14029   OPEN  337415   17  \n",
              "3   14029   OPEN  343560   60  \n",
              "4   14029   OPEN  547574   20  \n",
              "5   14029   OPEN  696283   10  \n",
              "6   14029   OPEN  872030   89  \n",
              "7   14029   OPEN  892923    8  \n",
              "8   14029   OPEN  895381   42  \n",
              "9   14029   OPEN  955602   15  "
            ]
          },
          "execution_count": 13,
          "metadata": {},
          "output_type": "execute_result"
        }
      ],
      "source": [
        "%%SQL --df=df\n",
        "SELECT * FROM (\n",
        "    SELECT *,arandomfunction() AS rnd FROM velib)\n",
        "    WHERE rnd==1"
      ]
    },
    {
      "cell_type": "markdown",
      "metadata": {},
      "source": [
        "We look at the head:"
      ]
    },
    {
      "cell_type": "code",
      "execution_count": 13,
      "metadata": {},
      "outputs": [
        {
          "data": {
            "text/html": [
              "<div>\n",
              "<style>\n",
              "    .dataframe thead tr:only-child th {\n",
              "        text-align: right;\n",
              "    }\n",
              "\n",
              "    .dataframe thead th {\n",
              "        text-align: left;\n",
              "    }\n",
              "\n",
              "    .dataframe tbody tr th {\n",
              "        vertical-align: top;\n",
              "    }\n",
              "</style>\n",
              "<table border=\"1\" class=\"dataframe\">\n",
              "  <thead>\n",
              "    <tr style=\"text-align: right;\">\n",
              "      <th></th>\n",
              "      <th>address</th>\n",
              "      <th>available_bike_stands</th>\n",
              "      <th>available_bikes</th>\n",
              "      <th>banking</th>\n",
              "      <th>bike_stands</th>\n",
              "      <th>bonus</th>\n",
              "      <th>contract_name</th>\n",
              "      <th>last_update</th>\n",
              "      <th>lat</th>\n",
              "      <th>lng</th>\n",
              "      <th>name</th>\n",
              "      <th>number</th>\n",
              "      <th>status</th>\n",
              "      <th>idr</th>\n",
              "      <th>rnd</th>\n",
              "    </tr>\n",
              "  </thead>\n",
              "  <tbody>\n",
              "    <tr>\n",
              "      <th>0</th>\n",
              "      <td>112 RUE VERCINGETORIX - 75014 PARIS</td>\n",
              "      <td>66</td>\n",
              "      <td>1</td>\n",
              "      <td>0</td>\n",
              "      <td>67</td>\n",
              "      <td>0</td>\n",
              "      <td>Paris</td>\n",
              "      <td>15/07/2013 16:40</td>\n",
              "      <td>48,83425925</td>\n",
              "      <td>2,313391647</td>\n",
              "      <td>14029 - GERGOVIE VERCINGETORIX</td>\n",
              "      <td>14029</td>\n",
              "      <td>OPEN</td>\n",
              "      <td>25249</td>\n",
              "      <td>58</td>\n",
              "    </tr>\n",
              "    <tr>\n",
              "      <th>1</th>\n",
              "      <td>112 RUE VERCINGETORIX - 75014 PARIS</td>\n",
              "      <td>53</td>\n",
              "      <td>14</td>\n",
              "      <td>0</td>\n",
              "      <td>67</td>\n",
              "      <td>0</td>\n",
              "      <td>Paris</td>\n",
              "      <td>15/07/2013 22:20</td>\n",
              "      <td>48,83425925</td>\n",
              "      <td>2,313391647</td>\n",
              "      <td>14029 - GERGOVIE VERCINGETORIX</td>\n",
              "      <td>14029</td>\n",
              "      <td>OPEN</td>\n",
              "      <td>108821</td>\n",
              "      <td>76</td>\n",
              "    </tr>\n",
              "    <tr>\n",
              "      <th>2</th>\n",
              "      <td>112 RUE VERCINGETORIX - 75014 PARIS</td>\n",
              "      <td>61</td>\n",
              "      <td>6</td>\n",
              "      <td>0</td>\n",
              "      <td>67</td>\n",
              "      <td>0</td>\n",
              "      <td>Paris</td>\n",
              "      <td>16/07/2013 13:50</td>\n",
              "      <td>48,83425925</td>\n",
              "      <td>2,313391647</td>\n",
              "      <td>14029 - GERGOVIE VERCINGETORIX</td>\n",
              "      <td>14029</td>\n",
              "      <td>OPEN</td>\n",
              "      <td>337415</td>\n",
              "      <td>17</td>\n",
              "    </tr>\n",
              "    <tr>\n",
              "      <th>3</th>\n",
              "      <td>112 RUE VERCINGETORIX - 75014 PARIS</td>\n",
              "      <td>61</td>\n",
              "      <td>6</td>\n",
              "      <td>0</td>\n",
              "      <td>67</td>\n",
              "      <td>0</td>\n",
              "      <td>Paris</td>\n",
              "      <td>16/07/2013 14:15</td>\n",
              "      <td>48,83425925</td>\n",
              "      <td>2,313391647</td>\n",
              "      <td>14029 - GERGOVIE VERCINGETORIX</td>\n",
              "      <td>14029</td>\n",
              "      <td>OPEN</td>\n",
              "      <td>343560</td>\n",
              "      <td>60</td>\n",
              "    </tr>\n",
              "    <tr>\n",
              "      <th>4</th>\n",
              "      <td>112 RUE VERCINGETORIX - 75014 PARIS</td>\n",
              "      <td>61</td>\n",
              "      <td>6</td>\n",
              "      <td>0</td>\n",
              "      <td>67</td>\n",
              "      <td>0</td>\n",
              "      <td>Paris</td>\n",
              "      <td>17/07/2013 04:05</td>\n",
              "      <td>48,83425925</td>\n",
              "      <td>2,313391647</td>\n",
              "      <td>14029 - GERGOVIE VERCINGETORIX</td>\n",
              "      <td>14029</td>\n",
              "      <td>OPEN</td>\n",
              "      <td>547574</td>\n",
              "      <td>20</td>\n",
              "    </tr>\n",
              "  </tbody>\n",
              "</table>\n",
              "</div>"
            ],
            "text/plain": [
              "                               address  available_bike_stands  \\\n",
              "0  112 RUE VERCINGETORIX - 75014 PARIS                     66   \n",
              "1  112 RUE VERCINGETORIX - 75014 PARIS                     53   \n",
              "2  112 RUE VERCINGETORIX - 75014 PARIS                     61   \n",
              "3  112 RUE VERCINGETORIX - 75014 PARIS                     61   \n",
              "4  112 RUE VERCINGETORIX - 75014 PARIS                     61   \n",
              "\n",
              "   available_bikes  banking  bike_stands  bonus contract_name  \\\n",
              "0                1        0           67      0         Paris   \n",
              "1               14        0           67      0         Paris   \n",
              "2                6        0           67      0         Paris   \n",
              "3                6        0           67      0         Paris   \n",
              "4                6        0           67      0         Paris   \n",
              "\n",
              "        last_update          lat          lng                            name  \\\n",
              "0  15/07/2013 16:40  48,83425925  2,313391647  14029 - GERGOVIE VERCINGETORIX   \n",
              "1  15/07/2013 22:20  48,83425925  2,313391647  14029 - GERGOVIE VERCINGETORIX   \n",
              "2  16/07/2013 13:50  48,83425925  2,313391647  14029 - GERGOVIE VERCINGETORIX   \n",
              "3  16/07/2013 14:15  48,83425925  2,313391647  14029 - GERGOVIE VERCINGETORIX   \n",
              "4  17/07/2013 04:05  48,83425925  2,313391647  14029 - GERGOVIE VERCINGETORIX   \n",
              "\n",
              "   number status     idr  rnd  \n",
              "0   14029   OPEN   25249   58  \n",
              "1   14029   OPEN  108821   76  \n",
              "2   14029   OPEN  337415   17  \n",
              "3   14029   OPEN  343560   60  \n",
              "4   14029   OPEN  547574   20  "
            ]
          },
          "execution_count": 14,
          "metadata": {},
          "output_type": "execute_result"
        }
      ],
      "source": [
        "df.head()"
      ]
    },
    {
      "cell_type": "markdown",
      "metadata": {},
      "source": [
        "If you into column ``rnd``, you can see that it does not contain the value if was filtered on. It is probably because the python function is evaluated twice. We add this new dataframe to the database:"
      ]
    },
    {
      "cell_type": "code",
      "execution_count": 14,
      "metadata": {},
      "outputs": [
        {
          "data": {
            "text/plain": [
              "86"
            ]
          },
          "execution_count": 15,
          "metadata": {},
          "output_type": "execute_result"
        }
      ],
      "source": [
        "%SQL_import_df -t sample df"
      ]
    },
    {
      "cell_type": "markdown",
      "metadata": {},
      "source": [
        "We check it is part the list of tables:"
      ]
    },
    {
      "cell_type": "code",
      "execution_count": 15,
      "metadata": {},
      "outputs": [
        {
          "data": {
            "text/plain": [
              "['sample', 'velib']"
            ]
          },
          "execution_count": 16,
          "metadata": {},
          "output_type": "execute_result"
        }
      ],
      "source": [
        "%SQL_tables"
      ]
    },
    {
      "cell_type": "markdown",
      "metadata": {},
      "source": [
        "We do some more queries:"
      ]
    },
    {
      "cell_type": "code",
      "execution_count": 16,
      "metadata": {},
      "outputs": [
        {
          "name": "stdout",
          "output_type": "stream",
          "text": [
            "unable to execute a SQL request (1)(file notebook_example.db3)\n",
            "SELECT insample, COUNT(*) AS nb FROM (\n",
            "    SELECT velib.*, sample.idr AS insample \n",
            "    FROM velib OUTER JOIN sample\n",
            "    ON velib.idr == sample.idr\n",
            ")\n",
            "RIGHT and FULL OUTER JOINs are not currently supported\n",
            "'SELECT insample, COUNT(*) AS nb FROM (\n",
            "    SELECT velib.*, sample.idr AS insample \n",
            "    FROM velib OUTER JOIN sample\n",
            "    ON velib.idr == sample.idr\n",
            ")'\n"
          ]
        }
      ],
      "source": [
        "%%SQL\n",
        "\n",
        "SELECT insample, COUNT(*) AS nb FROM (\n",
        "    SELECT velib.*, sample.idr AS insample \n",
        "    FROM velib OUTER JOIN sample\n",
        "    ON velib.idr == sample.idr\n",
        ")"
      ]
    },
    {
      "cell_type": "markdown",
      "metadata": {},
      "source": [
        "We fix it:"
      ]
    },
    {
      "cell_type": "code",
      "execution_count": 17,
      "metadata": {},
      "outputs": [
        {
          "data": {
            "text/html": [
              "<div>\n",
              "<style>\n",
              "    .dataframe thead tr:only-child th {\n",
              "        text-align: right;\n",
              "    }\n",
              "\n",
              "    .dataframe thead th {\n",
              "        text-align: left;\n",
              "    }\n",
              "\n",
              "    .dataframe tbody tr th {\n",
              "        vertical-align: top;\n",
              "    }\n",
              "</style>\n",
              "<table border=\"1\" class=\"dataframe\">\n",
              "  <thead>\n",
              "    <tr style=\"text-align: right;\">\n",
              "      <th></th>\n",
              "      <th>insample</th>\n",
              "      <th>nb</th>\n",
              "    </tr>\n",
              "  </thead>\n",
              "  <tbody>\n",
              "    <tr>\n",
              "      <th>0</th>\n",
              "      <td>0</td>\n",
              "      <td>9375</td>\n",
              "    </tr>\n",
              "    <tr>\n",
              "      <th>1</th>\n",
              "      <td>1</td>\n",
              "      <td>86</td>\n",
              "    </tr>\n",
              "  </tbody>\n",
              "</table>\n",
              "</div>"
            ],
            "text/plain": [
              "   insample    nb\n",
              "0         0  9375\n",
              "1         1    86"
            ]
          },
          "execution_count": 18,
          "metadata": {},
          "output_type": "execute_result"
        }
      ],
      "source": [
        "%%SQL\n",
        "\n",
        "SELECT insample, COUNT(*) AS nb FROM (\n",
        "    SELECT velib.idr, sample.idr is not null insample\n",
        "    FROM velib LEFT OUTER JOIN sample\n",
        "    ON velib.idr == sample.idr\n",
        ") GROUP BY insample"
      ]
    },
    {
      "cell_type": "markdown",
      "metadata": {},
      "source": [
        "Autocompletion also works when the prefix is ``DB.CC.``:"
      ]
    },
    {
      "cell_type": "code",
      "execution_count": 18,
      "metadata": {},
      "outputs": [
        {
          "data": {
            "text/html": [
              "<div>\n",
              "<style>\n",
              "    .dataframe thead tr:only-child th {\n",
              "        text-align: right;\n",
              "    }\n",
              "\n",
              "    .dataframe thead th {\n",
              "        text-align: left;\n",
              "    }\n",
              "\n",
              "    .dataframe tbody tr th {\n",
              "        vertical-align: top;\n",
              "    }\n",
              "</style>\n",
              "<table border=\"1\" class=\"dataframe\">\n",
              "  <thead>\n",
              "    <tr style=\"text-align: right;\">\n",
              "      <th></th>\n",
              "      <th>available_bike_stands</th>\n",
              "      <th>COUNT(*)</th>\n",
              "    </tr>\n",
              "  </thead>\n",
              "  <tbody>\n",
              "    <tr>\n",
              "      <th>0</th>\n",
              "      <td>4</td>\n",
              "      <td>60</td>\n",
              "    </tr>\n",
              "    <tr>\n",
              "      <th>1</th>\n",
              "      <td>5</td>\n",
              "      <td>7</td>\n",
              "    </tr>\n",
              "    <tr>\n",
              "      <th>2</th>\n",
              "      <td>6</td>\n",
              "      <td>7</td>\n",
              "    </tr>\n",
              "    <tr>\n",
              "      <th>3</th>\n",
              "      <td>7</td>\n",
              "      <td>1</td>\n",
              "    </tr>\n",
              "    <tr>\n",
              "      <th>4</th>\n",
              "      <td>8</td>\n",
              "      <td>1</td>\n",
              "    </tr>\n",
              "    <tr>\n",
              "      <th>5</th>\n",
              "      <td>9</td>\n",
              "      <td>4</td>\n",
              "    </tr>\n",
              "    <tr>\n",
              "      <th>6</th>\n",
              "      <td>10</td>\n",
              "      <td>37</td>\n",
              "    </tr>\n",
              "    <tr>\n",
              "      <th>7</th>\n",
              "      <td>11</td>\n",
              "      <td>62</td>\n",
              "    </tr>\n",
              "    <tr>\n",
              "      <th>8</th>\n",
              "      <td>12</td>\n",
              "      <td>53</td>\n",
              "    </tr>\n",
              "    <tr>\n",
              "      <th>9</th>\n",
              "      <td>13</td>\n",
              "      <td>27</td>\n",
              "    </tr>\n",
              "  </tbody>\n",
              "</table>\n",
              "</div>"
            ],
            "text/plain": [
              "   available_bike_stands  COUNT(*)\n",
              "0                      4        60\n",
              "1                      5         7\n",
              "2                      6         7\n",
              "3                      7         1\n",
              "4                      8         1\n",
              "5                      9         4\n",
              "6                     10        37\n",
              "7                     11        62\n",
              "8                     12        53\n",
              "9                     13        27"
            ]
          },
          "execution_count": 19,
          "metadata": {},
          "output_type": "execute_result"
        }
      ],
      "source": [
        "%%SQL --df=dfo\n",
        "SELECT DB.CC.velib.available_bike_stands, COUNT(*) \n",
        "FROM DB.CC.velib \n",
        "GROUP BY DB.CC.velib.available_bike_stands"
      ]
    },
    {
      "cell_type": "code",
      "execution_count": 19,
      "metadata": {},
      "outputs": [
        {
          "data": {
            "text/plain": [
              "(64, 2)"
            ]
          },
          "execution_count": 20,
          "metadata": {},
          "output_type": "execute_result"
        }
      ],
      "source": [
        "dfo.shape"
      ]
    },
    {
      "cell_type": "markdown",
      "metadata": {},
      "source": [
        "The autocompletion looks like:"
      ]
    },
    {
      "cell_type": "code",
      "execution_count": 20,
      "metadata": {},
      "outputs": [
        {
          "data": {
            "image/png": "[encoded data removed]",
            "text/plain": [
              "<IPython.core.display.Image object>"
            ]
          },
          "execution_count": 21,
          "metadata": {},
          "output_type": "execute_result"
        }
      ],
      "source": [
        "from pyquickhelper.helpgen import NbImage\n",
        "NbImage(\"dbcc.png\")"
      ]
    },
    {
      "cell_type": "markdown",
      "metadata": {},
      "source": [
        "We finally draw a graph:"
      ]
    },
    {
      "cell_type": "code",
      "execution_count": 21,
      "metadata": {},
      "outputs": [
        {
          "data": {
            "text/plain": [
              "<matplotlib.axes._subplots.AxesSubplot at 0x225e8fd37f0>"
            ]
          },
          "execution_count": 22,
          "metadata": {},
          "output_type": "execute_result"
        },
        {
          "data": {
            "image/png": "[encoded data removed]",
            "text/plain": [
              "<matplotlib.figure.Figure at 0x225e8fc3320>"
            ]
          },
          "metadata": {},
          "output_type": "display_data"
        }
      ],
      "source": [
        "dfo.plot(x=\"available_bike_stands\", y=\"COUNT(*)\", kind=\"bar\", figsize=(16,4))"
      ]
    },
    {
      "cell_type": "markdown",
      "metadata": {},
      "source": [
        "And we finally close the connection:"
      ]
    },
    {
      "cell_type": "code",
      "execution_count": 22,
      "metadata": {
        "collapsed": true
      },
      "outputs": [],
      "source": [
        "%SQL_close"
      ]
    },
    {
      "cell_type": "markdown",
      "metadata": {},
      "source": [
        "**END**"
      ]
    },
    {
      "cell_type": "code",
      "execution_count": 23,
      "metadata": {
        "collapsed": true
      },
      "outputs": [],
      "source": []
    }
  ],
  "metadata": {
    "kernelspec": {
      "display_name": "Python 3",
      "language": "python",
      "name": "python3"
    },
    "language_info": {
      "codemirror_mode": {
        "name": "ipython",
        "version": 3
      },
      "file_extension": ".py",
      "mimetype": "text/x-python",
      "name": "python",
      "nbconvert_exporter": "python",
      "pygments_lexer": "ipython3",
      "version": "3.6.1"
    }
  },
  "nbformat": 4,
  "nbformat_minor": 1
}