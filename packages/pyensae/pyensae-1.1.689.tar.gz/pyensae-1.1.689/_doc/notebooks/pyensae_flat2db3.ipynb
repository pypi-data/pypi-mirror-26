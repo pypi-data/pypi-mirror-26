{
  "cells": [
    {
      "cell_type": "markdown",
      "metadata": {},
      "source": [
        "# Import a flat file into a SQLite database\n",
        "\n",
        "Importing a flatfile can be done with *pandas*. *pyensae* proposes a function which does so by guessing the schema over the first lines."
      ]
    },
    {
      "cell_type": "code",
      "execution_count": 1,
      "metadata": {},
      "outputs": [
        {
          "data": {
            "text/html": [
              "<b>Plan</b>\n",
              "<div id=\"my_menu_id\">run previous cell, wait for 2 seconds</div>\n",
              "<script>\n",
              "function repeat_indent_string(n){\n",
              "    var a = \"\" ;\n",
              "    for ( ; n > 0 ; --n) {\n",
              "        a += \"    \";\n",
              "    }\n",
              "    return a;\n",
              "}\n",
              "var update_menu_string = function(begin, lfirst, llast, sformat, send) {\n",
              "    var anchors = document.getElementsByClassName(\"section\");\n",
              "    if (anchors.length == 0) {\n",
              "        anchors = document.getElementsByClassName(\"text_cell_render rendered_html\");\n",
              "    }\n",
              "    var i,t;\n",
              "    var text_menu = begin;\n",
              "    var text_memo = \"<pre>\\nlength:\" + anchors.length + \"\\n\";\n",
              "    var ind = \"\";\n",
              "    var memo_level = 1;\n",
              "    var href;\n",
              "    var tags = [];\n",
              "    for (i = 0; i <= llast; i++) {\n",
              "        tags.push(\"h\" + i);\n",
              "    }\n",
              "\n",
              "    for (i = 0; i < anchors.length; i++) {\n",
              "        text_memo += \"**\" + anchors[i].id + \"--\\n\";\n",
              "\n",
              "        var child = null;\n",
              "        for(t = 0; t < tags.length; t++) {\n",
              "            var r = anchors[i].getElementsByTagName(tags[t]);\n",
              "            if (r.length > 0) {\n",
              "child = r[0];\n",
              "break;\n",
              "            }\n",
              "        }\n",
              "        if (child == null){\n",
              "            text_memo += \"null\\n\";\n",
              "            continue;\n",
              "        }\n",
              "\n",
              "        if (anchors[i].hasAttribute(\"id\")) {\n",
              "            // when converted in RST\n",
              "            href = anchors[i].id;\n",
              "            text_memo += \"#1-\" + href;\n",
              "            // passer \u00e0 child suivant (le chercher)\n",
              "        }\n",
              "        else if (child.hasAttribute(\"id\")) {\n",
              "            // in a notebook\n",
              "            href = child.id;\n",
              "            text_memo += \"#2-\" + href;\n",
              "        }\n",
              "        else {\n",
              "            text_memo += \"#3-\" + \"*\" + \"\\n\";\n",
              "            continue;\n",
              "        }\n",
              "        var title = child.textContent;\n",
              "        var level = parseInt(child.tagName.substring(1,2));\n",
              "\n",
              "        text_memo += \"--\" + level + \"?\" + lfirst + \"--\" + title + \"\\n\";\n",
              "\n",
              "        if ((level < lfirst) || (level > llast)) {\n",
              "            continue ;\n",
              "        }\n",
              "        if (title.endsWith('\u00b6')) {\n",
              "            title = title.substring(0,title.length-1).replace(\"<\", \"&lt;\").replace(\">\", \"&gt;\").replace(\"&\", \"&amp;\")\n",
              "        }\n",
              "\n",
              "        if (title.length == 0) {\n",
              "            continue;\n",
              "        }\n",
              "        while (level > memo_level) {\n",
              "            text_menu += \"<ul>\\n\";\n",
              "            memo_level += 1;\n",
              "        }\n",
              "        while (level < memo_level) {\n",
              "            text_menu += \"</ul>\\n\";\n",
              "            memo_level -= 1;\n",
              "        }\n",
              "        text_menu += repeat_indent_string(level-2) + sformat.replace(\"__HREF__\", href).replace(\"__TITLE__\", title);\n",
              "    }\n",
              "    while (1 < memo_level) {\n",
              "        text_menu += \"</ul>\\n\";\n",
              "        memo_level -= 1;\n",
              "    }\n",
              "    text_menu += send;\n",
              "    //text_menu += \"\\n\" + text_memo;\n",
              "    return text_menu;\n",
              "};\n",
              "var update_menu = function() {\n",
              "    var sbegin = \"\";\n",
              "    var sformat = '<li><a href=\"#__HREF__\">__TITLE__</a></li>';\n",
              "    var send = \"\";\n",
              "    var text_menu = update_menu_string(sbegin, 2, 4, sformat, send);\n",
              "    var menu = document.getElementById(\"my_menu_id\");\n",
              "    menu.innerHTML=text_menu;\n",
              "};\n",
              "window.setTimeout(update_menu,2000);\n",
              "            </script>"
            ],
            "text/plain": [
              "<IPython.core.display.HTML object>"
            ]
          },
          "execution_count": 2,
          "metadata": {},
          "output_type": "execute_result"
        }
      ],
      "source": [
        "import pyensae\n",
        "from jyquickhelper import add_notebook_menu\n",
        "add_notebook_menu()"
      ]
    },
    {
      "cell_type": "markdown",
      "metadata": {},
      "source": [
        "### Mix SQLite and DataFrame"
      ]
    },
    {
      "cell_type": "markdown",
      "metadata": {},
      "source": [
        "When a dataset is huge (~3Gb), it takes some time to load it into a DataFrame. It is difficult to look at it in any tool (Python, Excel, ...) One option I usually do is to load it a SQL server if you have one. If you do not, then [SQLite](http://www.sqlite.org/) is the best option. Let's see how it works with a custom datasets."
      ]
    },
    {
      "cell_type": "code",
      "execution_count": 2,
      "metadata": {},
      "outputs": [
        {
          "name": "stdout",
          "output_type": "stream",
          "text": [
            "    downloading of  http://www.xavierdupre.fr/enseignement/complements/velib_vanves.zip  to  velib_vanves.zip\n",
            "    unzipped  velib_vanves.txt  to  .\\velib_vanves.txt\n"
          ]
        },
        {
          "data": {
            "text/plain": [
              "['.\\\\velib_vanves.txt']"
            ]
          },
          "execution_count": 3,
          "metadata": {},
          "output_type": "execute_result"
        }
      ],
      "source": [
        "import pyensae\n",
        "pyensae.download_data(\"velib_vanves.zip\", website = \"xd\")"
      ]
    },
    {
      "cell_type": "markdown",
      "metadata": {},
      "source": [
        "As this file is small (just an example), let's see how it looks like with a DataFrame."
      ]
    },
    {
      "cell_type": "code",
      "execution_count": 3,
      "metadata": {},
      "outputs": [
        {
          "data": {
            "text/html": [
              "<div style=\"max-height:1000px;max-width:1500px;overflow:auto;\">\n",
              "<table border=\"1\" class=\"dataframe\">\n",
              "  <thead>\n",
              "    <tr style=\"text-align: right;\">\n",
              "      <th></th>\n",
              "      <th>address</th>\n",
              "      <th>available_bike_stands</th>\n",
              "      <th>available_bikes</th>\n",
              "      <th>banking</th>\n",
              "      <th>bike_stands</th>\n",
              "      <th>bonus</th>\n",
              "      <th>contract_name</th>\n",
              "      <th>last_update</th>\n",
              "      <th>lat</th>\n",
              "      <th>lng</th>\n",
              "      <th>name</th>\n",
              "      <th>number</th>\n",
              "      <th>status</th>\n",
              "      <th>idr</th>\n",
              "    </tr>\n",
              "  </thead>\n",
              "  <tbody>\n",
              "    <tr>\n",
              "      <th>0</th>\n",
              "      <td> 112 RUE VERCINGETORIX - 75014 PARIS</td>\n",
              "      <td> 65</td>\n",
              "      <td> 2</td>\n",
              "      <td> 0</td>\n",
              "      <td> 67</td>\n",
              "      <td> 0</td>\n",
              "      <td> Paris</td>\n",
              "      <td> 15/07/2013 15:00</td>\n",
              "      <td> 48,83425925</td>\n",
              "      <td> 2,313391647</td>\n",
              "      <td> 14029 - GERGOVIE VERCINGETORIX</td>\n",
              "      <td> 14029</td>\n",
              "      <td> OPEN</td>\n",
              "      <td>  669</td>\n",
              "    </tr>\n",
              "    <tr>\n",
              "      <th>1</th>\n",
              "      <td> 112 RUE VERCINGETORIX - 75014 PARIS</td>\n",
              "      <td> 65</td>\n",
              "      <td> 2</td>\n",
              "      <td> 0</td>\n",
              "      <td> 67</td>\n",
              "      <td> 0</td>\n",
              "      <td> Paris</td>\n",
              "      <td> 15/07/2013 15:05</td>\n",
              "      <td> 48,83425925</td>\n",
              "      <td> 2,313391647</td>\n",
              "      <td> 14029 - GERGOVIE VERCINGETORIX</td>\n",
              "      <td> 14029</td>\n",
              "      <td> OPEN</td>\n",
              "      <td> 1898</td>\n",
              "    </tr>\n",
              "  </tbody>\n",
              "</table>\n",
              "<p>2 rows \u00d7 14 columns</p>\n",
              "</div>"
            ],
            "text/plain": [
              "                               address  available_bike_stands  \\\n",
              "0  112 RUE VERCINGETORIX - 75014 PARIS                     65   \n",
              "1  112 RUE VERCINGETORIX - 75014 PARIS                     65   \n",
              "\n",
              "   available_bikes  banking  bike_stands  bonus contract_name  \\\n",
              "0                2        0           67      0         Paris   \n",
              "1                2        0           67      0         Paris   \n",
              "\n",
              "        last_update          lat          lng                            name  \\\n",
              "0  15/07/2013 15:00  48,83425925  2,313391647  14029 - GERGOVIE VERCINGETORIX   \n",
              "1  15/07/2013 15:05  48,83425925  2,313391647  14029 - GERGOVIE VERCINGETORIX   \n",
              "\n",
              "   number status   idr  \n",
              "0   14029   OPEN   669  \n",
              "1   14029   OPEN  1898  \n",
              "\n",
              "[2 rows x 14 columns]"
            ]
          },
          "execution_count": 4,
          "metadata": {},
          "output_type": "execute_result"
        }
      ],
      "source": [
        "import pandas\n",
        "df = pandas.read_csv(\"velib_vanves.txt\",sep=\"\\t\")\n",
        "df.head(n=2)"
      ]
    },
    {
      "cell_type": "markdown",
      "metadata": {},
      "source": [
        "Then we import it into a SQLite3 database. The following function automatically guesses the table schema."
      ]
    },
    {
      "cell_type": "code",
      "execution_count": 4,
      "metadata": {},
      "outputs": [
        {
          "name": "stdout",
          "output_type": "stream",
          "text": [
            "processing file  velib_vanves.txt\n",
            "  TextFile: opening file  velib_vanves.txt\n",
            "  TextFile: closing file  velib_vanves.txt\n",
            "   swith to str  ('address', (<class 'str'>, 70))  value  112 RUE VERCINGETORIX - 75014 PARIS\n",
            "   swith to str  ('contract_name', (<class 'str'>, 10))  value  Paris\n",
            "   swith to str  ('last_update', (<class 'str'>, 32))  value  15/07/2013 15:00\n",
            "   swith to str  ('lat', (<class 'str'>, 22))  value  48,83425925\n",
            "   swith to str  ('lng', (<class 'str'>, 22))  value  2,313391647\n",
            "   swith to str  ('name', (<class 'str'>, 60))  value  14029 - GERGOVIE VERCINGETORIX\n",
            "   swith to str  ('status', (<class 'str'>, 8))  value  OPEN\n",
            "   guess {0: ('address', (<class 'str'>, 70)), 1: ('available_bike_stands', <class 'int'>), 2: ('available_bikes', <class 'int'>), 3: ('banking', <class 'int'>), 4: ('bike_stands', <class 'int'>), 5: ('bonus', <class 'int'>), 6: ('contract_name', (<class 'str'>, 10)), 7: ('last_update', (<class 'str'>, 32)), 8: ('lat', (<class 'str'>, 22)), 9: ('lng', (<class 'str'>, 22)), 10: ('name', (<class 'str'>, 60)), 11: ('number', <class 'int'>), 12: ('status', (<class 'str'>, 8)), 13: ('idr', <class 'int'>)}\n",
            "columns  {0: ('address', (<class 'str'>, 70)), 1: ('available_bike_stands', <class 'int'>), 2: ('available_bikes', <class 'int'>), 3: ('banking', <class 'int'>), 4: ('bike_stands', <class 'int'>), 5: ('bonus', <class 'int'>), 6: ('contract_name', (<class 'str'>, 10)), 7: ('last_update', (<class 'str'>, 32)), 8: ('lat', (<class 'str'>, 22)), 9: ('lng', (<class 'str'>, 22)), 10: ('name', (<class 'str'>, 60)), 11: ('number', <class 'int'>), 12: ('status', (<class 'str'>, 8)), 13: ('idr', <class 'int'>), 14: ('key', <class 'int'>, 'PRIMARYKEY', 'AUTOINCREMENT')}\n",
            "SQL  'CREATE TABLE velib_vanves(address TEXT,'\n",
            "'       available_bike_stands INTEGER,'\n",
            "'       available_bikes INTEGER,'\n",
            "'       banking INTEGER,'\n",
            "'       bike_stands INTEGER,'\n",
            "'       bonus INTEGER,'\n",
            "'       contract_name TEXT,'\n",
            "'       last_update TEXT,'\n",
            "'       lat TEXT,'\n",
            "'       lng TEXT,'\n",
            "'       name TEXT,'\n",
            "'       number INTEGER,'\n",
            "'       status TEXT,'\n",
            "'       idr INTEGER,'\n",
            "'       key INTEGER PRIMARY KEY AUTOINCREMENT);'\n",
            "  TextFile: opening file  velib_vanves.txt\n",
            "  TextFile: closing file  velib_vanves.txt\n",
            "9461  lines imported\n"
          ]
        }
      ],
      "source": [
        "from pyensae.sql import import_flatfile_into_database\n",
        "import_flatfile_into_database(\"velib_vanves.db3\", \"velib_vanves.txt\", add_key=\"key\")"
      ]
    },
    {
      "cell_type": "markdown",
      "metadata": {},
      "source": [
        "We check  the database exists:"
      ]
    },
    {
      "cell_type": "code",
      "execution_count": 5,
      "metadata": {},
      "outputs": [
        {
          "data": {
            "text/plain": [
              "['pyensae_flat2db3.ipynb',\n",
              " 'pyensae_StockPrices.ipynb',\n",
              " 'pyensae_velib.ipynb',\n",
              " 'velib_vanves.db3',\n",
              " 'velib_vanves.txt',\n",
              " 'velib_vanves.zip']"
            ]
          },
          "execution_count": 6,
          "metadata": {},
          "output_type": "execute_result"
        }
      ],
      "source": [
        "import os\n",
        "os.listdir(\".\")"
      ]
    },
    {
      "cell_type": "markdown",
      "metadata": {},
      "source": [
        "On Windows, you can use [SQLiteSpy](http://www.yunqa.de/delphi/doku.php/products/sqlitespy/index) to visualize the created table. We use [pymysintall](http://www.xavierdupre.fr/app/pymyinstall/helpsphinx/index.html) to download it."
      ]
    },
    {
      "cell_type": "code",
      "execution_count": 6,
      "metadata": {},
      "outputs": [
        {
          "name": "stdout",
          "output_type": "stream",
          "text": [
            "SQLiteSpy, version  1.9.7\n",
            "download  http://www.yunqa.de/delphi/lib/exe/fetch.php?hash=938481&media=http%3A%2F%2Fwww.yunqa.de%2Fdelphi%2Fdownloads%2FSQLiteSpy_1.9.7.zip\n",
            "len  1828282\n",
            "    unzipped  SQLiteSpy.exe  to  .\\SQLiteSpy.exe\n",
            "    unzipped  World.db3  to  .\\World.db3\n"
          ]
        },
        {
          "data": {
            "text/plain": [
              "'.\\\\SQLiteSpy.exe'"
            ]
          },
          "execution_count": 7,
          "metadata": {},
          "output_type": "execute_result"
        }
      ],
      "source": [
        "from pymyinstall.installcustom import install_sqlitespy\n",
        "try:\n",
        "    exe = install_sqlitespy()\n",
        "except:\n",
        "    # we skip an exception\n",
        "    # the website can be down...\n",
        "    exe = None\n",
        "exe"
      ]
    },
    {
      "cell_type": "markdown",
      "metadata": {},
      "source": [
        "We just need to run it (see [run_cmd](http://www.xavierdupre.fr/app/pyquickhelper/helpsphinx/pyquickhelper/loghelper/flog.html?highlight=run_cmd#loghelper.flog.run_cmd))."
      ]
    },
    {
      "cell_type": "code",
      "execution_count": 7,
      "metadata": {},
      "outputs": [
        {
          "data": {
            "text/plain": [
              "('', '')"
            ]
          },
          "execution_count": 8,
          "metadata": {},
          "output_type": "execute_result"
        }
      ],
      "source": [
        "from pyquickhelper import run_cmd\n",
        "run_cmd(\"SQLiteSpy.exe velib_vanves.db3\")"
      ]
    },
    {
      "cell_type": "markdown",
      "metadata": {},
      "source": [
        "You should be able to see something like:"
      ]
    },
    {
      "cell_type": "code",
      "execution_count": 8,
      "metadata": {},
      "outputs": [
        {
          "data": {
            "image/png": "[encoded data removed]",
            "text/plain": [
              "<IPython.core.display.Image at 0x8caf370>"
            ]
          },
          "execution_count": 9,
          "metadata": {},
          "output_type": "execute_result"
        }
      ],
      "source": [
        "from pyquickhelper.helpgen import NbImage\n",
        "NbImage('img_nb_sqlitespy.png')"
      ]
    },
    {
      "cell_type": "markdown",
      "metadata": {},
      "source": [
        "It is easier to use that tool to extract a sample of the data. Once it is ready, you can execute the SQL query in Python and converts the results into a DataFrame. The following code extracts a random sample from the original sets."
      ]
    },
    {
      "cell_type": "code",
      "execution_count": 9,
      "metadata": {},
      "outputs": [
        {
          "data": {
            "text/html": [
              "<div style=\"max-height:1000px;max-width:1500px;overflow:auto;\">\n",
              "<table border=\"1\" class=\"dataframe\">\n",
              "  <thead>\n",
              "    <tr style=\"text-align: right;\">\n",
              "      <th></th>\n",
              "      <th>key</th>\n",
              "      <th>last_update</th>\n",
              "      <th>available_bike_stands</th>\n",
              "      <th>available_bikes</th>\n",
              "    </tr>\n",
              "  </thead>\n",
              "  <tbody>\n",
              "    <tr>\n",
              "      <th>0</th>\n",
              "      <td>  24</td>\n",
              "      <td> 15/07/2013 16:55</td>\n",
              "      <td> 66</td>\n",
              "      <td>  1</td>\n",
              "    </tr>\n",
              "    <tr>\n",
              "      <th>1</th>\n",
              "      <td>  26</td>\n",
              "      <td> 15/07/2013 17:05</td>\n",
              "      <td> 66</td>\n",
              "      <td>  1</td>\n",
              "    </tr>\n",
              "    <tr>\n",
              "      <th>2</th>\n",
              "      <td> 178</td>\n",
              "      <td> 16/07/2013 05:45</td>\n",
              "      <td> 49</td>\n",
              "      <td> 18</td>\n",
              "    </tr>\n",
              "    <tr>\n",
              "      <th>3</th>\n",
              "      <td> 220</td>\n",
              "      <td> 16/07/2013 09:15</td>\n",
              "      <td> 63</td>\n",
              "      <td>  4</td>\n",
              "    </tr>\n",
              "    <tr>\n",
              "      <th>4</th>\n",
              "      <td> 342</td>\n",
              "      <td> 16/07/2013 19:25</td>\n",
              "      <td> 61</td>\n",
              "      <td>  6</td>\n",
              "    </tr>\n",
              "  </tbody>\n",
              "</table>\n",
              "<p>5 rows \u00d7 4 columns</p>\n",
              "</div>"
            ],
            "text/plain": [
              "   key       last_update  available_bike_stands  available_bikes\n",
              "0   24  15/07/2013 16:55                     66                1\n",
              "1   26  15/07/2013 17:05                     66                1\n",
              "2  178  16/07/2013 05:45                     49               18\n",
              "3  220  16/07/2013 09:15                     63                4\n",
              "4  342  16/07/2013 19:25                     61                6\n",
              "\n",
              "[5 rows x 4 columns]"
            ]
          },
          "execution_count": 10,
          "metadata": {},
          "output_type": "execute_result"
        }
      ],
      "source": [
        "sql = \"\"\"SELECT * FROM velib_vanves WHERE key IN ({0})\"\"\"\n",
        "\n",
        "import random\n",
        "from pyquickhelper.loghelper import noLOG\n",
        "from pyensae.sql import Database\n",
        "db = Database(\"velib_vanves.db3\", LOG = noLOG)\n",
        "db.connect()\n",
        "mx = db.execute_view(\"SELECT MAX(key) FROM velib_vanves\")[0][0]\n",
        "rnd_ids = [ random.randint(1,mx) for i in range(0,100) ]  # liste de 100 id al\u00e9atoires\n",
        "strids  = \",\".join( str(_) for _ in rnd_ids )\n",
        "res = db.execute_view(sql.format (strids))\n",
        "df = db.to_df(sql.format (strids))\n",
        "db.close()\n",
        "df.head()[[\"key\",\"last_update\",\"available_bike_stands\",\"available_bikes\"]]"
      ]
    },
    {
      "cell_type": "markdown",
      "metadata": {},
      "source": [
        "<h3 id=\"mem\">Memory Dump</h3>\n",
        "\n",
        "Once you have a big dataset available in text format, it takes some time to load into memory and you need to do that every time you need it again after you closed your python instance."
      ]
    },
    {
      "cell_type": "code",
      "execution_count": 10,
      "metadata": {},
      "outputs": [
        {
          "data": {
            "text/plain": [
              "474285221"
            ]
          },
          "execution_count": 11,
          "metadata": {},
          "output_type": "execute_result"
        }
      ],
      "source": [
        "with open(\"temp_big_file.txt\",\"w\") as f :\n",
        "    f.write(\"c1\\tc2\\tc3\\n\")\n",
        "    for i in range(0,10000000):\n",
        "        x = [ i, random.random(), random.random() ]\n",
        "        s = [ str(_) for _ in x ]\n",
        "        f.write( \"\\t\".join(s) + \"\\n\" )\n",
        "os.stat(\"temp_big_file.txt\").st_size        "
      ]
    },
    {
      "cell_type": "code",
      "execution_count": 11,
      "metadata": {},
      "outputs": [
        {
          "name": "stdout",
          "output_type": "stream",
          "text": [
            "duration (s) 8.405750774129501\n"
          ]
        }
      ],
      "source": [
        "import pandas,time\n",
        "t = time.clock()\n",
        "df = pandas.read_csv(\"temp_big_file.txt\",sep=\"\\t\")\n",
        "print(\"duration (s)\",time.clock()-t)"
      ]
    },
    {
      "cell_type": "markdown",
      "metadata": {},
      "source": [
        "It is slow considering that many datasets contain many more features. But we can speed it up by doing a kind of memory dump with [to_pickle](http://pandas.pydata.org/pandas-docs/dev/generated/pandas.DataFrame.to_pickle.html)."
      ]
    },
    {
      "cell_type": "code",
      "execution_count": 12,
      "metadata": {},
      "outputs": [
        {
          "name": "stdout",
          "output_type": "stream",
          "text": [
            "duration (s) 2.2846547239112738\n"
          ]
        }
      ],
      "source": [
        "t = time.clock()\n",
        "df.to_pickle(\"temp_big_file.bin\")\n",
        "print(\"duration (s)\",time.clock()-t)"
      ]
    },
    {
      "cell_type": "markdown",
      "metadata": {},
      "source": [
        "And we reload it with [read_pickle](http://pandas.pydata.org/pandas-docs/stable/generated/pandas.io.pickle.read_pickle.html):"
      ]
    },
    {
      "cell_type": "code",
      "execution_count": 13,
      "metadata": {},
      "outputs": [
        {
          "name": "stdout",
          "output_type": "stream",
          "text": [
            "duration (s) 0.7951709542244885\n"
          ]
        }
      ],
      "source": [
        "t = time.clock()\n",
        "df = pandas.read_pickle(\"temp_big_file.bin\")\n",
        "print(\"duration (s)\",time.clock()-t)"
      ]
    },
    {
      "cell_type": "markdown",
      "metadata": {},
      "source": [
        "It is 10 times faster and usually smaller on the disk."
      ]
    },
    {
      "cell_type": "code",
      "execution_count": 14,
      "metadata": {},
      "outputs": [],
      "source": []
    }
  ],
  "metadata": {
    "kernelspec": {
      "display_name": "Python 3",
      "language": "python",
      "name": "python3"
    },
    "language_info": {
      "codemirror_mode": {
        "name": "ipython",
        "version": 3
      },
      "file_extension": ".py",
      "mimetype": "text/x-python",
      "name": "python",
      "nbconvert_exporter": "python",
      "pygments_lexer": "ipython3",
      "version": "3.6.1"
    }
  },
  "nbformat": 4,
  "nbformat_minor": 1
}