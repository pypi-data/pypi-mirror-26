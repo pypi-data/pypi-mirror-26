{
 "cells": [
  {
   "cell_type": "markdown",
   "metadata": {
    "deletable": true,
    "editable": true
   },
   "source": [
    "# Solving the BPDN problem using SPORCO"
   ]
  },
  {
   "cell_type": "markdown",
   "metadata": {
    "deletable": true,
    "editable": true
   },
   "source": [
    "This notebook demonstrates the use of SPORCO to solve the Basis Pursuit DeNoising (BPDN) problem\n",
    "\n",
    "$$\\mathrm{argmin}_\\mathbf{x} \\; (1/2) \\| D \\mathbf{x} - \\mathbf{s} \\|_2^2 + \\lambda \\| \\mathbf{x} \\|_1$$\n",
    "\n",
    "where $D$ is the dictionary, $\\mathbf{x}$ is the sparse representation, and $\\mathbf{s}$ is the signal to be represented. In this example (based on the ``demo_bpdn.py`` example script) the BPDN problem is used to estimate the reference sparse representation that generated a signal from a noisy version of the signal.\n",
    "\n"
   ]
  },
  {
   "cell_type": "markdown",
   "metadata": {
    "collapsed": false,
    "deletable": true,
    "editable": true
   },
   "source": [
    "Import modules and configure matplotlib output to notebook."
   ]
  },
  {
   "cell_type": "code",
   "execution_count": 1,
   "metadata": {
    "collapsed": false,
    "deletable": true,
    "editable": true
   },
   "outputs": [],
   "source": [
    "from __future__ import print_function\n",
    "from builtins import input\n",
    "from builtins import range\n",
    "\n",
    "import numpy as np\n",
    "\n",
    "from sporco import util\n",
    "from sporco import plot\n",
    "from sporco.admm import bpdn\n",
    "\n",
    "%matplotlib inline"
   ]
  },
  {
   "cell_type": "markdown",
   "metadata": {
    "collapsed": true,
    "deletable": true,
    "editable": true
   },
   "source": [
    "Configure problem size, sparsity, and noise level."
   ]
  },
  {
   "cell_type": "code",
   "execution_count": 2,
   "metadata": {
    "collapsed": true,
    "deletable": true,
    "editable": true
   },
   "outputs": [],
   "source": [
    "# Signal and dictionary size\n",
    "N = 512\n",
    "M = 4*N\n",
    "# Number of non-zero coefficients in generator\n",
    "L = 32\n",
    "# Noise level\n",
    "sigma = 0.5"
   ]
  },
  {
   "cell_type": "markdown",
   "metadata": {
    "deletable": true,
    "editable": true
   },
   "source": [
    "Construct random dictionary, reference random sparse representation, and test signal consisting of the synthesis of the reference sparse representation with additive Gaussian noise."
   ]
  },
  {
   "cell_type": "code",
   "execution_count": 3,
   "metadata": {
    "collapsed": true,
    "deletable": true,
    "editable": true
   },
   "outputs": [],
   "source": [
    "# Construct random dictionary and random sparse coefficients\n",
    "np.random.seed(12345)\n",
    "D = np.random.randn(N, M)\n",
    "x0 = np.zeros((M, 1))\n",
    "si = np.random.permutation(list(range(0, M-1)))\n",
    "x0[si[0:L]] = np.random.randn(L, 1)\n",
    "\n",
    "# Construct reference and noisy signal\n",
    "s0 = D.dot(x0)\n",
    "s = s0 + sigma*np.random.randn(N,1)"
   ]
  },
  {
   "cell_type": "markdown",
   "metadata": {
    "deletable": true,
    "editable": true
   },
   "source": [
    "Set BPDN solver class options."
   ]
  },
  {
   "cell_type": "code",
   "execution_count": 4,
   "metadata": {
    "collapsed": true,
    "deletable": true,
    "editable": true
   },
   "outputs": [],
   "source": [
    "# Set BPDN options\n",
    "opt = bpdn.BPDN.Options({'Verbose' : False, 'MaxMainIter' : 500,\n",
    "                    'RelStopTol' : 1e-3, 'AutoRho' : {'RsdlTarget' : 1.0}})"
   ]
  },
  {
   "cell_type": "markdown",
   "metadata": {
    "deletable": true,
    "editable": true
   },
   "source": [
    "Select regularization parameter $\\lambda$ by evaluating the error in recovering the sparse representation over a logarithmicaly spaced grid. (The reference representation is assumed to be known, which is not realistic in a real application.) A function is defined that evalues the BPDN recovery error for a specified $\\lambda$, and this function is evaluated in parallel by ``sporco.util.grid_search``."
   ]
  },
  {
   "cell_type": "code",
   "execution_count": 5,
   "metadata": {
    "collapsed": false,
    "deletable": true,
    "editable": true
   },
   "outputs": [
    {
     "name": "stdout",
     "output_type": "stream",
     "text": [
      "Minimum ℓ1 error:  2.69 at 𝜆 = 2.98e+01\n"
     ]
    }
   ],
   "source": [
    "# Function computing reconstruction error at lmbda\n",
    "def evalerr(prm):\n",
    "    lmbda = prm[0]\n",
    "    b = bpdn.BPDN(D, s, lmbda, opt)\n",
    "    x = b.solve()\n",
    "    return np.sum(np.abs(x-x0))\n",
    "\n",
    "\n",
    "# Parallel evalution of error function on lmbda grid\n",
    "lrng = np.logspace(1, 2, 20)\n",
    "sprm, sfvl, fvmx, sidx = util.grid_search(evalerr, (lrng,))\n",
    "lmbda = sprm[0]\n",
    "\n",
    "print('Minimum ℓ1 error: %5.2f at 𝜆 = %.2e' % (sfvl, lmbda))"
   ]
  },
  {
   "cell_type": "markdown",
   "metadata": {
    "deletable": true,
    "editable": true
   },
   "source": [
    "Plot recovery error against $\\lambda$."
   ]
  },
  {
   "cell_type": "code",
   "execution_count": 6,
   "metadata": {
    "collapsed": false,
    "deletable": true,
    "editable": true
   },
   "outputs": [
    {
     "data": {
      "image/png": "[encoded data removed]",
      "text/plain": [
       "<matplotlib.figure.Figure at 0x7f1ee002bd30>"
      ]
     },
     "metadata": {},
     "output_type": "display_data"
    }
   ],
   "source": [
    "plot.plot(fvmx, x=lrng, ptyp='semilogx', xlbl='$\\lambda$',\n",
    "          ylbl='Error')\n",
    "plot.close()"
   ]
  },
  {
   "cell_type": "markdown",
   "metadata": {
    "deletable": true,
    "editable": true
   },
   "source": [
    "Once the best $\\lambda$ has been determined, run BPDN with verbose display of ADMM iteration statistics."
   ]
  },
  {
   "cell_type": "code",
   "execution_count": 7,
   "metadata": {
    "collapsed": false,
    "deletable": true,
    "editable": true
   },
   "outputs": [
    {
     "name": "stdout",
     "output_type": "stream",
     "text": [
      "Itn   Fnc       DFid      Regℓ1     r         s         ρ         \n",
      "----------------------------------------------------------------\n",
      "   0  2.27e+03  4.58e+02  6.10e+01  3.47e-01  2.80e+00  1.49e+03\n",
      "   1  1.90e+03  2.86e+02  5.42e+01  1.42e-01  8.98e-01  1.49e+03\n",
      "   2  1.70e+03  2.51e+02  4.87e+01  1.03e-01  7.33e-01  1.49e+03\n",
      "   3  1.56e+03  2.21e+02  4.50e+01  7.85e-02  6.49e-01  1.49e+03\n",
      "   4  1.45e+03  2.04e+02  4.20e+01  6.34e-02  5.98e-01  1.49e+03\n",
      "   5  1.36e+03  1.91e+02  3.94e+01  5.30e-02  5.63e-01  1.49e+03\n",
      "   6  1.29e+03  1.83e+02  3.71e+01  4.51e-02  5.36e-01  1.49e+03\n",
      "   7  1.22e+03  1.73e+02  3.52e+01  3.92e-02  5.14e-01  1.49e+03\n",
      "   8  1.16e+03  1.64e+02  3.36e+01  3.42e-02  4.91e-01  1.49e+03\n",
      "   9  1.11e+03  1.55e+02  3.22e+01  3.03e-02  4.71e-01  1.49e+03\n",
      "  10  9.59e+02  1.16e+02  2.83e+01  9.25e-02  4.47e-01  3.78e+02\n",
      "  11  8.71e+02  9.30e+01  2.61e+01  7.69e-02  4.07e-01  3.78e+02\n",
      "  12  8.37e+02  8.78e+01  2.52e+01  6.19e-02  3.24e-01  3.78e+02\n",
      "  13  8.35e+02  8.43e+01  2.52e+01  4.83e-02  1.93e-01  3.78e+02\n",
      "  14  8.33e+02  8.41e+01  2.52e+01  3.67e-02  9.92e-02  3.78e+02\n",
      "  15  8.26e+02  8.80e+01  2.48e+01  2.79e-02  9.31e-02  3.78e+02\n",
      "  16  8.21e+02  9.33e+01  2.45e+01  2.23e-02  9.21e-02  3.78e+02\n",
      "  17  8.21e+02  9.66e+01  2.43e+01  1.83e-02  7.11e-02  3.78e+02\n",
      "  18  8.20e+02  9.56e+01  2.44e+01  1.47e-02  4.47e-02  3.78e+02\n",
      "  19  8.20e+02  9.19e+01  2.44e+01  1.12e-02  3.46e-02  3.78e+02\n",
      "  20  8.20e+02  8.80e+01  2.46e+01  1.37e-02  2.80e-02  2.15e+02\n",
      "  21  8.20e+02  8.76e+01  2.46e+01  1.15e-02  1.67e-02  2.15e+02\n",
      "  22  8.19e+02  8.88e+01  2.45e+01  9.26e-03  1.60e-02  2.15e+02\n",
      "  23  8.19e+02  9.00e+01  2.45e+01  7.57e-03  1.62e-02  2.15e+02\n",
      "  24  8.19e+02  9.01e+01  2.45e+01  6.39e-03  1.24e-02  2.15e+02\n",
      "  25  8.19e+02  8.94e+01  2.45e+01  5.33e-03  1.01e-02  2.15e+02\n",
      "  26  8.19e+02  8.87e+01  2.45e+01  4.43e-03  9.05e-03  2.15e+02\n",
      "  27  8.19e+02  8.83e+01  2.45e+01  3.70e-03  7.64e-03  2.15e+02\n",
      "  28  8.19e+02  8.83e+01  2.45e+01  3.09e-03  6.30e-03  2.15e+02\n",
      "  29  8.19e+02  8.87e+01  2.45e+01  2.58e-03  5.55e-03  2.15e+02\n",
      "  30  8.19e+02  8.92e+01  2.45e+01  2.82e-03  4.72e-03  1.47e+02\n",
      "  31  8.19e+02  8.92e+01  2.45e+01  2.50e-03  2.88e-03  1.47e+02\n",
      "  32  8.19e+02  8.89e+01  2.45e+01  2.09e-03  2.67e-03  1.47e+02\n",
      "  33  8.19e+02  8.85e+01  2.45e+01  1.76e-03  3.15e-03  1.47e+02\n",
      "  34  8.19e+02  8.83e+01  2.45e+01  1.58e-03  2.61e-03  1.47e+02\n",
      "  35  8.19e+02  8.84e+01  2.45e+01  1.40e-03  2.00e-03  1.47e+02\n",
      "  36  8.19e+02  8.85e+01  2.45e+01  1.21e-03  1.81e-03  1.47e+02\n",
      "  37  8.19e+02  8.87e+01  2.45e+01  1.07e-03  1.66e-03  1.47e+02\n",
      "  38  8.19e+02  8.87e+01  2.45e+01  9.52e-04  1.46e-03  1.47e+02\n",
      "  39  8.19e+02  8.85e+01  2.45e+01  8.36e-04  1.37e-03  1.47e+02\n",
      "  40  8.19e+02  8.84e+01  2.45e+01  8.45e-04  1.18e-03  1.15e+02\n",
      "  41  8.19e+02  8.84e+01  2.45e+01  7.92e-04  8.23e-04  1.15e+02\n",
      "----------------------------------------------------------------\n",
      "BPDN solve time: 0.56s\n"
     ]
    }
   ],
   "source": [
    "# Initialise and run BPDN object for best lmbda\n",
    "opt['Verbose'] = True\n",
    "b = bpdn.BPDN(D, s, lmbda, opt)\n",
    "b.solve()\n",
    "\n",
    "print(\"BPDN solve time: %.2fs\" % b.timer.elapsed('solve'))"
   ]
  },
  {
   "cell_type": "markdown",
   "metadata": {
    "deletable": true,
    "editable": true
   },
   "source": [
    "Plot comparison of reference and recovered representations."
   ]
  },
  {
   "cell_type": "code",
   "execution_count": 8,
   "metadata": {
    "collapsed": false,
    "deletable": true,
    "editable": true
   },
   "outputs": [
    {
     "data": {
      "image/png": "[encoded data removed]",
      "text/plain": [
       "<matplotlib.figure.Figure at 0x7f1f0d10a438>"
      ]
     },
     "metadata": {},
     "output_type": "display_data"
    }
   ],
   "source": [
    "plot.plot(np.hstack((x0, b.Y)), fgnm=1, title='Sparse representation',\n",
    "          lgnd=['Reference', 'Reconstructed'])\n",
    "plot.close()"
   ]
  },
  {
   "cell_type": "markdown",
   "metadata": {
    "deletable": true,
    "editable": true
   },
   "source": [
    "Plot functional evolution during ADMM iterations."
   ]
  },
  {
   "cell_type": "code",
   "execution_count": 11,
   "metadata": {
    "collapsed": false,
    "deletable": true,
    "editable": true,
    "scrolled": true
   },
   "outputs": [
    {
     "data": {
      "image/png": "[encoded data removed]",
      "text/plain": [
       "<matplotlib.figure.Figure at 0x7f1ed827af60>"
      ]
     },
     "metadata": {},
     "output_type": "display_data"
    }
   ],
   "source": [
    "its = b.getitstat()\n",
    "plot.plot(its.ObjFun, xlbl='Iterations', ylbl='Functional')\n",
    "plot.close()"
   ]
  },
  {
   "cell_type": "markdown",
   "metadata": {},
   "source": [
    "Plot evolution of ADMM residuals and ADMM penalty parameter."
   ]
  },
  {
   "cell_type": "code",
   "execution_count": 10,
   "metadata": {
    "collapsed": false
   },
   "outputs": [
    {
     "data": {
      "image/png": "[encoded data removed]",
      "text/plain": [
       "<matplotlib.figure.Figure at 0x7f1ee0050400>"
      ]
     },
     "metadata": {},
     "output_type": "display_data"
    },
    {
     "data": {
      "image/png": "[encoded data removed]",
      "text/plain": [
       "<matplotlib.figure.Figure at 0x7f1ed8746d30>"
      ]
     },
     "metadata": {},
     "output_type": "display_data"
    }
   ],
   "source": [
    "plot.plot(np.vstack((its.PrimalRsdl, its.DualRsdl)).T,\n",
    "          ptyp='semilogy', xlbl='Iterations', ylbl='Residual',\n",
    "          lgnd=['Primal', 'Dual'])\n",
    "plot.plot(its.Rho, xlbl='Iterations', ylbl='Penalty Parameter')\n",
    "plot.close()"
   ]
  }
 ],
 "metadata": {
  "kernelspec": {
   "display_name": "Python 3",
   "language": "python",
   "name": "python3"
  },
  "language_info": {
   "codemirror_mode": {
    "name": "ipython",
    "version": 3
   },
   "file_extension": ".py",
   "mimetype": "text/x-python",
   "name": "python",
   "nbconvert_exporter": "python",
   "pygments_lexer": "ipython3",
   "version": "3.4.3"
  }
 },
 "nbformat": 4,
 "nbformat_minor": 2
}
