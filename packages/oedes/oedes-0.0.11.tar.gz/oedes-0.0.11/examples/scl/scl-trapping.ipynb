{
 "cells": [
  {
   "cell_type": "markdown",
   "metadata": {},
   "source": [
    "# Space-charge-limited current with traps \n",
    "\n",
    "This example reproduces Fig. 1.5.1 from PhD thesis https://tel.archives-ouvertes.fr/tel-01286482 .\n"
   ]
  },
  {
   "cell_type": "code",
   "execution_count": 1,
   "metadata": {
    "collapsed": true
   },
   "outputs": [],
   "source": [
    "%matplotlib inline"
   ]
  },
  {
   "cell_type": "code",
   "execution_count": 2,
   "metadata": {
    "collapsed": false
   },
   "outputs": [],
   "source": [
    "import matplotlib.pylab as plt\n",
    "from oedes import *"
   ]
  },
  {
   "cell_type": "code",
   "execution_count": 3,
   "metadata": {
    "collapsed": true
   },
   "outputs": [],
   "source": [
    "L = 200e-9\n",
    "params = {\n",
    "    'T': 300,\n",
    "    'electrode0.workfunction': 0,\n",
    "    'electrode1.workfunction': 0,\n",
    "    'hole.level': 0,\n",
    "    'hole.mu': 1e-9,\n",
    "    'hole.N0': 2.4e26,\n",
    "    'electrode0.voltage': 0,\n",
    "    'electrode1.voltage': 0,\n",
    "    'epsilon_r': 3.,\n",
    "    'hole.trap.level': -0.45,\n",
    "    'hole.trap.trate': 1e-22,\n",
    "    'hole.trap.N0': 6.2e22\n",
    "}"
   ]
  },
  {
   "cell_type": "code",
   "execution_count": 4,
   "metadata": {
    "collapsed": false
   },
   "outputs": [],
   "source": [
    "model = models.std.holeonly(L, traps=['trap'])"
   ]
  },
  {
   "cell_type": "code",
   "execution_count": 5,
   "metadata": {
    "collapsed": false
   },
   "outputs": [
    {
     "name": "stdout",
     "output_type": "stream",
     "text": [
      "trap depth=-10.0 voltage=20.0         "
     ]
    },
    {
     "data": {
      "application/json": {
       "data": {
        "__ndarray__": "ASrFtCeiaz8cKxY5b4puP96aMdyC4HA/sYmtTRSncj8AY1+oeZ10PzMYu1i7yHY/jfJ0b2kueT/Un2/uqdR7P2qAxJhIwn4/GI4VOWT/gD+ommOMO8mCP9Z0ARhBw4Q/hE79iYfyhj+I7YCMqlyJP+6hqU3dB4w/YSvSm/r6jj+ewjJgyx6RP4XeeKgJ7JI/NSsKmNrplD/6ZsOBXh2XPyBgAjdBjJk/pq6LM8k8nD8AUDSP6DWfP+8qjPmnP6E/FsKq7sEQoz+EJOxG+hKlP9R0UoSMS6c/rdyy2EbAqT8G3laSm3esP+B8JAy1eK8/RVb3T8ZlsT960HOcgjyzP814OSeFRbU/OpaIIVqGtz+Dn0izOQW6P8cdc5chybw/VNop0fPZvz/gCubbTaDBP+aPN3Kdg8M/8olf86+cxT8lEJGGJPLHPx/Ijv6ai8o/baCepuVxzT8AzKfwolfQP1KbTM7aJ9I/mJDg458w1D/8ghoMNXrWP4+ojUVZDtk/v+18o5H42z9XIRb2f0bfP9eKwAskhOE/R+7DOoOo4z+srJG0rRvmP1lTAxgI6+g/6Ku/6G0m7D/3eqHgp+DvPxGzLWf9F/I/ZfJIPGqX9D8qlFdvTn73P/m+gaVZ3/o/lImYDtDQ/j+V8ReGobYBQKjrdhk4agRA88mcWyeWB0AaKHGPKlELQLVrF5yBtg9ApQdevG9zEkDZSJt1xYQVQCPqnDTeJhlAfap0IiN2HUBkNrbKZUohQDb2ap0KViRAZOakh9/2J0ChgUTR6kosQHf3GJQ4uzBAdDC9vaTSM0BBqdQaPYY3QNdi7usX9jtAcjdQHoikQEAXBTD9HNdDQPAK43BTr0dAYTL49sZPTEA181m1OvFQQNP1WfcrTVRARQ0Eh6paWEDHKNbYTz9dQF+yZLlmlGFA/mKQ71cnZUCeL7tLQnppQLHNXmE8tm5AMFjJ26KGckARfoPzHF52QMXxL8mYBntAwfGSXZpWgECpQVVLc8SDQCsJfXRS7odAUfgrKgX9jED9FJN3I5GRQNutu0dcTZVAdK3XHiPYmUA=",
        "dtype": "float64",
        "shape": "100"
       }
      }
     },
     "metadata": {
      "atol": 0.0,
      "format": "oedes.testing.nb_store_array",
      "label": null,
      "rtol": 0.001
     },
     "output_type": "display_data"
    },
    {
     "name": "stdout",
     "output_type": "stream",
     "text": [
      "trap depth=0.21 voltage=20.0         "
     ]
    },
    {
     "data": {
      "application/json": {
       "data": {
        "__ndarray__": "QtPDVr3CXz+Na/V5F41hP6qSlN7QZWM/+0aeFUdwZT98jWXytbFnP5eEWlLmL2o/V2Q3+TzxbD+i694Ay/xvP05AGwQwrXE/OE4mJk+Jcz+8KjV0iJd1Py4CdToi3Xc/KTNtIfFfej9S1FlEZyZ9Pyle93LSG4A/cG1vecXNgT/WBtDEZ62DP6URMWGKv4U/oAc//IAJiD+1gob1L5GKP3I/hQQcXY0/iPXy1D06kD+FobNVpe+RPxPIte8v05M/e5rz0MLplT9xIwGsyjiYP/8rxkBLxpo/eJQH9/CYnT9UI4x1ElygP54w4u8RFqI/AbHHUwz/oz/YpYNeHRymP0hZ+Pf4cqg/dpOFJQAKqz+UqiDSWeitP0s66SkIi7A/TlhyahpOsj86t08IhUK0PwHpaxYcbrY//ViJ8YXXuD+z3SbSYYa7P6BJYPJ2g74/Ovm/EXfswD9whNj4S8nCP9AzMNgg38Q/qAK8/g02xz9xN6O5mtfJP80s9zYGz8w/Vj3Vw84U0D9ceUlNkPvRP+CW/EMcJdQ/kMNVKoGc1j+32hJB2W7ZP73uv6Srq9w/T/EfSrAy4D/7iJHU5ljiP68cXuNv1eQ/9uc1x7S35z+NHeIsDxLrPwPu5J5h+u4/EHInZmjF8T/byrpRUnH0PyagtPysk/c/jERjxfdC+z+wX93YPZr/P+Kl8tQGXQJAnEqDm9NkBUDTQnjeNvwIQHpd8TjWPw1AHdvUaDApEUDWfdEN8i4UQGVDnFi3yhdAnxSZ6YkbHEAg0nmnmaMgQKyISWzivSNA1ygPx714J0AEDQ5Oi/YrQJC8qgSvsDBAkPSvrGP2M0Dj0zsGCOw3QADp8059uDxAvcF5DcxFQUCkrneMINBEQFt19waNH0lAtA4om+NgTkBb0109wWVSQEBEftXuUVZApKS2+1IfW0D2C5ZsLIFgQKo+FST1HWRANo7Z1DeOaEDxMoK6wgNuQAplLtEjXnJA4hDbdxaCdkAe7x9NAp17QGqkBCiz9IBAxp2V9cjXhEDzb29PaqSJQIejf56xkY9AjvGFP8Zxk0A=",
        "dtype": "float64",
        "shape": "100"
       }
      }
     },
     "metadata": {
      "atol": 0.0,
      "format": "oedes.testing.nb_store_array",
      "label": null,
      "rtol": 0.001
     },
     "output_type": "display_data"
    },
    {
     "name": "stdout",
     "output_type": "stream",
     "text": [
      "trap depth=0.33 voltage=20.0         "
     ]
    },
    {
     "data": {
      "application/json": {
       "data": {
        "__ndarray__": "dzyaQBQMET/ODGx/OtcSP9F9/dyv0hQ/TWtKookDFz/xY7IWZm8ZPzAlDu16HBw/N5gvH6URHz8RabVnPSshP0Nx7zqv+SI/kCEQbcr4JD/soWtIri0nP5LnK1oEnik/7zn3+w5QLD+iOCGcuUovPxSAtUnVSjE/kokGi6scMz+BA0umjB81P/PQyUykWDc/+YZBf6rNOT9dueKX8oQ8PxrBRyJ8hT8/aRLjxYJrQT+3GZ2SEEFDP9owtEQmSEU/It3FdAWGRz82fPhQgQBKP6T8sFgPvkw/nDyfUtrFTz82qaXr649RP1LaUJFwalM/Ez12vGd3VT82b3KjTrxXPyrBPU1GP1o/VSdWPCoHXT+fdrij1Q1gP3XPS8m3wmE/0i0ngRynYz8QO2fWicBlPyGgwSBHFWg//JGCc3+saj+OIJ63a45tP/8gUR5DYnA/kAFp7OQscj+rB0h9fy10PxvofbKMa3Y/PkUqytTveD+6N02HssR7P4HAeqFk9n4/pdiDQ7dJgT//b8x4hVaDPycxGMbZq4U/cWH/BeFViD9l5g1uGGOLP/0lEtnB5I4/DS9xybh3kT9jmBFr3s2TPyXqzwiJg5Y/UELuLWOqmT+ZEfk9s1edPyo/OX2X0qA/2gEgBgNZoz/3icy1GVKmP/iQhWYV1ak/YYTlPH/+rT+FbO3/yHixP8wdSwYDbbQ/ZgfVdzX3tz8PHeteoDm8PwJI3erFr8A/YGdJlQbQwz/DqoX35KDHP8OR8rARUMw/wYPMN5oM0T93t7CBgKXUP8mISipBJ9k/atDBWeDY3j85BOko5w3jP3yZG7n6u+c/Inzhhj7X7T/Qd0KI7vXyP1dBeoUQZfg/lNsne+XX/z+yX6YQ4yMFQIw/iSLRowxArPHTSBTdE0DFn5ibA04cQLXvtexfwCRAfVK5M6s7L0CioSQymeg3QK17aB0oWEJAIyk/uePNS0AZZGSrAJ9UQMi3/DJG2F1ApVdA/wIYZUDHWiAvUjNtQJRKfWhj2nNAZJ8IVIOXekBZ4D2bwJWBQM3crl/pAodAg1oL8c3XjUA=",
        "dtype": "float64",
        "shape": "100"
       }
      }
     },
     "metadata": {
      "atol": 0.0,
      "format": "oedes.testing.nb_store_array",
      "label": null,
      "rtol": 0.001
     },
     "output_type": "display_data"
    },
    {
     "name": "stdout",
     "output_type": "stream",
     "text": [
      "trap depth=0.45 voltage=20.0         "
     ]
    },
    {
     "data": {
      "application/json": {
       "data": {
        "__ndarray__": "/5DJjko2rz4L2+2udj+xPi7lZ1IIELM+zhK2DXcRtT6EjgAB6ki3PsWmwLUVvLk+EL5x9z5xvD6ekLpUVG+/PpEpDzEDX8E+G8uTFukywz5S7bt5CjjFPt45g7SZc8c+H2SL3U3ryT5pbkqifaXMPjp86Osqqc8+VcRcIAp/0T7HKWTTY1bTPjeQduxdX9U+PiqXFDaf1z4MriZIthvaPj2iCBRG29w+q6zR9fvk3z6QjBB3WKDhPq7TmKCKe+M+Lq+jQ+SI5T6zS6Q2us3nPovXUb71T+o+6NRLdCYW7T5GdBygyhPwPtcXINUtxvE+qOrIgL6m8z5xLmMUgrr1PpPAmOkUB/g+5jGfJ72S+j6UUMLCg2T9ProLcRMpQgA/rs6Cn4r9AT9jzAmOc+kDP0++pUKhCwY/sTZ/AKFqCD+E9YF+9g0LP1yXwBZK/g0/MEhXPdGiED/OtEd11XcSP577gQEEhRQ/y6yjR1/SFj8lZAOdV2kZP0mCT9UUVRw/lbhJ1c2iHz9kWMIYGLEhP+UXbjbt0iM/e7No1PZBJj9KnoGhXQspPwcQPqHLPiw/nwrjfuzuLz/C0QbrBRkyPxQZ/y1tkTQ/aGQtQ7JwNz8kkoyjJMo6PyQKQ6EhtT4/6+y0TAenQT/fkhnXzFtEPy198ekrjkc/omxYCnBYSz+KOtoiSNtPP26nWVzOn1I/6qeDaIPcVT/p7zbtk8RZP8NvCdYggl4/y0HfYOclYj+RTvjqprRlPwO/oIvwHGo/QaTyqfuebz96UCLpZklzP+bQ9BmxuXc/3r8clTd4fT9nDGso8IKCP+1CGLPzkoc/I9YE7t6Fjj9GQ5b94SyUP06qNa+bZps/id8PtbVMoz8suZatDaasP1n7OQhADbc/cVR43a1ExT9VClP/zDLZP/PDvsl3V/U/r+aLziXLEkB4GF1EjpkoQBVNmDlISzlAiWLwGOhtRkBI8JWMeR9SQNoqSJPFhltA1zGI72wDZEBz4oUf2i9sQKNm66HXX3NAV5uPnP8iekCN70GoCF6BQC/omVdXzYZAG/ZA2w+kjUA=",
        "dtype": "float64",
        "shape": "100"
       }
      }
     },
     "metadata": {
      "atol": 0.0,
      "format": "oedes.testing.nb_store_array",
      "label": null,
      "rtol": 0.001
     },
     "output_type": "display_data"
    },
    {
     "data": {
      "text/plain": [
       "<matplotlib.legend.Legend at 0x7fd0dcea1e10>"
      ]
     },
     "execution_count": 5,
     "metadata": {},
     "output_type": "execute_result"
    },
    {
     "data": {
      "image/png": "[encoded data removed]",
      "text/plain": [
       "<matplotlib.figure.Figure at 0x7fd0b39847f0>"
      ]
     },
     "metadata": {},
     "output_type": "display_data"
    }
   ],
   "source": [
    "for tdepth in [0.45, 0.33, 0.21, -10.][::-1]:\n",
    "    params['hole.trap.level'] = -tdepth\n",
    "    if tdepth < 0:\n",
    "        label = 'no traps'\n",
    "    else:\n",
    "        label = 'trap depth %s eV' % tdepth\n",
    "    c = context(model)\n",
    "    sparams = setparam(params, 'electrode0.voltage', 10 **\n",
    "                       np.linspace(-3, np.log10(20.), 100))\n",
    "    for u in c.sweep(sparams):\n",
    "        progress('trap depth=%s voltage=%s' %\n",
    "                 (tdepth, u.params['electrode0.voltage']))\n",
    "    v, j = c.teval('electrode0.voltage', 'J')\n",
    "    plt.plot(v, j, label=label)\n",
    "    testing.store(j, rtol=1e-3)\n",
    "plt.xscale('log')\n",
    "plt.yscale('log')\n",
    "plt.legend(loc=0, frameon=False)"
   ]
  },
  {
   "cell_type": "markdown",
   "metadata": {},
   "source": [
    "\n",
    "---\n",
    "This file is a part of __oedes__, an open source organic electronic device \n",
    "simulator. For more information, see <https://www.github.com/mzszym/oedes>.\n"
   ]
  }
 ],
 "metadata": {
  "anaconda-cloud": {},
  "kernelspec": {
   "display_name": "Python 3",
   "language": "python",
   "name": "python3"
  },
  "language_info": {
   "codemirror_mode": {
    "name": "ipython",
    "version": 3
   },
   "file_extension": ".py",
   "mimetype": "text/x-python",
   "name": "python",
   "nbconvert_exporter": "python",
   "pygments_lexer": "ipython3",
   "version": "3.6.0"
  }
 },
 "nbformat": 4,
 "nbformat_minor": 1
}