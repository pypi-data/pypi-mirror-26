{
 "cells": [
  {
   "cell_type": "markdown",
   "metadata": {},
   "source": [
    "# Influence of floating point precision on drift-diffusion simulation\n",
    "\n",
    "This notebooks runs simple calculation with double (64 bit) and extended (80 bit) precision. In both cases concentration is correctly calculated, however, arithmetic errors are visible in the conservation of current. The problem can be resolved by increasing minimum mesh spacing."
   ]
  },
  {
   "cell_type": "code",
   "execution_count": 1,
   "metadata": {
    "collapsed": true
   },
   "outputs": [],
   "source": [
    "from oedes import *\n",
    "%matplotlib inline\n",
    "import matplotlib.pylab as plt"
   ]
  },
  {
   "cell_type": "code",
   "execution_count": 2,
   "metadata": {
    "collapsed": true
   },
   "outputs": [],
   "source": [
    "b = models.BaseModel()\n",
    "models.electronic_device(b, fvm.mesh1d(100e-9, dx_boundary=1e-11), 'p')\n",
    "\n",
    "b.setUp()"
   ]
  },
  {
   "cell_type": "code",
   "execution_count": 3,
   "metadata": {
    "collapsed": true
   },
   "outputs": [],
   "source": [
    "b.species[0].convergenceTest=fvm.ElementwiseConvergenceTest(rtol=1e-12,atol=0)"
   ]
  },
  {
   "cell_type": "code",
   "execution_count": 4,
   "metadata": {
    "collapsed": true
   },
   "outputs": [],
   "source": [
    "params = {\n",
    "    'T': 300,\n",
    "    'electrode0.voltage': 1e-3,\n",
    "    'electrode0.workfunction': 0,\n",
    "    'electrode1.voltage': 0,\n",
    "    'electrode1.workfunction': -1,\n",
    "    'hole.mu': 1e-9,\n",
    "    'hole.N0': 1e27,\n",
    "    'hole.level': 0,\n",
    "    'epsilon_r': 3}"
   ]
  },
  {
   "cell_type": "code",
   "execution_count": 5,
   "metadata": {
    "collapsed": true
   },
   "outputs": [],
   "source": [
    "typename={np.double:'double',np.float128:'extended'}\n",
    "types=[np.double,np.float128]"
   ]
  },
  {
   "cell_type": "code",
   "execution_count": 6,
   "metadata": {},
   "outputs": [
    {
     "name": "stdout",
     "output_type": "stream",
     "text": [
      "    double |F|=1.345194e+23\n",
      "  extended |F|=4.205458e+19\n"
     ]
    }
   ],
   "source": [
    "sol = {}\n",
    "for t in types:\n",
    "    sol[t] = solve(b, np.asarray(b.X, dtype=t), params, maxiter=30)\n",
    "    print(\n",
    "        '%10s |F|=%e' %\n",
    "        (typename[t],\n",
    "         np.linalg.norm(\n",
    "            b.residuals(\n",
    "                0.,\n",
    "                sol[t],\n",
    "                0. *\n",
    "                sol[t],\n",
    "                params))))"
   ]
  },
  {
   "cell_type": "code",
   "execution_count": 7,
   "metadata": {},
   "outputs": [
    {
     "data": {
      "image/png": "[encoded data removed]",
      "text/plain": [
       "<matplotlib.figure.Figure at 0x7fd37e1ecba8>"
      ]
     },
     "metadata": {},
     "output_type": "display_data"
    }
   ],
   "source": [
    "for t in types:\n",
    "    o = b.output(0., sol[t], 0. * sol[t], params)\n",
    "    plt.plot(\n",
    "        b.poisson.mesh.cells['center'],\n",
    "        np.abs(\n",
    "            o['hole.c']),\n",
    "        label=typename[t])\n",
    "plt.yscale('log')\n",
    "plt.legend(loc=0);"
   ]
  },
  {
   "cell_type": "code",
   "execution_count": 8,
   "metadata": {},
   "outputs": [
    {
     "data": {
      "text/plain": [
       "<matplotlib.legend.Legend at 0x7fd37dfee550>"
      ]
     },
     "execution_count": 8,
     "metadata": {},
     "output_type": "execute_result"
    },
    {
     "data": {
      "image/png": "[encoded data removed]",
      "text/plain": [
       "<matplotlib.figure.Figure at 0x7fd37e1d56a0>"
      ]
     },
     "metadata": {},
     "output_type": "display_data"
    }
   ],
   "source": [
    "for t in types:\n",
    "    o = b.output(0., sol[t], 0. * sol[t], params)\n",
    "    plt.plot(\n",
    "        b.poisson.mesh.faces['center'],\n",
    "        np.abs(\n",
    "            o['hole.j'] *\n",
    "            b.species[0].ze),\n",
    "        label=typename[t])\n",
    "plt.yscale('log')\n",
    "plt.xscale('log')\n",
    "plt.xlabel('x [m]')\n",
    "plt.ylabel('j [A/m2]')\n",
    "plt.legend(loc=0)"
   ]
  },
  {
   "cell_type": "markdown",
   "metadata": {},
   "source": [
    "\n",
    "---\n",
    "This file is a part of __oedes__, an open source organic electronic device \n",
    "simulator. For more information, see <https://www.github.com/mzszym/oedes>.\n"
   ]
  }
 ],
 "metadata": {
  "hide_input": false,
  "kernelspec": {
   "display_name": "Python 3",
   "language": "python",
   "name": "python3"
  },
  "language_info": {
   "codemirror_mode": {
    "name": "ipython",
    "version": 3
   },
   "file_extension": ".py",
   "mimetype": "text/x-python",
   "name": "python",
   "nbconvert_exporter": "python",
   "pygments_lexer": "ipython3",
   "version": "3.6.2"
  },
  "varInspector": {
   "cols": {
    "lenName": 16,
    "lenType": 16,
    "lenVar": 40
   },
   "kernels_config": {
    "python": {
     "delete_cmd_postfix": "",
     "delete_cmd_prefix": "del ",
     "library": "var_list.py",
     "varRefreshCmd": "print(var_dic_list())"
    },
    "r": {
     "delete_cmd_postfix": ") ",
     "delete_cmd_prefix": "rm(",
     "library": "var_list.r",
     "varRefreshCmd": "cat(var_dic_list()) "
    }
   },
   "types_to_exclude": [
    "module",
    "function",
    "builtin_function_or_method",
    "instance",
    "_Feature"
   ],
   "window_display": false
  }
 },
 "nbformat": 4,
 "nbformat_minor": 1
}
