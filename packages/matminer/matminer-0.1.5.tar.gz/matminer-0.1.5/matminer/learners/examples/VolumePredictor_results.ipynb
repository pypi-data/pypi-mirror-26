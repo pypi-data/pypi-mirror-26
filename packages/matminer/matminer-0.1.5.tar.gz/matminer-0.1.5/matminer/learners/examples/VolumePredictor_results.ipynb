{
 "cells": [
  {
   "cell_type": "code",
   "execution_count": 1,
   "metadata": {
    "collapsed": true
   },
   "outputs": [],
   "source": [
    "import os\n",
    "import pandas as pd"
   ]
  },
  {
   "cell_type": "markdown",
   "metadata": {},
   "source": [
    "<b>Example use of VolumePredictor: </b> *Predict volume of Si*"
   ]
  },
  {
   "cell_type": "code",
   "execution_count": 2,
   "metadata": {
    "collapsed": true
   },
   "outputs": [],
   "source": [
    "module_dir = os.getcwd()\n",
    "data_dir = os.path.join(module_dir, 'data')     # Path to dataframe\n",
    "df = pd.read_pickle(os.path.join(data_dir, 'results.pkl'))"
   ]
  },
  {
   "cell_type": "markdown",
   "metadata": {},
   "source": [
    "<b>Structures with maximum/minimum changes in volumes:-</b>"
   ]
  },
  {
   "cell_type": "code",
   "execution_count": 3,
   "metadata": {
    "collapsed": false,
    "scrolled": true
   },
   "outputs": [
    {
     "name": "stdout",
     "output_type": "stream",
     "text": [
      "      expected_volume  percentage_volume_change  predicted_volume reduced_cell_formula    task_id\n",
      "210         83.735812                -99.788435          0.177155                   H2   mp-23907\n",
      "212         39.993725                -99.778994          0.088388                   H2  mp-634659\n",
      "13          86.917777                -99.714041          0.248550                   H2  mp-570752\n",
      "137         85.469017                -96.351736          3.118135                   N2   mp-12103\n",
      "191        173.526210                -95.792476          7.301157                   N2  mp-672234\n",
      "3129        72.621729                -95.636189          3.169075                 XeF2   mp-22885\n",
      "19          44.869952                -95.487737          2.024650                   Ar   mp-23155\n",
      "96          90.037547                -95.484226          4.065892                   Ar  mp-568145\n",
      "330        186.353281                -94.914740          9.476549                 XeF4   mp-23185\n",
      "1837       336.357481                -94.810218         17.456220                 XeF3  mp-561153\n",
      "3001       135.150199                -94.729328          7.123324                 KrF2  mp-558928\n",
      "2319        64.059156                -94.595473          3.462094                 KrF2   mp-30009\n",
      "526       1925.764209                -92.835943        137.962850                 XeF6  mp-560366\n",
      "3607      1878.435016                -92.701847        137.091055                 XeF6  mp-641678\n",
      "5515      1980.483588                -91.853476        161.340578                 XeF6  mp-641661\n",
      "232         88.841915                -90.995241          8.000000                   F2   mp-21848\n",
      "225          7.009889                -87.052682          0.907593                   H2  mp-754417\n",
      "20          43.647816                -70.410373         12.915226                   H2  mp-973783\n",
      "217         23.550476                -70.396992          6.971649                   H2  mp-632291\n",
      "213         31.263175                -70.393115          9.256052                   H2  mp-632172\n",
      "240         22.794995                -70.385682          6.750582                   H2  mp-850274\n",
      "209         55.579881                -70.359326         16.474251                   H2   mp-24504\n",
      "125         63.996996                -65.613556         22.006291                   F2  mp-561367\n",
      "233         63.662738                -65.570008         21.919076                   F2  mp-561203\n",
      "231         94.431850                -65.539780         32.541423                   F2  mp-760482\n",
      "2448        57.986928                -47.644505         30.359343                TbSi2    mp-1535\n",
      "2123        59.298416                -46.948610         31.458634                YbSi2    mp-1671\n",
      "1079       175.235982                -46.752802         93.308250               Yb3Si5     mp-349\n",
      "1831        31.802515                -46.648723         16.967048                  AgF    mp-7592\n",
      "1058        45.157795                -46.587533         24.119892                 HgF2    mp-8177\n",
      "...               ...                       ...               ...                  ...        ...\n",
      "3499       812.172692                101.162772       1633.789102              U11Ni16  mp-567950\n",
      "2975       218.807763                101.868452        441.703845                 URe2   mp-19890\n",
      "204         51.953513                103.433899        105.691058                   Ce      mp-64\n",
      "395        397.223834                103.875645        809.842655               Rb2In3  mp-571505\n",
      "6659      1228.623340                104.420617       2511.559412                 CsSi  mp-866482\n",
      "4001       738.615416                105.364516       1516.853971               Pu5Rh4     mp-703\n",
      "4016       625.444636                107.056033       1295.020852                K5Te3     mp-644\n",
      "4733       412.125038                109.580358        863.733133                Ce3Al  mp-570987\n",
      "5921       288.925059                110.098158        607.026226                K2Ga3  mp-568052\n",
      "5836       328.317594                112.874665        698.904977                Cr3O8  mp-715561\n",
      "5510       167.194376                113.015455        356.149861                Cr3O8  mp-557959\n",
      "1119       137.763050                113.230741        293.753173                 CrO3  mp-510421\n",
      "5852       447.562713                113.493238        955.516129               Cr8O21  mp-716066\n",
      "6704       446.872411                113.623592        954.624894               Cr8O21  mp-565489\n",
      "269        136.020805                113.691657        290.665113                 CrO3  mp-561804\n",
      "32         320.084534                114.538050        686.703118                   Mn      mp-35\n",
      "6093       257.174235                116.151378        555.885652                 CrO3  mp-772550\n",
      "48          39.968200                117.260251         86.835012                    U      mp-44\n",
      "5951       299.280256                117.947056        652.272505                Cr3O8  mp-782705\n",
      "3170       868.753045                118.198119       1895.602804               Cr5O12   mp-19575\n",
      "4571       427.362865                124.827586        960.829611               Cs2In3  mp-567752\n",
      "5931       526.376679                125.492901       1186.942043                K5Se3  mp-755633\n",
      "353        270.142417                127.644113        614.963310                 U6Fe   mp-21108\n",
      "356        272.022010                132.094180        631.347254                 U6Mn  mp-568195\n",
      "4983       269.131108                133.177084        627.552070                 U6Co  mp-582635\n",
      "4751       328.960060                134.655513        771.922917                CsGa3  mp-574338\n",
      "3699       458.975515                136.629145       1086.069839                 UAl2  mp-569744\n",
      "6870       270.856326                141.438833        653.952353                 U6Ni  mp-636821\n",
      "120        147.416579                178.972818        411.252184                   Np   mp-11534\n",
      "47         293.506153                186.808992        841.802039                   Pu  mp-613989\n",
      "\n",
      "[7251 rows x 5 columns]\n"
     ]
    }
   ],
   "source": [
    "pd.set_option('display.width', 1000)\n",
    "print df.sort_values(['percentage_volume_change'])"
   ]
  },
  {
   "cell_type": "markdown",
   "metadata": {},
   "source": [
    "<b>Average *absolute* percentage volume change:-</b>"
   ]
  },
  {
   "cell_type": "code",
   "execution_count": 4,
   "metadata": {
    "collapsed": false
   },
   "outputs": [
    {
     "name": "stdout",
     "output_type": "stream",
     "text": [
      "Average *absolute* percent change in volume = 17.0195384367 %\n"
     ]
    }
   ],
   "source": [
    "abs_percent_vol_change = [abs(x) for x in df['percentage_volume_change'].tolist()]\n",
    "print \"Average *absolute* percent change in volume = {} %\".format(sum(abs_percent_vol_change)/len(abs_percent_vol_change))"
   ]
  },
  {
   "cell_type": "markdown",
   "metadata": {},
   "source": [
    "<b>Average percentage volume change:-</b>"
   ]
  },
  {
   "cell_type": "code",
   "execution_count": 5,
   "metadata": {
    "collapsed": false
   },
   "outputs": [
    {
     "name": "stdout",
     "output_type": "stream",
     "text": [
      "Average percent change in volume = 2.88399529539 %\n"
     ]
    }
   ],
   "source": [
    "percent_vol_change = [x for x in df['percentage_volume_change'].tolist()]\n",
    "print \"Average percent change in volume = {} %\".format(sum(percent_vol_change)/len(percent_vol_change))"
   ]
  },
  {
   "cell_type": "markdown",
   "metadata": {},
   "source": [
    "<b>RMSE % error:-</b>"
   ]
  },
  {
   "cell_type": "code",
   "execution_count": 6,
   "metadata": {
    "collapsed": false
   },
   "outputs": [
    {
     "name": "stdout",
     "output_type": "stream",
     "text": [
      "RMSE % error = 23.604177593 %\n"
     ]
    }
   ],
   "source": [
    "sum_of_squares = 0\n",
    "for i, row in df.iterrows():\n",
    "    sum_of_squares += ((row['predicted_volume'] - row['expected_volume'])*100/row['expected_volume'])**2\n",
    "print \"RMSE % error = {} %\".format((sum_of_squares/len(df.index))**0.5)"
   ]
  }
 ],
 "metadata": {
  "kernelspec": {
   "display_name": "Python 2",
   "language": "python",
   "name": "python2"
  },
  "language_info": {
   "codemirror_mode": {
    "name": "ipython",
    "version": 2
   },
   "file_extension": ".py",
   "mimetype": "text/x-python",
   "name": "python",
   "nbconvert_exporter": "python",
   "pygments_lexer": "ipython2",
   "version": "2.7.10"
  }
 },
 "nbformat": 4,
 "nbformat_minor": 0
}
