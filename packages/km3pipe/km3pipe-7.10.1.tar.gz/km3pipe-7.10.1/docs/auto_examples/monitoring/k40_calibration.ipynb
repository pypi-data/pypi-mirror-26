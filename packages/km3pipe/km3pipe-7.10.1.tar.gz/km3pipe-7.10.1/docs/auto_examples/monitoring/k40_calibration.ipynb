{
  "cells": [
    {
      "cell_type": "code",
      "execution_count": null,
      "metadata": {
        "collapsed": false
      },
      "outputs": [],
      "source": [
        "%matplotlib inline"
      ]
    },
    {
      "cell_type": "markdown",
      "metadata": {},
      "source": [
        "\n# K40 Intra-DOM Calibration\n\n\nThe following script calculates the PMT time offsets using K40 coincidences\n\n\n"
      ]
    },
    {
      "cell_type": "code",
      "execution_count": null,
      "metadata": {
        "collapsed": false
      },
      "outputs": [],
      "source": [
        "# Author: Jonas Reubelt <jreubelt@km3net.de> and Tamas Gal <tgal@km3net.de>\n# License: MIT\nimport km3pipe as kp\nfrom km3pipe.logger import logging\nfrom km3modules import k40\nfrom km3modules.common import StatusBar, MemoryObserver\nimport matplotlib.pylab as plt\nimport numpy as np\nimport pandas as pd\nimport multiprocessing as mp\nfrom datetime import datetime\nimport time\nimport km3pipe.style\n\ndb = kp.db.DBManager()\n\n\nclass IntraDOMCalibrationPlotter(kp.Module):\n    def process(self, blob):\n        calibration = blob[\"IntraDOMCalibration\"]\n        for process in (self.create_plot, self.save_hdf5):\n            proc = mp.Process(target=process, args=(calibration,))\n            proc.daemon = True\n            proc.start()\n            proc.join()\n\n    def create_plot(self, calibration):\n        print(\"Creating plot...\")\n        fig, axes = plt.subplots(8, 4, figsize=(16, 20),\n                                 sharex=True, sharey=True)\n        for ax, (dom_id, calib) in zip(axes.flatten(), calibration.items()):\n            ax.plot(np.cos(calib['angles']), calib[\"means\"], '.')\n            ax.plot(np.cos(calib['angles']), calib[\"corrected_means\"], '.')\n            ax.set_title(\"{0} - {1}\".format(db.doms.via_dom_id(dom_id), dom_id))\n            ax.set_ylim((-20, 20))\n        plt.suptitle(\"{0} UTC\".format(datetime.utcnow().strftime(\"%c\")))\n        plt.savefig(\"www/plots/intradom.png\", bbox_inches='tight')\n        plt.close('all')\n\n        fig, axes = plt.subplots(8, 4, figsize=(16, 20),\n                                 sharex=True, sharey=True)\n        for ax, (dom_id, calib) in zip(axes.flatten(), calibration.items()):\n            ax.plot(np.cos(calib['angles']), calib[\"rates\"], '.')\n            ax.plot(np.cos(calib['angles']), calib[\"corrected_rates\"], '.')\n            ax.set_title(\"{0} - {1}\".format(db.doms.via_dom_id(dom_id), dom_id))\n            ax.set_ylim((0, 15))\n        plt.suptitle(\"{0} UTC\".format(datetime.utcnow().strftime(\"%c\")))\n        plt.savefig(\"www/plots/angular_k40rate_distribution.png\",\n                    bbox_inches='tight')\n        plt.close('all')\n\n    def save_hdf5(self, calibration):\n        print(\"Saving calibration information...\")\n        store = pd.HDFStore('data/k40calib.h5', mode='r')\n        now = int(time.time())\n        timestamps = (now,) * 31\n        for dom_id, calib in calibration.items():\n            tdc_channels = range(31)\n            t0s = calib['opt_t0s'].x\n            dom_ids = (dom_id,) * 31\n            df = pd.DataFrame({\n                'timestamp': timestamps,\n                'dom_id': dom_ids,\n                'tdc_channel': tdc_channels,\n                't0s': t0s\n                })\n            store.append('t0s', df, format='table', data_columns=True)\n        store.close()\n\n\npipe = kp.Pipeline()\npipe.attach(kp.io.ch.CHPump,\n            host='127.0.0.1',\n            port=5553,\n            tags='IO_TSL',\n            timeout=7*60*60*24,\n            max_queue=42)\npipe.attach(StatusBar, every=100)\npipe.attach(MemoryObserver, every=500)\npipe.attach(kp.io.daq.TimesliceParser)\npipe.attach(k40.CoincidenceFinder, accumulate=10*60*30)\npipe.attach(k40.IntraDOMCalibrator)\npipe.attach(IntraDOMCalibrationPlotter)\npipe.drain()"
      ]
    }
  ],
  "metadata": {
    "kernelspec": {
      "display_name": "Python 3",
      "language": "python",
      "name": "python3"
    },
    "language_info": {
      "codemirror_mode": {
        "name": "ipython",
        "version": 3
      },
      "file_extension": ".py",
      "mimetype": "text/x-python",
      "name": "python",
      "nbconvert_exporter": "python",
      "pygments_lexer": "ipython3",
      "version": "3.6.0"
    }
  },
  "nbformat": 4,
  "nbformat_minor": 0
}