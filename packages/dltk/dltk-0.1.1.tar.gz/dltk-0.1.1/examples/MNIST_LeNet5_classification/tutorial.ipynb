{
 "cells": [
  {
   "cell_type": "code",
   "execution_count": 1,
   "metadata": {
    "collapsed": true,
    "scrolled": true
   },
   "outputs": [],
   "source": [
    "from __future__ import print_function\n",
    "from __future__ import absolute_import\n",
    "\n",
    "import os\n",
    "import sys\n",
    "import tensorflow as tf\n",
    "import numpy as np\n",
    "\n",
    "from matplotlib import pyplot as plt\n",
    "from IPython import display\n",
    "\n",
    "%matplotlib inline"
   ]
  },
  {
   "cell_type": "code",
   "execution_count": 2,
   "metadata": {},
   "outputs": [
    {
     "name": "stdout",
     "output_type": "stream",
     "text": [
      "Extracting ../../data/MNIST_data/train-images-idx3-ubyte.gz\n",
      "Extracting ../../data/MNIST_data/train-labels-idx1-ubyte.gz\n",
      "Extracting ../../data/MNIST_data/t10k-images-idx3-ubyte.gz\n",
      "Extracting ../../data/MNIST_data/t10k-labels-idx1-ubyte.gz\n"
     ]
    }
   ],
   "source": [
    "# Import the LeNet5 model from the DLTK models\n",
    "from dltk.models.classification.lenet import LeNet5\n",
    "\n",
    "# Set the CUDA_VISIBLE_DEVICES environmental variable to GPU ids to compute on\n",
    "os.environ[\"CUDA_VISIBLE_DEVICES\"] = '0'\n",
    "\n",
    "# Create a save path for log files and model parameters\n",
    "save_path =  '/tmp/MNIST_LeNet5'\n",
    "os.system(\"rm -rf \" + save_path)\n",
    "tf.logging.set_verbosity(tf.logging.ERROR)\n",
    "\n",
    "# Load the MNIST data via tf.examples\n",
    "from tensorflow.examples.tutorials.mnist import input_data\n",
    "mnist = input_data.read_data_sets('../../data/MNIST_data', one_hot=False)"
   ]
  },
  {
   "cell_type": "code",
   "execution_count": 3,
   "metadata": {
    "scrolled": false
   },
   "outputs": [
    {
     "name": "stdout",
     "output_type": "stream",
     "text": [
      "[None, 4, 4, 32]\n",
      "[None, 512]\n"
     ]
    }
   ],
   "source": [
    "# Build the LeNet5 network graph\n",
    "net = LeNet5(num_classes=10)\n",
    "\n",
    "# Create placeholders to feed input data during execution\n",
    "xp = tf.placeholder(tf.float32, shape=[None, 784])\n",
    "yp = tf.placeholder(tf.int32, shape=[None, ])\n",
    "\n",
    "# Reshape the input images x_in from [None, 784] to [None, 28, 28, 1], where the tensor dimensions are [batch_size,x,y,channels]\n",
    "x_in = tf.reshape(xp, [-1, 28, 28, 1])\n",
    "\n",
    "# Compute the mean categorical crossentropy as a loss function\n",
    "logits_ = net(x_in)['logits']\n",
    "labels_ = yp\n",
    "crossentropy_ = tf.nn.sparse_softmax_cross_entropy_with_logits(logits=logits_, labels=labels_)\n",
    "loss_ = tf.reduce_mean(crossentropy_, name='crossentropy')\n",
    "\n",
    "# Employ an ADAM optimiser to minimise the crossentropy loss during training\n",
    "train_op = tf.train.AdamOptimizer(learning_rate=0.01).minimize(loss_)"
   ]
  },
  {
   "cell_type": "code",
   "execution_count": 4,
   "metadata": {},
   "outputs": [
    {
     "name": "stdout",
     "output_type": "stream",
     "text": [
      "[None, 4, 4, 32]\n",
      "[None, 512]\n"
     ]
    }
   ],
   "source": [
    "# Create additional ops to visualise the network output and track the training steps\n",
    "y_hat_ = net(x_in, is_training=False)['y_']\n",
    "val_acc_ = tf.reduce_mean(tf.cast(tf.equal(tf.cast(yp, tf.int32), tf.cast(y_hat_, tf.int32)), tf.float32))\n",
    "global_step = tf.Variable(0, name='global_step', trainable=False)"
   ]
  },
  {
   "cell_type": "code",
   "execution_count": null,
   "metadata": {
    "collapsed": true
   },
   "outputs": [],
   "source": [
    "# Set up a supervisor to continuously save and log the training progress, handle queues and initialise variables \n",
    "step = 0\n",
    "loss_moving = []  \n",
    "acc_moving = []  \n",
    "sv = tf.train.Supervisor(logdir=save_path,\n",
    "                         is_chief=True,\n",
    "                         summary_op=None,\n",
    "                         save_summaries_secs=30,\n",
    "                         save_model_secs=60,\n",
    "                         global_step=global_step)\n",
    "\n",
    "s = sv.prepare_or_wait_for_session(config=tf.ConfigProto())"
   ]
  },
  {
   "cell_type": "code",
   "execution_count": null,
   "metadata": {
    "scrolled": false
   },
   "outputs": [
    {
     "data": {
      "image/png": "[encoded data removed]",
      "text/plain": [
       "<matplotlib.figure.Figure at 0x7fa6b2b46a10>"
      ]
     },
     "metadata": {},
     "output_type": "display_data"
    }
   ],
   "source": [
    "# Training loop  \n",
    "while not sv.should_stop():\n",
    "    \n",
    "    # Get a batch of training input pairs of x (image) and y (label)\n",
    "    batch = mnist.train.next_batch(100)\n",
    "    \n",
    "    # Run the training op and the loss\n",
    "    _, logits, loss = s.run([train_op, logits_, loss_], feed_dict={xp: batch[0], yp: batch[1]})\n",
    "    loss_moving.append(loss)    \n",
    "        \n",
    "    # Compute the validation accuracy\n",
    "    val_acc = s.run(val_acc_, feed_dict={xp: mnist.test.images, yp: mnist.test.labels})\n",
    "    acc_moving.append(val_acc)\n",
    "    \n",
    "    # Visualise all inputs, outputs and losses during each training step\n",
    "    if step % 20 == 0:\n",
    "        plt.close()\n",
    "        f, axarr = plt.subplots(1, 3, figsize=(16,4))\n",
    "        \n",
    "        axarr[0].imshow(np.reshape(batch[0], [-1, 28, 28])[-1], cmap='gray', vmin=0, vmax=1)\n",
    "        axarr[0].set_title('Input x; Prediction = {}; Truth = {};'.format(np.argmax(logits[-1,]), batch[1][-1,]))\n",
    "        axarr[0].axis('off')\n",
    "        \n",
    "        axarr[1].semilogy(loss_moving)\n",
    "        axarr[1].set_title('Training loss')\n",
    "        axarr[1].axis('on')\n",
    "        \n",
    "        axarr[2].semilogy(acc_moving)\n",
    "        axarr[2].set_title('Test acc')\n",
    "        axarr[2].axis('on')\n",
    "\n",
    "        display.clear_output(wait=True)\n",
    "        display.display(plt.gcf())\n",
    "\n",
    "    step += 1"
   ]
  },
  {
   "cell_type": "code",
   "execution_count": null,
   "metadata": {
    "collapsed": true
   },
   "outputs": [],
   "source": []
  }
 ],
 "metadata": {
  "kernelspec": {
   "display_name": "Python 2",
   "language": "python",
   "name": "python2"
  },
  "language_info": {
   "codemirror_mode": {
    "name": "ipython",
    "version": 2
   },
   "file_extension": ".py",
   "mimetype": "text/x-python",
   "name": "python",
   "nbconvert_exporter": "python",
   "pygments_lexer": "ipython2",
   "version": "2.7.12"
  }
 },
 "nbformat": 4,
 "nbformat_minor": 1
}
