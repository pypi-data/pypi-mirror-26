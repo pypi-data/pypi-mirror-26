{
 "cells": [
  {
   "cell_type": "code",
   "execution_count": 4,
   "metadata": {},
   "outputs": [],
   "source": [
    "import sys\n",
    "import urllib\n",
    "\n",
    "from keras.layers import Dense, Flatten, Conv2D\n",
    "\n",
    "from keras.models import Sequential, model_from_json\n",
    "from keras.datasets import mnist\n",
    "from keras.utils import to_categorical\n",
    "\n",
    "from keras.callbacks import ModelCheckpoint, TensorBoard\n",
    "from keras import optimizers\n",
    "\n",
    "import numpy as np\n",
    "from PIL import Image\n",
    "from io import BytesIO\n",
    "\n",
    "from studio import fs_tracker, model_util, magics"
   ]
  },
  {
   "cell_type": "markdown",
   "metadata": {},
   "source": [
    "### Set up learning parameters"
   ]
  },
  {
   "cell_type": "code",
   "execution_count": 5,
   "metadata": {},
   "outputs": [],
   "source": [
    "batch_size = 128\n",
    "no_epochs = 10\n",
    "lr = 0.01"
   ]
  },
  {
   "cell_type": "markdown",
   "metadata": {},
   "source": [
    "### Define model"
   ]
  },
  {
   "cell_type": "code",
   "execution_count": 6,
   "metadata": {},
   "outputs": [
    {
     "name": "stdout",
     "output_type": "stream",
     "text": [
      "_________________________________________________________________\n",
      "Layer (type)                 Output Shape              Param #   \n",
      "=================================================================\n",
      "flatten_2 (Flatten)          (None, 784)               0         \n",
      "_________________________________________________________________\n",
      "dense_4 (Dense)              (None, 128)               100480    \n",
      "_________________________________________________________________\n",
      "dense_5 (Dense)              (None, 128)               16512     \n",
      "_________________________________________________________________\n",
      "dense_6 (Dense)              (None, 10)                1290      \n",
      "=================================================================\n",
      "Total params: 118,282\n",
      "Trainable params: 118,282\n",
      "Non-trainable params: 0\n",
      "_________________________________________________________________\n"
     ]
    }
   ],
   "source": [
    "model = Sequential()\n",
    "model.add(Flatten(input_shape=(28, 28, 1)))\n",
    "model.add(Dense(128, activation='relu'))\n",
    "model.add(Dense(128, activation='relu'))\n",
    "\n",
    "model.add(Dense(10, activation='softmax'))\n",
    "model.summary()\n",
    "model_str = model.to_json()"
   ]
  },
  {
   "cell_type": "markdown",
   "metadata": {},
   "source": [
    "### Load data, train model"
   ]
  },
  {
   "cell_type": "code",
   "execution_count": 8,
   "metadata": {},
   "outputs": [
    {
     "name": "stdout",
     "output_type": "stream",
     "text": [
      "Running studio with experiment key 18979623-8553-45c9-9f07-2d2d485877c1\n",
      "Experiment progress can be viewed/shared at:\n",
      "https://20171022t133148-dot-studio-ed756.appspot.com/experiment/18979623-8553-45c9-9f07-2d2d485877c1\n",
      "studio-run --capture=/Users/peter.zhokhov/.studioml/experiments/18979623-8553-45c9-9f07-2d2d485877c1/_ns:_ns --force-git --experiment=18979623-8553-45c9-9f07-2d2d485877c1 _script.py\n",
      "Using TensorFlow backend.\n",
      "2017-10-23 10:19:50.647875: W tensorflow/core/platform/cpu_feature_guard.cc:45] The TensorFlow library wasn't compiled to use SSE4.2 instructions, but these are available on your machine and could speed up CPU computations.\n",
      "2017-10-23 10:19:50.648012: W tensorflow/core/platform/cpu_feature_guard.cc:45] The TensorFlow library wasn't compiled to use AVX instructions, but these are available on your machine and could speed up CPU computations.\n",
      "2017-10-23 10:19:50.648027: W tensorflow/core/platform/cpu_feature_guard.cc:45] The TensorFlow library wasn't compiled to use AVX2 instructions, but these are available on your machine and could speed up CPU computations.\n",
      "2017-10-23 10:19:50.648039: W tensorflow/core/platform/cpu_feature_guard.cc:45] The TensorFlow library wasn't compiled to use FMA instructions, but these are available on your machine and could speed up CPU computations.\n",
      "Train on 60000 samples, validate on 10000 samples\n",
      "Epoch 1/10\n",
      "60000/60000 [==============================] - ETA: 0s - loss: 1.3003 - acc: 0.6680 - val_loss: 0.6134 - val_acc: 0.8550\n",
      "Epoch 2/10\n",
      "60000/60000 [==============================] - ETA: 0s - loss: 0.5047 - acc: 0.8703 - val_loss: 0.4042 - val_acc: 0.8920\n",
      "Epoch 3/10\n",
      "60000/60000 [==============================] - ETA: 0s - loss: 0.3908 - acc: 0.8919 - val_loss: 0.3460 - val_acc: 0.9024\n",
      "Epoch 4/10\n",
      "60000/60000 [==============================] - ETA: 0s - loss: 0.3457 - acc: 0.9024 - val_loss: 0.3138 - val_acc: 0.9117\n",
      "Epoch 5/10\n",
      "60000/60000 [==============================] - ETA: 0s - loss: 0.3186 - acc: 0.9092 - val_loss: 0.2929 - val_acc: 0.9157\n",
      "Epoch 6/10\n",
      "60000/60000 [==============================] - ETA: 0s - loss: 0.2986 - acc: 0.9151 - val_loss: 0.2772 - val_acc: 0.9220\n",
      "Epoch 7/10\n",
      "60000/60000 [==============================] - ETA: 0s - loss: 0.2830 - acc: 0.9192 - val_loss: 0.2640 - val_acc: 0.9253\n",
      "Epoch 8/10\n",
      "60000/60000 [==============================] - ETA: 0s - loss: 0.2698 - acc: 0.9229 - val_loss: 0.2529 - val_acc: 0.9286\n",
      "Epoch 9/10\n",
      "60000/60000 [==============================] - ETA: 0s - loss: 0.2578 - acc: 0.9264 - val_loss: 0.2428 - val_acc: 0.9305\n",
      "Epoch 10/10\n",
      "60000/60000 [==============================] - ETA: 0s - loss: 0.2470 - acc: 0.9290 - val_loss: 0.2339 - val_acc: 0.9331\n",
      "\n"
     ]
    }
   ],
   "source": [
    "%%studio_run\n",
    "(x_train, y_train), (x_test, y_test) = mnist.load_data()\n",
    "x_train = x_train.reshape(60000, 28, 28, 1)\n",
    "x_test = x_test.reshape(10000, 28, 28, 1)\n",
    "x_train = x_train.astype('float32')\n",
    "x_test = x_test.astype('float32')\n",
    "x_train /= 255\n",
    "x_test /= 255\n",
    "\n",
    "# convert class vectors to binary class matrices\n",
    "y_train = to_categorical(y_train, 10)\n",
    "y_test = to_categorical(y_test, 10)\n",
    "\n",
    "\n",
    "model = model_from_json(model_str)\n",
    "\n",
    "model.compile(loss='categorical_crossentropy', optimizer=optimizers.SGD(lr=lr),\n",
    "              metrics=['accuracy'])\n",
    "\n",
    "checkpointer = ModelCheckpoint(\n",
    "    fs_tracker.get_model_directory() +\n",
    "    '/checkpoint.{epoch:02d}-{val_loss:.2f}.hdf')\n",
    "\n",
    "tbcallback = TensorBoard(log_dir=fs_tracker.get_tensorboard_dir(),\n",
    "                         histogram_freq=0,\n",
    "                         write_graph=True,\n",
    "                         write_images=True)\n",
    "\n",
    "training_stats = model.fit(\n",
    "    x_train, y_train, validation_data=(\n",
    "        x_test,\n",
    "        y_test),\n",
    "    epochs=no_epochs,\n",
    "    callbacks=[checkpointer, tbcallback],\n",
    "    batch_size=batch_size)\n",
    "\n",
    "history = training_stats.history\n",
    "\n",
    "# clean up large data to prevent it being sent back\n",
    "x_train = None\n",
    "y_train = None\n",
    "x_test = None\n",
    "y_test = None"
   ]
  },
  {
   "cell_type": "markdown",
   "metadata": {},
   "source": [
    "### Visualize results"
   ]
  },
  {
   "cell_type": "code",
   "execution_count": 9,
   "metadata": {},
   "outputs": [],
   "source": [
    "import matplotlib\n",
    "import numpy as np\n",
    "import matplotlib.pyplot as plt\n",
    "%matplotlib inline"
   ]
  },
  {
   "cell_type": "code",
   "execution_count": 10,
   "metadata": {},
   "outputs": [
    {
     "data": {
      "text/plain": [
       "[<matplotlib.lines.Line2D at 0x12acb7310>,\n",
       " <matplotlib.lines.Line2D at 0x12addd390>]"
      ]
     },
     "execution_count": 10,
     "metadata": {},
     "output_type": "execute_result"
    },
    {
     "data": {
      "image/png": "[encoded data removed]",
      "text/plain": [
       "<matplotlib.figure.Figure at 0x12ad6b590>"
      ]
     },
     "metadata": {},
     "output_type": "display_data"
    }
   ],
   "source": [
    "plt.plot(range(no_epochs), history['loss'], range(no_epochs), history['val_loss'])"
   ]
  },
  {
   "cell_type": "code",
   "execution_count": null,
   "metadata": {},
   "outputs": [],
   "source": []
  }
 ],
 "metadata": {
  "kernelspec": {
   "display_name": "Python 2",
   "language": "python",
   "name": "python2"
  },
  "language_info": {
   "codemirror_mode": {
    "name": "ipython",
    "version": 2
   },
   "file_extension": ".py",
   "mimetype": "text/x-python",
   "name": "python",
   "nbconvert_exporter": "python",
   "pygments_lexer": "ipython2",
   "version": "2.7.10"
  }
 },
 "nbformat": 4,
 "nbformat_minor": 2
}
