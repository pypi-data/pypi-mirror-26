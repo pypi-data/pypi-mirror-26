{
 "cells": [
  {
   "cell_type": "code",
   "execution_count": 1,
   "metadata": {
    "collapsed": true,
    "nbsphinx": "hidden"
   },
   "outputs": [],
   "source": [
    "%load_ext autoreload\n",
    "%autoreload 2\n",
    "import os\n",
    "os.sys.path.insert(0, '/home/schirrmr/braindecode/code/braindecode/')"
   ]
  },
  {
   "cell_type": "markdown",
   "metadata": {},
   "source": [
    "# Read and Decode BBCI Data"
   ]
  },
  {
   "cell_type": "markdown",
   "metadata": {},
   "source": [
    "This tutorial shows how to read and decode BBCI data."
   ]
  },
  {
   "cell_type": "markdown",
   "metadata": {},
   "source": [
    "## Setup logging to see outputs"
   ]
  },
  {
   "cell_type": "code",
   "execution_count": 2,
   "metadata": {
    "collapsed": true
   },
   "outputs": [],
   "source": [
    "import logging\n",
    "import sys\n",
    "logging.basicConfig(format='%(asctime)s %(levelname)s : %(message)s',\n",
    "                     level=logging.DEBUG, stream=sys.stdout)\n",
    "log = logging.getLogger()"
   ]
  },
  {
   "cell_type": "markdown",
   "metadata": {},
   "source": [
    "## Load and preprocess data"
   ]
  },
  {
   "cell_type": "markdown",
   "metadata": {},
   "source": [
    "First set the filename and the sensors you want to load. If you set\n",
    "\n",
    "```python\n",
    "load_sensor_names=None\n",
    "```\n",
    "\n",
    "or just remove the parameter from the function call, all sensors will be loaded."
   ]
  },
  {
   "cell_type": "code",
   "execution_count": 3,
   "metadata": {},
   "outputs": [
    {
     "name": "stdout",
     "output_type": "stream",
     "text": [
      "Creating RawArray with float64 data, n_channels=3, n_times=3451320\n",
      "    Range : 0 ... 3451319 =      0.000 ...  6902.638 secs\n",
      "Ready.\n"
     ]
    }
   ],
   "source": [
    "from braindecode.datasets.bbci import BBCIDataset\n",
    "train_filename = '/home/schirrmr/data/BBCI-without-last-runs/BhNoMoSc1S001R01_ds10_1-12.BBCI.mat'\n",
    "cnt = BBCIDataset(train_filename, load_sensor_names=['C3', 'CPz', 'C4']).load()"
   ]
  },
  {
   "cell_type": "markdown",
   "metadata": {},
   "source": [
    "### Preprocessing on continous data"
   ]
  },
  {
   "cell_type": "markdown",
   "metadata": {},
   "source": [
    "First remove the stimulus channel, than apply any preprocessing you like. There are some very few directions available from Braindecode, such as resample_cnt. But you can apply any function on the chan x time matrix of the mne raw object (`cnt` in the code) by calling `mne_apply` with two arguments:\n",
    "\n",
    "1. Your function (2d-array-> 2darray), that transforms the channel x timesteps data array\n",
    "2. the Raw data object from mne itself"
   ]
  },
  {
   "cell_type": "code",
   "execution_count": 4,
   "metadata": {},
   "outputs": [
    {
     "name": "stdout",
     "output_type": "stream",
     "text": [
      "2017-10-18 14:49:04,115 WARNING : This is not causal, uses future data....\n",
      "2017-10-18 14:49:04,116 INFO : Resampling from 500.000000 to 250.000000 Hz.\n",
      "Creating RawArray with float64 data, n_channels=3, n_times=1725660\n",
      "    Range : 0 ... 1725659 =      0.000 ...  6902.636 secs\n",
      "Ready.\n"
     ]
    }
   ],
   "source": [
    "from braindecode.mne_ext.signalproc import resample_cnt, mne_apply\n",
    "from braindecode.datautil.signalproc import exponential_running_standardize\n",
    "# Remove stimulus channel\n",
    "cnt = cnt.drop_channels(['STI 014'])\n",
    "cnt = resample_cnt(cnt, 250)\n",
    "# mne apply will apply the function to the data (a 2d-numpy-array)\n",
    "# have to transpose data back and forth, since\n",
    "# exponential_running_standardize expects time x chans order\n",
    "# while mne object has chans x time order\n",
    "cnt = mne_apply(lambda a: exponential_running_standardize(\n",
    "    a.T, init_block_size=1000,factor_new=0.001, eps=1e-4).T,\n",
    "    cnt)"
   ]
  },
  {
   "cell_type": "markdown",
   "metadata": {},
   "source": [
    "## Transform to epoched dataset "
   ]
  },
  {
   "cell_type": "markdown",
   "metadata": {},
   "source": [
    "Braindecode supplies the `create_signal_target_from_raw_mne` function, which will transform the mne raw object into a `SignalAndTarget` object for use in Braindecode.\n",
    "`name_to_code` should be an `OrderedDict` that maps class names to either one or a list of marker codes for that class."
   ]
  },
  {
   "cell_type": "code",
   "execution_count": 5,
   "metadata": {},
   "outputs": [
    {
     "name": "stdout",
     "output_type": "stream",
     "text": [
      "2017-10-18 14:49:05,873 INFO : Trial per class:\n",
      "Counter({'Feet': 225, 'Right': 224, 'Rest': 224, 'Left': 224})\n"
     ]
    }
   ],
   "source": [
    "from braindecode.datautil.trial_segment import create_signal_target_from_raw_mne\n",
    "from collections import OrderedDict\n",
    "# can also give lists of marker codes in case a class has multiple marker codes...\n",
    "name_to_code = OrderedDict([('Right', 1), ('Left', 2), ('Rest', 3), ('Feet', 4)])\n",
    "segment_ival_ms = [-500,4000]\n",
    "\n",
    "train_set = create_signal_target_from_raw_mne(cnt, name_to_code, segment_ival_ms)"
   ]
  },
  {
   "cell_type": "markdown",
   "metadata": {},
   "source": [
    "## Same for test set"
   ]
  },
  {
   "cell_type": "code",
   "execution_count": 6,
   "metadata": {
    "scrolled": false
   },
   "outputs": [
    {
     "name": "stdout",
     "output_type": "stream",
     "text": [
      "Creating RawArray with float64 data, n_channels=3, n_times=617090\n",
      "    Range : 0 ... 617089 =      0.000 ...  1234.178 secs\n",
      "Ready.\n",
      "2017-10-18 14:49:06,720 WARNING : This is not causal, uses future data....\n",
      "2017-10-18 14:49:06,721 INFO : Resampling from 500.000000 to 250.000000 Hz.\n",
      "Creating RawArray with float64 data, n_channels=3, n_times=308545\n",
      "    Range : 0 ... 308544 =      0.000 ...  1234.176 secs\n",
      "Ready.\n",
      "2017-10-18 14:49:07,117 INFO : Trial per class:\n",
      "Counter({'Feet': 40, 'Left': 40, 'Rest': 40, 'Right': 40})\n"
     ]
    }
   ],
   "source": [
    "test_filename = '/home/schirrmr/data/BBCI-only-last-runs/BhNoMoSc1S001R13_ds10_1-2BBCI.mat'\n",
    "cnt = BBCIDataset(test_filename, load_sensor_names=['C3', 'CPz', 'C4']).load()\n",
    "# Remove stimulus channel\n",
    "cnt = cnt.drop_channels(['STI 014'])\n",
    "cnt = resample_cnt(cnt, 250)\n",
    "cnt = mne_apply(lambda a: exponential_running_standardize(\n",
    "    a.T, init_block_size=1000,factor_new=0.001, eps=1e-4).T,\n",
    "    cnt)\n",
    "test_set = create_signal_target_from_raw_mne(cnt, name_to_code, segment_ival_ms)"
   ]
  },
  {
   "cell_type": "markdown",
   "metadata": {},
   "source": [
    "<div class=\"alert alert-info\">\n",
    "\n",
    "In case of start and stop markers, provide a `name_to_stop_codes` dictionary (same as for the start codes in this example) as a final argument to `create_signal_target_from_raw_mne`. See [Read and Decode BBCI Data with Start-Stop-Markers Tutorial](BBCI_Data_Start_Stop.html)\n",
    "\n",
    "\n",
    "</div>"
   ]
  },
  {
   "cell_type": "markdown",
   "metadata": {},
   "source": [
    "Split off a validation set."
   ]
  },
  {
   "cell_type": "code",
   "execution_count": 7,
   "metadata": {
    "collapsed": true
   },
   "outputs": [],
   "source": [
    "from braindecode.datautil.splitters import split_into_two_sets\n",
    "\n",
    "train_set, valid_set = split_into_two_sets(train_set, first_set_fraction=0.8)\n"
   ]
  },
  {
   "cell_type": "markdown",
   "metadata": {},
   "source": [
    "## Create the model"
   ]
  },
  {
   "cell_type": "code",
   "execution_count": 8,
   "metadata": {},
   "outputs": [],
   "source": [
    "from braindecode.models.shallow_fbcsp import ShallowFBCSPNet\n",
    "from torch import nn\n",
    "from braindecode.torch_ext.util import set_random_seeds\n",
    "\n",
    "# Set if you want to use GPU\n",
    "# You can also use torch.cuda.is_available() to determine if cuda is available on your machine.\n",
    "cuda = True\n",
    "set_random_seeds(seed=20170629, cuda=cuda)\n",
    "\n",
    "\n",
    "# This will determine how many crops are processed in parallel\n",
    "input_time_length = train_set.X.shape[2]\n",
    "in_chans = 3\n",
    "n_classes = 4\n",
    "# final_conv_length determines the size of the receptive field of the ConvNet\n",
    "model = ShallowFBCSPNet(in_chans=in_chans, n_classes=n_classes, input_time_length=input_time_length,\n",
    "                        final_conv_length='auto').create_network()\n",
    "\n",
    "if cuda:\n",
    "    model.cuda()"
   ]
  },
  {
   "cell_type": "markdown",
   "metadata": {},
   "source": [
    "## Setup optimizer and iterator"
   ]
  },
  {
   "cell_type": "code",
   "execution_count": 9,
   "metadata": {
    "collapsed": true
   },
   "outputs": [],
   "source": [
    "from torch import optim\n",
    "import numpy as np\n",
    "\n",
    "optimizer = optim.Adam(model.parameters())\n",
    "\n",
    "\n",
    "from braindecode.datautil.iterators import BalancedBatchSizeIterator\n",
    "iterator = BalancedBatchSizeIterator(batch_size=32)\n"
   ]
  },
  {
   "cell_type": "markdown",
   "metadata": {},
   "source": [
    "## Setup Monitors, Loss function, Stop Criteria"
   ]
  },
  {
   "cell_type": "code",
   "execution_count": 10,
   "metadata": {
    "collapsed": true
   },
   "outputs": [],
   "source": [
    "from braindecode.experiments.experiment import Experiment\n",
    "from braindecode.experiments.monitors import RuntimeMonitor, LossMonitor, CroppedTrialMisclassMonitor, MisclassMonitor\n",
    "from braindecode.experiments.stopcriteria import MaxEpochs\n",
    "import torch.nn.functional as F\n",
    "import torch as th\n",
    "from braindecode.torch_ext.modules import Expression\n",
    "\n",
    "\n",
    "loss_function = F.nll_loss\n",
    "\n",
    "model_constraint = None\n",
    "monitors = [LossMonitor(), MisclassMonitor(col_suffix='misclass'), \n",
    "            RuntimeMonitor(),]\n",
    "stop_criterion = MaxEpochs(20)\n",
    "exp = Experiment(model, train_set, valid_set, test_set, iterator, loss_function, optimizer, model_constraint,\n",
    "          monitors, stop_criterion, remember_best_column='valid_misclass',\n",
    "          run_after_early_stop=True, batch_modifier=None, cuda=cuda)"
   ]
  },
  {
   "cell_type": "markdown",
   "metadata": {},
   "source": [
    "## Run experiment"
   ]
  },
  {
   "cell_type": "code",
   "execution_count": 11,
   "metadata": {},
   "outputs": [
    {
     "name": "stdout",
     "output_type": "stream",
     "text": [
      "2017-10-18 14:49:09,981 INFO : Run until first stop...\n",
      "2017-10-18 14:49:10,516 INFO : Epoch 0\n",
      "2017-10-18 14:49:10,518 INFO : train_loss                3.82544\n",
      "2017-10-18 14:49:10,519 INFO : valid_loss                3.72206\n",
      "2017-10-18 14:49:10,521 INFO : test_loss                 3.90394\n",
      "2017-10-18 14:49:10,522 INFO : train_misclass            0.76184\n",
      "2017-10-18 14:49:10,523 INFO : valid_misclass            0.76536\n",
      "2017-10-18 14:49:10,524 INFO : test_misclass             0.75625\n",
      "2017-10-18 14:49:10,525 INFO : runtime                   0.00000\n",
      "2017-10-18 14:49:10,526 INFO : \n",
      "2017-10-18 14:49:10,528 INFO : New best valid_misclass: 0.765363\n",
      "2017-10-18 14:49:10,529 INFO : \n",
      "2017-10-18 14:49:11,113 INFO : Time only for training updates: 0.58s\n",
      "2017-10-18 14:49:11,225 INFO : Epoch 1\n",
      "2017-10-18 14:49:11,227 INFO : train_loss                2.65212\n",
      "2017-10-18 14:49:11,227 INFO : valid_loss                2.87961\n",
      "2017-10-18 14:49:11,228 INFO : test_loss                 3.03328\n",
      "2017-10-18 14:49:11,229 INFO : train_misclass            0.71866\n",
      "2017-10-18 14:49:11,230 INFO : valid_misclass            0.73184\n",
      "2017-10-18 14:49:11,231 INFO : test_misclass             0.71250\n",
      "2017-10-18 14:49:11,231 INFO : runtime                   1.13249\n",
      "2017-10-18 14:49:11,232 INFO : \n",
      "2017-10-18 14:49:11,236 INFO : New best valid_misclass: 0.731844\n",
      "2017-10-18 14:49:11,237 INFO : \n",
      "2017-10-18 14:49:11,788 INFO : Time only for training updates: 0.55s\n",
      "2017-10-18 14:49:11,901 INFO : Epoch 2\n",
      "2017-10-18 14:49:11,902 INFO : train_loss                0.60632\n",
      "2017-10-18 14:49:11,903 INFO : valid_loss                0.61914\n",
      "2017-10-18 14:49:11,904 INFO : test_loss                 0.81521\n",
      "2017-10-18 14:49:11,905 INFO : train_misclass            0.24791\n",
      "2017-10-18 14:49:11,906 INFO : valid_misclass            0.27933\n",
      "2017-10-18 14:49:11,907 INFO : test_misclass             0.33750\n",
      "2017-10-18 14:49:11,908 INFO : runtime                   0.67471\n",
      "2017-10-18 14:49:11,909 INFO : \n",
      "2017-10-18 14:49:11,912 INFO : New best valid_misclass: 0.279330\n",
      "2017-10-18 14:49:11,912 INFO : \n",
      "2017-10-18 14:49:12,466 INFO : Time only for training updates: 0.55s\n",
      "2017-10-18 14:49:12,569 INFO : Epoch 3\n",
      "2017-10-18 14:49:12,570 INFO : train_loss                0.58626\n",
      "2017-10-18 14:49:12,571 INFO : valid_loss                0.62863\n",
      "2017-10-18 14:49:12,572 INFO : test_loss                 0.85559\n",
      "2017-10-18 14:49:12,573 INFO : train_misclass            0.23677\n",
      "2017-10-18 14:49:12,573 INFO : valid_misclass            0.27933\n",
      "2017-10-18 14:49:12,574 INFO : test_misclass             0.38750\n",
      "2017-10-18 14:49:12,575 INFO : runtime                   0.67924\n",
      "2017-10-18 14:49:12,576 INFO : \n",
      "2017-10-18 14:49:12,578 INFO : New best valid_misclass: 0.279330\n",
      "2017-10-18 14:49:12,579 INFO : \n",
      "2017-10-18 14:49:13,124 INFO : Time only for training updates: 0.55s\n",
      "2017-10-18 14:49:13,237 INFO : Epoch 4\n",
      "2017-10-18 14:49:13,238 INFO : train_loss                0.48600\n",
      "2017-10-18 14:49:13,239 INFO : valid_loss                0.56644\n",
      "2017-10-18 14:49:13,240 INFO : test_loss                 0.76693\n",
      "2017-10-18 14:49:13,241 INFO : train_misclass            0.19777\n",
      "2017-10-18 14:49:13,241 INFO : valid_misclass            0.26816\n",
      "2017-10-18 14:49:13,242 INFO : test_misclass             0.31250\n",
      "2017-10-18 14:49:13,243 INFO : runtime                   0.65711\n",
      "2017-10-18 14:49:13,244 INFO : \n",
      "2017-10-18 14:49:13,246 INFO : New best valid_misclass: 0.268156\n",
      "2017-10-18 14:49:13,247 INFO : \n",
      "2017-10-18 14:49:13,794 INFO : Time only for training updates: 0.55s\n",
      "2017-10-18 14:49:13,902 INFO : Epoch 5\n",
      "2017-10-18 14:49:13,903 INFO : train_loss                0.42357\n",
      "2017-10-18 14:49:13,904 INFO : valid_loss                0.52202\n",
      "2017-10-18 14:49:13,905 INFO : test_loss                 0.79227\n",
      "2017-10-18 14:49:13,906 INFO : train_misclass            0.14485\n",
      "2017-10-18 14:49:13,907 INFO : valid_misclass            0.23464\n",
      "2017-10-18 14:49:13,908 INFO : test_misclass             0.34375\n",
      "2017-10-18 14:49:13,909 INFO : runtime                   0.66920\n",
      "2017-10-18 14:49:13,910 INFO : \n",
      "2017-10-18 14:49:13,912 INFO : New best valid_misclass: 0.234637\n",
      "2017-10-18 14:49:13,913 INFO : \n",
      "2017-10-18 14:49:14,460 INFO : Time only for training updates: 0.55s\n",
      "2017-10-18 14:49:14,564 INFO : Epoch 6\n",
      "2017-10-18 14:49:14,565 INFO : train_loss                0.35458\n",
      "2017-10-18 14:49:14,566 INFO : valid_loss                0.51023\n",
      "2017-10-18 14:49:14,567 INFO : test_loss                 0.73139\n",
      "2017-10-18 14:49:14,567 INFO : train_misclass            0.11142\n",
      "2017-10-18 14:49:14,568 INFO : valid_misclass            0.20112\n",
      "2017-10-18 14:49:14,569 INFO : test_misclass             0.27500\n",
      "2017-10-18 14:49:14,570 INFO : runtime                   0.66613\n",
      "2017-10-18 14:49:14,571 INFO : \n",
      "2017-10-18 14:49:14,573 INFO : New best valid_misclass: 0.201117\n",
      "2017-10-18 14:49:14,573 INFO : \n",
      "2017-10-18 14:49:15,116 INFO : Time only for training updates: 0.54s\n",
      "2017-10-18 14:49:15,239 INFO : Epoch 7\n",
      "2017-10-18 14:49:15,240 INFO : train_loss                0.34202\n",
      "2017-10-18 14:49:15,241 INFO : valid_loss                0.57987\n",
      "2017-10-18 14:49:15,242 INFO : test_loss                 0.79927\n",
      "2017-10-18 14:49:15,243 INFO : train_misclass            0.12117\n",
      "2017-10-18 14:49:15,244 INFO : valid_misclass            0.25698\n",
      "2017-10-18 14:49:15,244 INFO : test_misclass             0.32500\n",
      "2017-10-18 14:49:15,245 INFO : runtime                   0.65630\n",
      "2017-10-18 14:49:15,246 INFO : \n",
      "2017-10-18 14:49:15,792 INFO : Time only for training updates: 0.54s\n",
      "2017-10-18 14:49:15,901 INFO : Epoch 8\n",
      "2017-10-18 14:49:15,903 INFO : train_loss                0.33938\n",
      "2017-10-18 14:49:15,904 INFO : valid_loss                0.45325\n",
      "2017-10-18 14:49:15,906 INFO : test_loss                 0.69027\n",
      "2017-10-18 14:49:15,908 INFO : train_misclass            0.09749\n",
      "2017-10-18 14:49:15,910 INFO : valid_misclass            0.18994\n",
      "2017-10-18 14:49:15,912 INFO : test_misclass             0.27500\n",
      "2017-10-18 14:49:15,914 INFO : runtime                   0.67587\n",
      "2017-10-18 14:49:15,916 INFO : \n",
      "2017-10-18 14:49:15,921 INFO : New best valid_misclass: 0.189944\n",
      "2017-10-18 14:49:15,923 INFO : \n",
      "2017-10-18 14:49:16,472 INFO : Time only for training updates: 0.55s\n",
      "2017-10-18 14:49:16,594 INFO : Epoch 9\n",
      "2017-10-18 14:49:16,596 INFO : train_loss                0.27006\n",
      "2017-10-18 14:49:16,597 INFO : valid_loss                0.48788\n",
      "2017-10-18 14:49:16,598 INFO : test_loss                 0.70244\n",
      "2017-10-18 14:49:16,599 INFO : train_misclass            0.07799\n",
      "2017-10-18 14:49:16,600 INFO : valid_misclass            0.18994\n",
      "2017-10-18 14:49:16,601 INFO : test_misclass             0.26250\n",
      "2017-10-18 14:49:16,602 INFO : runtime                   0.68033\n",
      "2017-10-18 14:49:16,603 INFO : \n",
      "2017-10-18 14:49:16,606 INFO : New best valid_misclass: 0.189944\n",
      "2017-10-18 14:49:16,607 INFO : \n",
      "2017-10-18 14:49:17,155 INFO : Time only for training updates: 0.55s\n",
      "2017-10-18 14:49:17,265 INFO : Epoch 10\n",
      "2017-10-18 14:49:17,266 INFO : train_loss                0.27437\n",
      "2017-10-18 14:49:17,267 INFO : valid_loss                0.48265\n",
      "2017-10-18 14:49:17,268 INFO : test_loss                 0.72002\n",
      "2017-10-18 14:49:17,269 INFO : train_misclass            0.10028\n",
      "2017-10-18 14:49:17,269 INFO : valid_misclass            0.18994\n",
      "2017-10-18 14:49:17,270 INFO : test_misclass             0.28125\n",
      "2017-10-18 14:49:17,271 INFO : runtime                   0.68285\n",
      "2017-10-18 14:49:17,272 INFO : \n",
      "2017-10-18 14:49:17,274 INFO : New best valid_misclass: 0.189944\n",
      "2017-10-18 14:49:17,275 INFO : \n",
      "2017-10-18 14:49:17,822 INFO : Time only for training updates: 0.55s\n",
      "2017-10-18 14:49:17,931 INFO : Epoch 11\n",
      "2017-10-18 14:49:17,932 INFO : train_loss                0.21230\n",
      "2017-10-18 14:49:17,933 INFO : valid_loss                0.50609\n",
      "2017-10-18 14:49:17,934 INFO : test_loss                 0.76182\n",
      "2017-10-18 14:49:17,935 INFO : train_misclass            0.06267\n",
      "2017-10-18 14:49:17,936 INFO : valid_misclass            0.19553\n",
      "2017-10-18 14:49:17,937 INFO : test_misclass             0.32500\n",
      "2017-10-18 14:49:17,938 INFO : runtime                   0.66693\n",
      "2017-10-18 14:49:17,938 INFO : \n",
      "2017-10-18 14:49:18,484 INFO : Time only for training updates: 0.54s\n",
      "2017-10-18 14:49:18,588 INFO : Epoch 12\n"
     ]
    },
    {
     "name": "stdout",
     "output_type": "stream",
     "text": [
      "2017-10-18 14:49:18,589 INFO : train_loss                0.20668\n",
      "2017-10-18 14:49:18,590 INFO : valid_loss                0.49837\n",
      "2017-10-18 14:49:18,591 INFO : test_loss                 0.80085\n",
      "2017-10-18 14:49:18,592 INFO : train_misclass            0.05989\n",
      "2017-10-18 14:49:18,593 INFO : valid_misclass            0.19553\n",
      "2017-10-18 14:49:18,593 INFO : test_misclass             0.29375\n",
      "2017-10-18 14:49:18,594 INFO : runtime                   0.66253\n",
      "2017-10-18 14:49:18,595 INFO : \n",
      "2017-10-18 14:49:19,138 INFO : Time only for training updates: 0.54s\n",
      "2017-10-18 14:49:19,243 INFO : Epoch 13\n",
      "2017-10-18 14:49:19,244 INFO : train_loss                0.21032\n",
      "2017-10-18 14:49:19,245 INFO : valid_loss                0.51930\n",
      "2017-10-18 14:49:19,246 INFO : test_loss                 0.71668\n",
      "2017-10-18 14:49:19,247 INFO : train_misclass            0.05571\n",
      "2017-10-18 14:49:19,247 INFO : valid_misclass            0.17877\n",
      "2017-10-18 14:49:19,248 INFO : test_misclass             0.23125\n",
      "2017-10-18 14:49:19,249 INFO : runtime                   0.65338\n",
      "2017-10-18 14:49:19,250 INFO : \n",
      "2017-10-18 14:49:19,252 INFO : New best valid_misclass: 0.178771\n",
      "2017-10-18 14:49:19,253 INFO : \n",
      "2017-10-18 14:49:19,797 INFO : Time only for training updates: 0.54s\n",
      "2017-10-18 14:49:19,902 INFO : Epoch 14\n",
      "2017-10-18 14:49:19,903 INFO : train_loss                0.21152\n",
      "2017-10-18 14:49:19,904 INFO : valid_loss                0.59317\n",
      "2017-10-18 14:49:19,905 INFO : test_loss                 0.86458\n",
      "2017-10-18 14:49:19,905 INFO : train_misclass            0.08078\n",
      "2017-10-18 14:49:19,906 INFO : valid_misclass            0.26257\n",
      "2017-10-18 14:49:19,907 INFO : test_misclass             0.33125\n",
      "2017-10-18 14:49:19,908 INFO : runtime                   0.65903\n",
      "2017-10-18 14:49:19,909 INFO : \n",
      "2017-10-18 14:49:20,455 INFO : Time only for training updates: 0.55s\n",
      "2017-10-18 14:49:20,558 INFO : Epoch 15\n",
      "2017-10-18 14:49:20,559 INFO : train_loss                0.16412\n",
      "2017-10-18 14:49:20,560 INFO : valid_loss                0.52701\n",
      "2017-10-18 14:49:20,560 INFO : test_loss                 0.81032\n",
      "2017-10-18 14:49:20,561 INFO : train_misclass            0.04178\n",
      "2017-10-18 14:49:20,562 INFO : valid_misclass            0.22346\n",
      "2017-10-18 14:49:20,563 INFO : test_misclass             0.31875\n",
      "2017-10-18 14:49:20,564 INFO : runtime                   0.65824\n",
      "2017-10-18 14:49:20,565 INFO : \n",
      "2017-10-18 14:49:21,115 INFO : Time only for training updates: 0.55s\n",
      "2017-10-18 14:49:21,218 INFO : Epoch 16\n",
      "2017-10-18 14:49:21,219 INFO : train_loss                0.15339\n",
      "2017-10-18 14:49:21,220 INFO : valid_loss                0.46977\n",
      "2017-10-18 14:49:21,221 INFO : test_loss                 0.69221\n",
      "2017-10-18 14:49:21,222 INFO : train_misclass            0.04178\n",
      "2017-10-18 14:49:21,223 INFO : valid_misclass            0.18436\n",
      "2017-10-18 14:49:21,223 INFO : test_misclass             0.28750\n",
      "2017-10-18 14:49:21,224 INFO : runtime                   0.65977\n",
      "2017-10-18 14:49:21,225 INFO : \n",
      "2017-10-18 14:49:21,780 INFO : Time only for training updates: 0.55s\n",
      "2017-10-18 14:49:21,898 INFO : Epoch 17\n",
      "2017-10-18 14:49:21,900 INFO : train_loss                0.13049\n",
      "2017-10-18 14:49:21,902 INFO : valid_loss                0.52095\n",
      "2017-10-18 14:49:21,904 INFO : test_loss                 0.67899\n",
      "2017-10-18 14:49:21,906 INFO : train_misclass            0.03203\n",
      "2017-10-18 14:49:21,908 INFO : valid_misclass            0.20112\n",
      "2017-10-18 14:49:21,910 INFO : test_misclass             0.26875\n",
      "2017-10-18 14:49:21,912 INFO : runtime                   0.66726\n",
      "2017-10-18 14:49:21,914 INFO : \n",
      "2017-10-18 14:49:22,460 INFO : Time only for training updates: 0.54s\n",
      "2017-10-18 14:49:22,580 INFO : Epoch 18\n",
      "2017-10-18 14:49:22,581 INFO : train_loss                0.16951\n",
      "2017-10-18 14:49:22,582 INFO : valid_loss                0.47970\n",
      "2017-10-18 14:49:22,584 INFO : test_loss                 0.68255\n",
      "2017-10-18 14:49:22,586 INFO : train_misclass            0.03760\n",
      "2017-10-18 14:49:22,587 INFO : valid_misclass            0.18436\n",
      "2017-10-18 14:49:22,589 INFO : test_misclass             0.25000\n",
      "2017-10-18 14:49:22,590 INFO : runtime                   0.67831\n",
      "2017-10-18 14:49:22,592 INFO : \n",
      "2017-10-18 14:49:23,137 INFO : Time only for training updates: 0.54s\n",
      "2017-10-18 14:49:23,242 INFO : Epoch 19\n",
      "2017-10-18 14:49:23,243 INFO : train_loss                0.15005\n",
      "2017-10-18 14:49:23,244 INFO : valid_loss                0.51176\n",
      "2017-10-18 14:49:23,245 INFO : test_loss                 0.81808\n",
      "2017-10-18 14:49:23,247 INFO : train_misclass            0.02925\n",
      "2017-10-18 14:49:23,248 INFO : valid_misclass            0.20670\n",
      "2017-10-18 14:49:23,250 INFO : test_misclass             0.33125\n",
      "2017-10-18 14:49:23,252 INFO : runtime                   0.67642\n",
      "2017-10-18 14:49:23,254 INFO : \n",
      "2017-10-18 14:49:23,805 INFO : Time only for training updates: 0.55s\n",
      "2017-10-18 14:49:23,915 INFO : Epoch 20\n",
      "2017-10-18 14:49:23,916 INFO : train_loss                0.30546\n",
      "2017-10-18 14:49:23,917 INFO : valid_loss                0.57079\n",
      "2017-10-18 14:49:23,918 INFO : test_loss                 0.71543\n",
      "2017-10-18 14:49:23,919 INFO : train_misclass            0.11142\n",
      "2017-10-18 14:49:23,919 INFO : valid_misclass            0.22346\n",
      "2017-10-18 14:49:23,920 INFO : test_misclass             0.29375\n",
      "2017-10-18 14:49:23,921 INFO : runtime                   0.66810\n",
      "2017-10-18 14:49:23,922 INFO : \n",
      "2017-10-18 14:49:23,923 INFO : Setup for second stop...\n",
      "2017-10-18 14:49:23,927 INFO : Train loss to reach 0.21032\n",
      "2017-10-18 14:49:23,927 INFO : Run until second stop...\n",
      "2017-10-18 14:49:24,045 INFO : Epoch 14\n",
      "2017-10-18 14:49:24,046 INFO : train_loss                0.27198\n",
      "2017-10-18 14:49:24,047 INFO : valid_loss                0.51930\n",
      "2017-10-18 14:49:24,048 INFO : test_loss                 0.71668\n",
      "2017-10-18 14:49:24,049 INFO : train_misclass            0.08027\n",
      "2017-10-18 14:49:24,050 INFO : valid_misclass            0.17877\n",
      "2017-10-18 14:49:24,051 INFO : test_misclass             0.23125\n",
      "2017-10-18 14:49:24,052 INFO : runtime                   0.12837\n",
      "2017-10-18 14:49:24,053 INFO : \n",
      "2017-10-18 14:49:24,591 INFO : Time only for training updates: 0.54s\n",
      "2017-10-18 14:49:24,716 INFO : Epoch 15\n",
      "2017-10-18 14:49:24,718 INFO : train_loss                0.24563\n",
      "2017-10-18 14:49:24,719 INFO : valid_loss                0.40956\n",
      "2017-10-18 14:49:24,720 INFO : test_loss                 0.78730\n",
      "2017-10-18 14:49:24,720 INFO : train_misclass            0.09253\n",
      "2017-10-18 14:49:24,721 INFO : valid_misclass            0.16201\n",
      "2017-10-18 14:49:24,722 INFO : test_misclass             0.32500\n",
      "2017-10-18 14:49:24,723 INFO : runtime                   0.65847\n",
      "2017-10-18 14:49:24,724 INFO : \n",
      "2017-10-18 14:49:25,258 INFO : Time only for training updates: 0.53s\n",
      "2017-10-18 14:49:25,396 INFO : Epoch 16\n",
      "2017-10-18 14:49:25,398 INFO : train_loss                0.25085\n",
      "2017-10-18 14:49:25,399 INFO : valid_loss                0.32632\n",
      "2017-10-18 14:49:25,400 INFO : test_loss                 0.63585\n",
      "2017-10-18 14:49:25,401 INFO : train_misclass            0.08361\n",
      "2017-10-18 14:49:25,402 INFO : valid_misclass            0.13966\n",
      "2017-10-18 14:49:25,403 INFO : test_misclass             0.24375\n",
      "2017-10-18 14:49:25,404 INFO : runtime                   0.66659\n",
      "2017-10-18 14:49:25,405 INFO : \n",
      "2017-10-18 14:49:25,942 INFO : Time only for training updates: 0.54s\n",
      "2017-10-18 14:49:26,061 INFO : Epoch 17\n",
      "2017-10-18 14:49:26,062 INFO : train_loss                0.24986\n",
      "2017-10-18 14:49:26,063 INFO : valid_loss                0.29653\n",
      "2017-10-18 14:49:26,064 INFO : test_loss                 0.66642\n",
      "2017-10-18 14:49:26,064 INFO : train_misclass            0.07135\n",
      "2017-10-18 14:49:26,065 INFO : valid_misclass            0.12291\n",
      "2017-10-18 14:49:26,066 INFO : test_misclass             0.25000\n",
      "2017-10-18 14:49:26,066 INFO : runtime                   0.68367\n",
      "2017-10-18 14:49:26,067 INFO : \n",
      "2017-10-18 14:49:26,601 INFO : Time only for training updates: 0.53s\n",
      "2017-10-18 14:49:26,720 INFO : Epoch 18\n",
      "2017-10-18 14:49:26,721 INFO : train_loss                0.22972\n",
      "2017-10-18 14:49:26,722 INFO : valid_loss                0.28783\n",
      "2017-10-18 14:49:26,723 INFO : test_loss                 0.73136\n",
      "2017-10-18 14:49:26,724 INFO : train_misclass            0.08138\n"
     ]
    },
    {
     "name": "stdout",
     "output_type": "stream",
     "text": [
      "2017-10-18 14:49:26,724 INFO : valid_misclass            0.10056\n",
      "2017-10-18 14:49:26,725 INFO : test_misclass             0.29375\n",
      "2017-10-18 14:49:26,726 INFO : runtime                   0.65866\n",
      "2017-10-18 14:49:26,727 INFO : \n",
      "2017-10-18 14:49:27,260 INFO : Time only for training updates: 0.53s\n",
      "2017-10-18 14:49:27,379 INFO : Epoch 19\n",
      "2017-10-18 14:49:27,381 INFO : train_loss                0.20183\n",
      "2017-10-18 14:49:27,382 INFO : valid_loss                0.28063\n",
      "2017-10-18 14:49:27,382 INFO : test_loss                 0.77345\n",
      "2017-10-18 14:49:27,383 INFO : train_misclass            0.06689\n",
      "2017-10-18 14:49:27,384 INFO : valid_misclass            0.10615\n",
      "2017-10-18 14:49:27,385 INFO : test_misclass             0.28750\n",
      "2017-10-18 14:49:27,385 INFO : runtime                   0.65963\n",
      "2017-10-18 14:49:27,386 INFO : \n",
      "2017-10-18 14:49:27,920 INFO : Time only for training updates: 0.53s\n",
      "2017-10-18 14:49:28,040 INFO : Epoch 20\n",
      "2017-10-18 14:49:28,041 INFO : train_loss                0.18902\n",
      "2017-10-18 14:49:28,042 INFO : valid_loss                0.22547\n",
      "2017-10-18 14:49:28,043 INFO : test_loss                 0.70254\n",
      "2017-10-18 14:49:28,044 INFO : train_misclass            0.05574\n",
      "2017-10-18 14:49:28,045 INFO : valid_misclass            0.08939\n",
      "2017-10-18 14:49:28,045 INFO : test_misclass             0.25000\n",
      "2017-10-18 14:49:28,046 INFO : runtime                   0.66006\n",
      "2017-10-18 14:49:28,047 INFO : \n",
      "2017-10-18 14:49:28,581 INFO : Time only for training updates: 0.53s\n",
      "2017-10-18 14:49:28,700 INFO : Epoch 21\n",
      "2017-10-18 14:49:28,701 INFO : train_loss                0.29048\n",
      "2017-10-18 14:49:28,702 INFO : valid_loss                0.28206\n",
      "2017-10-18 14:49:28,702 INFO : test_loss                 0.71023\n",
      "2017-10-18 14:49:28,703 INFO : train_misclass            0.08696\n",
      "2017-10-18 14:49:28,704 INFO : valid_misclass            0.12291\n",
      "2017-10-18 14:49:28,705 INFO : test_misclass             0.26250\n",
      "2017-10-18 14:49:28,706 INFO : runtime                   0.66014\n",
      "2017-10-18 14:49:28,706 INFO : \n",
      "2017-10-18 14:49:29,240 INFO : Time only for training updates: 0.53s\n",
      "2017-10-18 14:49:29,359 INFO : Epoch 22\n",
      "2017-10-18 14:49:29,360 INFO : train_loss                0.21449\n",
      "2017-10-18 14:49:29,361 INFO : valid_loss                0.24655\n",
      "2017-10-18 14:49:29,362 INFO : test_loss                 0.73126\n",
      "2017-10-18 14:49:29,363 INFO : train_misclass            0.07692\n",
      "2017-10-18 14:49:29,363 INFO : valid_misclass            0.10615\n",
      "2017-10-18 14:49:29,364 INFO : test_misclass             0.29375\n",
      "2017-10-18 14:49:29,365 INFO : runtime                   0.65944\n",
      "2017-10-18 14:49:29,366 INFO : \n",
      "2017-10-18 14:49:29,900 INFO : Time only for training updates: 0.53s\n",
      "2017-10-18 14:49:30,019 INFO : Epoch 23\n",
      "2017-10-18 14:49:30,020 INFO : train_loss                0.17421\n",
      "2017-10-18 14:49:30,021 INFO : valid_loss                0.22841\n",
      "2017-10-18 14:49:30,022 INFO : test_loss                 0.73756\n",
      "2017-10-18 14:49:30,022 INFO : train_misclass            0.06132\n",
      "2017-10-18 14:49:30,023 INFO : valid_misclass            0.10056\n",
      "2017-10-18 14:49:30,024 INFO : test_misclass             0.28125\n",
      "2017-10-18 14:49:30,025 INFO : runtime                   0.65980\n",
      "2017-10-18 14:49:30,025 INFO : \n",
      "2017-10-18 14:49:30,559 INFO : Time only for training updates: 0.53s\n",
      "2017-10-18 14:49:30,678 INFO : Epoch 24\n",
      "2017-10-18 14:49:30,679 INFO : train_loss                0.16850\n",
      "2017-10-18 14:49:30,680 INFO : valid_loss                0.20984\n",
      "2017-10-18 14:49:30,681 INFO : test_loss                 0.69789\n",
      "2017-10-18 14:49:30,682 INFO : train_misclass            0.04013\n",
      "2017-10-18 14:49:30,683 INFO : valid_misclass            0.06704\n",
      "2017-10-18 14:49:30,683 INFO : test_misclass             0.26875\n",
      "2017-10-18 14:49:30,684 INFO : runtime                   0.65934\n",
      "2017-10-18 14:49:30,685 INFO : \n"
     ]
    }
   ],
   "source": [
    "exp.run()"
   ]
  },
  {
   "cell_type": "markdown",
   "metadata": {},
   "source": [
    "We arrive around 26%, exact value depending on stars :))"
   ]
  }
 ],
 "metadata": {
  "celltoolbar": "Edit Metadata",
  "kernelspec": {
   "display_name": "Python 3",
   "language": "python",
   "name": "python3"
  },
  "language_info": {
   "codemirror_mode": {
    "name": "ipython",
    "version": 3
   },
   "file_extension": ".py",
   "mimetype": "text/x-python",
   "name": "python",
   "nbconvert_exporter": "python",
   "pygments_lexer": "ipython3",
   "version": "3.6.2"
  }
 },
 "nbformat": 4,
 "nbformat_minor": 2
}
