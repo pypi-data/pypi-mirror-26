{
 "cells": [
  {
   "cell_type": "markdown",
   "metadata": {},
   "source": [
    "## Roboticia-quattro : Tutorial 1"
   ]
  },
  {
   "cell_type": "markdown",
   "metadata": {},
   "source": [
    "### How to move the legs using Pypot Primitives"
   ]
  },
  {
   "cell_type": "markdown",
   "metadata": {},
   "source": [
    "Instanciate the robot :"
   ]
  },
  {
   "cell_type": "code",
   "execution_count": 1,
   "metadata": {
    "collapsed": false
   },
   "outputs": [],
   "source": [
    "from roboticia_quattro import RoboticiaQuattro"
   ]
  },
  {
   "cell_type": "code",
   "execution_count": 2,
   "metadata": {
    "collapsed": false
   },
   "outputs": [],
   "source": [
    "robot = RoboticiaQuattro(simulator='vrep')\n",
    "# if you're lucky enough to have a real robot, just instanciate without any parameters :\n",
    "# robot = RoboticiaQuattro()"
   ]
  },
  {
   "cell_type": "code",
   "execution_count": null,
   "metadata": {
    "collapsed": true
   },
   "outputs": [],
   "source": []
  },
  {
   "cell_type": "code",
   "execution_count": null,
   "metadata": {
    "collapsed": true
   },
   "outputs": [],
   "source": []
  },
  {
   "cell_type": "code",
   "execution_count": null,
   "metadata": {
    "collapsed": false
   },
   "outputs": [],
   "source": [
    "robot.close()"
   ]
  },
  {
   "cell_type": "code",
   "execution_count": 44,
   "metadata": {
    "collapsed": false
   },
   "outputs": [],
   "source": [
    "robot.reset_simulation()"
   ]
  },
  {
   "cell_type": "code",
   "execution_count": 4,
   "metadata": {
    "collapsed": true
   },
   "outputs": [],
   "source": [
    "for m in robot.motors :\n",
    "    m.pid = (8.0,15.0,0.0)"
   ]
  },
  {
   "cell_type": "code",
   "execution_count": 4,
   "metadata": {
    "collapsed": false
   },
   "outputs": [
    {
     "name": "stdout",
     "output_type": "stream",
     "text": [
      "0\n",
      "0\n",
      "0\n",
      "0\n",
      "0\n",
      "0\n",
      "0\n",
      "0\n",
      "0\n",
      "0\n",
      "0\n",
      "0\n"
     ]
    }
   ],
   "source": [
    "for m in robot.motors :\n",
    "    print(m.pid)"
   ]
  },
  {
   "cell_type": "code",
   "execution_count": 4,
   "metadata": {
    "collapsed": true
   },
   "outputs": [],
   "source": [
    "import math as mt\n",
    "import time"
   ]
  },
  {
   "cell_type": "code",
   "execution_count": 5,
   "metadata": {
    "collapsed": true
   },
   "outputs": [],
   "source": [
    "from pypot.primitive import LoopPrimitive"
   ]
  },
  {
   "cell_type": "code",
   "execution_count": 6,
   "metadata": {
    "collapsed": true
   },
   "outputs": [],
   "source": [
    "def AK_side(side_a,side_b,side_c):\n",
    "    alpha = mt.acos((side_b**2 + side_c**2 - side_a**2)/(2*side_b*side_c))\n",
    "    beta = mt.acos((side_a**2 + side_c**2 - side_b**2)/(2*side_a*side_c))\n",
    "    gamma = mt.pi - alpha - beta\n",
    "    return (alpha,beta,gamma)\n",
    "\n",
    "def AK_angle(side_a,side_b,gamma):\n",
    "        side_c = mt.sqrt (side_a**2 + side_b**2 - 2*side_a*side_b*mt.cos(gamma))\n",
    "        alpha = mt.acos((side_b**2 + side_c**2 - side_a**2)/(2*side_b*side_c))\n",
    "        beta= mt.pi - alpha - gamma\n",
    "        return (side_c,alpha,beta)"
   ]
  },
  {
   "cell_type": "code",
   "execution_count": 10,
   "metadata": {
    "collapsed": false
   },
   "outputs": [
    {
     "data": {
      "text/plain": [
       "[<DxlMotor name=m11 id=11 pos=-0.0>,\n",
       " <DxlMotor name=m12 id=12 pos=-0.0>,\n",
       " <DxlMotor name=m13 id=13 pos=-0.0>]"
      ]
     },
     "execution_count": 10,
     "metadata": {},
     "output_type": "execute_result"
    }
   ],
   "source": [
    "robot.leg1"
   ]
  },
  {
   "cell_type": "code",
   "execution_count": 11,
   "metadata": {
    "collapsed": false
   },
   "outputs": [],
   "source": [
    "class Leg(LoopPrimitive):\n",
    "    def __init__(self,robot,leg,refresh_freq=50):\n",
    "        self.robot = robot\n",
    "        LoopPrimitive.__init__(self, robot,refresh_freq)\n",
    "        fake_motors = getattr(self.robot, leg)\n",
    "        self.knee = fake_motors[2]\n",
    "        self.hip = fake_motors[1]\n",
    "        self.hip_lateral = fake_motors[0]\n",
    "        self.motors = fake_motors\n",
    "        \n",
    "        # size of segment's leg            \n",
    "        self.shin = 79\n",
    "        self.thigh = 72\n",
    "        self.pelvis = 38\n",
    "    \n",
    "    @property      \n",
    "    def get_pos(self):\n",
    "        (side_c,alpha,beta) = AK_angle(self.thigh,self.shin,mt.pi-abs(mt.radians(self.knee.present_position)))\n",
    "        # what knee flexion\n",
    "        flex = mt.copysign(1,self.knee.present_position)\n",
    "        # calcul de l'angle beta_2 entre side_c et la veticale\n",
    "        beta_2 = mt.radians(self.hip.present_position)+beta*flex\n",
    "        theta = mt.radians(self.hip_lateral.present_position)\n",
    "        \n",
    "        high_leg = mt.cos(beta_2)*side_c+self.pelvis\n",
    "        \n",
    "        high = mt.cos(theta)*high_leg\n",
    "        distance = mt.sin(beta_2)*side_c\n",
    "        balance = mt.sin(theta)*high_leg\n",
    "        \n",
    "        return (high,distance,flex,balance)\n",
    "      \n",
    "    \n",
    "    def set_pos(self,h,d,b):\n",
    "        high_leg = mt.sqrt(h**2+b**2)\n",
    "        side_c = mt.sqrt((high_leg-self.pelvis)**2+d**2)\n",
    "        beta_2 = mt.asin(d/side_c)\n",
    "        (alpha,beta,gamma) = AK_side(self.thigh,self.shin,side_c)\n",
    "        \n",
    "        angle_hip = mt.degrees(beta_2 - beta*self.f)\n",
    "        angle_knee = self.f*mt.degrees(mt.pi - gamma)\n",
    "        angle_hip_lateral = mt.degrees(mt.asin(b/high_leg))\n",
    "            \n",
    "        return(angle_hip_lateral, angle_hip, angle_knee)\n",
    "        \n",
    "    def h_limit(self,d):\n",
    "        pass\n",
    "        \n",
    "    def d_limit(self,h):\n",
    "        pass\n",
    "        \n",
    "    def setup(self):\n",
    "        (self.h,self.d,self.f,self.b) = self.get_pos\n",
    "        \n",
    "        \n",
    "    def update(self):\n",
    "        (angle_hip_lateral, angle_hip, angle_knee) = self.set_pos(self.h,self.d,self.b)\n",
    "        self.hip.goal_position = angle_hip\n",
    "        self.knee.goal_position = angle_knee\n",
    "        self.hip_lateral.goal_position = angle_hip_lateral\n",
    "        \n",
    "    \n",
    "    def move(self,speed,cycle,*args):\n",
    "        if cycle == 'go':\n",
    "            if len(args)>0 and self.d+speed > args[0] : #multiplier par le signe de la vitesse pour gérer les vitesses négatives\n",
    "                self.d = args[0]\n",
    "                return True\n",
    "            else :\n",
    "                self.d += speed\n",
    "                return False\n",
    "            \n",
    "                     \n",
    "        if cycle == 'back':\n",
    "            if self.h-speed > args[0] and self.d-speed > args[1] :\n",
    "                self.d -= speed\n",
    "                self.h -= speed\n",
    "                return False\n",
    "            \n",
    "            if self.d-speed > args[1] :\n",
    "                self.h = args[0]\n",
    "                self.d -= speed\n",
    "                return False\n",
    "            \n",
    "            if self.h+speed < args[2] : \n",
    "                self.d = args[1]\n",
    "                self.h += speed\n",
    "                return False\n",
    "            else :\n",
    "                self.h = args[2]\n",
    "                return True\n",
    "            \n",
    "                    \n",
    "        if cycle == 'balance':\n",
    "            if len(args)>0 and mt.copysign(1,speed)*(self.b+speed) > mt.copysign(1,speed)*args[0] : #multiplier par le signe de la vitesse pour gérer les vitesses négatives\n",
    "                self.b = args[0]\n",
    "                return True\n",
    "            else :\n",
    "                self.b += speed\n",
    "                return False\n",
    "            \n",
    "        if cycle=='release':\n",
    "            if self.h-speed < limit : #multiplier par le signe de la vitesse pour gérer les vitesses négatives\n",
    "                self.h = limit\n",
    "                return True\n",
    "            else :\n",
    "                self.h -= speed\n",
    "                return False\n",
    "            \n",
    "        "
   ]
  },
  {
   "cell_type": "code",
   "execution_count": 15,
   "metadata": {
    "collapsed": true
   },
   "outputs": [],
   "source": [
    "leg_rr = Leg(robot,'leg1')"
   ]
  },
  {
   "cell_type": "code",
   "execution_count": 17,
   "metadata": {
    "collapsed": false
   },
   "outputs": [],
   "source": [
    "leg_rr.start()"
   ]
  },
  {
   "cell_type": "code",
   "execution_count": 21,
   "metadata": {
    "collapsed": false
   },
   "outputs": [],
   "source": [
    "leg_rr.h=170"
   ]
  },
  {
   "cell_type": "code",
   "execution_count": 22,
   "metadata": {
    "collapsed": true
   },
   "outputs": [],
   "source": [
    "leg_rl = Leg(robot,'leg4')\n",
    "leg_fr = Leg(robot,'leg2')\n",
    "leg_fl = Leg(robot,'leg3')"
   ]
  },
  {
   "cell_type": "code",
   "execution_count": 23,
   "metadata": {
    "collapsed": true
   },
   "outputs": [],
   "source": [
    "leg_rl.start()"
   ]
  },
  {
   "cell_type": "code",
   "execution_count": 24,
   "metadata": {
    "collapsed": true
   },
   "outputs": [],
   "source": [
    "leg_fr.start()"
   ]
  },
  {
   "cell_type": "code",
   "execution_count": 26,
   "metadata": {
    "collapsed": false
   },
   "outputs": [],
   "source": [
    "leg_fl.start()"
   ]
  },
  {
   "cell_type": "code",
   "execution_count": 27,
   "metadata": {
    "collapsed": true
   },
   "outputs": [],
   "source": [
    "legs = [leg_rr,leg_fr,leg_fl,leg_rl]"
   ]
  },
  {
   "cell_type": "code",
   "execution_count": 29,
   "metadata": {
    "collapsed": false
   },
   "outputs": [],
   "source": [
    "for l in legs:\n",
    "    l.h=170"
   ]
  },
  {
   "cell_type": "code",
   "execution_count": 31,
   "metadata": {
    "collapsed": false
   },
   "outputs": [],
   "source": [
    "leg_rr.f=1"
   ]
  },
  {
   "cell_type": "code",
   "execution_count": 32,
   "metadata": {
    "collapsed": true
   },
   "outputs": [],
   "source": [
    "leg_rl.stop()\n",
    "leg_rr.stop()\n",
    "leg_fl.stop()\n",
    "leg_fr.stop()"
   ]
  },
  {
   "cell_type": "code",
   "execution_count": 33,
   "metadata": {
    "collapsed": true
   },
   "outputs": [],
   "source": [
    "robot.attach_primitive(Leg(robot,'leg1'), 'leg_rr')"
   ]
  },
  {
   "cell_type": "code",
   "execution_count": 39,
   "metadata": {
    "collapsed": false
   },
   "outputs": [],
   "source": [
    "robot.leg_rr.stop()"
   ]
  },
  {
   "cell_type": "code",
   "execution_count": null,
   "metadata": {
    "collapsed": true
   },
   "outputs": [],
   "source": []
  },
  {
   "cell_type": "code",
   "execution_count": null,
   "metadata": {
    "collapsed": true
   },
   "outputs": [],
   "source": []
  },
  {
   "cell_type": "code",
   "execution_count": 36,
   "metadata": {
    "collapsed": false
   },
   "outputs": [],
   "source": [
    "robot.attach_primitive(Leg(robot,'leg2'), 'leg_fr')"
   ]
  },
  {
   "cell_type": "code",
   "execution_count": 37,
   "metadata": {
    "collapsed": true
   },
   "outputs": [],
   "source": [
    "robot.attach_primitive(Leg(robot,'leg3'), 'leg_fl')"
   ]
  },
  {
   "cell_type": "code",
   "execution_count": 38,
   "metadata": {
    "collapsed": true
   },
   "outputs": [],
   "source": [
    "robot.attach_primitive(Leg(robot,'leg4'), 'leg_rl')"
   ]
  },
  {
   "cell_type": "code",
   "execution_count": 14,
   "metadata": {
    "collapsed": true
   },
   "outputs": [],
   "source": [
    "robot.compliant = False"
   ]
  },
  {
   "cell_type": "code",
   "execution_count": 40,
   "metadata": {
    "collapsed": false
   },
   "outputs": [],
   "source": [
    "robot.leg_fr.start()\n",
    "robot.leg_fl.start()\n",
    "robot.leg_rr.start()\n",
    "robot.leg_rl.start()"
   ]
  },
  {
   "cell_type": "code",
   "execution_count": 43,
   "metadata": {
    "collapsed": true
   },
   "outputs": [],
   "source": [
    "robot.leg_fr.stop()\n",
    "robot.leg_fl.stop()\n",
    "robot.leg_rr.stop()\n",
    "robot.leg_rl.stop()"
   ]
  },
  {
   "cell_type": "code",
   "execution_count": null,
   "metadata": {
    "collapsed": true
   },
   "outputs": [],
   "source": [
    "robot.close()"
   ]
  },
  {
   "cell_type": "code",
   "execution_count": 16,
   "metadata": {
    "collapsed": false
   },
   "outputs": [],
   "source": [
    "robot.leg_rl.d = 0\n",
    "robot.leg_fl.d = 0\n",
    "robot.leg_rr.d = 0\n",
    "robot.leg_fr.d = 0\n",
    "\n",
    "\n",
    "\n",
    "\n"
   ]
  },
  {
   "cell_type": "code",
   "execution_count": 40,
   "metadata": {
    "collapsed": true
   },
   "outputs": [],
   "source": [
    "robot.leg_rl.b = -20\n",
    "robot.leg_fl.b = -20\n",
    "robot.leg_rr.b = 20\n",
    "robot.leg_fr.b = 20\n",
    "\n",
    "\n",
    "\n",
    "\n"
   ]
  },
  {
   "cell_type": "code",
   "execution_count": 18,
   "metadata": {
    "collapsed": false
   },
   "outputs": [
    {
     "data": {
      "text/plain": [
       "(-20, 20, -20, 20)"
      ]
     },
     "execution_count": 18,
     "metadata": {},
     "output_type": "execute_result"
    }
   ],
   "source": [
    "robot.leg_rl.b, robot.leg_rr.b, robot.leg_fl.b, robot.leg_fr.b"
   ]
  },
  {
   "cell_type": "code",
   "execution_count": 18,
   "metadata": {
    "collapsed": true
   },
   "outputs": [],
   "source": [
    "for i in range(80):\n",
    "    robot.leg_fr.h = 80 + i\n",
    "    robot.leg_fl.h = 80 + i\n",
    "    robot.leg_rr.h = 80 + i\n",
    "    robot.leg_rl.h = 80 + i\n",
    "    time.sleep(0.02)"
   ]
  },
  {
   "cell_type": "code",
   "execution_count": 56,
   "metadata": {
    "collapsed": false
   },
   "outputs": [
    {
     "name": "stdout",
     "output_type": "stream",
     "text": [
      "m11 3.9 31.0\n",
      "m12 -4.6 32.0\n",
      "m13 -12.4 37.0\n",
      "m21 18.2 32.0\n",
      "m22 9.6 32.0\n",
      "m23 4.6 33.0\n",
      "m31 -4.8 32.0\n",
      "m32 -11.0 31.0\n",
      "m33 4.2 35.0\n",
      "m41 14.4 33.0\n",
      "m42 -4.2 32.0\n",
      "m43 -32.6 37.0\n"
     ]
    }
   ],
   "source": [
    "for m in robot.motors :\n",
    "    print(m.name, m.present_load,m.present_temperature)"
   ]
  },
  {
   "cell_type": "code",
   "execution_count": 20,
   "metadata": {
    "collapsed": true
   },
   "outputs": [],
   "source": [
    "robot.leg_fr.h = 140\n",
    "robot.leg_fr.d = 30\n",
    "robot.leg_rl.h = 140\n",
    "robot.leg_rl.d = 10\n",
    "time.sleep(0.1)\n",
    "robot.leg_rl.h = 160\n",
    "robot.leg_fr.h = 160\n"
   ]
  },
  {
   "cell_type": "code",
   "execution_count": null,
   "metadata": {
    "collapsed": true
   },
   "outputs": [],
   "source": []
  },
  {
   "cell_type": "code",
   "execution_count": 21,
   "metadata": {
    "collapsed": true
   },
   "outputs": [],
   "source": [
    "robot.leg_fl.h = 140\n",
    "robot.leg_fl.d = -10\n",
    "robot.leg_rr.h = 140\n",
    "robot.leg_rr.d = -30\n",
    "time.sleep(0.1)\n",
    "robot.leg_fl.h = 160\n",
    "robot.leg_rr.h = 160"
   ]
  },
  {
   "cell_type": "code",
   "execution_count": 72,
   "metadata": {
    "collapsed": true
   },
   "outputs": [],
   "source": [
    "robot.leg_fr.h = 160\n",
    "robot.leg_fl.h = 160\n",
    "robot.leg_rr.h = 160\n",
    "robot.leg_rl.h = 160"
   ]
  },
  {
   "cell_type": "code",
   "execution_count": 19,
   "metadata": {
    "collapsed": true
   },
   "outputs": [],
   "source": [
    "robot.leg_fr.stop()\n",
    "robot.leg_fl.stop()\n",
    "robot.leg_rr.stop()\n",
    "robot.leg_rl.stop()"
   ]
  },
  {
   "cell_type": "code",
   "execution_count": 102,
   "metadata": {
    "collapsed": false
   },
   "outputs": [],
   "source": [
    "c = [False] *8\n",
    "while not (c[0]&c[1]&c[2]&c[3]&c[4]&c[5]&c[6]&c[7]):\n",
    "    c[0] = robot.leg_fl.move(1,'balance',5)\n",
    "    c[1] = robot.leg_fr.move(1,'balance',45)\n",
    "    c[2] = robot.leg_rr.move(1,'balance',45)\n",
    "    c[3] = robot.leg_rl.move(1,'balance',5)\n",
    "    \n",
    "    #c[4] = robot.leg_fr.move(1,'go',30)\n",
    "    c[5] = robot.leg_rl.move(1,'go',20)\n",
    "    c[6] = robot.leg_fl.move(1,'go',10)\n",
    "    c[7] = robot.leg_rr.move(1,'go',-20)\n",
    "    \n",
    "    c[4] = robot.leg_fr.move(1,'back',140,-50,160)\n",
    "    time.sleep(0.02)"
   ]
  },
  {
   "cell_type": "code",
   "execution_count": 103,
   "metadata": {
    "collapsed": true
   },
   "outputs": [],
   "source": [
    "c = [False] *8\n",
    "while not (c[0]&c[1]&c[2]&c[3]&c[4]&c[5]&c[6]&c[7]):\n",
    "    c[0] = robot.leg_fl.move(-1,'balance',-45)\n",
    "    c[1] = robot.leg_fr.move(-1,'balance',-5)\n",
    "    c[2] = robot.leg_rr.move(-1,'balance',-5)\n",
    "    c[3] = robot.leg_rl.move(-1,'balance',-45)\n",
    "    \n",
    "    c[4] = robot.leg_fr.move(1,'go',-20)\n",
    "    c[5] = robot.leg_rl.move(1,'go',50)\n",
    "    c[6] = robot.leg_fl.move(1,'go',40)\n",
    "    c[7] = robot.leg_rr.move(1,'go',10)\n",
    "    time.sleep(0.02)"
   ]
  },
  {
   "cell_type": "code",
   "execution_count": 104,
   "metadata": {
    "collapsed": true
   },
   "outputs": [],
   "source": [
    "while not robot.leg_rl.move(1,'back',140,-50,160) : time.sleep(0.02)"
   ]
  },
  {
   "cell_type": "code",
   "execution_count": 105,
   "metadata": {
    "collapsed": true
   },
   "outputs": [],
   "source": [
    "while not robot.leg_fl.move(1,'back',140,-50,160) : time.sleep(0.02)"
   ]
  },
  {
   "cell_type": "code",
   "execution_count": 106,
   "metadata": {
    "collapsed": true
   },
   "outputs": [],
   "source": [
    "c = [False] *8\n",
    "while not (c[0]&c[1]&c[2]&c[3]&c[4]&c[5]&c[6]&c[7]):\n",
    "    c[0] = robot.leg_fl.move(1,'balance',5)\n",
    "    c[1] = robot.leg_fr.move(1,'balance',45)\n",
    "    c[2] = robot.leg_rr.move(1,'balance',45)\n",
    "    c[3] = robot.leg_rl.move(1,'balance',5)\n",
    "    \n",
    "    c[4] = robot.leg_fr.move(1,'go',20)\n",
    "    c[5] = robot.leg_rl.move(1,'go',-10)\n",
    "    c[6] = robot.leg_fl.move(1,'go',-20)\n",
    "    c[7] = robot.leg_rr.move(1,'go',40)\n",
    "    time.sleep(0.02)"
   ]
  },
  {
   "cell_type": "code",
   "execution_count": 107,
   "metadata": {
    "collapsed": false
   },
   "outputs": [],
   "source": [
    "while not robot.leg_rr.move(1,'back',140,-50,160) : time.sleep(0.02)"
   ]
  },
  {
   "cell_type": "code",
   "execution_count": null,
   "metadata": {
    "collapsed": true
   },
   "outputs": [],
   "source": []
  },
  {
   "cell_type": "code",
   "execution_count": null,
   "metadata": {
    "collapsed": true
   },
   "outputs": [],
   "source": []
  },
  {
   "cell_type": "code",
   "execution_count": 110,
   "metadata": {
    "collapsed": true
   },
   "outputs": [],
   "source": [
    "for i in range(10):\n",
    "    c = [False] *8\n",
    "    while not (c[0]&c[1]&c[2]&c[3]&c[4]&c[5]&c[6]&c[7]):\n",
    "        c[0] = robot.leg_fl.move(1,'balance',5)\n",
    "        c[1] = robot.leg_fr.move(1,'balance',45)\n",
    "        c[2] = robot.leg_rr.move(1,'balance',45)\n",
    "        c[3] = robot.leg_rl.move(1,'balance',5)\n",
    "\n",
    "        #c[4] = robot.leg_fr.move(1,'go',30)\n",
    "        c[5] = robot.leg_rl.move(1,'go',20)\n",
    "        c[6] = robot.leg_fl.move(1,'go',10)\n",
    "        c[7] = robot.leg_rr.move(1,'go',-20)\n",
    "\n",
    "        c[4] = robot.leg_fr.move(1,'back',140,-50,160)\n",
    "        time.sleep(0.02)\n",
    "\n",
    "    c = [False] *8\n",
    "    while not (c[0]&c[1]&c[2]&c[3]&c[4]&c[5]&c[6]&c[7]):\n",
    "        c[0] = robot.leg_fl.move(-1,'balance',-45)\n",
    "        c[1] = robot.leg_fr.move(-1,'balance',-5)\n",
    "        c[2] = robot.leg_rr.move(-1,'balance',-5)\n",
    "        c[3] = robot.leg_rl.move(-1,'balance',-45)\n",
    "\n",
    "        c[4] = robot.leg_fr.move(1,'go',-20)\n",
    "        c[5] = robot.leg_rl.move(1,'go',50)\n",
    "        c[6] = robot.leg_fl.move(1,'go',40)\n",
    "        c[7] = robot.leg_rr.move(1,'go',10)\n",
    "        time.sleep(0.02)\n",
    "\n",
    "    while not robot.leg_rl.move(1,'back',140,-50,160) : time.sleep(0.02)\n",
    "\n",
    "    while not robot.leg_fl.move(1,'back',140,-50,160) : time.sleep(0.02)\n",
    "\n",
    "    c = [False] *8\n",
    "    while not (c[0]&c[1]&c[2]&c[3]&c[4]&c[5]&c[6]&c[7]):\n",
    "        c[0] = robot.leg_fl.move(1,'balance',5)\n",
    "        c[1] = robot.leg_fr.move(1,'balance',45)\n",
    "        c[2] = robot.leg_rr.move(1,'balance',45)\n",
    "        c[3] = robot.leg_rl.move(1,'balance',5)\n",
    "\n",
    "        c[4] = robot.leg_fr.move(1,'go',20)\n",
    "        c[5] = robot.leg_rl.move(1,'go',-10)\n",
    "        c[6] = robot.leg_fl.move(1,'go',-20)\n",
    "        c[7] = robot.leg_rr.move(1,'go',40)\n",
    "        time.sleep(0.02)\n",
    "\n",
    "    while not robot.leg_rr.move(1,'back',140,-50,160) : time.sleep(0.02)"
   ]
  },
  {
   "cell_type": "code",
   "execution_count": null,
   "metadata": {
    "collapsed": true
   },
   "outputs": [],
   "source": []
  },
  {
   "cell_type": "code",
   "execution_count": null,
   "metadata": {
    "collapsed": true
   },
   "outputs": [],
   "source": []
  },
  {
   "cell_type": "code",
   "execution_count": 71,
   "metadata": {
    "collapsed": false
   },
   "outputs": [],
   "source": [
    "robot.leg_rr.h = 160"
   ]
  },
  {
   "cell_type": "code",
   "execution_count": 42,
   "metadata": {
    "collapsed": true
   },
   "outputs": [],
   "source": [
    "class Walk(LoopPrimitive):\n",
    "    \n",
    "    def setup(self):\n",
    "              \n",
    "        #set the walk variable\n",
    "        self.go = True\n",
    "        self.speed = 1\n",
    "        self.new_speed = 1\n",
    "        self.mini = -10\n",
    "        self.maxi = 50\n",
    "        self.high = 20\n",
    "        self.shape = 0.3\n",
    "        self.h = 100\n",
    "        self.balance = 0\n",
    "        \n",
    "        #set the speed for movement\n",
    "        for m in robot.motors : m.moving_speed = 50\n",
    "        \n",
    "        #put the leg verticale\n",
    "        robot.leg_rl.b = -20\n",
    "        robot.leg_fl.b = -20\n",
    "        robot.leg_rr.b = 20\n",
    "        robot.leg_fr.b = 20\n",
    "        time.sleep(2)\n",
    "                \n",
    "        #stand up the robot\n",
    "        robot.leg_fr.h = 150\n",
    "        robot.leg_fl.h = 150\n",
    "        robot.leg_rr.h = 150\n",
    "        robot.leg_rl.h = 150\n",
    "        time.sleep(2)\n",
    "                \n",
    "        #set the leg to be ready to start the walk\n",
    "        for m in robot.motors : m.moving_speed = 0\n",
    "        robot.leg_fr.h = 80\n",
    "        robot.leg_fr.d = 50\n",
    "        time.sleep(0.1)\n",
    "        robot.leg_fr.h = 100\n",
    "        print('leg1')\n",
    "        time.sleep(3)\n",
    "        \n",
    "        \n",
    "        robot.leg_rr.h = 80\n",
    "        robot.leg_rr.d = -10\n",
    "        time.sleep(0.1)\n",
    "        robot.leg_rr.h = 100\n",
    "        print('leg2')\n",
    "        time.sleep(3)\n",
    "        \n",
    "        \n",
    "        for m in robot.motors : m.moving_speed = 50\n",
    "        robot.leg_fr.b = -3\n",
    "        robot.leg_fl.b = -3\n",
    "        robot.leg_rr.b = -3\n",
    "        robot.leg_rl.b = -3\n",
    "        time.sleep(3)\n",
    "    \n",
    "        for m in robot.motors : m.moving_speed = 0\n",
    "        robot.leg_rl.h = 80\n",
    "        robot.leg_rl.d = 30\n",
    "        time.sleep(0.1)\n",
    "        robot.leg_rl.h = 100\n",
    "        print('leg3')\n",
    "        time.sleep(3)\n",
    "        \n",
    "        robot.leg_fl.h = 80\n",
    "        robot.leg_fl.d = 10\n",
    "        time.sleep(0.1)\n",
    "        robot.leg_fl.h = 100\n",
    "        print('leg4')\n",
    "        time.sleep(3)\n",
    "        \n",
    "        for m in robot.motors : m.moving_speed = 50\n",
    "        robot.leg_fr.b = 0\n",
    "        robot.leg_fl.b = 0\n",
    "        robot.leg_rr.b = 0\n",
    "        robot.leg_rl.b = 0\n",
    "        time.sleep(3)\n",
    "        \n",
    "        for m in robot.motors : m.moving_speed = 0\n",
    "        robot.leg_fr.go = False\n",
    "        robot.leg_fr.return_pos = self.step_back(robot.leg_fr.d)\n",
    "        print(robot.leg_fr.return_pos)\n",
    "        robot.leg_fl.go = True\n",
    "        robot.leg_rr.go = True\n",
    "        robot.leg_rl.go = True\n",
    "      \n",
    "       \n",
    "    \n",
    "    def step_back(self,pos_d):\n",
    "        h = self.h\n",
    "        mini = self.mini\n",
    "        high = self.high\n",
    "        shape = self.shape\n",
    "        speed = self.speed\n",
    "        step = [i for i in range(pos_d-3*speed,mini-3*speed,-3*speed)]\n",
    "        step_up = round(len(step)*shape)\n",
    "        step_down = len(step) - step_up\n",
    "        step_list_up = [h-(i+1)*(high/step_up) for i in range(0,step_up)]\n",
    "        step_list_down = [h-i*(high/step_down) for i in range(step_down-1,-1,-1)]\n",
    "        step_list = step_list_up + step_list_down\n",
    "        step_dict = dict(zip(step,step_list))\n",
    "        return step_dict\n",
    "    \n",
    "    def update(self):\n",
    "        \n",
    "               \n",
    "        if robot.leg_fr.d <= self.mini and not robot.leg_fr.go :\n",
    "            robot.leg_fr.go = not robot.leg_fr.go\n",
    "            robot.leg_rl.go = not robot.leg_rl.go\n",
    "            robot.leg_rl.return_pos = self.step_back(robot.leg_rl.d)\n",
    "            self.speed = self.new_speed\n",
    "            \n",
    "        if robot.leg_rl.d <= self.mini and not robot.leg_rl.go :\n",
    "            robot.leg_rl.go = not robot.leg_rl.go\n",
    "            robot.leg_fl.go = not robot.leg_fl.go\n",
    "            robot.leg_fl.return_pos = self.step_back(robot.leg_fl.d)\n",
    "            self.speed = self.new_speed\n",
    "            \n",
    "        if robot.leg_fl.d <= self.mini and not robot.leg_fl.go :\n",
    "            robot.leg_fl.go = not robot.leg_fl.go\n",
    "            robot.leg_rr.go = not robot.leg_rr.go\n",
    "            robot.leg_rr.return_pos = self.step_back(robot.leg_rr.d)\n",
    "            self.speed = self.new_speed\n",
    "            \n",
    "        if robot.leg_rr.d <= self.mini and not robot.leg_rr.go :\n",
    "            robot.leg_rr.go = not robot.leg_rr.go\n",
    "            robot.leg_fr.go = not robot.leg_fr.go\n",
    "            robot.leg_fr.return_pos = self.step_back(robot.leg_fr.d)\n",
    "            self.speed = self.new_speed\n",
    "            \n",
    "        # robot leg is forward\n",
    "        if robot.leg_fr.go : robot.leg_fr.d += self.speed\n",
    "        else : \n",
    "            # we need to use the return_pos dictionnary to have the high of the leg\n",
    "            robot.leg_fr.d += -3*self.speed\n",
    "            robot.leg_fr.h = robot.leg_fr.return_pos[robot.leg_fr.d]\n",
    "            #print('return : d = %f and h = %f' %  (robot.leg_fr.d,robot.leg_fr.h))\n",
    "        \n",
    "        if robot.leg_fl.go : robot.leg_fl.d += self.speed\n",
    "        else : \n",
    "            # we need to use the return_pos dictionnary to have the high of the leg\n",
    "            robot.leg_fl.d += -3*self.speed\n",
    "            robot.leg_fl.h = robot.leg_fl.return_pos[robot.leg_fl.d]\n",
    "            #print('return : d = %f and h = %f' %  (robot.leg_fr.d,robot.leg_fr.h))\n",
    "            \n",
    "        if robot.leg_rr.go : robot.leg_rr.d += self.speed\n",
    "        else : \n",
    "            # we need to use the return_pos dictionnary to have the high of the leg\n",
    "            robot.leg_rr.d += -3*self.speed\n",
    "            robot.leg_rr.h = robot.leg_rr.return_pos[robot.leg_rr.d]\n",
    "            #print('return : d = %f and h = %f' %  (robot.leg_fr.d,robot.leg_fr.h))\n",
    "            \n",
    "        if robot.leg_rl.go : robot.leg_rl.d += self.speed\n",
    "        else : \n",
    "            # we need to use the return_pos dictionnary to have the high of the leg\n",
    "            robot.leg_rl.d += -3*self.speed\n",
    "            robot.leg_rl.h = robot.leg_rl.return_pos[robot.leg_rl.d]\n",
    "            #print('return : d = %f and h = %f' %  (robot.leg_fr.d,robot.leg_fr.h))\n",
    "        #print('go : d = %d' %  (robot.leg_fr.d))\n",
    "        \n",
    "        #robot leg is backward\n",
    "        \n",
    "                        "
   ]
  },
  {
   "cell_type": "code",
   "execution_count": 34,
   "metadata": {
    "collapsed": true
   },
   "outputs": [],
   "source": [
    "walk = Walk(robot,50)"
   ]
  },
  {
   "cell_type": "code",
   "execution_count": 26,
   "metadata": {
    "collapsed": true
   },
   "outputs": [],
   "source": [
    "set_actual_pos(robot)"
   ]
  },
  {
   "cell_type": "code",
   "execution_count": 35,
   "metadata": {
    "collapsed": false,
    "scrolled": true
   },
   "outputs": [
    {
     "name": "stdout",
     "output_type": "stream",
     "text": [
      "leg1\n",
      "leg2\n",
      "leg3\n",
      "leg4\n"
     ]
    },
    {
     "name": "stderr",
     "output_type": "stream",
     "text": [
      "Exception in thread Thread-18:\n",
      "Traceback (most recent call last):\n",
      "  File \"/usr/lib/python3.4/threading.py\", line 920, in _bootstrap_inner\n",
      "    self.run()\n",
      "  File \"/usr/lib/python3.4/threading.py\", line 868, in run\n",
      "    self._target(*self._args, **self._kwargs)\n",
      "  File \"/usr/local/lib/python3.4/dist-packages/pypot/utils/stoppablethread.py\", line 121, in _wrapped_target\n",
      "    self._setup()\n",
      "  File \"/usr/local/lib/python3.4/dist-packages/pypot/primitive/primitive.py\", line 67, in _prim_setup\n",
      "    self.setup()\n",
      "  File \"<ipython-input-33-a5ee8a90684d>\", line 89, in setup\n",
      "    robot.leg_fr.return_pos = self.step_back(robot.leg_fr.d)\n",
      "  File \"<ipython-input-33-a5ee8a90684d>\", line 103, in step_back\n",
      "    step = [i for i in range(pos_d-3*speed,mini-3*speed,-3*speed)]\n",
      "TypeError: 'float' object cannot be interpreted as an integer\n",
      "\n"
     ]
    },
    {
     "ename": "RuntimeError",
     "evalue": "Setup failed, see Thread-18 Tracebackfor details.",
     "output_type": "error",
     "traceback": [
      "\u001b[1;31m---------------------------------------------------------------------------\u001b[0m",
      "\u001b[1;31mRuntimeError\u001b[0m                              Traceback (most recent call last)",
      "\u001b[1;32m<ipython-input-35-0d52d9976659>\u001b[0m in \u001b[0;36m<module>\u001b[1;34m()\u001b[0m\n\u001b[1;32m----> 1\u001b[1;33m \u001b[0mwalk\u001b[0m\u001b[1;33m.\u001b[0m\u001b[0mstart\u001b[0m\u001b[1;33m(\u001b[0m\u001b[1;33m)\u001b[0m\u001b[1;33m\u001b[0m\u001b[0m\n\u001b[0m",
      "\u001b[1;32m/usr/local/lib/python3.4/dist-packages/pypot/primitive/primitive.py\u001b[0m in \u001b[0;36mstart\u001b[1;34m(self)\u001b[0m\n\u001b[0;32m    120\u001b[0m \u001b[1;33m\u001b[0m\u001b[0m\n\u001b[0;32m    121\u001b[0m         \u001b[0mStoppableThread\u001b[0m\u001b[1;33m.\u001b[0m\u001b[0mstart\u001b[0m\u001b[1;33m(\u001b[0m\u001b[0mself\u001b[0m\u001b[1;33m)\u001b[0m\u001b[1;33m\u001b[0m\u001b[0m\n\u001b[1;32m--> 122\u001b[1;33m         \u001b[0mself\u001b[0m\u001b[1;33m.\u001b[0m\u001b[0mwait_to_start\u001b[0m\u001b[1;33m(\u001b[0m\u001b[1;33m)\u001b[0m\u001b[1;33m\u001b[0m\u001b[0m\n\u001b[0m\u001b[0;32m    123\u001b[0m \u001b[1;33m\u001b[0m\u001b[0m\n\u001b[0;32m    124\u001b[0m         \u001b[0mlogger\u001b[0m\u001b[1;33m.\u001b[0m\u001b[0minfo\u001b[0m\u001b[1;33m(\u001b[0m\u001b[1;34m\"Primitive %s started.\"\u001b[0m\u001b[1;33m,\u001b[0m \u001b[0mself\u001b[0m\u001b[1;33m)\u001b[0m\u001b[1;33m\u001b[0m\u001b[0m\n",
      "\u001b[1;32m/usr/local/lib/python3.4/dist-packages/pypot/utils/stoppablethread.py\u001b[0m in \u001b[0;36mwait_to_start\u001b[1;34m(self, allow_failure)\u001b[0m\n\u001b[0;32m     84\u001b[0m             \u001b[0mself\u001b[0m\u001b[1;33m.\u001b[0m\u001b[0m_thread\u001b[0m\u001b[1;33m.\u001b[0m\u001b[0mjoin\u001b[0m\u001b[1;33m(\u001b[0m\u001b[1;33m)\u001b[0m\u001b[1;33m\u001b[0m\u001b[0m\n\u001b[0;32m     85\u001b[0m             raise RuntimeError('Setup failed, see {} Traceback'\n\u001b[1;32m---> 86\u001b[1;33m                                'for details.'.format(self._thread.name))\n\u001b[0m\u001b[0;32m     87\u001b[0m \u001b[1;33m\u001b[0m\u001b[0m\n\u001b[0;32m     88\u001b[0m     \u001b[1;32mdef\u001b[0m \u001b[0mshould_stop\u001b[0m\u001b[1;33m(\u001b[0m\u001b[0mself\u001b[0m\u001b[1;33m)\u001b[0m\u001b[1;33m:\u001b[0m\u001b[1;33m\u001b[0m\u001b[0m\n",
      "\u001b[1;31mRuntimeError\u001b[0m: Setup failed, see Thread-18 Tracebackfor details."
     ]
    }
   ],
   "source": [
    "walk.start()"
   ]
  },
  {
   "cell_type": "code",
   "execution_count": 36,
   "metadata": {
    "collapsed": false
   },
   "outputs": [],
   "source": [
    "walk.stop()"
   ]
  },
  {
   "cell_type": "code",
   "execution_count": 298,
   "metadata": {
    "collapsed": false
   },
   "outputs": [],
   "source": [
    "walk.new_speed = 1"
   ]
  },
  {
   "cell_type": "code",
   "execution_count": 111,
   "metadata": {
    "collapsed": true
   },
   "outputs": [],
   "source": [
    "robot.compliant = True"
   ]
  },
  {
   "cell_type": "code",
   "execution_count": 112,
   "metadata": {
    "collapsed": false
   },
   "outputs": [],
   "source": [
    "robot.close()"
   ]
  },
  {
   "cell_type": "code",
   "execution_count": 245,
   "metadata": {
    "collapsed": false
   },
   "outputs": [],
   "source": [
    "primitive_list = [robot.leg_fr,robot.leg_rr,robot.leg_fl,robot.leg_rl]"
   ]
  },
  {
   "cell_type": "code",
   "execution_count": 246,
   "metadata": {
    "collapsed": false
   },
   "outputs": [],
   "source": [
    "for p in primitive_list :\n",
    "    p.d = p.get_pos[1]\n",
    "    p.h = p.get_pos[0]"
   ]
  },
  {
   "cell_type": "code",
   "execution_count": 27,
   "metadata": {
    "collapsed": false
   },
   "outputs": [],
   "source": [
    "robot.compliant = False"
   ]
  },
  {
   "cell_type": "code",
   "execution_count": 64,
   "metadata": {
    "collapsed": false
   },
   "outputs": [
    {
     "data": {
      "text/plain": [
       "80"
      ]
     },
     "execution_count": 64,
     "metadata": {},
     "output_type": "execute_result"
    }
   ],
   "source": [
    "robot.m11.moving_speed"
   ]
  },
  {
   "cell_type": "code",
   "execution_count": 39,
   "metadata": {
    "collapsed": false
   },
   "outputs": [],
   "source": [
    "for m in robot.leg1 : m.compliant = True"
   ]
  },
  {
   "cell_type": "code",
   "execution_count": 197,
   "metadata": {
    "collapsed": true
   },
   "outputs": [],
   "source": [
    "robot.leg_fr.b = 0\n",
    "robot.leg_fl.b = 0\n",
    "robot.leg_rr.b = 0\n",
    "robot.leg_rl.b = 0"
   ]
  },
  {
   "cell_type": "code",
   "execution_count": 198,
   "metadata": {
    "collapsed": false
   },
   "outputs": [
    {
     "name": "stdout",
     "output_type": "stream",
     "text": [
      "32.0\n",
      "32.0\n",
      "43.0\n",
      "31.0\n",
      "32.0\n",
      "35.0\n",
      "32.0\n",
      "32.0\n",
      "43.0\n",
      "32.0\n",
      "31.0\n",
      "38.0\n"
     ]
    }
   ],
   "source": [
    "for m in robot.motors : print(m.present_temperature)"
   ]
  },
  {
   "cell_type": "code",
   "execution_count": 65,
   "metadata": {
    "collapsed": true
   },
   "outputs": [],
   "source": [
    "motors_hip_lateral = [robot.m11,robot.m21,robot.m31,robot.m41]"
   ]
  },
  {
   "cell_type": "code",
   "execution_count": 70,
   "metadata": {
    "collapsed": true
   },
   "outputs": [],
   "source": [
    "for m in motors_hip_lateral : m.moving_speed = 10"
   ]
  },
  {
   "cell_type": "code",
   "execution_count": 119,
   "metadata": {
    "collapsed": false
   },
   "outputs": [],
   "source": [
    "for m in motors_hip_lateral : m.goal_position = 0"
   ]
  },
  {
   "cell_type": "code",
   "execution_count": 137,
   "metadata": {
    "collapsed": true
   },
   "outputs": [],
   "source": [
    "robot.m11.goal_position = -5\n",
    "robot.m31.goal_position = -0\n",
    "robot.m21.goal_position = -5\n",
    "robot.m41.goal_position = -0\n"
   ]
  },
  {
   "cell_type": "code",
   "execution_count": 108,
   "metadata": {
    "collapsed": true
   },
   "outputs": [],
   "source": [
    "for m in robot.leg1 : m.moving_speed = 0"
   ]
  },
  {
   "cell_type": "code",
   "execution_count": 136,
   "metadata": {
    "collapsed": true
   },
   "outputs": [],
   "source": [
    "robot.leg_rl.h = 80\n",
    "time.sleep(0.2)\n",
    "robot.leg_rl.h = 100"
   ]
  },
  {
   "cell_type": "code",
   "execution_count": 114,
   "metadata": {
    "collapsed": false
   },
   "outputs": [
    {
     "name": "stdout",
     "output_type": "stream",
     "text": [
      "100 100 100.0 100\n"
     ]
    }
   ],
   "source": [
    "print(robot.leg_rr.h,robot.leg_rl.h,robot.leg_fr.h,robot.leg_fl.h)"
   ]
  },
  {
   "cell_type": "code",
   "execution_count": 105,
   "metadata": {
    "collapsed": true
   },
   "outputs": [],
   "source": [
    "def set_actual_pos(robot):\n",
    "    for m in robot.motors : \n",
    "        m.goal_position = m.present_position\n",
    "    robot.compliant = False"
   ]
  },
  {
   "cell_type": "code",
   "execution_count": 21,
   "metadata": {
    "collapsed": false
   },
   "outputs": [
    {
     "data": {
      "text/plain": [
       "{'_crashed': False,\n",
       " '_filter': functools.partial(<function mean at 0x714234b0>, axis=0),\n",
       " '_motors': [<DxlMotor name=m11 id=11 pos=-0.44>,\n",
       "  <DxlMotor name=m12 id=12 pos=51.47>,\n",
       "  <DxlMotor name=m13 id=13 pos=-139.44>,\n",
       "  <DxlMotor name=m21 id=21 pos=3.37>,\n",
       "  <DxlMotor name=m22 id=22 pos=59.97>,\n",
       "  <DxlMotor name=m23 id=23 pos=-143.84>,\n",
       "  <DxlMotor name=m31 id=31 pos=-0.15>,\n",
       "  <DxlMotor name=m32 id=32 pos=58.8>,\n",
       "  <DxlMotor name=m33 id=33 pos=-145.01>,\n",
       "  <DxlMotor name=m41 id=41 pos=-0.73>,\n",
       "  <DxlMotor name=m42 id=42 pos=54.4>,\n",
       "  <DxlMotor name=m43 id=43 pos=-137.1>],\n",
       " '_prim': [<__main__.Leg at 0x6db39810>,\n",
       "  <__main__.Leg at 0x6db39b70>,\n",
       "  <__main__.Leg at 0x6db39430>,\n",
       "  <__main__.Leg at 0x6db397d0>],\n",
       " '_resume': <threading.Event at 0x6e3e2490>,\n",
       " '_running': <threading.Event at 0x6e3e2450>,\n",
       " '_setup': <bound method PrimitiveManager.setup of <pypot.primitive.manager.PrimitiveManager object at 0x6e3e23f0>>,\n",
       " '_started': <threading.Event at 0x6e3e2410>,\n",
       " '_target': <bound method PrimitiveManager.run of <pypot.primitive.manager.PrimitiveManager object at 0x6e3e23f0>>,\n",
       " '_teardown': <bound method PrimitiveManager.teardown of <pypot.primitive.manager.PrimitiveManager object at 0x6e3e23f0>>,\n",
       " '_thread': <Thread(Thread-10, started daemon 1797256288)>,\n",
       " '_update': <bound method PrimitiveManager.update of <pypot.primitive.manager.PrimitiveManager object at 0x6e3e23f0>>,\n",
       " '_updated': <threading.Event at 0x6e3e24d0>,\n",
       " 'period': 0.02,\n",
       " 'syncing': <_thread.lock at 0x6e3c4e30>}"
      ]
     },
     "execution_count": 21,
     "metadata": {},
     "output_type": "execute_result"
    }
   ],
   "source": [
    "robot._primitive_manager.__dict__"
   ]
  },
  {
   "cell_type": "code",
   "execution_count": 49,
   "metadata": {
    "collapsed": true
   },
   "outputs": [],
   "source": [
    "dxl_io=robot._controllers[0]"
   ]
  },
  {
   "cell_type": "code",
   "execution_count": 43,
   "metadata": {
    "collapsed": false
   },
   "outputs": [
    {
     "data": {
      "text/plain": [
       "[<pypot.dynamixel.syncloop.BaseDxlController at 0x6e384a90>]"
      ]
     },
     "execution_count": 43,
     "metadata": {},
     "output_type": "execute_result"
    }
   ],
   "source": []
  },
  {
   "cell_type": "code",
   "execution_count": 50,
   "metadata": {
    "collapsed": false
   },
   "outputs": [
    {
     "data": {
      "text/plain": [
       "['__class__',\n",
       " '__delattr__',\n",
       " '__dict__',\n",
       " '__dir__',\n",
       " '__doc__',\n",
       " '__eq__',\n",
       " '__format__',\n",
       " '__ge__',\n",
       " '__getattribute__',\n",
       " '__gt__',\n",
       " '__hash__',\n",
       " '__init__',\n",
       " '__le__',\n",
       " '__lt__',\n",
       " '__module__',\n",
       " '__ne__',\n",
       " '__new__',\n",
       " '__reduce__',\n",
       " '__reduce_ex__',\n",
       " '__repr__',\n",
       " '__setattr__',\n",
       " '__sizeof__',\n",
       " '__str__',\n",
       " '__subclasshook__',\n",
       " '__weakref__',\n",
       " '_crashed',\n",
       " '_resume',\n",
       " '_running',\n",
       " '_setup',\n",
       " '_started',\n",
       " '_target',\n",
       " '_teardown',\n",
       " '_thread',\n",
       " '_update',\n",
       " '_updated',\n",
       " '_wrapped_target',\n",
       " 'close',\n",
       " 'controllers',\n",
       " 'io',\n",
       " 'join',\n",
       " 'motors',\n",
       " 'pause',\n",
       " 'paused',\n",
       " 'period',\n",
       " 'resume',\n",
       " 'run',\n",
       " 'running',\n",
       " 'setup',\n",
       " 'should_pause',\n",
       " 'should_stop',\n",
       " 'start',\n",
       " 'started',\n",
       " 'stop',\n",
       " 'teardown',\n",
       " 'update',\n",
       " 'wait_to_resume',\n",
       " 'wait_to_start',\n",
       " 'wait_to_stop']"
      ]
     },
     "execution_count": 50,
     "metadata": {},
     "output_type": "execute_result"
    }
   ],
   "source": [
    "dir(dxl_io)"
   ]
  },
  {
   "cell_type": "code",
   "execution_count": 344,
   "metadata": {
    "collapsed": false
   },
   "outputs": [],
   "source": [
    "robot.m32.led = 'green'"
   ]
  },
  {
   "cell_type": "code",
   "execution_count": 349,
   "metadata": {
    "collapsed": false
   },
   "outputs": [],
   "source": [
    "robot.m31.led = 'off'"
   ]
  },
  {
   "cell_type": "code",
   "execution_count": 353,
   "metadata": {
    "collapsed": false
   },
   "outputs": [
    {
     "data": {
      "text/plain": [
       "28.0"
      ]
     },
     "execution_count": 353,
     "metadata": {},
     "output_type": "execute_result"
    }
   ],
   "source": [
    "robot.m31.present_temperature"
   ]
  },
  {
   "cell_type": "code",
   "execution_count": 357,
   "metadata": {
    "collapsed": false
   },
   "outputs": [
    {
     "data": {
      "text/plain": [
       "['_AbstractDxlIO__controls',\n",
       " '_AbstractDxlIO__force_lock',\n",
       " '_AbstractDxlIO__real_read',\n",
       " '_AbstractDxlIO__real_send',\n",
       " '_AbstractDxlIO__used_ports',\n",
       " '__class__',\n",
       " '__del__',\n",
       " '__delattr__',\n",
       " '__dict__',\n",
       " '__dir__',\n",
       " '__doc__',\n",
       " '__enter__',\n",
       " '__eq__',\n",
       " '__exit__',\n",
       " '__format__',\n",
       " '__ge__',\n",
       " '__getattribute__',\n",
       " '__gt__',\n",
       " '__hash__',\n",
       " '__init__',\n",
       " '__le__',\n",
       " '__lt__',\n",
       " '__module__',\n",
       " '__ne__',\n",
       " '__new__',\n",
       " '__reduce__',\n",
       " '__reduce_ex__',\n",
       " '__repr__',\n",
       " '__setattr__',\n",
       " '__sizeof__',\n",
       " '__str__',\n",
       " '__subclasshook__',\n",
       " '__weakref__',\n",
       " '_change_baudrate',\n",
       " '_change_id',\n",
       " '_convert',\n",
       " '_error_handler',\n",
       " '_generate_accessors',\n",
       " '_get_control_value',\n",
       " '_get_goal_pos_speed',\n",
       " '_get_model',\n",
       " '_get_pid_gain',\n",
       " '_get_status_return_level',\n",
       " '_known_mode',\n",
       " '_known_models',\n",
       " '_open',\n",
       " '_protocol',\n",
       " '_send_packet',\n",
       " '_serial',\n",
       " '_serial_lock',\n",
       " '_set_LED',\n",
       " '_set_control_value',\n",
       " '_set_goal_pos_speed',\n",
       " '_set_pid_gain',\n",
       " '_set_status_return_level',\n",
       " '_set_torque_enable',\n",
       " '_sync_read',\n",
       " 'baudrate',\n",
       " 'change_baudrate',\n",
       " 'change_id',\n",
       " 'close',\n",
       " 'closed',\n",
       " 'disable_torque',\n",
       " 'enable_torque',\n",
       " 'factory_reset',\n",
       " 'flush',\n",
       " 'get_LED_color',\n",
       " 'get_alarm_shutdown',\n",
       " 'get_angle_limit',\n",
       " 'get_control_mode',\n",
       " 'get_control_table',\n",
       " 'get_firmware',\n",
       " 'get_goal_position',\n",
       " 'get_goal_position_speed_load',\n",
       " 'get_highest_temperature_limit',\n",
       " 'get_max_torque',\n",
       " 'get_model',\n",
       " 'get_moving_speed',\n",
       " 'get_pid_gain',\n",
       " 'get_present_load',\n",
       " 'get_present_position',\n",
       " 'get_present_position_speed_load',\n",
       " 'get_present_speed',\n",
       " 'get_present_temperature',\n",
       " 'get_present_voltage',\n",
       " 'get_return_delay_time',\n",
       " 'get_status_return_level',\n",
       " 'get_torque_limit',\n",
       " 'get_used_ports',\n",
       " 'get_voltage_limit',\n",
       " 'is_led_on',\n",
       " 'is_moving',\n",
       " 'is_torque_enabled',\n",
       " 'open',\n",
       " 'ping',\n",
       " 'port',\n",
       " 'scan',\n",
       " 'set_LED_color',\n",
       " 'set_alarm_shutdown',\n",
       " 'set_angle_limit',\n",
       " 'set_control_mode',\n",
       " 'set_goal_position',\n",
       " 'set_goal_position_speed_load',\n",
       " 'set_highest_temperature_limit',\n",
       " 'set_joint_mode',\n",
       " 'set_max_torque',\n",
       " 'set_moving_speed',\n",
       " 'set_pid_gain',\n",
       " 'set_return_delay_time',\n",
       " 'set_status_return_level',\n",
       " 'set_torque_limit',\n",
       " 'set_voltage_limit',\n",
       " 'set_wheel_mode',\n",
       " 'switch_led_off',\n",
       " 'switch_led_on',\n",
       " 'timeout']"
      ]
     },
     "execution_count": 357,
     "metadata": {},
     "output_type": "execute_result"
    }
   ],
   "source": [
    "dir(dxl_io)"
   ]
  },
  {
   "cell_type": "code",
   "execution_count": 374,
   "metadata": {
    "collapsed": false
   },
   "outputs": [],
   "source": [
    "dxl_io.set_LED_color({33:'green'})"
   ]
  },
  {
   "cell_type": "code",
   "execution_count": 403,
   "metadata": {
    "collapsed": true
   },
   "outputs": [],
   "source": [
    "dxl_io.switch_led_off({33})"
   ]
  },
  {
   "cell_type": "code",
   "execution_count": 402,
   "metadata": {
    "collapsed": false
   },
   "outputs": [],
   "source": [
    "dxl_io.set_alarm_shutdown({33:['Overheating Error']})"
   ]
  },
  {
   "cell_type": "code",
   "execution_count": 405,
   "metadata": {
    "collapsed": false
   },
   "outputs": [
    {
     "data": {
      "text/plain": [
       "(('Overheating Error',),)"
      ]
     },
     "execution_count": 405,
     "metadata": {},
     "output_type": "execute_result"
    }
   ],
   "source": [
    "dxl_io.get_alarm_shutdown({33})"
   ]
  },
  {
   "cell_type": "code",
   "execution_count": 404,
   "metadata": {
    "collapsed": false
   },
   "outputs": [
    {
     "data": {
      "text/plain": [
       "(('Angle Limit Error', 'Input Voltage Error'),)"
      ]
     },
     "execution_count": 404,
     "metadata": {},
     "output_type": "execute_result"
    }
   ],
   "source": [
    "dxl_io.get_alarm_shutdown({32})"
   ]
  },
  {
   "cell_type": "code",
   "execution_count": 66,
   "metadata": {
    "collapsed": false
   },
   "outputs": [
    {
     "name": "stdout",
     "output_type": "stream",
     "text": [
      "0\n",
      "1\n",
      "2\n",
      "3\n",
      "4\n",
      "5\n",
      "6\n",
      "7\n",
      "8\n",
      "9\n"
     ]
    }
   ],
   "source": [
    "for i in range(10) : print(i)"
   ]
  },
  {
   "cell_type": "code",
   "execution_count": 77,
   "metadata": {
    "collapsed": true
   },
   "outputs": [],
   "source": [
    "\n",
    "\n",
    "@timeit\n",
    "def test(*args):\n",
    "    if len(args)>0 and args[0] > 10: print(args[0])"
   ]
  },
  {
   "cell_type": "code",
   "execution_count": 78,
   "metadata": {
    "collapsed": false
   },
   "outputs": [
    {
     "name": "stdout",
     "output_type": "stream",
     "text": [
      "'test' ((), {}) 0.00 sec\n",
      "coucou\n"
     ]
    }
   ],
   "source": [
    "\n",
    "test()\n",
    "print('coucou')"
   ]
  },
  {
   "cell_type": "code",
   "execution_count": 75,
   "metadata": {
    "collapsed": false
   },
   "outputs": [],
   "source": [
    "import time                                                \n",
    "\n",
    "def timeit(method):\n",
    "\n",
    "    def timed(*args, **kw):\n",
    "        ts = time.time()\n",
    "        result = method(*args, **kw)\n",
    "        te = time.time()\n",
    "\n",
    "        print('%r (%r, %r) %2.2f sec' % (method.__name__, args, kw, te-ts))\n",
    "        return result\n",
    "\n",
    "    return timed"
   ]
  },
  {
   "cell_type": "code",
   "execution_count": 34,
   "metadata": {
    "collapsed": false
   },
   "outputs": [
    {
     "data": {
      "text/plain": [
       "True"
      ]
     },
     "execution_count": 34,
     "metadata": {},
     "output_type": "execute_result"
    }
   ],
   "source": [
    "True & True & True & True"
   ]
  },
  {
   "cell_type": "code",
   "execution_count": 38,
   "metadata": {
    "collapsed": false
   },
   "outputs": [
    {
     "data": {
      "text/plain": [
       "True"
      ]
     },
     "execution_count": 38,
     "metadata": {},
     "output_type": "execute_result"
    }
   ],
   "source": [
    "True and True"
   ]
  },
  {
   "cell_type": "code",
   "execution_count": null,
   "metadata": {
    "collapsed": true
   },
   "outputs": [],
   "source": [
    "while True :\n",
    "    "
   ]
  }
 ],
 "metadata": {
  "kernelspec": {
   "display_name": "Python 2",
   "language": "python",
   "name": "python2"
  },
  "language_info": {
   "codemirror_mode": {
    "name": "ipython",
    "version": 2
   },
   "file_extension": ".py",
   "mimetype": "text/x-python",
   "name": "python",
   "nbconvert_exporter": "python",
   "pygments_lexer": "ipython2",
   "version": "2.7.9"
  }
 },
 "nbformat": 4,
 "nbformat_minor": 0
}
