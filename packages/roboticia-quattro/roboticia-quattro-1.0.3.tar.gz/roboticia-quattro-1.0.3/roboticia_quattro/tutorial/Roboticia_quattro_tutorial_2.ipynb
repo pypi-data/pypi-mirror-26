{
 "cells": [
  {
   "cell_type": "markdown",
   "metadata": {},
   "source": [
    "## Roboticia-quattro : Tutorial 2 - walking on a flat ground"
   ]
  },
  {
   "cell_type": "markdown",
   "metadata": {},
   "source": [
    "### How to get a leg up and not falling"
   ]
  },
  {
   "cell_type": "markdown",
   "metadata": {},
   "source": [
    "Instanciate the robot :"
   ]
  },
  {
   "cell_type": "code",
   "execution_count": 1,
   "metadata": {
    "collapsed": true
   },
   "outputs": [],
   "source": [
    "from pypot.creatures import RoboticiaQuattro"
   ]
  },
  {
   "cell_type": "markdown",
   "metadata": {},
   "source": [
    "If you want to open your robot in the Vrep simulator (http://www.coppeliarobotics.com/) :"
   ]
  },
  {
   "cell_type": "code",
   "execution_count": 2,
   "metadata": {
    "collapsed": true
   },
   "outputs": [],
   "source": [
    "robot = RoboticiaQuattro(simulator='vrep')"
   ]
  },
  {
   "cell_type": "markdown",
   "metadata": {},
   "source": [
    "If you are lucky enough to have a real robot (http://www.roboticia.com) :"
   ]
  },
  {
   "cell_type": "code",
   "execution_count": null,
   "metadata": {
    "collapsed": true
   },
   "outputs": [],
   "source": [
    "robot = RoboticiaQuattro()"
   ]
  },
  {
   "cell_type": "markdown",
   "metadata": {},
   "source": [
    "Your robot have motors and sensors :"
   ]
  },
  {
   "cell_type": "code",
   "execution_count": 3,
   "metadata": {},
   "outputs": [
    {
     "data": {
      "text/plain": [
       "[<DxlMotor name=m11 id=11 pos=0.0>,\n",
       " <DxlMotor name=m12 id=12 pos=-20.0>,\n",
       " <DxlMotor name=m13 id=13 pos=20.0>,\n",
       " <DxlMotor name=m21 id=21 pos=-0.0>,\n",
       " <DxlMotor name=m22 id=22 pos=-20.0>,\n",
       " <DxlMotor name=m23 id=23 pos=20.0>,\n",
       " <DxlMotor name=m31 id=31 pos=0.0>,\n",
       " <DxlMotor name=m32 id=32 pos=20.0>,\n",
       " <DxlMotor name=m33 id=33 pos=-20.0>,\n",
       " <DxlMotor name=m41 id=41 pos=-0.0>,\n",
       " <DxlMotor name=m42 id=42 pos=20.0>,\n",
       " <DxlMotor name=m43 id=43 pos=-20.0>]"
      ]
     },
     "execution_count": 3,
     "metadata": {},
     "output_type": "execute_result"
    }
   ],
   "source": [
    "robot.motors"
   ]
  },
  {
   "cell_type": "code",
   "execution_count": 22,
   "metadata": {},
   "outputs": [
    {
     "data": {
      "text/plain": [
       "[<ForceSensor name=f1 force = 84.6743106842>,\n",
       " <ForceSensor name=f2 force = 86.2948894501>,\n",
       " <ForceSensor name=f3 force = -30.256703496>,\n",
       " <ForceSensor name=f4 force = -26.9069224596>]"
      ]
     },
     "execution_count": 22,
     "metadata": {},
     "output_type": "execute_result"
    }
   ],
   "source": [
    "robot.sensors"
   ]
  },
  {
   "cell_type": "markdown",
   "metadata": {},
   "source": [
    "Previosly we explained how to write a primitive to manage the legs. The primitives exposed in tutorial 1 are already attached to the robot :"
   ]
  },
  {
   "cell_type": "code",
   "execution_count": 5,
   "metadata": {},
   "outputs": [
    {
     "data": {
      "text/plain": [
       "[<Primitive name=leg_4>,\n",
       " <Primitive name=start_posture>,\n",
       " <Primitive name=leg_1>,\n",
       " <Primitive name=leg_2>,\n",
       " <Primitive name=leg_3>]"
      ]
     },
     "execution_count": 5,
     "metadata": {},
     "output_type": "execute_result"
    }
   ],
   "source": [
    "robot.primitives"
   ]
  },
  {
   "cell_type": "markdown",
   "metadata": {},
   "source": [
    "You only need to start the primitives to make them effective. For example, yoy can put the robot in its start position :"
   ]
  },
  {
   "cell_type": "code",
   "execution_count": 56,
   "metadata": {
    "collapsed": true
   },
   "outputs": [],
   "source": [
    "robot.start_posture.start()"
   ]
  },
  {
   "cell_type": "markdown",
   "metadata": {},
   "source": [
    "And now start the legs primitives to acces the high and balance of the robot :"
   ]
  },
  {
   "cell_type": "code",
   "execution_count": 57,
   "metadata": {
    "collapsed": true
   },
   "outputs": [],
   "source": [
    "robot.leg_1.start()\n",
    "robot.leg_2.start()\n",
    "robot.leg_3.start()\n",
    "robot.leg_4.start()"
   ]
  },
  {
   "cell_type": "markdown",
   "metadata": {},
   "source": [
    "The leg's primitives are loop primitives, so you can see them in the active primitive list :"
   ]
  },
  {
   "cell_type": "code",
   "execution_count": 10,
   "metadata": {},
   "outputs": [
    {
     "data": {
      "text/plain": [
       "[<Primitive name=leg_1>,\n",
       " <Primitive name=leg_2>,\n",
       " <Primitive name=leg_3>,\n",
       " <Primitive name=leg_4>]"
      ]
     },
     "execution_count": 10,
     "metadata": {},
     "output_type": "execute_result"
    }
   ],
   "source": [
    "robot.active_primitives"
   ]
  },
  {
   "cell_type": "raw",
   "metadata": {},
   "source": [
    "For example, let's get down the robot :"
   ]
  },
  {
   "cell_type": "code",
   "execution_count": 58,
   "metadata": {
    "collapsed": true
   },
   "outputs": [],
   "source": [
    "robot.leg_1.h = 130\n",
    "robot.leg_2.h = 130\n",
    "robot.leg_3.h = 130\n",
    "robot.leg_4.h = 130"
   ]
  },
  {
   "cell_type": "markdown",
   "metadata": {},
   "source": [
    "Move forward :"
   ]
  },
  {
   "cell_type": "code",
   "execution_count": 59,
   "metadata": {
    "collapsed": true
   },
   "outputs": [],
   "source": [
    "robot.leg_1.d = 60\n",
    "robot.leg_2.d = 60\n",
    "robot.leg_3.d = 60\n",
    "robot.leg_4.d = 60"
   ]
  },
  {
   "cell_type": "code",
   "execution_count": 46,
   "metadata": {
    "collapsed": true
   },
   "outputs": [],
   "source": [
    "import time"
   ]
  },
  {
   "cell_type": "code",
   "execution_count": 33,
   "metadata": {},
   "outputs": [],
   "source": [
    "robot.start_posture.start()"
   ]
  },
  {
   "cell_type": "code",
   "execution_count": 60,
   "metadata": {
    "collapsed": true
   },
   "outputs": [],
   "source": [
    "c = False\n",
    "while not c :\n",
    "    c = robot.leg_3.move(1,'back',100,-70,130)\n",
    "    time.sleep(0.02)"
   ]
  },
  {
   "cell_type": "code",
   "execution_count": 61,
   "metadata": {
    "collapsed": true
   },
   "outputs": [],
   "source": [
    "c = False\n",
    "while not c :\n",
    "    c = robot.leg_1.move(1,'back',100,-70,130)\n",
    "    time.sleep(0.02)"
   ]
  },
  {
   "cell_type": "code",
   "execution_count": 62,
   "metadata": {},
   "outputs": [],
   "source": [
    "d1 = robot.leg_1.d\n",
    "d2 = robot.leg_2.d\n",
    "d3 = robot.leg_3.d\n",
    "d4 = robot.leg_4.d"
   ]
  },
  {
   "cell_type": "code",
   "execution_count": 63,
   "metadata": {},
   "outputs": [
    {
     "data": {
      "text/plain": [
       "(-70, 60, -70, 60)"
      ]
     },
     "execution_count": 63,
     "metadata": {},
     "output_type": "execute_result"
    }
   ],
   "source": [
    "d1, d2, d3, d4"
   ]
  },
  {
   "cell_type": "code",
   "execution_count": 64,
   "metadata": {
    "collapsed": true
   },
   "outputs": [],
   "source": [
    "c = [False] * 4"
   ]
  },
  {
   "cell_type": "code",
   "execution_count": 65,
   "metadata": {},
   "outputs": [],
   "source": [
    "while not (c[0]&c[1]&c[2]&c[3]) :\n",
    "    c[0] = robot.leg_1.move(1,'go',d1+10)\n",
    "    c[1] = robot.leg_2.move(1,'go',d2+10)\n",
    "    c[2] = robot.leg_3.move(1,'go',d3+10)\n",
    "    c[3] = robot.leg_4.move(1,'go',d4+10)\n",
    "    time.sleep(0.02)       \n",
    "    "
   ]
  },
  {
   "cell_type": "code",
   "execution_count": 66,
   "metadata": {
    "collapsed": true
   },
   "outputs": [],
   "source": [
    "c = False\n",
    "while not c :\n",
    "    c = robot.leg_4.move(1,'back',100,-70,130)\n",
    "    time.sleep(0.02)"
   ]
  },
  {
   "cell_type": "code",
   "execution_count": 67,
   "metadata": {
    "collapsed": true
   },
   "outputs": [],
   "source": [
    "c = False\n",
    "while not c :\n",
    "    c = robot.leg_2.move(1,'back',100,-70,130)\n",
    "    time.sleep(0.02)"
   ]
  },
  {
   "cell_type": "code",
   "execution_count": 26,
   "metadata": {},
   "outputs": [
    {
     "data": {
      "text/plain": [
       "False"
      ]
     },
     "execution_count": 26,
     "metadata": {},
     "output_type": "execute_result"
    }
   ],
   "source": [
    "whirlrobot.leg_1.move(1,'go',30)"
   ]
  },
  {
   "cell_type": "code",
   "execution_count": 79,
   "metadata": {
    "collapsed": true
   },
   "outputs": [],
   "source": [
    "robot.leg_1.d = 0\n",
    "robot.leg_2.d = 0\n",
    "robot.leg_3.d = 0\n",
    "robot.leg_4.d = 0"
   ]
  },
  {
   "cell_type": "code",
   "execution_count": 77,
   "metadata": {
    "collapsed": true
   },
   "outputs": [],
   "source": [
    "robot.leg_3.h=130"
   ]
  },
  {
   "cell_type": "code",
   "execution_count": 55,
   "metadata": {
    "collapsed": true
   },
   "outputs": [],
   "source": [
    "robot.leg_1.stop()\n",
    "robot.leg_2.stop()\n",
    "robot.leg_3.stop()\n",
    "robot.leg_4.stop()"
   ]
  },
  {
   "cell_type": "markdown",
   "metadata": {},
   "source": [
    "In a vrep simulated environnement you always stop and restart the simulation :"
   ]
  },
  {
   "cell_type": "code",
   "execution_count": 41,
   "metadata": {
    "collapsed": true
   },
   "outputs": [],
   "source": [
    "robot.stop_simulation()"
   ]
  },
  {
   "cell_type": "code",
   "execution_count": 42,
   "metadata": {
    "collapsed": true
   },
   "outputs": [],
   "source": [
    "robot.start_simulation()"
   ]
  },
  {
   "cell_type": "markdown",
   "metadata": {},
   "source": [
    "To close your robot properly : "
   ]
  },
  {
   "cell_type": "code",
   "execution_count": 17,
   "metadata": {
    "collapsed": true
   },
   "outputs": [],
   "source": [
    "robot.close()"
   ]
  },
  {
   "cell_type": "markdown",
   "metadata": {},
   "source": [
    "In case of trouble, for example if your robot doesnt' answer to command, you can restart the python kernel :\n",
    "Menu > Kernel > Restart"
   ]
  }
 ],
 "metadata": {
  "kernelspec": {
   "display_name": "Python 2",
   "language": "python",
   "name": "python2"
  },
  "language_info": {
   "codemirror_mode": {
    "name": "ipython",
    "version": 2
   },
   "file_extension": ".py",
   "mimetype": "text/x-python",
   "name": "python",
   "nbconvert_exporter": "python",
   "pygments_lexer": "ipython2",
   "version": "2.7.9"
  }
 },
 "nbformat": 4,
 "nbformat_minor": 1
}
