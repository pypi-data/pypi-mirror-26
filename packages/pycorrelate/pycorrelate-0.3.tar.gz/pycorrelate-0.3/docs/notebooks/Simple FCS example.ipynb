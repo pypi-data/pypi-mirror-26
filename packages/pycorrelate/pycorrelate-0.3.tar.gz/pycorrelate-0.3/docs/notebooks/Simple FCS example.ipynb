{
 "cells": [
  {
   "cell_type": "markdown",
   "metadata": {},
   "source": [
    "# Simple FCS example\n",
    "\n",
    "This notebook shows howto compute and fit an FCS curve\n",
    "using `pycorrelate`.\n",
    "\n",
    "## Initial imports"
   ]
  },
  {
   "cell_type": "code",
   "execution_count": null,
   "metadata": {},
   "outputs": [],
   "source": [
    "import numpy as np\n",
    "import h5py"
   ]
  },
  {
   "cell_type": "code",
   "execution_count": null,
   "metadata": {},
   "outputs": [],
   "source": [
    "# Tweak here matplotlib style\n",
    "%matplotlib inline\n",
    "%config InlineBackend.figure_format = 'retina'\n",
    "import matplotlib.pyplot as plt\n",
    "import matplotlib as mpl\n",
    "mpl.rcParams['font.sans-serif'].insert(0, 'Arial')\n",
    "mpl.rcParams['font.size'] = 14"
   ]
  },
  {
   "cell_type": "code",
   "execution_count": null,
   "metadata": {},
   "outputs": [],
   "source": [
    "import pycorrelate as pyc\n",
    "pyc.__version__"
   ]
  },
  {
   "cell_type": "code",
   "execution_count": null,
   "metadata": {},
   "outputs": [],
   "source": [
    "import lmfit\n",
    "lmfit.__version__"
   ]
  },
  {
   "cell_type": "markdown",
   "metadata": {},
   "source": [
    "## Load Data\n",
    "\n",
    "We start downloading a sample dataset of a smFRET \"measurement\" with a \n",
    "single CW excitation laser and two detectors donor (D) and acceptor (A)\n",
    "(the data is actually a simulation performed with [PyBroMo](http://tritemio.github.io/PyBroMo/))."
   ]
  },
  {
   "cell_type": "code",
   "execution_count": null,
   "metadata": {},
   "outputs": [],
   "source": [
    "url = 'http://files.figshare.com/4917046/smFRET_44f3da_P_20_s0_20_s20_D_6.0e11_6.0e11_E_75_30_EmTot_200k_200k_BgD1500_BgA800_t_max_600s.hdf5'\n",
    "pyc.utils.download_file(url, save_dir='data')"
   ]
  },
  {
   "cell_type": "code",
   "execution_count": null,
   "metadata": {},
   "outputs": [],
   "source": [
    "fname = './data/' + url.split('/')[-1]\n",
    "h5 = h5py.File(fname)\n",
    "unit = h5['photon_data']['timestamps_specs']['timestamps_unit'][()]\n",
    "unit"
   ]
  },
  {
   "cell_type": "markdown",
   "metadata": {},
   "source": [
    "We can check that there are only two detectors:"
   ]
  },
  {
   "cell_type": "code",
   "execution_count": null,
   "metadata": {},
   "outputs": [],
   "source": [
    "np.unique(h5['photon_data']['detectors'][:])"
   ]
  },
  {
   "cell_type": "markdown",
   "metadata": {},
   "source": [
    "Then load the timestamps in two arrays `t` and `u`:"
   ]
  },
  {
   "cell_type": "code",
   "execution_count": null,
   "metadata": {},
   "outputs": [],
   "source": [
    "detectors = h5['photon_data']['detectors'][:]\n",
    "timestamps = h5['photon_data']['timestamps'][:]\n",
    "t = timestamps[detectors == 0]\n",
    "u = timestamps[detectors == 1]"
   ]
  },
  {
   "cell_type": "code",
   "execution_count": null,
   "metadata": {},
   "outputs": [],
   "source": [
    "t.shape, u.shape, t[0], u[0]"
   ]
  },
  {
   "cell_type": "code",
   "execution_count": null,
   "metadata": {},
   "outputs": [],
   "source": [
    "t.max()*unit, u.max()*unit"
   ]
  },
  {
   "cell_type": "markdown",
   "metadata": {},
   "source": [
    "Timestamps need to be monotonic:"
   ]
  },
  {
   "cell_type": "code",
   "execution_count": null,
   "metadata": {},
   "outputs": [],
   "source": [
    "assert (np.diff(t) >= 0).all()\n",
    "assert (np.diff(u) >= 0).all()"
   ]
  },
  {
   "cell_type": "markdown",
   "metadata": {},
   "source": [
    "## Compute CCF\n",
    "\n",
    "To avoid afterpulsing, we can compute the cross-correlation function (CCF) between D and A channels.\n",
    "\n",
    "We first create the lag bins array with the [make_loglags()](http://pycorrelate.readthedocs.io/en/latest/api.html#pycorrelate.pycorrelate.make_loglags) function:"
   ]
  },
  {
   "cell_type": "code",
   "execution_count": null,
   "metadata": {},
   "outputs": [],
   "source": [
    "# compute lags in sec. then convert to timestamp units\n",
    "bins_per_dec = 20\n",
    "bins = pyc.make_loglags(-6, 1, bins_per_dec)[bins_per_dec // 2:] / unit"
   ]
  },
  {
   "cell_type": "markdown",
   "metadata": {},
   "source": [
    "Then, we compute the cross-correlation with\n",
    "[pcorrelate](http://pycorrelate.readthedocs.io/en/latest/api.html#pycorrelate.pycorrelate.pcorrelate):"
   ]
  },
  {
   "cell_type": "code",
   "execution_count": null,
   "metadata": {},
   "outputs": [],
   "source": [
    "Gn = pyc.pcorrelate(t, u, bins, normalize=True)"
   ]
  },
  {
   "cell_type": "markdown",
   "metadata": {},
   "source": [
    "Plotting the CCF function `Gn` we observe the typical diffusion shape:"
   ]
  },
  {
   "cell_type": "code",
   "execution_count": null,
   "metadata": {},
   "outputs": [],
   "source": [
    "fig, ax = plt.subplots(figsize=(10, 6))\n",
    "plt.semilogx(bins[1:]*unit, Gn, drawstyle='steps-pre')\n",
    "plt.xlabel('Time (s)')\n",
    "plt.grid(True); plt.grid(True, which='minor', lw=0.3);"
   ]
  },
  {
   "cell_type": "markdown",
   "metadata": {},
   "source": [
    "## Fit FCS model\n",
    "\n",
    "The next step is fitting the computed CCF with a model. For freely-diffusing species under confocal excitation \n",
    "(and no photo-physics) the simplest model is the 2D model (i.e. the PSF z dimension is neglected):\n",
    "\n",
    "$$\n",
    "G(\\tau) = 1 + A_0 \\, \\left(1 + \\frac{\\tau}{\\tau_D} \\right)^{-1}\n",
    "$$\n",
    "\n",
    "The full 3D model is just slightly more complicated:\n",
    "\n",
    "$$\n",
    "G(\\tau) = 1 + A_0 \\, \\left(1 + \\frac{\\tau}{\\tau_D} \\right)^{-1} \\; \n",
    "\\left[ 1 + \\left(\\frac{r}{z}\\right)^2\\frac{\\tau}{\\tau_D} \\right]^{-1/2}\n",
    "$$\n",
    "\n",
    "There is a link between $A_0$ and concentration. Neglecting background, \n",
    "$A_0 = 1/N$ where $N$ is the mean number of molecules in the excitation volume.\n",
    "The background makes $A_0 < 1/N$.\n",
    "For full expression see \n",
    "[Orrit 2002](http://doi.org/10.1002%2F1438-5171%28200211%293%3A5%2F6%3C255%3A%3AAID-SIMO255%3E3.0.CO%3B2-8).\n",
    "\n",
    "Here, for the sake of the example, we will just fit the simple 2D model.\n",
    "\n",
    "Let's start defining the model functions and the array of time-lags:"
   ]
  },
  {
   "cell_type": "code",
   "execution_count": null,
   "metadata": {},
   "outputs": [],
   "source": [
    "def diffusion_2d(timelag, tau_diff, A0):\n",
    "    return 1 + A0 * 1/(1 + timelag/tau_diff)\n",
    "\n",
    "def diffusion_3d(timelag, tau_diff, A0, waist_z_ratio=0.1):\n",
    "    return (1 + A0 * 1/(1 + timelag/tau_diff) * \n",
    "            1/np.sqrt(1 + waist_z_ratio**2 * timelag/tau_diff))"
   ]
  },
  {
   "cell_type": "code",
   "execution_count": null,
   "metadata": {},
   "outputs": [],
   "source": [
    "tau = 0.5 * (bins[1:] + bins[:-1]) * unit"
   ]
  },
  {
   "cell_type": "markdown",
   "metadata": {},
   "source": [
    "Now we build a \"fitting model\" with [lmfit](https://lmfit.github.io/lmfit-py/) \n",
    "and use it to fit the CCF curve `Gn`:"
   ]
  },
  {
   "cell_type": "code",
   "execution_count": null,
   "metadata": {},
   "outputs": [],
   "source": [
    "model = lmfit.Model(diffusion_2d)\n",
    "params = model.make_params(A0=1, tau_diff=1e-3)\n",
    "params['A0'].set(min=0.01, value=1)\n",
    "params['tau_diff'].set(min=1e-6, value=1e-3)\n",
    "#params['waist_z_ratio'].set(value=1/6, vary=False)  # 3D model only\n",
    "\n",
    "weights = np.ones_like(Gn)  \n",
    "#weights = np.log(np.sqrt(G*np.diff(bins)))  # and example of using weights\n",
    "fitres = model.fit(Gn, timelag=tau, params=params, method='least_squares',\n",
    "                   weights=weights)\n",
    "print('\\nList of fitted parameters for %s: \\n' % model.name)\n",
    "fitres.params.pretty_print(colwidth=10, columns=['value', 'min', 'max'])"
   ]
  },
  {
   "cell_type": "markdown",
   "metadata": {},
   "source": [
    "Finally, we plot fit results and residuals:"
   ]
  },
  {
   "cell_type": "code",
   "execution_count": null,
   "metadata": {},
   "outputs": [],
   "source": [
    "fig, ax = plt.subplots(2, 1, figsize=(10, 8), sharex=True,\n",
    "                       gridspec_kw={'height_ratios': [3, 1]})\n",
    "plt.subplots_adjust(hspace=0)\n",
    "ax[0].semilogx(tau, Gn)\n",
    "for a in ax:\n",
    "    a.grid(True); a.grid(True, which='minor', lw=0.3)\n",
    "ax[0].plot(tau, fitres.best_fit)\n",
    "ax[1].plot(tau, fitres.residual*weights, 'k')\n",
    "ym = np.abs(fitres.residual*weights).max()\n",
    "ax[1].set_ylim(-ym, ym)\n",
    "ax[1].set_xlim(bins[0]*unit, bins[-1]*unit);\n",
    "tau_diff_us = fitres.values['tau_diff'] * 1e6\n",
    "msg = ((r'$G(0)-1$ = {A0:.2f}'+'\\n'+r'$\\tau_D$ = {tau_diff_us:.0f} μs')\n",
    "       .format(A0=fitres.values['A0'], tau_diff_us=tau_diff_us))\n",
    "ax[0].text(.75, .9, msg, \n",
    "           va='top', ha='left', transform=ax[0].transAxes, fontsize=18);\n",
    "ax[0].set_ylabel('G(τ)')\n",
    "ax[1].set_ylabel('residuals')\n",
    "ax[0].set_title('Donor-Acceptor CCF')\n",
    "ax[1].set_xlabel('Time Lag, τ (s)');"
   ]
  },
  {
   "cell_type": "markdown",
   "metadata": {},
   "source": [
    "The flatness of the residual indicates a good fit. If you followed so far,\n",
    "you should be able to extent this example to use more complex models \n",
    "when needed."
   ]
  }
 ],
 "metadata": {
  "kernelspec": {
   "display_name": "Python 3",
   "language": "python",
   "name": "python3"
  },
  "language_info": {
   "codemirror_mode": {
    "name": "ipython",
    "version": 3
   },
   "file_extension": ".py",
   "mimetype": "text/x-python",
   "name": "python",
   "nbconvert_exporter": "python",
   "pygments_lexer": "ipython3",
   "version": "3.6.0"
  },
  "toc": {
   "colors": {
    "hover_highlight": "#DAA520",
    "running_highlight": "#FF0000",
    "selected_highlight": "#FFD700"
   },
   "moveMenuLeft": true,
   "nav_menu": {
    "height": "264px",
    "width": "252px"
   },
   "navigate_menu": true,
   "number_sections": false,
   "sideBar": true,
   "threshold": 4,
   "toc_cell": false,
   "toc_position": {
    "height": "673px",
    "left": "0px",
    "right": "1139.11px",
    "top": "107px",
    "width": "212px"
   },
   "toc_section_display": "block",
   "toc_window_display": true,
   "widenNotebook": false
  }
 },
 "nbformat": 4,
 "nbformat_minor": 1
}
