{
 "cells": [
  {
   "cell_type": "markdown",
   "metadata": {},
   "source": [
    "# Pycorrelate examples\n",
    "\n",
    "This notebook shows howto use `pycorrelate` as well as comparisons with other \n",
    "implementations."
   ]
  },
  {
   "cell_type": "code",
   "execution_count": null,
   "metadata": {},
   "outputs": [],
   "source": [
    "import numpy as np\n",
    "import h5py"
   ]
  },
  {
   "cell_type": "code",
   "execution_count": null,
   "metadata": {},
   "outputs": [],
   "source": [
    "# Tweak here matplotlib style\n",
    "import matplotlib.pyplot as plt\n",
    "import matplotlib as mpl\n",
    "mpl.rcParams['font.sans-serif'].insert(0, 'Arial')\n",
    "mpl.rcParams['font.size'] = 14\n",
    "%config InlineBackend.figure_format = 'retina'\n",
    "%matplotlib inline"
   ]
  },
  {
   "cell_type": "code",
   "execution_count": null,
   "metadata": {},
   "outputs": [],
   "source": [
    "import pycorrelate as pyc"
   ]
  },
  {
   "cell_type": "markdown",
   "metadata": {},
   "source": [
    "## Load Data"
   ]
  },
  {
   "cell_type": "markdown",
   "metadata": {},
   "source": [
    "We start by downloading some timestamps data:"
   ]
  },
  {
   "cell_type": "code",
   "execution_count": null,
   "metadata": {},
   "outputs": [],
   "source": [
    "url = 'http://files.figshare.com/2182601/0023uLRpitc_NTP_20dT_0.5GndCl.hdf5'\n",
    "pyc.utils.download_file(url, save_dir='data')"
   ]
  },
  {
   "cell_type": "code",
   "execution_count": null,
   "metadata": {},
   "outputs": [],
   "source": [
    "fname = './data/' + url.split('/')[-1]\n",
    "h5 = h5py.File(fname)\n",
    "unit = 12.5e-9"
   ]
  },
  {
   "cell_type": "code",
   "execution_count": null,
   "metadata": {},
   "outputs": [],
   "source": [
    "num_ph = int(3e6)\n",
    "detectors = h5['photon_data']['detectors'][:num_ph]\n",
    "timestamps = h5['photon_data']['timestamps'][:num_ph]\n",
    "t = timestamps[detectors == 0]\n",
    "u = timestamps[detectors == 1]"
   ]
  },
  {
   "cell_type": "code",
   "execution_count": null,
   "metadata": {},
   "outputs": [],
   "source": [
    "t.shape, u.shape, t[0], u[0]"
   ]
  },
  {
   "cell_type": "code",
   "execution_count": null,
   "metadata": {},
   "outputs": [],
   "source": [
    "t.max()*unit, u.max()*unit"
   ]
  },
  {
   "cell_type": "markdown",
   "metadata": {},
   "source": [
    "Timestamps need to be monotonic, let's test it:"
   ]
  },
  {
   "cell_type": "code",
   "execution_count": null,
   "metadata": {},
   "outputs": [],
   "source": [
    "assert (np.diff(t) > 0).all()\n",
    "assert (np.diff(u) > 0).all()"
   ]
  },
  {
   "cell_type": "markdown",
   "metadata": {},
   "source": [
    "## Log-scale bins (base 10)\n",
    "\n",
    "Here we compute the cross-correlation on log10-spaced bins.\n",
    "\n",
    "First we compute the array of lag bins using the function [make_loglags](http://pycorrelate.readthedocs.io/en/latest/api.html#pycorrelate.pycorrelate.make_loglags):"
   ]
  },
  {
   "cell_type": "code",
   "execution_count": null,
   "metadata": {},
   "outputs": [],
   "source": [
    "# compute lags in sec. then convert to timestamp units\n",
    "bins = pyc.make_loglags(-7, 0, 10) / unit"
   ]
  },
  {
   "cell_type": "markdown",
   "metadata": {},
   "source": [
    "Then, we compute the cross-correlation using the function \n",
    "[pcorrelate](http://pycorrelate.readthedocs.io/en/latest/api.html#pycorrelate.pycorrelate.pcorrelate):"
   ]
  },
  {
   "cell_type": "code",
   "execution_count": null,
   "metadata": {},
   "outputs": [],
   "source": [
    "G = pyc.pcorrelate(t, u, bins)"
   ]
  },
  {
   "cell_type": "code",
   "execution_count": null,
   "metadata": {},
   "outputs": [],
   "source": [
    "fig, ax = plt.subplots(figsize=(10, 6))\n",
    "plt.plot(bins*unit, np.hstack((G[:1], G)), drawstyle='steps-pre')\n",
    "plt.xlabel('Time (s)')\n",
    "#for x in bins[1:]: plt.axvline(x*unit, lw=0.2)  # to mark bins\n",
    "plt.grid(True); plt.grid(True, which='minor', lw=0.3)\n",
    "plt.xscale('log')\n",
    "plt.xlim(30e-9, 2)"
   ]
  },
  {
   "cell_type": "markdown",
   "metadata": {},
   "source": [
    "## Log-scale bins (base 2)\n",
    "\n",
    "Here we compute the same cross-correlation on log2-spaced bins.\n",
    "\n",
    "First we compute the array of lag bins using the function [make_loglags](http://pycorrelate.readthedocs.io/en/latest/api.html#pycorrelate.pycorrelate.make_loglags):"
   ]
  },
  {
   "cell_type": "code",
   "execution_count": null,
   "metadata": {},
   "outputs": [],
   "source": [
    "# compute lags directly in timestamp units\n",
    "bins = pyc.make_loglags(-1, 28, 1, base=2).astype('int')"
   ]
  },
  {
   "cell_type": "markdown",
   "metadata": {},
   "source": [
    "Then, we compute the cross-correlation using the function \n",
    "[pcorrelate](http://pycorrelate.readthedocs.io/en/latest/api.html#pycorrelate.pycorrelate.pcorrelate):"
   ]
  },
  {
   "cell_type": "code",
   "execution_count": null,
   "metadata": {},
   "outputs": [],
   "source": [
    "G = pyc.pcorrelate(t, u, bins)"
   ]
  },
  {
   "cell_type": "code",
   "execution_count": null,
   "metadata": {},
   "outputs": [],
   "source": [
    "fig, ax = plt.subplots(figsize=(10, 6))\n",
    "plt.plot(bins*unit, np.hstack((G[:1], G)), drawstyle='steps-pre')\n",
    "plt.xlabel('Time (s)')\n",
    "#for x in bins[1:]: plt.axvline(x*unit, lw=0.2)  # to mark bins\n",
    "plt.grid(True); plt.grid(True, which='minor', lw=0.3)\n",
    "plt.xscale('log')\n",
    "plt.xlim(30e-9, 2)"
   ]
  },
  {
   "cell_type": "markdown",
   "metadata": {},
   "source": [
    "## Multi-tau bins\n",
    "\n",
    "Finally, we compute the cross-correlation on arbitrarly-spaced bins.\n",
    "Similar to the multi-tau bins, here we use constant bin size for \n",
    "a number of bins (`n_group`), then we double the bin size and we keep it constant\n",
    "for another `n_group` and so on:"
   ]
  },
  {
   "cell_type": "code",
   "execution_count": null,
   "metadata": {},
   "outputs": [],
   "source": [
    "n_group = 4\n",
    "bin_widths = []\n",
    "for i in range(26):\n",
    "    bin_widths += [2**i]*n_group\n",
    "np.array(bin_widths)\n",
    "bins = np.hstack(([0], np.cumsum(bin_widths)))"
   ]
  },
  {
   "cell_type": "markdown",
   "metadata": {},
   "source": [
    "Then, we compute the cross-correlation using the function \n",
    "[pcorrelate](http://pycorrelate.readthedocs.io/en/latest/api.html#pycorrelate.pycorrelate.pcorrelate):"
   ]
  },
  {
   "cell_type": "code",
   "execution_count": null,
   "metadata": {},
   "outputs": [],
   "source": [
    "G = pyc.pcorrelate(t, u, bins)"
   ]
  },
  {
   "cell_type": "code",
   "execution_count": null,
   "metadata": {},
   "outputs": [],
   "source": [
    "fig, ax = plt.subplots(figsize=(10, 6))\n",
    "plt.plot(bins*unit, np.hstack((G[:1], G)), drawstyle='steps-pre')\n",
    "plt.xlabel('Time (s)')\n",
    "#for x in bins[1:]: plt.axvline(x*unit, lw=0.2)  # to mark bins\n",
    "plt.grid(True); plt.grid(True, which='minor', lw=0.3)\n",
    "plt.xscale('log')\n",
    "plt.xlim(30e-9, 2)"
   ]
  },
  {
   "cell_type": "markdown",
   "metadata": {},
   "source": [
    "## Test: comparison with np.histogram\n",
    "\n",
    "For testing alternative (slower) implementations we use smaller input arrays:"
   ]
  },
  {
   "cell_type": "code",
   "execution_count": null,
   "metadata": {},
   "outputs": [],
   "source": [
    "tt = t[:5000]\n",
    "uu = u[:5000]"
   ]
  },
  {
   "cell_type": "markdown",
   "metadata": {},
   "source": [
    "The algoritm implemented in `pycorrelate.pcorrelate` can be re-written in a very \n",
    "simple way using `numpy.histogram`:"
   ]
  },
  {
   "cell_type": "code",
   "execution_count": null,
   "metadata": {},
   "outputs": [],
   "source": [
    "# compute lags in sec. then convert to timestamp units\n",
    "bins = pyc.make_loglags(-7, 0, 10) / unit"
   ]
  },
  {
   "cell_type": "code",
   "execution_count": null,
   "metadata": {},
   "outputs": [],
   "source": [
    "Y = np.zeros(bins.size - 1, dtype=np.int64)\n",
    "for ti in tt:\n",
    "    Yc, _ = np.histogram(uu - ti, bins=bins)\n",
    "    Y += Yc\n",
    "G = Y / np.diff(bins)"
   ]
  },
  {
   "cell_type": "code",
   "execution_count": null,
   "metadata": {},
   "outputs": [],
   "source": [
    "assert (G == pyc.pcorrelate(tt, uu, bins)).all()"
   ]
  },
  {
   "cell_type": "markdown",
   "metadata": {},
   "source": [
    "Test passed! Here we demonstrated that the logic of the algorithm\n",
    "is implemented as described in the paper (and in the few lines of code above)."
   ]
  },
  {
   "cell_type": "markdown",
   "metadata": {},
   "source": [
    "## Tests: comparison with np.correlate\n",
    "\n",
    "The comparison with `np.correlate` is a little tricky.\n",
    "First we need to bin our input to create timetraces that can be correlated\n",
    "by linear convolution. For testing purposes, let's choice\n",
    "some timetrace bins:"
   ]
  },
  {
   "cell_type": "code",
   "execution_count": null,
   "metadata": {},
   "outputs": [],
   "source": [
    "binwidth = 50e-6\n",
    "bins_tt = np.arange(0, tt.max()*unit, binwidth) / unit\n",
    "bins_uu = np.arange(0, uu.max()*unit, binwidth) / unit"
   ]
  },
  {
   "cell_type": "code",
   "execution_count": null,
   "metadata": {},
   "outputs": [],
   "source": [
    "bins_tt.max()*unit, bins_tt.size"
   ]
  },
  {
   "cell_type": "code",
   "execution_count": null,
   "metadata": {},
   "outputs": [],
   "source": [
    "bins_uu.max()*unit, bins_uu.size"
   ]
  },
  {
   "cell_type": "code",
   "execution_count": null,
   "metadata": {},
   "outputs": [],
   "source": [
    "tx, _ = np.histogram(tt, bins=bins_tt)\n",
    "ux, _ = np.histogram(uu, bins=bins_uu)\n",
    "\n",
    "plt.figure(figsize=(10, 6))\n",
    "plt.plot(bins_tt[1:]*unit, tx)\n",
    "plt.plot(bins_uu[1:]*unit, ux)\n",
    "plt.xlabel('Time (s)')"
   ]
  },
  {
   "cell_type": "markdown",
   "metadata": {},
   "source": [
    "The plots above are the two curves we are going to feed to\n",
    "`np.correlate`:"
   ]
  },
  {
   "cell_type": "code",
   "execution_count": null,
   "metadata": {},
   "outputs": [],
   "source": [
    "C = np.correlate(ux, tx, mode='full')"
   ]
  },
  {
   "cell_type": "markdown",
   "metadata": {},
   "source": [
    "We need to trim the result to obtain a proper alignment with\n",
    "the 0-time lag:"
   ]
  },
  {
   "cell_type": "code",
   "execution_count": null,
   "metadata": {},
   "outputs": [],
   "source": [
    "Gn = C[tx.size-1:]  # trim to positive time lags"
   ]
  },
  {
   "cell_type": "markdown",
   "metadata": {},
   "source": [
    "Now, we can check that both `numpy.correlate` and `pycorrelate.ucorrelate`\n",
    "give the same result:"
   ]
  },
  {
   "cell_type": "code",
   "execution_count": null,
   "metadata": {},
   "outputs": [],
   "source": [
    "Gu = pyc.ucorrelate(tx, ux)\n",
    "assert (Gu == Gn).all()"
   ]
  },
  {
   "cell_type": "markdown",
   "metadata": {},
   "source": [
    "Now, let's compute the correlation also with `pycorrelate.pcorrelate`:"
   ]
  },
  {
   "cell_type": "code",
   "execution_count": null,
   "metadata": {},
   "outputs": [],
   "source": [
    "maxlag_sec = 3.9\n",
    "lagbins = (np.arange(0, maxlag_sec, binwidth) / unit).astype('int64')"
   ]
  },
  {
   "cell_type": "code",
   "execution_count": null,
   "metadata": {},
   "outputs": [],
   "source": [
    "Gp = pyc.pcorrelate(tt, uu, lagbins) * int(binwidth / unit)"
   ]
  },
  {
   "cell_type": "markdown",
   "metadata": {},
   "source": [
    "Let's plot a comparison:"
   ]
  },
  {
   "cell_type": "code",
   "execution_count": null,
   "metadata": {},
   "outputs": [],
   "source": [
    "fig, ax = plt.subplots(figsize=(10, 6))\n",
    "Gn_t = np.arange(1, Gn.size+1) * binwidth * 1e3\n",
    "Gu_t = np.arange(1, Gu.size+1) * binwidth * 1e3\n",
    "Gp_t = lagbins[1:] * unit * 1e3\n",
    "plt.plot(Gn_t, Gn, alpha=1, lw=2, label='numpy.correlate') \n",
    "plt.plot(Gu_t, Gu, alpha=0.6, lw=2, label='pycorrelate.ucorrelate')\n",
    "plt.plot(Gp_t, Gp, alpha=0.7, lw=2, label='pycorrelate.pcorrelate')\n",
    "plt.xlabel('Time (ms)', fontsize='large')\n",
    "plt.grid(True)\n",
    "plt.xlim(30e-3, 500)\n",
    "plt.xscale('log')\n",
    "plt.title('pycorrelate.correlate vs numpy.correlate', fontsize='x-large')\n",
    "plt.legend(loc='best', fontsize='x-large');"
   ]
  },
  {
   "cell_type": "markdown",
   "metadata": {},
   "source": [
    "## Conclusion\n",
    "\n",
    "- `numpy.correlate` and `pycorrelate.ucorrelate` give identical results,\n",
    "  with the latter being much faster. Note that the inputs are swapped between the \n",
    "  two functions.\n",
    "  \n",
    "- `pycorrelate.ucorrelate` and `pycorrelate.pcorrelate` agree when using \n",
    "  uniform time-lag bins."
   ]
  }
 ],
 "metadata": {
  "kernelspec": {
   "display_name": "Python 3",
   "language": "python",
   "name": "python3"
  },
  "language_info": {
   "codemirror_mode": {
    "name": "ipython",
    "version": 3
   },
   "file_extension": ".py",
   "mimetype": "text/x-python",
   "name": "python",
   "nbconvert_exporter": "python",
   "pygments_lexer": "ipython3",
   "version": "3.6.0"
  },
  "toc": {
   "colors": {
    "hover_highlight": "#DAA520",
    "running_highlight": "#FF0000",
    "selected_highlight": "#FFD700"
   },
   "moveMenuLeft": true,
   "nav_menu": {
    "height": "264px",
    "width": "252px"
   },
   "navigate_menu": true,
   "number_sections": false,
   "sideBar": true,
   "threshold": 4,
   "toc_cell": false,
   "toc_position": {
    "height": "673px",
    "left": "0px",
    "right": "1139.11px",
    "top": "107px",
    "width": "212px"
   },
   "toc_section_display": "block",
   "toc_window_display": true,
   "widenNotebook": false
  }
 },
 "nbformat": 4,
 "nbformat_minor": 1
}
