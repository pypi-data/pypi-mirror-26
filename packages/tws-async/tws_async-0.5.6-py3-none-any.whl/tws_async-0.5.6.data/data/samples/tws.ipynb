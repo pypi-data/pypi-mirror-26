{
 "cells": [
  {
   "cell_type": "code",
   "execution_count": 1,
   "metadata": {},
   "outputs": [],
   "source": [
    "from quantipy import *\n",
    "import datetime"
   ]
  },
  {
   "cell_type": "code",
   "execution_count": 2,
   "metadata": {},
   "outputs": [
    {
     "name": "stderr",
     "output_type": "stream",
     "text": [
      "2017-10-19 22:46:46,539 TWS INFO Trying to connect...\n",
      "2017-10-19 22:46:46,540 ib_insync.client INFO Connecting to 127.0.0.1:7497 with clientId 1...\n",
      "2017-10-19 22:46:46,544 ib_insync.client INFO Connected\n",
      "2017-10-19 22:46:46,552 ib_insync.client INFO Logged on to server version 124\n",
      "2017-10-19 22:46:46,594 ib_insync.wrapper INFO Warning 2104, reqId -1: Market data farm connection is OK:eufarm\n",
      "2017-10-19 22:46:46,595 ib_insync.wrapper INFO Warning 2104, reqId -1: Market data farm connection is OK:cashfarm\n",
      "2017-10-19 22:46:46,597 ib_insync.wrapper INFO Warning 2104, reqId -1: Market data farm connection is OK:usfarm.us\n",
      "2017-10-19 22:46:46,598 ib_insync.wrapper INFO Warning 2104, reqId -1: Market data farm connection is OK:usfarm\n",
      "2017-10-19 22:46:46,599 ib_insync.wrapper INFO Warning 2106, reqId -1: HMDS data farm connection is OK:ushmds\n",
      "2017-10-19 22:46:46,601 ib_insync.client INFO API connection ready\n",
      "2017-10-19 22:46:46,659 ib_insync.wrapper INFO updatePortfolio: PortfolioItem(contract=Contract(conId=111987452, symbol='IBNL25', secType='CFD', right='0', currency='EUR', localSymbol='IBNL25', tradingClass='IBNL25'), position=-20.0, marketPrice=544.0700073, marketValue=-10881.4, averageCost=507.653085, unrealizedPNL=-728.34, realizedPNL=0.0, account='U172554')\n",
      "2017-10-19 22:46:46,661 ib_insync.wrapper INFO position: Position(account='U172554', contract=Contract(conId=111987452, symbol='IBNL25', secType='CFD', currency='EUR', localSymbol='IBNL25', tradingClass='IBNL25'), position=-20.0, avgCost=507.653085)\n",
      "2017-10-19 22:46:46,664 ib_insync.ib INFO Synchronization complete\n"
     ]
    }
   ],
   "source": [
    "twsStore = Global.DataStores.tws\n",
    "tws = TWS('tws', Global.OrderStores.tws, clientId=1)\n",
    "tws.connect()"
   ]
  },
  {
   "cell_type": "code",
   "execution_count": 3,
   "metadata": {},
   "outputs": [
    {
     "data": {
      "text/plain": [
       "[<Position EUR 0.0>]"
      ]
     },
     "execution_count": 3,
     "metadata": {},
     "output_type": "execute_result"
    }
   ],
   "source": [
    "tws.portfolio.cashPositions"
   ]
  },
  {
   "cell_type": "code",
   "execution_count": 5,
   "metadata": {},
   "outputs": [
    {
     "data": {
      "text/plain": [
       "[Position(account='U172554', contract=Contract(conId=111987452, symbol='IBNL25', secType='CFD', currency='EUR', localSymbol='IBNL25', tradingClass='IBNL25'), position=-20.0, avgCost=507.653085)]"
      ]
     },
     "execution_count": 5,
     "metadata": {},
     "output_type": "execute_result"
    }
   ],
   "source": [
    "tws.ib.positions()"
   ]
  },
  {
   "cell_type": "code",
   "execution_count": 4,
   "metadata": {},
   "outputs": [
    {
     "data": {
      "text/plain": [
       "[AccountValue(account='U172554', tag='AccountType', value='INDIVIDUAL', currency=''),\n",
       " AccountValue(account='U172554', tag='Cushion', value='0.787886', currency=''),\n",
       " AccountValue(account='U172554', tag='DayTradesRemaining', value='3', currency=''),\n",
       " AccountValue(account='U172554', tag='LookAheadNextChange', value='0', currency=''),\n",
       " AccountValue(account='U172554', tag='AccruedCash', value='0.00', currency='EUR'),\n",
       " AccountValue(account='U172554', tag='AvailableFunds', value='1042.03', currency='EUR'),\n",
       " AccountValue(account='U172554', tag='BuyingPower', value='249.96', currency='EUR'),\n",
       " AccountValue(account='U172554', tag='EquityWithLoanValue', value='1417.94', currency='EUR'),\n",
       " AccountValue(account='U172554', tag='ExcessLiquidity', value='1117.18', currency='EUR'),\n",
       " AccountValue(account='U172554', tag='FullAvailableFunds', value='666.31', currency='EUR'),\n",
       " AccountValue(account='U172554', tag='FullExcessLiquidity', value='816.60', currency='EUR'),\n",
       " AccountValue(account='U172554', tag='FullInitMarginReq', value='751.64', currency='EUR'),\n",
       " AccountValue(account='U172554', tag='FullMaintMarginReq', value='601.35', currency='EUR'),\n",
       " AccountValue(account='U172554', tag='GrossPositionValue', value='10952.10', currency='EUR'),\n",
       " AccountValue(account='U172554', tag='InitMarginReq', value='375.91', currency='EUR'),\n",
       " AccountValue(account='U172554', tag='LookAheadAvailableFunds', value='1042.03', currency='EUR'),\n",
       " AccountValue(account='U172554', tag='LookAheadExcessLiquidity', value='1117.18', currency='EUR'),\n",
       " AccountValue(account='U172554', tag='LookAheadInitMarginReq', value='375.91', currency='EUR'),\n",
       " AccountValue(account='U172554', tag='LookAheadMaintMarginReq', value='300.77', currency='EUR'),\n",
       " AccountValue(account='U172554', tag='MaintMarginReq', value='300.77', currency='EUR'),\n",
       " AccountValue(account='U172554', tag='NetLiquidation', value='1417.94', currency='EUR'),\n",
       " AccountValue(account='U172554', tag='SMA', value='6375.63', currency='EUR'),\n",
       " AccountValue(account='U172554', tag='TotalCashValue', value='1417.94', currency='EUR')]"
      ]
     },
     "execution_count": 4,
     "metadata": {},
     "output_type": "execute_result"
    }
   ],
   "source": [
    "tws.ib.accountSummary()"
   ]
  },
  {
   "cell_type": "code",
   "execution_count": 5,
   "metadata": {},
   "outputs": [],
   "source": [
    "ticks = twsStore.readTicks(Instruments.GBPUSD, datetime.date(2013, 4, 1))\n",
    "ticks2 = ticks.getBetween(t0, t1)"
   ]
  },
  {
   "cell_type": "code",
   "execution_count": 8,
   "metadata": {},
   "outputs": [],
   "source": [
    "import datetime\n",
    "twsStore = Global.DataStores.tws\n",
    "t0 = util.datetime2Ticks(datetime.datetime(2013, 4, 1, 9, tzinfo=datetime.timezone.utc))\n",
    "t1 = t0 + util.us_per_min\n",
    "date = datetime.date(2013, 4, 1)"
   ]
  },
  {
   "cell_type": "code",
   "execution_count": 3,
   "metadata": {},
   "outputs": [
    {
     "name": "stderr",
     "output_type": "stream",
     "text": [
      "2017-09-24 22:34:04,134 ProxyClient INFO Connected to server 192.168.1.3:61235\n"
     ]
    }
   ],
   "source": [
    "tws = Global.Providers.tws\n",
    "Global.ProxyClient.connect()"
   ]
  },
  {
   "cell_type": "code",
   "execution_count": 13,
   "metadata": {},
   "outputs": [
    {
     "data": {
      "text/plain": [
       "<TimeBars GBPUSD period=3600.0 length=2>\n",
       "2013-04-01 09:00:00\t1.521025\t1.52165\t1.52005\t1.520925\t603\t\t603\n",
       "2013-04-01 10:00:00\t1.520925\t1.5212\t1.51955\t1.519625\t802\t\t802"
      ]
     },
     "execution_count": 13,
     "metadata": {},
     "output_type": "execute_result"
    }
   ],
   "source": [
    "bars = TimeBars(Instruments.GBPUSD, 3600, startDate=date, endDate=date, tickFilter=TickFilter.create('Midpoint'))\n",
    "tws.fillBars(bars)\n",
    "bars2 = bars.getBetween(t0, t0 + util.us_per_hour * 2)\n",
    "bars2"
   ]
  },
  {
   "cell_type": "code",
   "execution_count": 21,
   "metadata": {},
   "outputs": [
    {
     "data": {
      "text/plain": [
       "<TimeBars GBPUSD period=60.0 length=0>"
      ]
     },
     "execution_count": 21,
     "metadata": {},
     "output_type": "execute_result"
    }
   ],
   "source": [
    "bars"
   ]
  },
  {
   "cell_type": "code",
   "execution_count": 11,
   "metadata": {},
   "outputs": [
    {
     "data": {
      "text/plain": [
       "1364806800.0"
      ]
     },
     "execution_count": 11,
     "metadata": {},
     "output_type": "execute_result"
    }
   ],
   "source": [
    "t0/1000000"
   ]
  },
  {
   "cell_type": "code",
   "execution_count": 3,
   "metadata": {},
   "outputs": [
    {
     "name": "stdout",
     "output_type": "stream",
     "text": [
      "CPU times: user 2 µs, sys: 0 ns, total: 2 µs\n",
      "Wall time: 3.58 µs\n"
     ]
    }
   ],
   "source": [
    "%time\n",
    "date = datetime.date(2017, 10, 17)\n",
    "ticks = tws.fetchTicks(Instruments.IBNL25, date)"
   ]
  },
  {
   "cell_type": "code",
   "execution_count": 4,
   "metadata": {},
   "outputs": [
    {
     "data": {
      "text/plain": [
       "<Ticks IBNL25 length=10439>\n",
       "2017-10-17 07:00:00\tB\t547.03\t600\n",
       "2017-10-17 07:00:00\tA\t547.23\t600\n",
       "2017-10-17 07:00:00\tB\t547\t600\n",
       "2017-10-17 07:00:00\tA\t547.2\t600\n",
       "2017-10-17 07:00:01\tB\t547.03\t600\n",
       "...\n",
       "2017-10-17 19:59:37\tA\t547.49\t600\n",
       "2017-10-17 19:59:45\tB\t546.69\t600\n",
       "2017-10-17 19:59:46\tA\t547.39\t600\n",
       "2017-10-17 19:59:47\tB\t546.64\t600\n",
       "2017-10-17 19:59:48\tA\t547.34\t600"
      ]
     },
     "execution_count": 4,
     "metadata": {},
     "output_type": "execute_result"
    }
   ],
   "source": [
    "ticks"
   ]
  },
  {
   "cell_type": "code",
   "execution_count": 9,
   "metadata": {},
   "outputs": [
    {
     "ename": "OSError",
     "evalue": "[Errno 30] Read-only file system: '/home/ewald/store/tws/data/IBNL25/2017/1017.tick'",
     "output_type": "error",
     "traceback": [
      "\u001b[0;31m---------------------------------------------------------------------------\u001b[0m",
      "\u001b[0;31mOSError\u001b[0m                                   Traceback (most recent call last)",
      "\u001b[0;32m<ipython-input-9-9f30899d9a80>\u001b[0m in \u001b[0;36m<module>\u001b[0;34m()\u001b[0m\n\u001b[0;32m----> 1\u001b[0;31m \u001b[0mGlobal\u001b[0m\u001b[0;34m.\u001b[0m\u001b[0mDataStores\u001b[0m\u001b[0;34m.\u001b[0m\u001b[0mtws\u001b[0m\u001b[0;34m.\u001b[0m\u001b[0mwriteTicks\u001b[0m\u001b[0;34m(\u001b[0m\u001b[0mticks\u001b[0m\u001b[0;34m)\u001b[0m\u001b[0;34m\u001b[0m\u001b[0m\n\u001b[0m",
      "\u001b[0;32m~/workspace/quantipy/quantipy/comm/datastore.py\u001b[0m in \u001b[0;36mwriteTicks\u001b[0;34m(self, ticks, date)\u001b[0m\n\u001b[1;32m    309\u001b[0m             \u001b[0mdate\u001b[0m \u001b[0;34m=\u001b[0m \u001b[0mticks\u001b[0m\u001b[0;34m.\u001b[0m\u001b[0mdatetime\u001b[0m\u001b[0;34m(\u001b[0m\u001b[0;36m0\u001b[0m\u001b[0;34m)\u001b[0m\u001b[0;34m.\u001b[0m\u001b[0mdate\u001b[0m\u001b[0;34m(\u001b[0m\u001b[0;34m)\u001b[0m\u001b[0;34m\u001b[0m\u001b[0m\n\u001b[1;32m    310\u001b[0m         \u001b[0mpath\u001b[0m \u001b[0;34m=\u001b[0m \u001b[0mself\u001b[0m\u001b[0;34m.\u001b[0m\u001b[0m_tickPath\u001b[0m\u001b[0;34m(\u001b[0m\u001b[0mticks\u001b[0m\u001b[0;34m.\u001b[0m\u001b[0minstrument\u001b[0m\u001b[0;34m,\u001b[0m \u001b[0mdate\u001b[0m\u001b[0;34m)\u001b[0m\u001b[0;34m\u001b[0m\u001b[0m\n\u001b[0;32m--> 311\u001b[0;31m         \u001b[0mself\u001b[0m\u001b[0;34m.\u001b[0m\u001b[0m_writeTicks\u001b[0m\u001b[0;34m(\u001b[0m\u001b[0mticks\u001b[0m\u001b[0;34m,\u001b[0m \u001b[0mpath\u001b[0m\u001b[0;34m,\u001b[0m \u001b[0mdate\u001b[0m\u001b[0;34m)\u001b[0m\u001b[0;34m\u001b[0m\u001b[0m\n\u001b[0m\u001b[1;32m    312\u001b[0m \u001b[0;34m\u001b[0m\u001b[0m\n\u001b[1;32m    313\u001b[0m     \u001b[0;32mdef\u001b[0m \u001b[0mappendTicks\u001b[0m\u001b[0;34m(\u001b[0m\u001b[0mself\u001b[0m\u001b[0;34m,\u001b[0m \u001b[0mticks\u001b[0m\u001b[0;34m)\u001b[0m\u001b[0;34m:\u001b[0m\u001b[0;34m\u001b[0m\u001b[0m\n",
      "\u001b[0;32m~/workspace/quantipy/quantipy/comm/datastore.py\u001b[0m in \u001b[0;36m_writeTicks\u001b[0;34m(self, ticks, path, date)\u001b[0m\n\u001b[1;32m    427\u001b[0m                 (ticks.instrument.id , date)).encode()\n\u001b[1;32m    428\u001b[0m         \u001b[0mtext\u001b[0m \u001b[0;34m=\u001b[0m \u001b[0mticks\u001b[0m\u001b[0;34m.\u001b[0m\u001b[0mtoAscii\u001b[0m\u001b[0;34m(\u001b[0m\u001b[0;34m)\u001b[0m\u001b[0;34m\u001b[0m\u001b[0m\n\u001b[0;32m--> 429\u001b[0;31m         \u001b[0;32mwith\u001b[0m \u001b[0mopen\u001b[0m\u001b[0;34m(\u001b[0m\u001b[0mpath\u001b[0m\u001b[0;34m,\u001b[0m \u001b[0;34m'wb'\u001b[0m\u001b[0;34m)\u001b[0m \u001b[0;32mas\u001b[0m \u001b[0mf\u001b[0m\u001b[0;34m:\u001b[0m\u001b[0;34m\u001b[0m\u001b[0m\n\u001b[0m\u001b[1;32m    430\u001b[0m             \u001b[0mf\u001b[0m\u001b[0;34m.\u001b[0m\u001b[0mwrite\u001b[0m\u001b[0;34m(\u001b[0m\u001b[0mheader\u001b[0m\u001b[0;34m)\u001b[0m\u001b[0;34m\u001b[0m\u001b[0m\n\u001b[1;32m    431\u001b[0m             \u001b[0mf\u001b[0m\u001b[0;34m.\u001b[0m\u001b[0mwrite\u001b[0m\u001b[0;34m(\u001b[0m\u001b[0mtext\u001b[0m\u001b[0;34m)\u001b[0m\u001b[0;34m\u001b[0m\u001b[0m\n",
      "\u001b[0;31mOSError\u001b[0m: [Errno 30] Read-only file system: '/home/ewald/store/tws/data/IBNL25/2017/1017.tick'"
     ]
    }
   ],
   "source": [
    "Global.DataStores.tws.writeTicks(ticks)"
   ]
  },
  {
   "cell_type": "code",
   "execution_count": 10,
   "metadata": {},
   "outputs": [],
   "source": [
    "ticks.('/home/ewald/IBNL25.tick')"
   ]
  },
  {
   "cell_type": "code",
   "execution_count": 11,
   "metadata": {},
   "outputs": [],
   "source": [
    "store = TextFileDataStore('tws2', '/home/ewald/tws2')"
   ]
  },
  {
   "cell_type": "code",
   "execution_count": 12,
   "metadata": {},
   "outputs": [],
   "source": [
    "store.writeTicks(ticks)"
   ]
  },
  {
   "cell_type": "code",
   "execution_count": 3,
   "metadata": {},
   "outputs": [],
   "source": [
    "contracts = [tws._getIBContract(i) for i in Global.Instruments.values()]"
   ]
  },
  {
   "cell_type": "code",
   "execution_count": 4,
   "metadata": {},
   "outputs": [
    {
     "data": {
      "text/plain": [
       "80"
      ]
     },
     "execution_count": 4,
     "metadata": {},
     "output_type": "execute_result"
    }
   ],
   "source": [
    "len(contracts)"
   ]
  },
  {
   "cell_type": "code",
   "execution_count": 5,
   "metadata": {},
   "outputs": [
    {
     "name": "stderr",
     "output_type": "stream",
     "text": [
      "2017-10-19 19:08:01,786 ib_insync.wrapper INFO updatePortfolio: PortfolioItem(contract=Contract(conId=111987452, symbol='IBNL25', secType='CFD', right='0', currency='EUR', localSymbol='IBNL25', tradingClass='IBNL25'), position=-20.0, marketPrice=544.1950073, marketValue=-10883.9, averageCost=507.653085, unrealizedPNL=-730.84, realizedPNL=0.0, account='U172554')\n",
      "2017-10-19 19:08:02,134 ib_insync.wrapper ERROR Error 354, reqId 490: Requested market data is not subscribed.Delayed market data is available.Error&NASDAQ/IND/Top&NASDAQ/IND/Top\n",
      "2017-10-19 19:08:02,384 ib_insync.wrapper ERROR Error 354, reqId 492: Requested market data is not subscribed.Delayed market data is available.Error&NASDAQ/IND/Top&NASDAQ/IND/Top\n"
     ]
    },
    {
     "name": "stdout",
     "output_type": "stream",
     "text": [
      "CPU times: user 86.7 ms, sys: 5.07 ms, total: 91.8 ms\n",
      "Wall time: 12.1 s\n"
     ]
    }
   ],
   "source": [
    "%%time\n",
    "tickers = tws.ib.reqTickers(*contracts)"
   ]
  },
  {
   "cell_type": "code",
   "execution_count": 8,
   "metadata": {},
   "outputs": [
    {
     "data": {
      "text/plain": [
       "[Ticker(contract=Contract(symbol='SPX', secType='IND', exchange='SMART', primaryExchange='CBOE', currency='USD'), time=datetime.datetime(2017, 10, 19, 16, 58, 19, 348956, tzinfo=datetime.timezone.utc), bid=2556.17, bidSize=1, ask=2557.24, askSize=1, last=2556.64, lastSize=0, high=2560.91, low=2548.12, close=2561.26),\n",
       " Ticker(contract=Contract(symbol='NDX', secType='IND', exchange='SMART', primaryExchange='NASDAQ', currency='USD')),\n",
       " Ticker(contract=Contract(symbol='INDU', secType='IND', exchange='SMART', primaryExchange='NYSE', currency='USD'), time=datetime.datetime(2017, 10, 19, 16, 58, 19, 407020, tzinfo=datetime.timezone.utc), bid=23118.8, bidSize=1, ask=23123.7, askSize=1, last=23121.5, lastSize=0, high=23144.3, low=23035.6, close=23157.6),\n",
       " Ticker(contract=Contract(symbol='COMP', secType='IND', exchange='SMART', primaryExchange='NASDAQ', currency='USD')),\n",
       " Ticker(contract=Contract(symbol='IBNL25', secType='CFD', exchange='SMART', primaryExchange='SMART', currency='EUR'), time=datetime.datetime(2017, 10, 19, 16, 58, 19, 436713, tzinfo=datetime.timezone.utc), bid=544.17, bidSize=600, ask=544.27, askSize=600, close=547.93),\n",
       " Ticker(contract=Contract(symbol='IBEU50', secType='CFD', exchange='SMART', primaryExchange='SMART', currency='EUR'), time=datetime.datetime(2017, 10, 19, 16, 58, 19, 441756, tzinfo=datetime.timezone.utc), bid=3599.15, bidSize=150, ask=3600.15, askSize=150, close=3622.08),\n",
       " Ticker(contract=Contract(symbol='IBDE30', secType='CFD', exchange='SMART', primaryExchange='SMART', currency='EUR'), time=datetime.datetime(2017, 10, 19, 16, 58, 19, 443095, tzinfo=datetime.timezone.utc), bid=12986.84, bidSize=50, ask=12987.84, askSize=50, close=13054.8),\n",
       " Ticker(contract=Contract(symbol='IBFR40', secType='CFD', exchange='SMART', primaryExchange='SMART', currency='EUR'), time=datetime.datetime(2017, 10, 19, 16, 58, 19, 502059, tzinfo=datetime.timezone.utc), bid=5367.43, bidSize=100, ask=5368.43, askSize=100, close=5384.37),\n",
       " Ticker(contract=Contract(symbol='IBIT40', secType='CFD', exchange='SMART', primaryExchange='SMART', currency='EUR'), time=datetime.datetime(2017, 10, 19, 16, 58, 19, 445376, tzinfo=datetime.timezone.utc), bid=-1.0, bidSize=0, ask=-1.0, askSize=0, close=22352.06),\n",
       " Ticker(contract=Contract(symbol='IBES35', secType='CFD', exchange='SMART', primaryExchange='SMART', currency='EUR'), time=datetime.datetime(2017, 10, 19, 16, 58, 19, 503749, tzinfo=datetime.timezone.utc), bid=10178.08, bidSize=25, ask=10181.08, askSize=25, close=10272.97),\n",
       " Ticker(contract=Contract(symbol='IBCH20', secType='CFD', exchange='SMART', primaryExchange='SMART', currency='CHF'), time=datetime.datetime(2017, 10, 19, 16, 58, 19, 507049, tzinfo=datetime.timezone.utc), bid=9227.29, bidSize=40, ask=9228.29, askSize=40, close=9310.29),\n",
       " Ticker(contract=Contract(symbol='IBGB100', secType='CFD', exchange='SMART', primaryExchange='SMART', currency='GBP'), time=datetime.datetime(2017, 10, 19, 16, 58, 19, 512615, tzinfo=datetime.timezone.utc), bid=7524.86, bidSize=50, ask=7525.36, askSize=50, close=7540.95),\n",
       " Ticker(contract=Contract(symbol='IBJP225', secType='CFD', exchange='SMART', primaryExchange='SMART', currency='JPY'), time=datetime.datetime(2017, 10, 19, 16, 58, 19, 517555, tzinfo=datetime.timezone.utc), bid=-1.0, bidSize=0, ask=-1.0, askSize=0, close=21354.6),\n",
       " Ticker(contract=Contract(symbol='IBHK50', secType='CFD', exchange='SMART', primaryExchange='SMART', currency='HKD'), time=datetime.datetime(2017, 10, 19, 16, 58, 19, 548988, tzinfo=datetime.timezone.utc), bid=-1.0, bidSize=0, ask=-1.0, askSize=0, close=28674.41),\n",
       " Ticker(contract=Contract(symbol='IBAU200', secType='CFD', exchange='SMART', primaryExchange='SMART', currency='AUD'), time=datetime.datetime(2017, 10, 19, 16, 58, 19, 556450, tzinfo=datetime.timezone.utc), bid=-1.0, bidSize=0, ask=-1.0, askSize=0, close=5899.31),\n",
       " Ticker(contract=Contract(symbol='IBUS500', secType='CFD', exchange='SMART', primaryExchange='SMART', currency='USD'), time=datetime.datetime(2017, 10, 19, 16, 58, 19, 562913, tzinfo=datetime.timezone.utc), bid=2556.47, bidSize=300, ask=2556.72, askSize=300, close=2561.52),\n",
       " Ticker(contract=Contract(symbol='IBUS30', secType='CFD', exchange='SMART', primaryExchange='SMART', currency='USD'), time=datetime.datetime(2017, 10, 19, 16, 58, 19, 565079, tzinfo=datetime.timezone.utc), bid=23124.04, bidSize=33, ask=23125.04, askSize=33, close=23161.65),\n",
       " Ticker(contract=Contract(symbol='IBUST100', secType='CFD', exchange='SMART', primaryExchange='SMART', currency='USD'), time=datetime.datetime(2017, 10, 19, 16, 58, 19, 567246, tzinfo=datetime.timezone.utc), bid=6072.9, bidSize=150, ask=6073.15, askSize=150, close=6115.08),\n",
       " Ticker(contract=Contract(symbol='XAUUSD', secType='CMDTY', exchange='SMART', primaryExchange='SMART', currency='USD'), time=datetime.datetime(2017, 10, 19, 16, 58, 19, 572495, tzinfo=datetime.timezone.utc), bid=1287.6, bidSize=2800, ask=1287.7, askSize=800, high=1306.09, low=1276.57, close=1281.06),\n",
       " Ticker(contract=Contract(symbol='XAGUSD', secType='CMDTY', exchange='SMART', primaryExchange='SMART', currency='USD'), time=datetime.datetime(2017, 10, 19, 16, 58, 19, 578779, tzinfo=datetime.timezone.utc), bid=17.226, bidSize=50000, ask=17.227, askSize=20000, high=17.4695, low=16.909, close=17.0),\n",
       " Ticker(contract=Contract(symbol='AAPL', secType='STK', exchange='SMART', primaryExchange='NASDAQ', currency='USD'), time=datetime.datetime(2017, 10, 19, 16, 58, 19, 584419, tzinfo=datetime.timezone.utc), bid=155.09, bidSize=6, ask=155.1, askSize=18, last=155.09, lastSize=1, volume=222828, open=156.75, high=157.08, low=155.07, close=159.76),\n",
       " Ticker(contract=Contract(symbol='AMD', secType='STK', exchange='SMART', primaryExchange='NYSE', currency='USD'), time=datetime.datetime(2017, 10, 19, 16, 58, 19, 315095, tzinfo=datetime.timezone.utc), bid=13.9, bidSize=254, ask=13.91, askSize=678, last=13.9, lastSize=1, volume=238556, open=13.85, high=14.04, low=13.69, close=14.07),\n",
       " Ticker(contract=Contract(symbol='AMZN', secType='STK', exchange='SMART', primaryExchange='NASDAQ', currency='USD'), time=datetime.datetime(2017, 10, 19, 16, 58, 19, 593443, tzinfo=datetime.timezone.utc), bid=987.05, bidSize=2, ask=987.62, askSize=2, last=987.57, lastSize=1, volume=12019, open=990.0, high=991.05, low=980.24, close=997.0),\n",
       " Ticker(contract=Contract(symbol='BIDU', secType='STK', exchange='SMART', primaryExchange='NASDAQ', currency='USD'), time=datetime.datetime(2017, 10, 19, 16, 58, 19, 600145, tzinfo=datetime.timezone.utc), bid=263.56, bidSize=3, ask=263.8, askSize=4, last=263.71, lastSize=2, volume=16948, open=262.26, high=265.53, low=259.15, close=268.97),\n",
       " Ticker(contract=Contract(symbol='FB', secType='STK', exchange='SMART', primaryExchange='NASDAQ', currency='USD'), time=datetime.datetime(2017, 10, 19, 16, 58, 19, 628507, tzinfo=datetime.timezone.utc), bid=173.98, bidSize=5, ask=173.99, askSize=7, last=173.98, lastSize=1, volume=79271, open=174.65, high=176.03, low=172.63, close=176.03),\n",
       " Ticker(contract=Contract(symbol='GOOG', secType='STK', exchange='SMART', primaryExchange='NASDAQ', currency='USD'), time=datetime.datetime(2017, 10, 19, 16, 58, 19, 634298, tzinfo=datetime.timezone.utc), bid=983.33, bidSize=4, ask=983.95, askSize=4, last=983.41, lastSize=2, volume=4870, open=986.0, high=988.88, low=978.39, close=992.81),\n",
       " Ticker(contract=Contract(symbol='INTC', secType='STK', exchange='SMART', primaryExchange='NASDAQ', currency='USD'), time=datetime.datetime(2017, 10, 19, 16, 58, 19, 647064, tzinfo=datetime.timezone.utc), bid=40.15, bidSize=58, ask=40.16, askSize=92, last=40.15, lastSize=1, volume=97703, open=40.0, high=40.33, low=39.83, close=40.25),\n",
       " Ticker(contract=Contract(symbol='KO', secType='STK', exchange='SMART', primaryExchange='NYSE', currency='USD'), time=datetime.datetime(2017, 10, 19, 16, 58, 19, 330684, tzinfo=datetime.timezone.utc), bid=46.71, bidSize=116, ask=46.72, askSize=31, last=46.72, lastSize=1, volume=34598, open=46.37, high=46.79, low=46.32, close=46.4),\n",
       " Ticker(contract=Contract(symbol='MSFT', secType='STK', exchange='SMART', primaryExchange='NASDAQ', currency='USD'), time=datetime.datetime(2017, 10, 19, 16, 58, 19, 649574, tzinfo=datetime.timezone.utc), bid=77.69, bidSize=20, ask=77.7, askSize=48, last=77.69, lastSize=1, volume=68530, open=77.48, high=77.85, low=77.35, close=77.61),\n",
       " Ticker(contract=Contract(symbol='MU', secType='STK', exchange='SMART', primaryExchange='NYSE', currency='USD'), time=datetime.datetime(2017, 10, 19, 16, 58, 19, 332006, tzinfo=datetime.timezone.utc), bid=40.68, bidSize=40, ask=40.69, askSize=18, last=40.69, lastSize=1, volume=290393, open=41.18, high=41.5, low=39.8, close=41.65),\n",
       " Ticker(contract=Contract(symbol='NVDA', secType='STK', exchange='SMART', primaryExchange='NASDAQ', currency='USD'), time=datetime.datetime(2017, 10, 19, 16, 58, 19, 675743, tzinfo=datetime.timezone.utc), bid=196.58, bidSize=2, ask=196.63, askSize=1, last=196.6, lastSize=1, volume=92565, open=194.44, high=198.0, low=192.45, close=197.58),\n",
       " Ticker(contract=Contract(symbol='PEP', secType='STK', exchange='SMART', primaryExchange='NYSE', currency='USD'), time=datetime.datetime(2017, 10, 19, 16, 58, 19, 339644, tzinfo=datetime.timezone.utc), bid=112.53, bidSize=7, ask=112.55, askSize=8, last=112.55, lastSize=1, volume=8787, open=111.62, high=112.79, low=111.6, close=111.95),\n",
       " Ticker(contract=Contract(symbol='QCOM', secType='STK', exchange='SMART', primaryExchange='NASDAQ', currency='USD'), time=datetime.datetime(2017, 10, 19, 16, 58, 19, 650718, tzinfo=datetime.timezone.utc), bid=52.09, bidSize=25, ask=52.1, askSize=53, last=52.09, lastSize=2, volume=29576, open=52.03, high=52.4, low=52.01, close=52.21),\n",
       " Ticker(contract=Contract(symbol='RHT', secType='STK', exchange='SMART', primaryExchange='NYSE', currency='USD'), time=datetime.datetime(2017, 10, 19, 16, 58, 19, 352786, tzinfo=datetime.timezone.utc), bid=120.55, bidSize=3, ask=120.6, askSize=3, last=120.58, lastSize=1, volume=4123, open=120.0, high=120.96, low=118.68, close=120.69),\n",
       " Ticker(contract=Contract(symbol='TSLA', secType='STK', exchange='SMART', primaryExchange='NASDAQ', currency='USD'), time=datetime.datetime(2017, 10, 19, 16, 58, 19, 675743, tzinfo=datetime.timezone.utc), bid=350.86, bidSize=3, ask=350.99, askSize=3, last=350.91, lastSize=1, volume=29022, open=355.56, high=357.15, low=348.2, close=359.65),\n",
       " Ticker(contract=Contract(symbol='QQQ', secType='STK', exchange='SMART', primaryExchange='NASDAQ', currency='USD'), time=datetime.datetime(2017, 10, 19, 16, 58, 19, 678612, tzinfo=datetime.timezone.utc), bid=147.85, bidSize=25, ask=147.86, askSize=190, last=147.85, lastSize=5, volume=164797, open=147.99, high=148.26, low=147.27, close=148.86),\n",
       " Ticker(contract=Contract(symbol='GLD', secType='STK', exchange='SMART', primaryExchange='NYSE', currency='USD'), time=datetime.datetime(2017, 10, 19, 16, 58, 19, 355923, tzinfo=datetime.timezone.utc), bid=122.31, bidSize=192, ask=122.32, askSize=28, last=122.32, lastSize=1, volume=24001, open=122.2, high=122.55, low=122.12, close=121.67),\n",
       " Ticker(contract=Contract(symbol='SPY', secType='STK', exchange='SMART', primaryExchange='ARCA', currency='USD'), time=datetime.datetime(2017, 10, 19, 16, 58, 19, 357761, tzinfo=datetime.timezone.utc), bid=255.23, bidSize=33, ask=255.24, askSize=255, last=255.24, lastSize=1, volume=288666, open=254.83, high=255.26, low=254.35, close=255.72),\n",
       " Ticker(contract=Contract(symbol='DIA', secType='STK', exchange='SMART', primaryExchange='ARCA', currency='USD'), time=datetime.datetime(2017, 10, 19, 16, 58, 19, 359955, tzinfo=datetime.timezone.utc), bid=231.2, bidSize=4, ask=231.21, askSize=16, last=231.21, lastSize=5, volume=14355, open=230.84, high=231.33, low=230.52, close=231.46),\n",
       " Ticker(contract=Contract(symbol='IWM', secType='STK', exchange='SMART', primaryExchange='AMEX', currency='USD'), time=datetime.datetime(2017, 10, 19, 16, 58, 19, 365716, tzinfo=datetime.timezone.utc), bid=148.59, bidSize=30, ask=148.6, askSize=36, last=148.59, lastSize=1, volume=100062, open=148.77, high=149.05, low=148.17, close=149.52),\n",
       " Ticker(contract=Contract(symbol='EEM', secType='STK', exchange='SMART', primaryExchange='AMEX', currency='USD'), time=datetime.datetime(2017, 10, 19, 16, 58, 19, 379150, tzinfo=datetime.timezone.utc), bid=45.98, bidSize=108, ask=45.99, askSize=3720, last=45.98, lastSize=1, volume=290450, open=46.02, high=46.08, low=45.89, close=46.5),\n",
       " Ticker(contract=Contract(symbol='ABN', secType='STK', exchange='SMART', primaryExchange='AEB', currency='EUR'), time=datetime.datetime(2017, 10, 19, 16, 58, 19, 385885, tzinfo=datetime.timezone.utc), bid=0.0, bidSize=0, ask=0.0, askSize=0, last=26.28, lastSize=1343, open=26.435, close=26.39),\n",
       " Ticker(contract=Contract(symbol='AGN', secType='STK', exchange='SMART', primaryExchange='AEB', currency='EUR'), time=datetime.datetime(2017, 10, 19, 16, 58, 19, 387783, tzinfo=datetime.timezone.utc), bid=0.0, bidSize=0, ask=0.0, askSize=0, last=5.013, lastSize=2169, open=4.982, close=4.982),\n",
       " Ticker(contract=Contract(symbol='AD', secType='STK', exchange='SMART', primaryExchange='AEB', currency='EUR'), time=datetime.datetime(2017, 10, 19, 16, 58, 19, 395886, tzinfo=datetime.timezone.utc), bid=0.0, bidSize=0, ask=0.0, askSize=0, last=16.265, lastSize=463, open=16.195, close=16.16),\n",
       " Ticker(contract=Contract(symbol='ASML', secType='STK', exchange='SMART', primaryExchange='AEB', currency='EUR'), time=datetime.datetime(2017, 10, 19, 16, 58, 19, 408789, tzinfo=datetime.timezone.utc), bid=0.0, bidSize=0, ask=0.0, askSize=0, last=148.5, lastSize=164, open=146.4, close=145.05),\n",
       " Ticker(contract=Contract(symbol='FUR', secType='STK', exchange='SMART', primaryExchange='AEB', currency='EUR'), time=datetime.datetime(2017, 10, 19, 16, 58, 19, 410334, tzinfo=datetime.timezone.utc), bid=0.0, bidSize=0, ask=0.0, askSize=0, last=11.74, lastSize=1, open=11.85, close=11.83),\n",
       " Ticker(contract=Contract(symbol='HEIA', secType='STK', exchange='SMART', primaryExchange='AEB', currency='EUR'), time=datetime.datetime(2017, 10, 19, 16, 58, 19, 411536, tzinfo=datetime.timezone.utc), bid=0.0, bidSize=0, ask=0.0, askSize=0, last=86.28, lastSize=170, open=86.3, close=86.43),\n",
       " Ticker(contract=Contract(symbol='INGA', secType='STK', exchange='SMART', primaryExchange='AEB', currency='EUR'), time=datetime.datetime(2017, 10, 19, 16, 58, 19, 416679, tzinfo=datetime.timezone.utc), bid=0.0, bidSize=0, ask=0.0, askSize=0, last=15.725, lastSize=2917, open=15.66, close=15.7),\n",
       " Ticker(contract=Contract(symbol='KPN', secType='STK', exchange='SMART', primaryExchange='AEB', currency='EUR'), time=datetime.datetime(2017, 10, 19, 16, 58, 19, 423783, tzinfo=datetime.timezone.utc), bid=0.0, bidSize=0, ask=0.0, askSize=0, last=2.98, lastSize=10186, open=2.958, close=2.952),\n",
       " Ticker(contract=Contract(symbol='NN', secType='STK', exchange='SMART', primaryExchange='AEB', currency='EUR'), time=datetime.datetime(2017, 10, 19, 16, 58, 19, 425645, tzinfo=datetime.timezone.utc), bid=0.0, bidSize=0, ask=0.0, askSize=0, last=36.45, lastSize=1065, volume=1014164, open=36.5, high=36.57, low=36.2, close=36.33),\n",
       " Ticker(contract=Contract(symbol='MT', secType='STK', exchange='SMART', primaryExchange='AEB', currency='EUR'), time=datetime.datetime(2017, 10, 19, 16, 58, 19, 425645, tzinfo=datetime.timezone.utc), bid=0.0, bidSize=0, ask=0.0, askSize=0, last=24.67, lastSize=100, open=24.49, close=24.435),\n",
       " Ticker(contract=Contract(symbol='LIGHT', secType='STK', exchange='SMART', primaryExchange='AEB', currency='EUR'), time=datetime.datetime(2017, 10, 19, 16, 58, 19, 427356, tzinfo=datetime.timezone.utc), bid=0.0, bidSize=0, ask=0.0, askSize=0, last=32.1, lastSize=83, open=33.33, close=33.69),\n",
       " Ticker(contract=Contract(symbol='RDSA', secType='STK', exchange='SMART', primaryExchange='AEB', currency='EUR'), time=datetime.datetime(2017, 10, 19, 16, 58, 19, 430096, tzinfo=datetime.timezone.utc), bid=0.0, bidSize=0, ask=0.0, askSize=0, last=25.8, lastSize=14124, open=25.765, close=25.825),\n",
       " Ticker(contract=Contract(symbol='PNL', secType='STK', exchange='SMART', primaryExchange='AEB', currency='EUR'), time=datetime.datetime(2017, 10, 19, 16, 58, 19, 431818, tzinfo=datetime.timezone.utc), bid=0.0, bidSize=0, ask=0.0, askSize=0, last=3.636, lastSize=2565, open=3.655, close=3.647),\n",
       " Ticker(contract=Contract(symbol='UNIA', secType='STK', exchange='SMART', primaryExchange='AEB', currency='EUR'), time=datetime.datetime(2017, 10, 19, 16, 58, 19, 433755, tzinfo=datetime.timezone.utc), bid=0.0, bidSize=0, ask=0.0, askSize=0, last=49.265, lastSize=18, volume=39833, open=50.61, high=50.73, low=49.05, close=52.16),\n",
       " Ticker(contract=Contract(symbol='EUR', secType='CASH', exchange='SMART', primaryExchange='IDEALPRO', currency='USD'), time=datetime.datetime(2017, 10, 19, 16, 58, 19, 680493, tzinfo=datetime.timezone.utc), bid=1.1831, bidSize=7000000, ask=1.18315, askSize=14500000, high=1.1858, low=1.17685, close=1.1787),\n",
       " Ticker(contract=Contract(symbol='EUR', secType='CASH', exchange='SMART', primaryExchange='IDEALPRO', currency='CAD'), time=datetime.datetime(2017, 10, 19, 16, 58, 19, 682320, tzinfo=datetime.timezone.utc), bid=1.4756, bidSize=2000000, ask=1.4757, askSize=1000000, high=1.47925, low=1.4689, close=1.4694),\n",
       " Ticker(contract=Contract(symbol='EUR', secType='CASH', exchange='SMART', primaryExchange='IDEALPRO', currency='CHF'), time=datetime.datetime(2017, 10, 19, 16, 58, 19, 689140, tzinfo=datetime.timezone.utc), bid=1.15425, bidSize=5000000, ask=1.1543, askSize=2000000, high=1.1585, low=1.15245, close=1.157),\n",
       " Ticker(contract=Contract(symbol='EUR', secType='CASH', exchange='SMART', primaryExchange='IDEALPRO', currency='GBP'), time=datetime.datetime(2017, 10, 19, 16, 58, 19, 701912, tzinfo=datetime.timezone.utc), bid=0.899, bidSize=4000000, ask=0.89905, askSize=4000000, high=0.8997, low=0.8925, close=0.89265),\n",
       " Ticker(contract=Contract(symbol='EUR', secType='CASH', exchange='SMART', primaryExchange='IDEALPRO', currency='JPY'), time=datetime.datetime(2017, 10, 19, 16, 58, 19, 693937, tzinfo=datetime.timezone.utc), bid=133.18, bidSize=7500000, ask=133.185, askSize=1000000, high=133.63, low=132.475, close=133.11),\n",
       " Ticker(contract=Contract(symbol='EUR', secType='CASH', exchange='SMART', primaryExchange='IDEALPRO', currency='AUD'), time=datetime.datetime(2017, 10, 19, 16, 58, 19, 690942, tzinfo=datetime.timezone.utc), bid=1.50235, bidSize=1000000, ask=1.50245, askSize=2000000, high=1.50585, low=1.49865, close=1.5023),\n",
       " Ticker(contract=Contract(symbol='EUR', secType='CASH', exchange='SMART', primaryExchange='IDEALPRO', currency='NZD'), time=datetime.datetime(2017, 10, 19, 16, 58, 19, 705101, tzinfo=datetime.timezone.utc), bid=1.68465, bidSize=1000000, ask=1.6848, askSize=2000000, high=1.68815, low=1.6465, close=1.6477),\n",
       " Ticker(contract=Contract(symbol='EUR', secType='CASH', exchange='SMART', primaryExchange='IDEALPRO', currency='HKD'), time=datetime.datetime(2017, 10, 19, 16, 58, 19, 709026, tzinfo=datetime.timezone.utc), bid=9.22915, bidSize=1000000, ask=9.2294, askSize=1000000, high=9.25, low=9.18195, close=9.2043),\n",
       " Ticker(contract=Contract(symbol='EUR', secType='CASH', exchange='SMART', primaryExchange='IDEALPRO', currency='CNH'), time=datetime.datetime(2017, 10, 19, 16, 58, 19, 718873, tzinfo=datetime.timezone.utc), bid=7.8178, bidSize=1000000, ask=7.81825, askSize=1000000, high=7.84315, low=7.8033, close=7.8042),\n",
       " Ticker(contract=Contract(symbol='EUR', secType='CASH', exchange='SMART', primaryExchange='IDEALPRO', currency='RUB'), time=datetime.datetime(2017, 10, 19, 16, 58, 19, 724165, tzinfo=datetime.timezone.utc), bid=-1.0, bidSize=0, ask=-1.0, askSize=0, high=68.2132, low=67.6883, close=67.729),\n",
       " Ticker(contract=Contract(symbol='USD', secType='CASH', exchange='SMART', primaryExchange='IDEALPRO', currency='JPY'), time=datetime.datetime(2017, 10, 19, 16, 58, 19, 733322, tzinfo=datetime.timezone.utc), bid=112.565, bidSize=15000000, ask=112.57, askSize=1000000, high=113.145, low=112.3, close=112.93),\n",
       " Ticker(contract=Contract(symbol='USD', secType='CASH', exchange='SMART', primaryExchange='IDEALPRO', currency='CNH'), time=datetime.datetime(2017, 10, 19, 16, 58, 19, 750332, tzinfo=datetime.timezone.utc), bid=6.60795, bidSize=1000000, ask=6.60825, askSize=2000000, high=6.64035, low=6.6079, close=6.621),\n",
       " Ticker(contract=Contract(symbol='USD', secType='CASH', exchange='SMART', primaryExchange='IDEALPRO', currency='RUB'), time=datetime.datetime(2017, 10, 19, 16, 58, 19, 757091, tzinfo=datetime.timezone.utc), bid=57.361, bidSize=500000, ask=57.37405, askSize=1200000, high=57.73475, low=57.3035, close=57.46),\n",
       " Ticker(contract=Contract(symbol='USD', secType='CASH', exchange='SMART', primaryExchange='IDEALPRO', currency='CAD'), time=datetime.datetime(2017, 10, 19, 16, 58, 19, 758672, tzinfo=datetime.timezone.utc), bid=1.24725, bidSize=3000000, ask=1.2473, askSize=1000000, high=1.249, low=1.2451, close=1.2466),\n",
       " Ticker(contract=Contract(symbol='USD', secType='CASH', exchange='SMART', primaryExchange='IDEALPRO', currency='CHF'), time=datetime.datetime(2017, 10, 19, 16, 58, 19, 760319, tzinfo=datetime.timezone.utc), bid=0.9756, bidSize=5000000, ask=0.97565, askSize=2000000, high=0.98215, low=0.9737, close=0.9816),\n",
       " Ticker(contract=Contract(symbol='USD', secType='CASH', exchange='SMART', primaryExchange='IDEALPRO', currency='KRW'), time=datetime.datetime(2017, 10, 19, 16, 58, 19, 767100, tzinfo=datetime.timezone.utc), bid=1130.81, bidSize=100000, ask=1133.11, askSize=100000, close=1132.9),\n",
       " Ticker(contract=Contract(symbol='GBP', secType='CASH', exchange='SMART', primaryExchange='IDEALPRO', currency='USD'), time=datetime.datetime(2017, 10, 19, 16, 58, 19, 774077, tzinfo=datetime.timezone.utc), bid=1.316, bidSize=1000000, ask=1.31605, askSize=6000000, high=1.3229, low=1.31335, close=1.3205),\n",
       " Ticker(contract=Contract(symbol='AUD', secType='CASH', exchange='SMART', primaryExchange='IDEALPRO', currency='USD'), time=datetime.datetime(2017, 10, 19, 16, 58, 19, 782647, tzinfo=datetime.timezone.utc), bid=0.78745, bidSize=10000000, ask=0.7875, askSize=500000, high=0.7884, low=0.7841, close=0.7846),\n",
       " Ticker(contract=Contract(symbol='NZD', secType='CASH', exchange='SMART', primaryExchange='IDEALPRO', currency='USD'), time=datetime.datetime(2017, 10, 19, 16, 58, 19, 790785, tzinfo=datetime.timezone.utc), bid=0.70225, bidSize=2000000, ask=0.70235, askSize=11000000, high=0.71715, low=0.70115, close=0.71535),\n",
       " Ticker(contract=Contract(symbol='GBP', secType='CASH', exchange='SMART', primaryExchange='IDEALPRO', currency='CHF'), time=datetime.datetime(2017, 10, 19, 16, 58, 19, 792652, tzinfo=datetime.timezone.utc), bid=1.2839, bidSize=2500000, ask=1.28405, askSize=5000000, high=1.29655, low=1.2832, close=1.2962),\n",
       " Ticker(contract=Contract(symbol='GBP', secType='CASH', exchange='SMART', primaryExchange='IDEALPRO', currency='JPY'), time=datetime.datetime(2017, 10, 19, 16, 58, 19, 801325, tzinfo=datetime.timezone.utc), bid=148.14, bidSize=3000000, ask=148.15, askSize=2000000, high=149.44, low=147.915, close=149.12),\n",
       " Ticker(contract=Contract(symbol='CAD', secType='CASH', exchange='SMART', primaryExchange='IDEALPRO', currency='JPY'), time=datetime.datetime(2017, 10, 19, 16, 58, 19, 807451, tzinfo=datetime.timezone.utc), bid=90.25, bidSize=6000000, ask=90.26, askSize=8000000, high=90.775, low=90.035, close=90.59),\n",
       " Ticker(contract=Contract(symbol='CHF', secType='CASH', exchange='SMART', primaryExchange='IDEALPRO', currency='JPY'), time=datetime.datetime(2017, 10, 19, 16, 58, 19, 810348, tzinfo=datetime.timezone.utc), bid=115.375, bidSize=1500000, ask=115.38, askSize=500000, high=115.555, low=114.91, close=115.05),\n",
       " Ticker(contract=Contract(symbol='AUD', secType='CASH', exchange='SMART', primaryExchange='IDEALPRO', currency='JPY'), time=datetime.datetime(2017, 10, 19, 16, 58, 19, 819638, tzinfo=datetime.timezone.utc), bid=88.64, bidSize=10500000, ask=88.65, askSize=1000000, high=88.995, low=88.39, close=88.605),\n",
       " Ticker(contract=Contract(symbol='NZD', secType='CASH', exchange='SMART', primaryExchange='IDEALPRO', currency='JPY'), time=datetime.datetime(2017, 10, 19, 16, 58, 19, 824358, tzinfo=datetime.timezone.utc), bid=79.05, bidSize=1000000, ask=79.06, askSize=8000000, high=80.96, low=78.91, close=80.785)]"
      ]
     },
     "execution_count": 8,
     "metadata": {},
     "output_type": "execute_result"
    }
   ],
   "source": [
    "tickers"
   ]
  },
  {
   "cell_type": "code",
   "execution_count": 2,
   "metadata": {},
   "outputs": [
    {
     "data": {
      "text/plain": [
       "[Future(conId=55928744, symbol='CL', lastTradeDateOrContractMonth='20171120', multiplier='1000', exchange='NYMEX', currency='USD', localSymbol='CLZ7', tradingClass='CL')]"
      ]
     },
     "execution_count": 2,
     "metadata": {},
     "output_type": "execute_result"
    }
   ],
   "source": [
    "from ib_insync import *\n",
    "\n",
    "ib = IB()\n",
    "ib.connect('127.0.0.1', '7497', 2)\n",
    "cl = Future(localSymbol='CLZ7', exchange='NYMEX', currency='USD')\n",
    "ib.qualifyContracts(cl)"
   ]
  },
  {
   "cell_type": "code",
   "execution_count": 3,
   "metadata": {},
   "outputs": [
    {
     "data": {
      "text/plain": [
       "[OptionChain(exchange='NYMEX', underlyingConId=55928744, tradingClass='LO1', multiplier='1000', expirations={'20171103'}, strikes={61.5, 51.5, 52.5, 53.5, 15.0, 54.5, 17.5, 20.0, 55.5, 22.5, 25.0, 56.5, 27.5, 62.5, 30.0, 57.5, 32.5, 35.0, 58.5, 37.5, 39.5, 40.0, 40.5, 41.0, 41.5, 42.0, 42.5, 43.0, 43.5, 44.0, 44.5, 45.0, 45.5, 46.0, 46.5, 47.0, 47.5, 48.0, 48.5, 49.0, 50.0, 51.0, 52.0, 53.0, 54.0, 55.0, 56.0, 57.0, 58.0, 59.0, 60.0, 61.0, 62.0, 65.0, 67.5, 70.0, 72.5, 75.0, 77.5, 59.5, 80.0, 82.5, 85.0, 60.5, 49.5, 50.5}),\n",
       " OptionChain(exchange='NYMEX', underlyingConId=55928744, tradingClass='LO2', multiplier='1000', expirations={'20171110'}, strikes={61.5, 51.5, 52.5, 53.5, 54.5, 17.5, 20.0, 55.5, 22.5, 25.0, 56.5, 27.5, 62.5, 30.0, 57.5, 32.5, 35.0, 58.5, 37.5, 40.0, 41.5, 42.0, 42.5, 43.0, 43.5, 44.0, 44.5, 45.0, 45.5, 46.0, 46.5, 47.0, 47.5, 48.0, 48.5, 49.0, 49.5, 50.0, 50.5, 51.0, 52.0, 53.0, 54.0, 55.0, 56.0, 57.0, 58.0, 59.0, 60.0, 61.0, 62.0, 65.0, 67.5, 70.0, 72.5, 75.0, 77.5, 59.5, 80.0, 82.5, 85.0, 60.5}),\n",
       " OptionChain(exchange='NYMEX', underlyingConId=55928744, tradingClass='LO3', multiplier='1000', expirations={'20171020'}, strikes={61.5, 51.5, 52.5, 53.5, 15.0, 54.5, 17.5, 20.0, 55.5, 22.5, 25.0, 56.5, 27.5, 62.5, 30.0, 57.5, 32.5, 35.0, 58.5, 37.5, 39.5, 40.0, 40.5, 41.0, 41.5, 42.0, 42.5, 43.0, 43.5, 44.0, 44.5, 45.0, 45.5, 46.0, 46.5, 47.0, 47.5, 48.0, 48.5, 49.0, 50.0, 51.0, 52.0, 53.0, 54.0, 55.0, 56.0, 57.0, 58.0, 59.0, 60.0, 61.0, 62.0, 65.0, 67.5, 70.0, 72.5, 75.0, 77.5, 59.5, 80.0, 82.5, 85.0, 87.5, 60.5, 49.5, 50.5}),\n",
       " OptionChain(exchange='NYMEX', underlyingConId=55928744, tradingClass='LO', multiplier='1000', expirations={'20171115'}, strikes={102.0, 102.5, 5.5, 6.0, 7.5, 7.0, 6.5, 8.0, 8.5, 9.0, 9.5, 10.0, 10.5, 11.0, 11.5, 12.0, 12.5, 13.0, 13.5, 14.0, 14.5, 15.0, 16.0, 26.5, 18.0, 19.0, 20.0, 21.0, 22.0, 23.0, 24.0, 25.0, 26.0, 27.0, 28.0, 29.0, 30.0, 31.0, 32.0, 33.0, 34.0, 39.0, 42.0, 43.0, 44.0, 47.0, 40.0, 41.0, 42.5, 43.5, 44.5, 45.0, 46.0, 47.5, 48.0, 49.0, 50.0, 51.0, 52.0, 53.0, 54.0, 55.0, 56.0, 57.0, 58.0, 59.0, 60.0, 61.0, 62.0, 63.0, 64.0, 65.0, 66.0, 15.5, 68.0, 69.0, 70.0, 71.0, 16.5, 73.0, 74.0, 75.0, 76.0, 17.0, 17.5, 79.0, 80.0, 81.0, 18.5, 83.0, 84.0, 85.0, 86.0, 19.5, 88.0, 89.0, 90.0, 91.0, 20.5, 93.0, 94.0, 95.0, 96.0, 21.5, 98.0, 99.0, 100.0, 101.0, 22.5, 103.0, 104.0, 105.0, 106.0, 23.5, 106.5, 109.0, 110.0, 111.0, 24.5, 113.0, 114.0, 115.0, 116.0, 25.5, 118.0, 119.0, 120.0, 121.0, 122.0, 123.0, 124.0, 125.0, 126.0, 27.5, 107.0, 107.5, 128.0, 128.5, 28.5, 129.0, 129.5, 130.0, 130.5, 29.5, 138.0, 131.0, 131.5, 142.5, 30.5, 145.0, 132.0, 132.5, 147.5, 31.5, 150.0, 133.0, 133.5, 152.5, 108.0, 32.5, 108.5, 134.0, 134.5, 157.5, 33.5, 135.0, 135.5, 162.5, 127.0, 34.5, 127.5, 136.0, 136.5, 167.5, 35.0, 35.5, 137.0, 137.5, 103.5, 36.0, 36.5, 138.5, 177.5, 109.5, 37.0, 37.5, 139.0, 139.5, 182.5, 38.0, 38.5, 140.0, 187.5, 190.0, 39.5, 191.0, 195.0, 196.0, 200.0, 40.5, 205.0, 41.5, 110.5, 45.5, 46.5, 111.5, 48.5, 124.5, 49.5, 50.5, 51.5, 112.0, 52.5, 112.5, 53.5, 155.0, 54.5, 55.5, 56.5, 113.5, 57.5, 58.5, 160.0, 59.5, 60.5, 104.5, 61.5, 114.5, 62.5, 63.5, 165.0, 64.5, 65.5, 66.5, 115.5, 67.0, 67.5, 68.5, 170.0, 69.5, 70.5, 172.5, 71.5, 116.5, 72.0, 72.5, 73.5, 175.0, 125.5, 74.5, 75.5, 76.5, 117.0, 117.5, 77.0, 77.5, 78.0, 78.5, 180.0, 79.5, 80.5, 81.5, 118.5, 82.0, 82.5, 83.5, 185.0, 84.5, 85.5, 105.5, 86.5, 119.5, 87.0, 87.5, 88.5, 89.5, 90.5, 91.5, 120.5, 92.0, 92.5, 93.5, 123.5, 94.5, 95.5, 96.5, 121.5, 97.0, 97.5, 98.5, 126.5, 99.5, 100.5, 101.5, 122.5}),\n",
       " OptionChain(exchange='NYMEX', underlyingConId=55928744, tradingClass='LO4', multiplier='1000', expirations={'20171027'}, strikes={61.5, 51.5, 52.5, 53.5, 15.0, 54.5, 17.5, 20.0, 55.5, 22.5, 25.0, 56.5, 27.5, 62.5, 30.0, 57.5, 32.5, 35.0, 58.5, 37.5, 39.5, 40.0, 40.5, 41.0, 41.5, 42.0, 42.5, 43.0, 43.5, 44.0, 44.5, 45.0, 45.5, 46.0, 46.5, 47.0, 47.5, 48.0, 48.5, 49.0, 50.0, 51.0, 52.0, 53.0, 54.0, 55.0, 56.0, 57.0, 58.0, 59.0, 60.0, 61.0, 62.0, 65.0, 67.5, 70.0, 72.5, 75.0, 77.5, 59.5, 80.0, 82.5, 85.0, 60.5, 49.5, 50.5})]"
      ]
     },
     "execution_count": 3,
     "metadata": {},
     "output_type": "execute_result"
    }
   ],
   "source": [
    "ib.reqSecDefOptParams('CL', 'NYMEX', 'FUT', cl.conId)"
   ]
  },
  {
   "cell_type": "code",
   "execution_count": 4,
   "metadata": {},
   "outputs": [
    {
     "name": "stderr",
     "output_type": "stream",
     "text": [
      "ERROR:ib_insync.ib:Ambiguous contract: Contract(symbol='CL', secType='FOP', strike=52), possibles are [Contract(conId=155049109, symbol='CL', secType='FOP', lastTradeDateOrContractMonth='20200514', strike=52.0, right='C', multiplier='1000', exchange='NYMEX', currency='USD', localSymbol='LOM0 C5200', tradingClass='LO'), Contract(conId=155085325, symbol='CL', secType='FOP', lastTradeDateOrContractMonth='20200514', strike=52.0, right='P', multiplier='1000', exchange='NYMEX', currency='USD', localSymbol='LOM0 P5200', tradingClass='LO'), Contract(conId=155053680, symbol='CL', secType='FOP', lastTradeDateOrContractMonth='20191115', strike=52.0, right='C', multiplier='1000', exchange='NYMEX', currency='USD', localSymbol='LOZ9 C5200', tradingClass='LO'), Contract(conId=155093605, symbol='CL', secType='FOP', lastTradeDateOrContractMonth='20191115', strike=52.0, right='P', multiplier='1000', exchange='NYMEX', currency='USD', localSymbol='LOZ9 P5200', tradingClass='LO'), Contract(conId=155058734, symbol='CL', secType='FOP', lastTradeDateOrContractMonth='20211116', strike=52.0, right='P', multiplier='1000', exchange='NYMEX', currency='USD', localSymbol='LOZ1 P5200', tradingClass='LO'), Contract(conId=155067301, symbol='CL', secType='FOP', lastTradeDateOrContractMonth='20211116', strike=52.0, right='C', multiplier='1000', exchange='NYMEX', currency='USD', localSymbol='LOZ1 C5200', tradingClass='LO'), Contract(conId=155060727, symbol='CL', secType='FOP', lastTradeDateOrContractMonth='20201117', strike=52.0, right='C', multiplier='1000', exchange='NYMEX', currency='USD', localSymbol='LOZ0 C5200', tradingClass='LO'), Contract(conId=155066531, symbol='CL', secType='FOP', lastTradeDateOrContractMonth='20201117', strike=52.0, right='P', multiplier='1000', exchange='NYMEX', currency='USD', localSymbol='LOZ0 P5200', tradingClass='LO'), Contract(conId=155062884, symbol='CL', secType='FOP', lastTradeDateOrContractMonth='20180517', strike=52.0, right='C', multiplier='1000', exchange='NYMEX', currency='USD', localSymbol='LOM8 C5200', tradingClass='LO'), Contract(conId=155095999, symbol='CL', secType='FOP', lastTradeDateOrContractMonth='20180517', strike=52.0, right='P', multiplier='1000', exchange='NYMEX', currency='USD', localSymbol='LOM8 P5200', tradingClass='LO'), Contract(conId=155063880, symbol='CL', secType='FOP', lastTradeDateOrContractMonth='20220517', strike=52.0, right='C', multiplier='1000', exchange='NYMEX', currency='USD', localSymbol='LOM2 C5200', tradingClass='LO'), Contract(conId=155066857, symbol='CL', secType='FOP', lastTradeDateOrContractMonth='20220517', strike=52.0, right='P', multiplier='1000', exchange='NYMEX', currency='USD', localSymbol='LOM2 P5200', tradingClass='LO'), Contract(conId=155065293, symbol='CL', secType='FOP', lastTradeDateOrContractMonth='20181114', strike=52.0, right='C', multiplier='1000', exchange='NYMEX', currency='USD', localSymbol='LOZ8 C5200', tradingClass='LO'), Contract(conId=155081251, symbol='CL', secType='FOP', lastTradeDateOrContractMonth='20181114', strike=52.0, right='P', multiplier='1000', exchange='NYMEX', currency='USD', localSymbol='LOZ8 P5200', tradingClass='LO'), Contract(conId=155070350, symbol='CL', secType='FOP', lastTradeDateOrContractMonth='20171115', strike=52.0, right='C', multiplier='1000', exchange='NYMEX', currency='USD', localSymbol='LOZ7 C5200', tradingClass='LO'), Contract(conId=155087491, symbol='CL', secType='FOP', lastTradeDateOrContractMonth='20171115', strike=52.0, right='P', multiplier='1000', exchange='NYMEX', currency='USD', localSymbol='LOZ7 P5200', tradingClass='LO'), Contract(conId=290528531, symbol='CL', secType='FOP', lastTradeDateOrContractMonth='20171020', strike=52.0, right='C', multiplier='1000', exchange='NYMEX', currency='USD', localSymbol='LO3V7 C5200', tradingClass='LO3'), Contract(conId=290528772, symbol='CL', secType='FOP', lastTradeDateOrContractMonth='20171020', strike=52.0, right='P', multiplier='1000', exchange='NYMEX', currency='USD', localSymbol='LO3V7 P5200', tradingClass='LO3'), Contract(conId=291214665, symbol='CL', secType='FOP', lastTradeDateOrContractMonth='20171027', strike=52.0, right='C', multiplier='1000', exchange='NYMEX', currency='USD', localSymbol='LO4V7 C5200', tradingClass='LO4'), Contract(conId=291214909, symbol='CL', secType='FOP', lastTradeDateOrContractMonth='20171027', strike=52.0, right='P', multiplier='1000', exchange='NYMEX', currency='USD', localSymbol='LO4V7 P5200', tradingClass='LO4'), Contract(conId=292057011, symbol='CL', secType='FOP', lastTradeDateOrContractMonth='20171103', strike=52.0, right='C', multiplier='1000', exchange='NYMEX', currency='USD', localSymbol='LO1X7 C5200', tradingClass='LO1'), Contract(conId=292057254, symbol='CL', secType='FOP', lastTradeDateOrContractMonth='20171103', strike=52.0, right='P', multiplier='1000', exchange='NYMEX', currency='USD', localSymbol='LO1X7 P5200', tradingClass='LO1'), Contract(conId=292667649, symbol='CL', secType='FOP', lastTradeDateOrContractMonth='20171110', strike=52.0, right='C', multiplier='1000', exchange='NYMEX', currency='USD', localSymbol='LO2X7 C5200', tradingClass='LO2'), Contract(conId=292667892, symbol='CL', secType='FOP', lastTradeDateOrContractMonth='20171110', strike=52.0, right='P', multiplier='1000', exchange='NYMEX', currency='USD', localSymbol='LO2X7 P5200', tradingClass='LO2'), Contract(conId=155074997, symbol='CL', secType='FOP', lastTradeDateOrContractMonth='20190516', strike=52.0, right='P', multiplier='1000', exchange='NYMEX', currency='USD', localSymbol='LOM9 P5200', tradingClass='LO'), Contract(conId=155093042, symbol='CL', secType='FOP', lastTradeDateOrContractMonth='20190516', strike=52.0, right='C', multiplier='1000', exchange='NYMEX', currency='USD', localSymbol='LOM9 C5200', tradingClass='LO'), Contract(conId=155085190, symbol='CL', secType='FOP', lastTradeDateOrContractMonth='20210517', strike=52.0, right='C', multiplier='1000', exchange='NYMEX', currency='USD', localSymbol='LOM1 C5200', tradingClass='LO'), Contract(conId=155093978, symbol='CL', secType='FOP', lastTradeDateOrContractMonth='20210517', strike=52.0, right='P', multiplier='1000', exchange='NYMEX', currency='USD', localSymbol='LOM1 P5200', tradingClass='LO'), Contract(conId=155087340, symbol='CL', secType='FOP', lastTradeDateOrContractMonth='20221116', strike=52.0, right='P', multiplier='1000', exchange='NYMEX', currency='USD', localSymbol='LOZ2 P5200', tradingClass='LO'), Contract(conId=155096917, symbol='CL', secType='FOP', lastTradeDateOrContractMonth='20221116', strike=52.0, right='C', multiplier='1000', exchange='NYMEX', currency='USD', localSymbol='LOZ2 C5200', tradingClass='LO'), Contract(conId=170738892, symbol='CL', secType='FOP', lastTradeDateOrContractMonth='20171017', strike=52.0, right='C', multiplier='1000', exchange='NYMEX', currency='USD', localSymbol='LOX7 C5200', tradingClass='LO'), Contract(conId=170739427, symbol='CL', secType='FOP', lastTradeDateOrContractMonth='20171017', strike=52.0, right='P', multiplier='1000', exchange='NYMEX', currency='USD', localSymbol='LOX7 P5200', tradingClass='LO'), Contract(conId=174430850, symbol='CL', secType='FOP', lastTradeDateOrContractMonth='20231115', strike=52.0, right='P', multiplier='1000', exchange='NYMEX', currency='USD', localSymbol='LOZ3 P5200', tradingClass='LO'), Contract(conId=174431196, symbol='CL', secType='FOP', lastTradeDateOrContractMonth='20231115', strike=52.0, right='C', multiplier='1000', exchange='NYMEX', currency='USD', localSymbol='LOZ3 C5200', tradingClass='LO'), Contract(conId=174431080, symbol='CL', secType='FOP', lastTradeDateOrContractMonth='20230517', strike=52.0, right='P', multiplier='1000', exchange='NYMEX', currency='USD', localSymbol='LOM3 P5200', tradingClass='LO'), Contract(conId=174432871, symbol='CL', secType='FOP', lastTradeDateOrContractMonth='20230517', strike=52.0, right='C', multiplier='1000', exchange='NYMEX', currency='USD', localSymbol='LOM3 C5200', tradingClass='LO'), Contract(conId=177317107, symbol='CL', secType='FOP', lastTradeDateOrContractMonth='20171214', strike=52.0, right='C', multiplier='1000', exchange='NYMEX', currency='USD', localSymbol='LOF8 C5200', tradingClass='LO'), Contract(conId=177317547, symbol='CL', secType='FOP', lastTradeDateOrContractMonth='20171214', strike=52.0, right='P', multiplier='1000', exchange='NYMEX', currency='USD', localSymbol='LOF8 P5200', tradingClass='LO'), Contract(conId=180264366, symbol='CL', secType='FOP', lastTradeDateOrContractMonth='20180117', strike=52.0, right='C', multiplier='1000', exchange='NYMEX', currency='USD', localSymbol='LOG8 C5200', tradingClass='LO'), Contract(conId=180265814, symbol='CL', secType='FOP', lastTradeDateOrContractMonth='20180117', strike=52.0, right='P', multiplier='1000', exchange='NYMEX', currency='USD', localSymbol='LOG8 P5200', tradingClass='LO'), Contract(conId=184200918, symbol='CL', secType='FOP', lastTradeDateOrContractMonth='20180214', strike=52.0, right='P', multiplier='1000', exchange='NYMEX', currency='USD', localSymbol='LOH8 P5200', tradingClass='LO'), Contract(conId=184201710, symbol='CL', secType='FOP', lastTradeDateOrContractMonth='20180214', strike=52.0, right='C', multiplier='1000', exchange='NYMEX', currency='USD', localSymbol='LOH8 C5200', tradingClass='LO'), Contract(conId=187407109, symbol='CL', secType='FOP', lastTradeDateOrContractMonth='20180315', strike=52.0, right='P', multiplier='1000', exchange='NYMEX', currency='USD', localSymbol='LOJ8 P5200', tradingClass='LO'), Contract(conId=187408501, symbol='CL', secType='FOP', lastTradeDateOrContractMonth='20180315', strike=52.0, right='C', multiplier='1000', exchange='NYMEX', currency='USD', localSymbol='LOJ8 C5200', tradingClass='LO'), Contract(conId=190741690, symbol='CL', secType='FOP', lastTradeDateOrContractMonth='20180417', strike=52.0, right='P', multiplier='1000', exchange='NYMEX', currency='USD', localSymbol='LOK8 P5200', tradingClass='LO'), Contract(conId=190742405, symbol='CL', secType='FOP', lastTradeDateOrContractMonth='20180417', strike=52.0, right='C', multiplier='1000', exchange='NYMEX', currency='USD', localSymbol='LOK8 C5200', tradingClass='LO'), Contract(conId=197308540, symbol='CL', secType='FOP', lastTradeDateOrContractMonth='20180615', strike=52.0, right='P', multiplier='1000', exchange='NYMEX', currency='USD', localSymbol='LON8 P5200', tradingClass='LO'), Contract(conId=197308832, symbol='CL', secType='FOP', lastTradeDateOrContractMonth='20180615', strike=52.0, right='C', multiplier='1000', exchange='NYMEX', currency='USD', localSymbol='LON8 C5200', tradingClass='LO'), Contract(conId=200265638, symbol='CL', secType='FOP', lastTradeDateOrContractMonth='20180717', strike=52.0, right='C', multiplier='1000', exchange='NYMEX', currency='USD', localSymbol='LOQ8 C5200', tradingClass='LO'), Contract(conId=200266191, symbol='CL', secType='FOP', lastTradeDateOrContractMonth='20180717', strike=52.0, right='P', multiplier='1000', exchange='NYMEX', currency='USD', localSymbol='LOQ8 P5200', tradingClass='LO'), Contract(conId=203475274, symbol='CL', secType='FOP', lastTradeDateOrContractMonth='20180816', strike=52.0, right='P', multiplier='1000', exchange='NYMEX', currency='USD', localSymbol='LOU8 P5200', tradingClass='LO'), Contract(conId=203476209, symbol='CL', secType='FOP', lastTradeDateOrContractMonth='20180816', strike=52.0, right='C', multiplier='1000', exchange='NYMEX', currency='USD', localSymbol='LOU8 C5200', tradingClass='LO'), Contract(conId=206929598, symbol='CL', secType='FOP', lastTradeDateOrContractMonth='20180917', strike=52.0, right='C', multiplier='1000', exchange='NYMEX', currency='USD', localSymbol='LOV8 C5200', tradingClass='LO'), Contract(conId=206930833, symbol='CL', secType='FOP', lastTradeDateOrContractMonth='20180917', strike=52.0, right='P', multiplier='1000', exchange='NYMEX', currency='USD', localSymbol='LOV8 P5200', tradingClass='LO'), Contract(conId=209765311, symbol='CL', secType='FOP', lastTradeDateOrContractMonth='20181017', strike=52.0, right='C', multiplier='1000', exchange='NYMEX', currency='USD', localSymbol='LOX8 C5200', tradingClass='LO'), Contract(conId=209766082, symbol='CL', secType='FOP', lastTradeDateOrContractMonth='20181017', strike=52.0, right='P', multiplier='1000', exchange='NYMEX', currency='USD', localSymbol='LOX8 P5200', tradingClass='LO'), Contract(conId=213629898, symbol='CL', secType='FOP', lastTradeDateOrContractMonth='20241115', strike=52.0, right='C', multiplier='1000', exchange='NYMEX', currency='USD', localSymbol='LOZ4 C5200', tradingClass='LO'), Contract(conId=213712441, symbol='CL', secType='FOP', lastTradeDateOrContractMonth='20241115', strike=52.0, right='P', multiplier='1000', exchange='NYMEX', currency='USD', localSymbol='LOZ4 P5200', tradingClass='LO'), Contract(conId=213712224, symbol='CL', secType='FOP', lastTradeDateOrContractMonth='20240516', strike=52.0, right='C', multiplier='1000', exchange='NYMEX', currency='USD', localSymbol='LOM4 C5200', tradingClass='LO'), Contract(conId=213713614, symbol='CL', secType='FOP', lastTradeDateOrContractMonth='20240516', strike=52.0, right='P', multiplier='1000', exchange='NYMEX', currency='USD', localSymbol='LOM4 P5200', tradingClass='LO'), Contract(conId=215466414, symbol='CL', secType='FOP', lastTradeDateOrContractMonth='20181214', strike=52.0, right='C', multiplier='1000', exchange='NYMEX', currency='USD', localSymbol='LOF9 C5200', tradingClass='LO'), Contract(conId=215466651, symbol='CL', secType='FOP', lastTradeDateOrContractMonth='20181214', strike=52.0, right='P', multiplier='1000', exchange='NYMEX', currency='USD', localSymbol='LOF9 P5200', tradingClass='LO'), Contract(conId=219082654, symbol='CL', secType='FOP', lastTradeDateOrContractMonth='20190116', strike=52.0, right='C', multiplier='1000', exchange='NYMEX', currency='USD', localSymbol='LOG9 C5200', tradingClass='LO'), Contract(conId=219082918, symbol='CL', secType='FOP', lastTradeDateOrContractMonth='20190116', strike=52.0, right='P', multiplier='1000', exchange='NYMEX', currency='USD', localSymbol='LOG9 P5200', tradingClass='LO'), Contract(conId=222832233, symbol='CL', secType='FOP', lastTradeDateOrContractMonth='20190214', strike=52.0, right='P', multiplier='1000', exchange='NYMEX', currency='USD', localSymbol='LOH9 P5200', tradingClass='LO'), Contract(conId=222832368, symbol='CL', secType='FOP', lastTradeDateOrContractMonth='20190214', strike=52.0, right='C', multiplier='1000', exchange='NYMEX', currency='USD', localSymbol='LOH9 C5200', tradingClass='LO'), Contract(conId=225653723, symbol='CL', secType='FOP', lastTradeDateOrContractMonth='20190315', strike=52.0, right='P', multiplier='1000', exchange='NYMEX', currency='USD', localSymbol='LOJ9 P5200', tradingClass='LO'), Contract(conId=225654580, symbol='CL', secType='FOP', lastTradeDateOrContractMonth='20190315', strike=52.0, right='C', multiplier='1000', exchange='NYMEX', currency='USD', localSymbol='LOJ9 C5200', tradingClass='LO'), Contract(conId=230499102, symbol='CL', secType='FOP', lastTradeDateOrContractMonth='20190416', strike=52.0, right='C', multiplier='1000', exchange='NYMEX', currency='USD', localSymbol='LOK9 C5200', tradingClass='LO'), Contract(conId=230500267, symbol='CL', secType='FOP', lastTradeDateOrContractMonth='20190416', strike=52.0, right='P', multiplier='1000', exchange='NYMEX', currency='USD', localSymbol='LOK9 P5200', tradingClass='LO'), Contract(conId=237017522, symbol='CL', secType='FOP', lastTradeDateOrContractMonth='20190617', strike=52.0, right='P', multiplier='1000', exchange='NYMEX', currency='USD', localSymbol='LON9 P5200', tradingClass='LO'), Contract(conId=237018170, symbol='CL', secType='FOP', lastTradeDateOrContractMonth='20190617', strike=52.0, right='C', multiplier='1000', exchange='NYMEX', currency='USD', localSymbol='LON9 C5200', tradingClass='LO'), Contract(conId=241464476, symbol='CL', secType='FOP', lastTradeDateOrContractMonth='20190717', strike=52.0, right='C', multiplier='1000', exchange='NYMEX', currency='USD', localSymbol='LOQ9 C5200', tradingClass='LO'), Contract(conId=241465642, symbol='CL', secType='FOP', lastTradeDateOrContractMonth='20190717', strike=52.0, right='P', multiplier='1000', exchange='NYMEX', currency='USD', localSymbol='LOQ9 P5200', tradingClass='LO'), Contract(conId=244199383, symbol='CL', secType='FOP', lastTradeDateOrContractMonth='20190815', strike=52.0, right='C', multiplier='1000', exchange='NYMEX', currency='USD', localSymbol='LOU9 C5200', tradingClass='LO'), Contract(conId=244200547, symbol='CL', secType='FOP', lastTradeDateOrContractMonth='20190815', strike=52.0, right='P', multiplier='1000', exchange='NYMEX', currency='USD', localSymbol='LOU9 P5200', tradingClass='LO'), Contract(conId=248027936, symbol='CL', secType='FOP', lastTradeDateOrContractMonth='20190917', strike=52.0, right='C', multiplier='1000', exchange='NYMEX', currency='USD', localSymbol='LOV9 C5200', tradingClass='LO'), Contract(conId=248029938, symbol='CL', secType='FOP', lastTradeDateOrContractMonth='20190917', strike=52.0, right='P', multiplier='1000', exchange='NYMEX', currency='USD', localSymbol='LOV9 P5200', tradingClass='LO'), Contract(conId=257057154, symbol='CL', secType='FOP', lastTradeDateOrContractMonth='20250515', strike=52.0, right='P', multiplier='1000', exchange='NYMEX', currency='USD', localSymbol='LOM5 P5200', tradingClass='LO'), Contract(conId=257059230, symbol='CL', secType='FOP', lastTradeDateOrContractMonth='20250515', strike=52.0, right='C', multiplier='1000', exchange='NYMEX', currency='USD', localSymbol='LOM5 C5200', tradingClass='LO'), Contract(conId=257057544, symbol='CL', secType='FOP', lastTradeDateOrContractMonth='20251117', strike=52.0, right='C', multiplier='1000', exchange='NYMEX', currency='USD', localSymbol='LOZ5 C5200', tradingClass='LO'), Contract(conId=257059062, symbol='CL', secType='FOP', lastTradeDateOrContractMonth='20251117', strike=52.0, right='P', multiplier='1000', exchange='NYMEX', currency='USD', localSymbol='LOZ5 P5200', tradingClass='LO'), Contract(conId=292878279, symbol='CL', secType='FOP', lastTradeDateOrContractMonth='20191017', strike=52.0, right='P', multiplier='1000', exchange='NYMEX', currency='USD', localSymbol='LOX9 P5200', tradingClass='LO'), Contract(conId=292879595, symbol='CL', secType='FOP', lastTradeDateOrContractMonth='20191017', strike=52.0, right='C', multiplier='1000', exchange='NYMEX', currency='USD', localSymbol='LOX9 C5200', tradingClass='LO')]\n"
     ]
    },
    {
     "data": {
      "text/plain": [
       "[]"
      ]
     },
     "execution_count": 4,
     "metadata": {},
     "output_type": "execute_result"
    }
   ],
   "source": [
    "opt = Contract(secType='FOP', exchange='NYMEX', symbol='CL', strike=52)\n",
    "ib.qualifyContracts(opt)"
   ]
  },
  {
   "cell_type": "code",
   "execution_count": null,
   "metadata": {},
   "outputs": [],
   "source": []
  }
 ],
 "metadata": {
  "kernelspec": {
   "display_name": "Python 3",
   "language": "python",
   "name": "python3"
  },
  "language_info": {
   "codemirror_mode": {
    "name": "ipython",
    "version": 3
   },
   "file_extension": ".py",
   "mimetype": "text/x-python",
   "name": "python",
   "nbconvert_exporter": "python",
   "pygments_lexer": "ipython3",
   "version": "3.6.2"
  }
 },
 "nbformat": 4,
 "nbformat_minor": 2
}
