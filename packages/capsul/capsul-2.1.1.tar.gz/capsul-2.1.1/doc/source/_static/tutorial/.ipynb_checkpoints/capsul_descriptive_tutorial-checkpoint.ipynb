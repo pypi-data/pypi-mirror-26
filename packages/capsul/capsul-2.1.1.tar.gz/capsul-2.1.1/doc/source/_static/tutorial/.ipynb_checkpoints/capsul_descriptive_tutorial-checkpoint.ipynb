{
 "cells": [
  {
   "cell_type": "markdown",
   "metadata": {},
   "source": [
    "<h1>Capsul: Collaborative Analysis Platform : Simple, Unifying, Lean</h1>\n",
    "<div style=\"text-align: center\">Credit: Antoine Grigis</div>\n",
    "\n",
    "Capsul is a simple and efficient Python tool that aims to organize a set of processings.\n",
    "It is accessible to everybody, and is reusable in various contexts.\n",
    "The project is hosted on github: https://github.com/neurospin/capsul.<br><br>\n",
    "\n",
    "<big>Definitions</big>\n",
    "\n",
    "<ul style=\"list-style-type:disc;\">\n",
    "<li>A <b>Process</b> is a processing that can derived directly from a Python function and that can be used as a building block of a pipeline.</li>\n",
    "<li>A <b>Pipeline</b> is a serie of connected processes.</li>\n",
    "</ul><br>\n",
    "\n",
    "<big>First check</big>\n",
    "\n",
    "In order to test if capsul is installed on your machine, you can ask the the Capsul version:"
   ]
  },
  {
   "cell_type": "code",
   "execution_count": null,
   "metadata": {},
   "outputs": [],
   "source": [
    "# just to ensure compatibility of this notebook with python 2 and 3\n",
    "from __future__ import print_function\n",
    "# the following to avoid display when this notebook is converted to sphinx doc\n",
    "import os\n",
    "if os.environ.get('ALLOW_GUI', 'TRUE') in ('FALSE', '0'):\n",
    "    use_gui = False\n",
    "else:\n",
    "    use_gui = True\n"
   ]
  },
  {
   "cell_type": "code",
   "execution_count": null,
   "metadata": {},
   "outputs": [],
   "source": [
    "import capsul\n",
    "print(capsul.__version__)"
   ]
  },
  {
   "cell_type": "markdown",
   "metadata": {},
   "source": [
    "<h2>Use a function as a building block</h2>\n",
    "\n",
    "It is possible to convert a function in Process and thus use it as a building block of a pipeline. In the following example we will use the 'a_function_to_wrap' test function:\n",
    "\n"
   ]
  },
  {
   "cell_type": "code",
   "execution_count": null,
   "metadata": {},
   "outputs": [],
   "source": [
    "import inspect\n",
    "from capsul.process.test.test_load_from_description import a_function_to_wrap\n",
    "\n",
    "print(\"\".join(inspect.getsourcelines(a_function_to_wrap)[0]))\n"
   ]
  },
  {
   "cell_type": "markdown",
   "metadata": {},
   "source": [
    "This is a pure Python function with the Process description in the docstring between the &lt;process&gt;...&lt;/process&gt; tags. Inside those tags, each returned and input parameters are described in the function order. The parameters are typed and a description is asked in order to generate proper tooltips or documentations. The 'reference' output parameter is optional.<br><br>\n",
    "\n",
    "We can now create a Process from this Python function:"
   ]
  },
  {
   "cell_type": "code",
   "execution_count": null,
   "metadata": {},
   "outputs": [],
   "source": [
    "from capsul.api import get_process_instance\n",
    "\n",
    "funcprocess = get_process_instance(\"capsul.process.test.test_load_from_description.a_function_to_wrap\")\n",
    "funcprocess.help()"
   ]
  },
  {
   "cell_type": "markdown",
   "metadata": {},
   "source": [
    "We can modify some input parameters and execute the process:"
   ]
  },
  {
   "cell_type": "code",
   "execution_count": null,
   "metadata": {},
   "outputs": [],
   "source": [
    "funcprocess.list_of_str = [\"a\", \"b\"]\n",
    "funcprocess.value = 4.3\n",
    "funcprocess.enum = \"c\"\n",
    "result = funcprocess()\n",
    "print(funcprocess.string)\n",
    "# print funcprocess.reference"
   ]
  },
  {
   "cell_type": "markdown",
   "metadata": {},
   "source": [
    "<h2>Defining a Pipeline</h2>\n",
    "\n",
    "A Pipeline can be described from an xml file. For the documentation of the description glossary, please refere to the capsul documentation. In the following example we will use the 'xml_pipeline.xml' test description:"
   ]
  },
  {
   "cell_type": "code",
   "execution_count": null,
   "metadata": {},
   "outputs": [],
   "source": [
    "import os\n",
    "import capsul.process.test as test\n",
    "\n",
    "xmldesc = os.path.join(os.path.dirname(test.__file__), \"xml_pipeline.xml\")\n",
    "with open(xmldesc, \"r\") as openfile:\n",
    "    print(\"\".join(openfile.readlines()))"
   ]
  },
  {
   "cell_type": "markdown",
   "metadata": {},
   "source": [
    "Two building blocks are connected in this example. We will soon have a graphical representation of the pipeline, which in turn will clarify the xml sections. But first we must create a Pipeline from this xml description:"
   ]
  },
  {
   "cell_type": "code",
   "execution_count": null,
   "metadata": {},
   "outputs": [],
   "source": [
    "from capsul.api import get_process_instance\n",
    "\n",
    "xmlpipe = get_process_instance(\"capsul.process.test.xml_pipeline\")\n",
    "xmlpipe.help()"
   ]
  },
  {
   "cell_type": "markdown",
   "metadata": {},
   "source": [
    "One major advantage of the capsul pipeline system is to be able to represent graphically the processing sequence:"
   ]
  },
  {
   "cell_type": "code",
   "execution_count": null,
   "metadata": {},
   "outputs": [],
   "source": [
    "import sys\n",
    "if globals().get('use_gui', True):\n",
    "    from soma.qt_gui import qt_backend\n",
    "    qt_backend.set_qt_backend('PyQt4')\n",
    "    from soma.qt_gui.qt_backend import QtGui\n",
    "    from capsul.qt_gui.widgets import PipelineDevelopperView\n",
    "    from soma.qt_gui.controller_widget import ControllerWidget\n",
    "\n",
    "    app_created = False\n",
    "    app = QtGui.QApplication.instance()\n",
    "    if app is None:\n",
    "        app = QtGui.QApplication(sys.argv)\n",
    "        app_created = True\n",
    "    print('app created:', app_created)\n",
    "    view = PipelineDevelopperView(xmlpipe)\n",
    "    controller = ControllerWidget(xmlpipe, live=True)\n",
    "    view.show()\n",
    "    controller.show()\n",
    "    if app_created:\n",
    "        app.exec_()"
   ]
  },
  {
   "cell_type": "markdown",
   "metadata": {},
   "source": [
    "<h2>A structure to switch between processings</h2>\n",
    "\n",
    "In Capsul it is possible to define a building block which aims to select a sequence of processings. It is done with a Switch building block as follows:\n",
    "\n"
   ]
  },
  {
   "cell_type": "code",
   "execution_count": null,
   "metadata": {},
   "outputs": [],
   "source": [
    "import os\n",
    "import capsul.process.test as test\n",
    "\n",
    "xmldesc = os.path.join(os.path.dirname(test.__file__), \"test_pipeline.xml\")\n",
    "with open(xmldesc, \"r\") as openfile:\n",
    "    print(\"\".join(openfile.readlines()))"
   ]
  },
  {
   "cell_type": "markdown",
   "metadata": {},
   "source": [
    "Again we can create a Pipeline from his xml description:"
   ]
  },
  {
   "cell_type": "code",
   "execution_count": null,
   "metadata": {},
   "outputs": [],
   "source": [
    "from capsul.api import get_process_instance\n",
    "\n",
    "xmlpipe = get_process_instance(\"capsul.process.test.test_pipeline\")\n",
    "xmlpipe.help()"
   ]
  },
  {
   "cell_type": "markdown",
   "metadata": {},
   "source": [
    "And generate his graphical representation:"
   ]
  },
  {
   "cell_type": "code",
   "execution_count": null,
   "metadata": {},
   "outputs": [],
   "source": [
    "import sys\n",
    "if globals().get('use_gui', True):\n",
    "    from soma.qt_gui.qt_backend import QtGui\n",
    "    from capsul.qt_gui.widgets import PipelineDevelopperView\n",
    "    from soma.qt_gui.controller_widget import ControllerWidget\n",
    "\n",
    "    if \"app_created\" not in globals():\n",
    "        app_created = False\n",
    "    app = QtGui.QApplication.instance()\n",
    "    if app is None:\n",
    "        app = QtGui.QApplication(sys.argv)\n",
    "        app_created = True\n",
    "    view = PipelineDevelopperView(xmlpipe)\n",
    "    controller = ControllerWidget(xmlpipe, live=True)\n",
    "    view.show()\n",
    "    controller.show()\n",
    "    if app_created:\n",
    "        app.exec_()"
   ]
  },
  {
   "cell_type": "markdown",
   "metadata": {},
   "source": [
    "<h2>Use Nipype in Capsul</h2>\n",
    "\n",
    "It is possible to use all the nipype interfaces (FSL, SPM, FreeSurfer, ...) as building blocks in Capsul. This step requires nipype to be properly installed as well as the software we want to use. For instance if we want to perform a brain extraction with FSL we can simply write:"
   ]
  },
  {
   "cell_type": "code",
   "execution_count": null,
   "metadata": {},
   "outputs": [],
   "source": [
    "from capsul.api import get_process_instance\n",
    "\n",
    "try:\n",
    "    import nipype\n",
    "except ImportError:\n",
    "    print('nipype is not available')\n",
    "    nipype = None\n",
    "if nipype is not None:\n",
    "    betpipe = get_process_instance(\"nipype.interfaces.fsl.BET\")\n",
    "    betpipe.get_help()\n",
    "    betpipe.in_file=\"/tmp/capsul_demo/MNI152_T1_2mm.nii.gz\""
   ]
  },
  {
   "cell_type": "markdown",
   "metadata": {},
   "source": [
    "As shown it is possible to set the BET algorithm input parameters. Note that in capsul the standard nipype outputs are prefixed with underscores. We can execute this Process but unfortunatelly, as mentioned by the nipype warnings, FSL has not been configured and the BET algorithm will not run. The following section shows a simplified way to configure external softwares in Capsul."
   ]
  },
  {
   "cell_type": "markdown",
   "metadata": {},
   "source": [
    "<h2>A helper to configure state of the art medical softwares</h2>\n",
    "\n",
    "Capsul propose a module to configure external softwares:\n",
    "\n",
    "<ul style=\"list-style-type:disc;\">\n",
    "<li>FSL</li>\n",
    "<li>SPM</li>\n",
    "<li>FreeSurfer</li>\n",
    "<li>BrainVisa</li>\n",
    "</ul>\n",
    "\n",
    "With this module it is also possible to configure the execution of the pipeline:\n",
    "\n",
    "<ul style=\"list-style-type:disc;\">\n",
    "<li>Use smart caching</li>\n",
    "<li>Generate some logging</li>\n",
    "<li>Soma-Worflow to handle population imaging</li>\n",
    "</ul>\n",
    "\n",
    "Let show how to configure FSL:"
   ]
  },
  {
   "cell_type": "code",
   "execution_count": null,
   "metadata": {},
   "outputs": [],
   "source": [
    "from capsul.api import StudyConfig\n",
    "from pprint import pprint\n",
    "\n",
    "study_config = StudyConfig(\n",
    "    modules=[\"SmartCachingConfig\", \"FSLConfig\"],\n",
    "    fsl_config=\"/etc/fsl/4.1/fsl.sh\",\n",
    "    use_smart_caching=True,\n",
    "    output_directory=\"/tmp/capsul_demo\")\n",
    "pprint(dict(study_config.export_to_dict()))\n",
    "print(study_config.run.__doc__)"
   ]
  },
  {
   "cell_type": "markdown",
   "metadata": {},
   "source": [
    "<h2>Execution of the pipeline</h2>\n",
    "\n",
    "In this section a simple execution is performed on your machine using one CPU (if more than one CPU are used it means that the called external software is parallelized). We just have to call the StudyConfig run method:"
   ]
  },
  {
   "cell_type": "code",
   "execution_count": null,
   "metadata": {},
   "outputs": [],
   "source": [
    "if study_config.use_fsl and nipype is not None:\n",
    "    study_config.reset_process_counter()\n",
    "    study_config.run(betpipe, verbose=1)\n",
    "else:\n",
    "    print('FSL is not available or not correctly configured')"
   ]
  },
  {
   "cell_type": "markdown",
   "metadata": {},
   "source": [
    "<h2>Distributed execution top handle population imaging</h2>\n",
    "\n",
    "Capsul can execute a pipeline through Soma-Workflow in order to address huge datasets in the case of population imaging studies. But this functionality is out of the scope of this tuto."
   ]
  }
 ],
 "metadata": {
  "kernelspec": {
   "display_name": "Python 2",
   "language": "python",
   "name": "python2"
  },
  "language_info": {
   "codemirror_mode": {
    "name": "ipython",
    "version": 2
   },
   "file_extension": ".py",
   "mimetype": "text/x-python",
   "name": "python",
   "nbconvert_exporter": "python",
   "pygments_lexer": "ipython2",
   "version": "2.7.12"
  }
 },
 "nbformat": 4,
 "nbformat_minor": 1
}
