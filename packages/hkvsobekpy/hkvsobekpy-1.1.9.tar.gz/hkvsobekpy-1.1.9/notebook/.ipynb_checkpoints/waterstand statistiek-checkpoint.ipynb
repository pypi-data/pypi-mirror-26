{
 "cells": [
  {
   "cell_type": "markdown",
   "metadata": {},
   "source": [
    "## waterstandstatistiek op basis vanuit waterstanden opgeslagen in his-bestanden"
   ]
  },
  {
   "cell_type": "markdown",
   "metadata": {},
   "source": [
    "Deze notebook bevat informatie hoe het mogelijk is om .his-bestanden uit te lezen binnen Python en op welke manier hieruit waterstandstatistiek af te leiden is. Een aantal functies worden hierbij toegelicht. Waarbij elke functie in detail is beschreven in de toebehorende `docstring`.\n",
    "\n",
    "Allereerst importeren we de extension package en declareren we het object `ws`."
   ]
  },
  {
   "cell_type": "code",
   "execution_count": null,
   "metadata": {},
   "outputs": [],
   "source": [
    "import hkvsobekpy as hkv\n",
    "import geopandas as gpd"
   ]
  },
  {
   "cell_type": "markdown",
   "metadata": {},
   "source": [
    "Ook bepalen we de input bestanden."
   ]
  },
  {
   "cell_type": "code",
   "execution_count": null,
   "metadata": {},
   "outputs": [],
   "source": [
    "his_file = r'input_data\\waterstand-statistiek\\CALCPNT.HIS'\n",
    "shp_file = r'input_data\\waterstand-statistiek\\input_locaties.shp'"
   ]
  },
  {
   "cell_type": "markdown",
   "metadata": {},
   "source": [
    "Informatie in het his-bestand kunnen we op de volgende manier inlezen. De metadata wordt weggeschreven binnen het object."
   ]
  },
  {
   "cell_type": "code",
   "execution_count": null,
   "metadata": {},
   "outputs": [],
   "source": [
    "hkv.read_his.LeesMetadata(his_file)"
   ]
  },
  {
   "cell_type": "markdown",
   "metadata": {},
   "source": [
    "De volgende drie functies kunnen gebruikt worden om de locaties, tijdstappen en parameters vanuit het .his bestand uit te lezen"
   ]
  },
  {
   "cell_type": "code",
   "execution_count": null,
   "metadata": {},
   "outputs": [],
   "source": [
    "locaties = hkv.read_his.KrijgLokaties()\n",
    "tijdstappen = hkv.read_his.KrijgTijdstappen()\n",
    "parameters = hkv.read_his.KrijgParameters()"
   ]
  },
  {
   "cell_type": "code",
   "execution_count": null,
   "metadata": {},
   "outputs": [],
   "source": [
    "print(\"\"\"\\\n",
    "eerste 5 locaties:     {0}\n",
    "laatste 2 tijdstappen: {1}\n",
    "alle parameters:       {2}\"\"\".format(locaties[0:5],\n",
    "                                     tijdstappen[-2:],\n",
    "                                     parameters))"
   ]
  },
  {
   "cell_type": "markdown",
   "metadata": {},
   "source": [
    "Naast het .his-bestand is er een .shp-bestand gedefinieerd met een bijbehorende .dbf-bestand. De locaties die hierin staan gedefinieerd worden gebruikt voor als locaties vanuit het .his-bestand. \n",
    "Het is daarom van belang dat deze IDs identiek zijn. \n",
    "\n",
    "De shp-file kunnen we als volgt inlezen naar een `GeoDataFrame` en vervolgens plotten in figuur (de `shp`) en tabel (de `dbf`)"
   ]
  },
  {
   "cell_type": "code",
   "execution_count": null,
   "metadata": {},
   "outputs": [],
   "source": [
    "gdf = gpd.read_file(shp_file)\n",
    "gdf.plot()"
   ]
  },
  {
   "cell_type": "code",
   "execution_count": null,
   "metadata": {},
   "outputs": [],
   "source": [
    "gdf.head()"
   ]
  },
  {
   "cell_type": "markdown",
   "metadata": {},
   "source": [
    "In dit geval zijn een aantal kolommen gedefinieerd met als laatste kolom een `nodeID` kolom. Deze IDs komen overeen met de locaties welke bekend zijn binnen het .his-bestand en gebruikt zullen worden om de waterstandstatistiek op te bepalen."
   ]
  },
  {
   "cell_type": "markdown",
   "metadata": {},
   "source": [
    "In het volgend code block vragen we met de `EnkeleWaardenArray` functie de waarden op van een enkele locatie en parameter en plotten we het resultaat gelijk terug vanuit het dataframe. Let op: `df_enkel` is een dataframe met een multi-column met locatie en parameter.\n",
    "\n",
    "Het is mogelijk om met de functie `EnkeleWaardenArray` alleen de gebeurtenissen van een jaarlijkse terugkerende periode te selecteren, bijvoorbeeld om alleen de gebeurtenissen in de zomer of het groeizoen mee te nemen. Ook kunnen de jaarmaxima bepaald worden in het geval er meerdere gebeurtenissen in 1 jaar zitten, waarbij aangegeven kan worden of je de exacte datum terug wilt hebben of alleen het jaar met de maxima.\n",
    "\n",
    "Met `startMMdd` wordt de start van de periode bepaald. Met `endMMdd` wordt de eind datum van de periode bepaald. Met `jaarmax_ax` is het mogelijk om de DataFrame te groeperen op basis van jaar om het jaarmaxima te bepalen. Het jaarmaxima wordt bepaald nadat de slice van de jaarlijkse periode is toegepast. Keuze bestaat uit:\n",
    "- `'date'` - bepaalt de jaarlijkse maxima binnen de periode en geeft de maximale waarde terug met de exacte datum van deze gebeurtenis\n",
    "- `'year'` - bepaalt de jaarlijkse maxima binnen de periode en geeft de maximale waarde terug met het jaar van de gebeurtenis\n",
    "- `'none'` - retourneert alle gebeurtenissen in elk jaar welke binnen de periode filter vallen"
   ]
  },
  {
   "cell_type": "code",
   "execution_count": null,
   "metadata": {},
   "outputs": [],
   "source": [
    "df_enkel = hkv.read_his.EnkeleWaardenArray(\n",
    "    gdf['nodeID'].iloc[15],\n",
    "    parameters[0],\n",
    "    startMMdd=(1, 1),\n",
    "    endMMdd=(12, 31),\n",
    "    jaarmax_as='date')\n",
    "df_enkel.plot(legend=True)"
   ]
  },
  {
   "cell_type": "markdown",
   "metadata": {},
   "source": [
    "Om de eerste 5 items te tonen gebruiken we de `.head()` functionaleit op de DataFrame van `df_enkel`. Te zien is dat in elk jaar de jaarmaxima al bepaald is en dat deze jaarmaxima gekoppeld is aan de unieke datum waar deze op plaatsvond. "
   ]
  },
  {
   "cell_type": "code",
   "execution_count": null,
   "metadata": {},
   "outputs": [],
   "source": [
    "df_enkel.head()"
   ]
  },
  {
   "cell_type": "markdown",
   "metadata": {},
   "source": [
    "Soortgelijk kunnen we ook verschillende locaties voor een enkele parameter opvragen met de `MultiWaardenArray` functie. Standaard wordt een periode van `01-01` tot `12-31` in ogenschouw genomen, waarbij er een 1 jaarmaxima wordt \n",
    "bepaald welke met de specifieke datum van deze gebeurtenis. \n",
    "Om een jaarlijkse periode filter van 15 mei tot 15 oktober te gebruiken en de jaarmaxima als alleen jaar waarden terug te geven doe als volgt:"
   ]
  },
  {
   "cell_type": "code",
   "execution_count": null,
   "metadata": {},
   "outputs": [],
   "source": [
    "gdf['nodeID'].iloc[15:20].values"
   ]
  },
  {
   "cell_type": "code",
   "execution_count": null,
   "metadata": {},
   "outputs": [],
   "source": [
    "#Gebruik van MultiwaardenArray\n",
    "df_multi = hkv.read_his.MultiWaardenArary(\n",
    "    gdf['nodeID'].iloc[15:20].values,\n",
    "    parameters[0:1],\n",
    "    startMMdd=(5,15),\n",
    "    endMMdd=(10,15),\n",
    "    jaarmax_as='year',\n",
    "    drop_lege_jaren=False)\n",
    "ax = df_multi.loc[:,parameters[0]].plot()\n",
    "ax.set_ylabel(parameters[0])"
   ]
  },
  {
   "cell_type": "markdown",
   "metadata": {},
   "source": [
    "Voor `df_multi` is te zien dat de er voor elk jaar wel een jaarmaxima bepaald wordt binnen de filter, maar dat deze gekoppeld is aan alleen het jaar en niet de preciese datum van gebeurtenis. Deze kan namelijk verschillen van locatie tot locatie. Ook is te zien dat wanneer er geen gebeurtenissen zijn voor de periode filter deze gedropt kunnen worden uit de selectie. In dit voorbeeld is dat 1995. Wanneer je deze jaren niet dropt, zullen er `NaN` waarden getoond worden."
   ]
  },
  {
   "cell_type": "code",
   "execution_count": null,
   "metadata": {},
   "outputs": [],
   "source": [
    "df_multi.head()"
   ]
  },
  {
   "cell_type": "markdown",
   "metadata": {},
   "source": [
    "Om met een Gumbel functie de fit toe te passen defineeren we allereerst het `vensterArray` en de `GumbelT`. Met deze twee functies bepalen we welke maxima meedoen met de fit en voor welke terugkeertijd we de geschatte waarden willen weten.\n",
    "\n",
    "We gebruiken hier een venster van de 10 maximale gebeurtenissen `vensterArray = [0,10]`, wanneer we de meest extreme gebeurtenis niet willen gebruiken kan dit door het venster aan te passen. Dit wordt dan `[1,10]`.\n",
    "\n",
    "Voor een enkele terugkeertijd wordt deze bepaald op basis van het gewogen gemiddelde. In dit geval is dit `T10` (`TOI = 10`). Waarbij we het groeiseizoen definieren van 5 mei tot en met 15 oktober (`startMMdd` en `endMMdd`). \n",
    "\n",
    "Daarnaast is `N` gedefineerd welke het aantal jaren zijn waarover de plotposities bepaald wordt. Dit getal kan nooit meer kleiner zijn dan het aantal gebeurtenissen binnen `df_enkel`."
   ]
  },
  {
   "cell_type": "code",
   "execution_count": null,
   "metadata": {},
   "outputs": [],
   "source": [
    "# get N from tijdstapInfo metadata his-file\n",
    "N = hkv.read_his.hisFile.tijdstapInfo.N\n",
    "\n",
    "# leid de parameters voor waterstandstatistiek af\n",
    "hkv.waterlevelstat.AfleidingParameters(\n",
    "    df_enkel=df_enkel, \n",
    "    N=N,  # aantal jaren voor bepaling van de plotposities\n",
    "    vensterArray=[0, 10],  # mee te nemen gebeurtenissen\n",
    "    GumbelT=[10, 25, 50, 100],  # terugkeertijden voor Gumbel functie\n",
    "    TOI=10,  # terugkeertijd voor het gewogen gemiddelde\n",
    "    startMMdd=(4, 15),  # start groeiseizoen\n",
    "    endMMdd=(6, 15),  # einde groeseizoen\n",
    "    jaarmax_as='date', \n",
    "    Ggi=0.44, \n",
    "    GgN=0.12)"
   ]
  },
  {
   "cell_type": "markdown",
   "metadata": {},
   "source": [
    "De parameters zijn succesvol afgeleid en nu is het dan ook mogelijk om deze te gebruiken voor het aanmaken van het figuur van de locatie"
   ]
  },
  {
   "cell_type": "code",
   "execution_count": null,
   "metadata": {},
   "outputs": [],
   "source": [
    "hkv.waterlevelstat.PlotFiguur()"
   ]
  },
  {
   "cell_type": "markdown",
   "metadata": {},
   "source": [
    "Ook is het mogelijk om de tabellen terug te krijgen als met de daarbij behorende waarden voor de verschillende terugkeertijden en via welke methode en voor welk seizoen deze zijn afgeleid. De functie `schrijfTabellen()` retourneerd twee tabellen welke we hier declareren binnen `df1` en `df2`."
   ]
  },
  {
   "cell_type": "code",
   "execution_count": null,
   "metadata": {},
   "outputs": [],
   "source": [
    "df1, df2 = hkv.waterlevelstat.SchrijfTabellen('nodeID')"
   ]
  },
  {
   "cell_type": "markdown",
   "metadata": {},
   "source": [
    "De tabellen bevatten de volgende informatie"
   ]
  },
  {
   "cell_type": "code",
   "execution_count": null,
   "metadata": {},
   "outputs": [],
   "source": [
    "df1"
   ]
  },
  {
   "cell_type": "markdown",
   "metadata": {},
   "source": [
    "en"
   ]
  },
  {
   "cell_type": "code",
   "execution_count": null,
   "metadata": {},
   "outputs": [],
   "source": [
    "df2"
   ]
  },
  {
   "cell_type": "markdown",
   "metadata": {},
   "source": [
    "Al het bovenstaande kan ook automatsich weggeschreven worden naar de output folder. Binnen de output folder moet een `png` folder aanwezig zijn wanneer ook de afgeleide figuren weggeschreven dienen te worden."
   ]
  },
  {
   "cell_type": "code",
   "execution_count": null,
   "metadata": {},
   "outputs": [],
   "source": [
    "out_folder = r'output_data\\waterstand-statistiek'"
   ]
  },
  {
   "cell_type": "code",
   "execution_count": null,
   "metadata": {},
   "outputs": [],
   "source": [
    "hkv.waterlevelstat.EnsembleRunner(\n",
    "    out_folder=out_folder,\n",
    "    his_file=his_file,\n",
    "    shp_file=shp_file,\n",
    "    shp_key='nodeID',\n",
    "    parameter=parameters[0],\n",
    "    startMMdd=(5, 15),\n",
    "    endMMdd=(10, 15),\n",
    "    vensterArray=[0, 10],\n",
    "    GumbelT=[10, 25, 50, 100],\n",
    "    TOI=10,\n",
    "    draw_plot=True,\n",
    "    write_table=True)"
   ]
  },
  {
   "cell_type": "markdown",
   "metadata": {},
   "source": [
    "Waarbij de tabel soortgelijk aan `df1` nu is opgeslagen als `output-data\\waterstand-statistiek_output_1.csv` en de tabel `df2` nu is gejoined met de `dbf`-tabel en weggeschreven is als nieuw een nieuw shp-file getiteld `output-data\\waterstand-statistiek_output_2.shp`. \n",
    "\n",
    "De figuren zijn weggeschreven binnen de `output-data\\png` folder waarbij bovenstaand figuur opgeslagen is onder `output-data\\png\\waterstandstatistiek_loc_CFBerg_I_o.png`"
   ]
  },
  {
   "cell_type": "code",
   "execution_count": null,
   "metadata": {},
   "outputs": [],
   "source": []
  }
 ],
 "metadata": {
  "kernelspec": {
   "display_name": "Python 3",
   "language": "python",
   "name": "python3"
  },
  "language_info": {
   "codemirror_mode": {
    "name": "ipython",
    "version": 3
   },
   "file_extension": ".py",
   "mimetype": "text/x-python",
   "name": "python",
   "nbconvert_exporter": "python",
   "pygments_lexer": "ipython3",
   "version": "3.5.2"
  },
  "widgets": {
   "state": {
    "714c7fb76d5d4ac685d7e1bdcf514886": {
     "views": [
      {
       "cell_index": 35
      }
     ]
    }
   },
   "version": "1.2.0"
  }
 },
 "nbformat": 4,
 "nbformat_minor": 2
}
